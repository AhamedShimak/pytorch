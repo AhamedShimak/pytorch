{
  "nbformat": 4,
  "nbformat_minor": 0,
  "metadata": {
    "colab": {
      "provenance": [],
      "authorship_tag": "ABX9TyMqaGltFsTgpbaS0cNo3V+H",
      "include_colab_link": true
    },
    "kernelspec": {
      "name": "python3",
      "display_name": "Python 3"
    },
    "language_info": {
      "name": "python"
    }
  },
  "cells": [
    {
      "cell_type": "markdown",
      "metadata": {
        "id": "view-in-github",
        "colab_type": "text"
      },
      "source": [
        "<a href=\"https://colab.research.google.com/github/AhamedShimak/pytorch/blob/main/pytorch_workflow_code_along.ipynb\" target=\"_parent\"><img src=\"https://colab.research.google.com/assets/colab-badge.svg\" alt=\"Open In Colab\"/></a>"
      ]
    },
    {
      "cell_type": "markdown",
      "source": [
        "## Initiating Pytorch"
      ],
      "metadata": {
        "id": "n7Gn_JhaG7dY"
      }
    },
    {
      "cell_type": "markdown",
      "source": [
        "### Imports"
      ],
      "metadata": {
        "id": "Glqkeh5CHfl-"
      }
    },
    {
      "cell_type": "code",
      "source": [
        "import torch\n",
        "from torch import nn\n",
        "import pandas as pd\n",
        "import numpy as np\n",
        "import matplotlib.pyplot as plt\n"
      ],
      "metadata": {
        "id": "fQb72sHRBxT6"
      },
      "execution_count": 1,
      "outputs": []
    },
    {
      "cell_type": "markdown",
      "source": [
        "###MY DETAILS FUNCTION"
      ],
      "metadata": {
        "id": "8zKnh3Aga-W_"
      }
    },
    {
      "cell_type": "code",
      "source": [
        "import torch\n",
        "def details(tensor):\n",
        "  print(\"\")\n",
        "  print(\"Shape: \",tensor.shape)\n",
        "  print(\"Dimentions: \",tensor.ndim)\n",
        "  print(\"###########\")\n",
        "  print(tensor)\n",
        "  print(\"###########\")\n",
        "  print(\"Tensor Data type: \",tensor.dtype)\n",
        "  print(\"Device: \",tensor.device)\n",
        "  print(\"\")\n",
        "\n",
        "def details_plot(train_data, \n",
        "                     train_labels, \n",
        "                     test_data, \n",
        "                     test_labels,\n",
        "                     predictions=None):\n",
        "  \"\"\"\n",
        "  Plots training data, test data and compares predictions.\n",
        "  \"\"\"\n",
        "  plt.figure(figsize=(10, 7))\n",
        "\n",
        "  # Plot training data in blue\n",
        "  plt.scatter(train_data, train_labels, c=\"b\", s=4, label=\"Training data\")\n",
        "  \n",
        "  # Plot test data in green\n",
        "  plt.scatter(test_data, test_labels, c=\"g\", s=4, label=\"Testing data\")\n",
        "\n",
        "  if predictions is not None:\n",
        "    # Plot the predictions in red (predictions were made on the test data)\n",
        "    plt.scatter(test_data, predictions, c=\"r\", s=4, label=\"Predictions\")\n",
        "\n",
        "  # Show the legend\n",
        "  plt.legend(prop={\"size\": 14});"
      ],
      "metadata": {
        "id": "aYgYxCDHbBTO"
      },
      "execution_count": 2,
      "outputs": []
    },
    {
      "cell_type": "markdown",
      "source": [
        "###GPU"
      ],
      "metadata": {
        "id": "sMRYymjLIGWp"
      }
    },
    {
      "cell_type": "code",
      "source": [
        "!nvidia-smi\n",
        "print(torch.cuda.is_available())\n",
        "#setup device agnostic code\n",
        "device=\"cuda\" if torch.cuda.is_available() else \"cpu\"\n",
        "print(device)"
      ],
      "metadata": {
        "colab": {
          "base_uri": "https://localhost:8080/"
        },
        "id": "7nw_wfJXIIs0",
        "outputId": "896dd024-69ea-4f9d-8f22-4d545e4bbbf4"
      },
      "execution_count": 3,
      "outputs": [
        {
          "output_type": "stream",
          "name": "stdout",
          "text": [
            "/bin/bash: nvidia-smi: command not found\n",
            "False\n",
            "cpu\n"
          ]
        }
      ]
    },
    {
      "cell_type": "markdown",
      "source": [
        "##Linear Regression\n"
      ],
      "metadata": {
        "id": "ptqUbYftO67F"
      }
    },
    {
      "cell_type": "code",
      "source": [
        "# Create *known* parameters\n",
        "weight = 0.7\n",
        "bias = 0.3\n",
        "\n",
        "# Create data\n",
        "start = 0\n",
        "end = 1\n",
        "step = 0.02\n",
        "X = torch.arange(start, end, step).unsqueeze(dim=1)\n",
        "y = weight * X + bias \n",
        "\n",
        "X[:10], y[:10]"
      ],
      "metadata": {
        "colab": {
          "base_uri": "https://localhost:8080/"
        },
        "id": "Khi062A2O-_5",
        "outputId": "3ed96a16-a168-45d9-e960-f6f867e3b384"
      },
      "execution_count": 4,
      "outputs": [
        {
          "output_type": "execute_result",
          "data": {
            "text/plain": [
              "(tensor([[0.0000],\n",
              "         [0.0200],\n",
              "         [0.0400],\n",
              "         [0.0600],\n",
              "         [0.0800],\n",
              "         [0.1000],\n",
              "         [0.1200],\n",
              "         [0.1400],\n",
              "         [0.1600],\n",
              "         [0.1800]]),\n",
              " tensor([[0.3000],\n",
              "         [0.3140],\n",
              "         [0.3280],\n",
              "         [0.3420],\n",
              "         [0.3560],\n",
              "         [0.3700],\n",
              "         [0.3840],\n",
              "         [0.3980],\n",
              "         [0.4120],\n",
              "         [0.4260]]))"
            ]
          },
          "metadata": {},
          "execution_count": 4
        }
      ]
    },
    {
      "cell_type": "code",
      "source": [
        "# Create train/test split\n",
        "train_split = int(0.8 * len(X)) # 80% of data used for training set, 20% for testing \n",
        "X_train, y_train = X[:train_split], y[:train_split]\n",
        "X_test, y_test = X[train_split:], y[train_split:]\n",
        "\n",
        "len(X_train), len(y_train), len(X_test), len(y_test)"
      ],
      "metadata": {
        "colab": {
          "base_uri": "https://localhost:8080/"
        },
        "id": "SGZ3v5LHPG_A",
        "outputId": "54e404d9-58af-4b1a-c420-6a83b6ca5524"
      },
      "execution_count": 5,
      "outputs": [
        {
          "output_type": "execute_result",
          "data": {
            "text/plain": [
              "(40, 40, 10, 10)"
            ]
          },
          "metadata": {},
          "execution_count": 5
        }
      ]
    },
    {
      "cell_type": "code",
      "source": [
        "#details_plot(X_train,y_train,X_test,y_test,y_preds)"
      ],
      "metadata": {
        "id": "Ju3JoT5WP-V7"
      },
      "execution_count": 6,
      "outputs": []
    },
    {
      "cell_type": "markdown",
      "source": [
        "##Building the model"
      ],
      "metadata": {
        "id": "Tto_QOOaQS7A"
      }
    },
    {
      "cell_type": "code",
      "source": [
        "class LinearRegressionModel(nn.Module):\n",
        "  def __init__(self, *args, **kwargs) -> None:\n",
        "    super().__init__(*args, **kwargs)\n",
        "    self.weights =nn.Parameter(torch.randn(1))\n",
        "    self.bias =nn.Parameter(torch.randn(1))\n",
        "\n",
        "    #foward method to define the computation in model\n",
        "\n",
        "  def forward(self,x:torch.Tensor)->torch.Tensor:\n",
        "    return self.weights*x +self.bias\n"
      ],
      "metadata": {
        "id": "fchfssqDQLCG"
      },
      "execution_count": 7,
      "outputs": []
    },
    {
      "cell_type": "markdown",
      "source": [
        "### pytorch model building essential\n",
        "torch.nn\n",
        "torch.nn.Paramenter\n",
        "torch.nn.Module this is base class\n",
        "torch.optim - optimizer\n",
        "def forward() we have to over write\n"
      ],
      "metadata": {
        "id": "2raS2ftZWUaW"
      }
    },
    {
      "cell_type": "markdown",
      "source": [
        "##Content of model"
      ],
      "metadata": {
        "id": "2JjDpP4BZBjq"
      }
    },
    {
      "cell_type": "code",
      "source": [
        "torch.manual_seed(19)\n",
        "\n",
        "#cteate an instance of our model\n",
        "\n",
        "model_instance_1=LinearRegressionModel()"
      ],
      "metadata": {
        "id": "O_aqHJKRZAcj"
      },
      "execution_count": 105,
      "outputs": []
    },
    {
      "cell_type": "code",
      "source": [
        "list(model_instance_1.parameters())"
      ],
      "metadata": {
        "id": "4S50rxfDZjTa",
        "outputId": "e0b80343-45ad-4790-a79a-19c2e3b77905",
        "colab": {
          "base_uri": "https://localhost:8080/"
        }
      },
      "execution_count": 106,
      "outputs": [
        {
          "output_type": "execute_result",
          "data": {
            "text/plain": [
              "[Parameter containing:\n",
              " tensor([-0.0021], requires_grad=True),\n",
              " Parameter containing:\n",
              " tensor([-0.2836], requires_grad=True)]"
            ]
          },
          "metadata": {},
          "execution_count": 106
        }
      ]
    },
    {
      "cell_type": "code",
      "source": [
        "model_instance_1.state_dict()"
      ],
      "metadata": {
        "id": "OCv9qKrvaiWB",
        "outputId": "a7337836-a501-46f1-f4aa-080821ab2b98",
        "colab": {
          "base_uri": "https://localhost:8080/"
        }
      },
      "execution_count": 107,
      "outputs": [
        {
          "output_type": "execute_result",
          "data": {
            "text/plain": [
              "OrderedDict([('weights', tensor([-0.0021])), ('bias', tensor([-0.2836]))])"
            ]
          },
          "metadata": {},
          "execution_count": 107
        }
      ]
    },
    {
      "cell_type": "markdown",
      "source": [
        "##Make the prediction /Inference"
      ],
      "metadata": {
        "id": "zFDootHvcc0k"
      }
    },
    {
      "cell_type": "code",
      "source": [
        "with torch.inference_mode():\n",
        "  y_preds=model_instance_1(X_test)\n",
        "\n",
        "with torch.no_grad():\n",
        "  y_preds=model_instance_1(X_test)\n",
        "\n",
        "y_preds\n",
        "\n",
        "y_preds_simple=model_instance_1(X_test)"
      ],
      "metadata": {
        "id": "TvJFiuEjassa"
      },
      "execution_count": 108,
      "outputs": []
    },
    {
      "cell_type": "code",
      "source": [
        "details_plot(X_train,y_train,X_test,y_test,y_preds)"
      ],
      "metadata": {
        "id": "JnJvYLVgc_SF",
        "outputId": "e35bccc4-1f17-403a-d34b-d0eb15ebe1df",
        "colab": {
          "base_uri": "https://localhost:8080/",
          "height": 454
        }
      },
      "execution_count": 109,
      "outputs": [
        {
          "output_type": "display_data",
          "data": {
            "text/plain": [
              "<Figure size 1000x700 with 1 Axes>"
            ],
            "image/png": "[encoded data removed]"
          },
          "metadata": {}
        }
      ]
    },
    {
      "cell_type": "code",
      "source": [
        "y_preds_simple"
      ],
      "metadata": {
        "id": "bGPvUrk4efTI",
        "outputId": "365f5371-8bfa-4024-913d-24343e780a07",
        "colab": {
          "base_uri": "https://localhost:8080/"
        }
      },
      "execution_count": 110,
      "outputs": [
        {
          "output_type": "execute_result",
          "data": {
            "text/plain": [
              "tensor([[-0.2853],\n",
              "        [-0.2853],\n",
              "        [-0.2854],\n",
              "        [-0.2854],\n",
              "        [-0.2855],\n",
              "        [-0.2855],\n",
              "        [-0.2855],\n",
              "        [-0.2856],\n",
              "        [-0.2856],\n",
              "        [-0.2857]], grad_fn=<AddBackward0>)"
            ]
          },
          "metadata": {},
          "execution_count": 110
        }
      ]
    },
    {
      "cell_type": "markdown",
      "source": [
        "##Training the model"
      ],
      "metadata": {
        "id": "VxS7K9TsgiSY"
      }
    },
    {
      "cell_type": "markdown",
      "source": [
        "Loss func and opt\n",
        "Training loop testing loop"
      ],
      "metadata": {
        "id": "T9FF47u7g3ZL"
      }
    },
    {
      "cell_type": "code",
      "source": [
        "#loss_func=nn.L1Loss()\n",
        "loss_func=nn.MSELoss()\n",
        "opt_func= torch.optim.SGD(model_instance_1.parameters(), lr=0.02)"
      ],
      "metadata": {
        "id": "EaAq8b2yehWZ"
      },
      "execution_count": 111,
      "outputs": []
    },
    {
      "cell_type": "markdown",
      "source": [
        "##Building the training loop"
      ],
      "metadata": {
        "id": "6vBh6ZxMPsYt"
      }
    },
    {
      "cell_type": "code",
      "source": [
        "print(list(model_instance_1.parameters()))\n",
        "model_instance_1.state_dict()"
      ],
      "metadata": {
        "id": "H9NmTX0cP08e",
        "outputId": "cdebd214-721a-4440-a67c-e12b0b1da904",
        "colab": {
          "base_uri": "https://localhost:8080/"
        }
      },
      "execution_count": 112,
      "outputs": [
        {
          "output_type": "stream",
          "name": "stdout",
          "text": [
            "[Parameter containing:\n",
            "tensor([-0.0021], requires_grad=True), Parameter containing:\n",
            "tensor([-0.2836], requires_grad=True)]\n"
          ]
        },
        {
          "output_type": "execute_result",
          "data": {
            "text/plain": [
              "OrderedDict([('weights', tensor([-0.0021])), ('bias', tensor([-0.2836]))])"
            ]
          },
          "metadata": {},
          "execution_count": 112
        }
      ]
    },
    {
      "cell_type": "markdown",
      "source": [
        "Steps\n",
        "0. Loop throug the data\n",
        "1. set to training mode\n",
        "2. Forward pass\n",
        "3. Calculate the loss(pred to ground truth)\n",
        "4. optimizer zer grad\n",
        "5. loss backward .. back propogation\n",
        "6. optimizer step - use opt and adjust parameter ... grad desent\n"
      ],
      "metadata": {
        "id": "ntg6do8cclFi"
      }
    },
    {
      "cell_type": "code",
      "source": [
        "epochs =1000\n",
        "epoch_track=[]\n",
        "training_loss_track=[]\n",
        "testing_loss_track=[]\n",
        "\n",
        "for epoch in range(epochs):\n",
        "  ####################\n",
        "  #1\n",
        "  # set the model to train mode eval mode/train mode\n",
        "  model_instance_1.train() #set all para that require grad to set require grad\n",
        "  #2\n",
        "  y_pred=model_instance_1(X_train)\n",
        "  #3\n",
        "  loss= loss_func(y_pred,y_train)\n",
        "  #4\n",
        "  opt_func.zero_grad( )\n",
        "  #5\n",
        "  loss.backward()\n",
        "  #6\n",
        "  opt_func.step()\n",
        "  \n",
        "  ################\n",
        "  #testing \n",
        "  model_instance_1.eval()\n",
        "  with torch.inference_mode():\n",
        "    # do forwrd\n",
        "    test_pred=model_instance_1(X_test)\n",
        "\n",
        "    #calc loss\n",
        "    test_loss =loss_func(test_pred,y_test)\n",
        "  if epoch%10==0:\n",
        "    epoch_track.append(epoch)\n",
        "    training_loss_track.append(loss.detach())\n",
        "    testing_loss_track.append(test_loss.detach())\n",
        "\n",
        "    print(f\"Epoc:{epoch} Train loss: {loss} Test loss: {test_loss}\")\n",
        "\n",
        "#plot\n",
        "plt.figure(figsize=(10, 7))\n",
        "plt.plot(epoch_track, training_loss_track, label=\"training loss\")\n",
        "plt.plot(epoch_track, testing_loss_track, label=\"testing_loss\")\n",
        "plt.title(\"Loss curves\")\n",
        "plt.xlabel(\"Epochs\")\n",
        "plt.ylabel(\"Loss\")\n",
        "plt.legend(prop={\"size\": 14});\n"
      ],
      "metadata": {
        "id": "UuHsExVJbq5E",
        "outputId": "55006fdc-c5d8-49a7-9bf1-34f021988ff1",
        "colab": {
          "base_uri": "https://localhost:8080/",
          "height": 1000
        }
      },
      "execution_count": 123,
      "outputs": [
        {
          "output_type": "stream",
          "name": "stdout",
          "text": [
            "Epoc:0 Train loss: 3.4450677866004753e-09 Test loss: 1.5006463627287303e-08\n",
            "Epoc:10 Train loss: 3.317893071397293e-09 Test loss: 1.4421236649297953e-08\n",
            "Epoc:20 Train loss: 3.1955216250878493e-09 Test loss: 1.3887141214752319e-08\n",
            "Epoc:30 Train loss: 3.085952382519963e-09 Test loss: 1.3431798784324656e-08\n",
            "Epoc:40 Train loss: 2.9790643285565466e-09 Test loss: 1.2984159525331052e-08\n",
            "Epoc:50 Train loss: 2.873615345677649e-09 Test loss: 1.2550620098750187e-08\n",
            "Epoc:60 Train loss: 2.770416340780457e-09 Test loss: 1.2118364978164209e-08\n",
            "Epoc:70 Train loss: 2.669744425531917e-09 Test loss: 1.1670495680959903e-08\n",
            "Epoc:80 Train loss: 2.571443502574766e-09 Test loss: 1.1213868056358933e-08\n",
            "Epoc:90 Train loss: 2.4753785687892105e-09 Test loss: 1.0776973979886861e-08\n",
            "Epoc:100 Train loss: 2.3830790674139735e-09 Test loss: 1.0368739644661673e-08\n",
            "Epoc:110 Train loss: 2.3023372097696893e-09 Test loss: 1.0024329810676136e-08\n",
            "Epoc:120 Train loss: 2.2234805108212186e-09 Test loss: 9.686317525847699e-09\n",
            "Epoc:130 Train loss: 2.1461976640324565e-09 Test loss: 9.35772881405228e-09\n",
            "Epoc:140 Train loss: 2.069676874327797e-09 Test loss: 9.02867025587284e-09\n",
            "Epoc:150 Train loss: 1.9948487306464813e-09 Test loss: 8.704949649995797e-09\n",
            "Epoc:160 Train loss: 1.9212200719209704e-09 Test loss: 8.38971381256215e-09\n",
            "Epoc:170 Train loss: 1.8487309461079349e-09 Test loss: 8.082198021952536e-09\n",
            "Epoc:180 Train loss: 1.7790346973356463e-09 Test loss: 7.770461607492507e-09\n",
            "Epoc:190 Train loss: 1.7099506255391361e-09 Test loss: 7.45433670346074e-09\n",
            "Epoc:200 Train loss: 1.6517504031199337e-09 Test loss: 7.20732051817663e-09\n",
            "Epoc:210 Train loss: 1.596668242065391e-09 Test loss: 6.958991605188203e-09\n",
            "Epoc:220 Train loss: 1.5417718213228682e-09 Test loss: 6.716673883744306e-09\n",
            "Epoc:230 Train loss: 1.488573375674207e-09 Test loss: 6.47702202982714e-09\n",
            "Epoc:240 Train loss: 1.435587648757064e-09 Test loss: 6.243321415411174e-09\n",
            "Epoc:250 Train loss: 1.3842728074919819e-09 Test loss: 6.0123470646544774e-09\n",
            "Epoc:260 Train loss: 1.3331977744002188e-09 Test loss: 5.787264445444862e-09\n",
            "Epoc:270 Train loss: 1.2837665375187157e-09 Test loss: 5.564966709670216e-09\n",
            "Epoc:280 Train loss: 1.23460208723003e-09 Test loss: 5.348501197488531e-09\n",
            "Epoc:290 Train loss: 1.1870545657544085e-09 Test loss: 5.134880964874355e-09\n",
            "Epoc:300 Train loss: 1.1461956939129436e-09 Test loss: 4.987869672845591e-09\n",
            "Epoc:310 Train loss: 1.1075341754818169e-09 Test loss: 4.850893464691808e-09\n",
            "Epoc:320 Train loss: 1.071214228431927e-09 Test loss: 4.685087429123769e-09\n",
            "Epoc:330 Train loss: 1.0357977808794772e-09 Test loss: 4.519145058168306e-09\n",
            "Epoc:340 Train loss: 1.0006691031350101e-09 Test loss: 4.3606580568678055e-09\n",
            "Epoc:350 Train loss: 9.667781020183952e-10 Test loss: 4.201432091122115e-09\n",
            "Epoc:360 Train loss: 9.324759853157616e-10 Test loss: 4.05116207247147e-09\n",
            "Epoc:370 Train loss: 8.991989375317644e-10 Test loss: 3.899763179049387e-09\n",
            "Epoc:380 Train loss: 8.667956352681472e-10 Test loss: 3.748497512390259e-09\n",
            "Epoc:390 Train loss: 8.347109670125974e-10 Test loss: 3.6042808737590804e-09\n",
            "Epoc:400 Train loss: 8.038015808509158e-10 Test loss: 3.4596567832778646e-09\n",
            "Epoc:410 Train loss: 7.725665662761116e-10 Test loss: 3.3234226481937412e-09\n",
            "Epoc:420 Train loss: 7.423321957134021e-10 Test loss: 3.1864306748730087e-09\n",
            "Epoc:430 Train loss: 7.172105687125452e-10 Test loss: 3.0935485284544484e-09\n",
            "Epoc:440 Train loss: 6.945789499113175e-10 Test loss: 3.016406235900604e-09\n",
            "Epoc:450 Train loss: 6.722021828053926e-10 Test loss: 2.9385549549232337e-09\n",
            "Epoc:460 Train loss: 6.505156413538771e-10 Test loss: 2.8630697812559447e-09\n",
            "Epoc:470 Train loss: 6.293425225400995e-10 Test loss: 2.7666988700048023e-09\n",
            "Epoc:480 Train loss: 6.089748150195362e-10 Test loss: 2.6747222214851263e-09\n",
            "Epoc:490 Train loss: 5.886608422933648e-10 Test loss: 2.580943014862669e-09\n",
            "Epoc:500 Train loss: 5.689925197671641e-10 Test loss: 2.489378037040524e-09\n",
            "Epoc:510 Train loss: 5.495416344203363e-10 Test loss: 2.4020767597221493e-09\n",
            "Epoc:520 Train loss: 5.303464334360797e-10 Test loss: 2.313617075699881e-09\n",
            "Epoc:530 Train loss: 5.116057577581046e-10 Test loss: 2.2300998825386387e-09\n",
            "Epoc:540 Train loss: 4.931030583854579e-10 Test loss: 2.144312061247433e-09\n",
            "Epoc:550 Train loss: 4.750869697645044e-10 Test loss: 2.0599404404464394e-09\n",
            "Epoc:560 Train loss: 4.572501544064522e-10 Test loss: 1.981527830707819e-09\n",
            "Epoc:570 Train loss: 4.398321706844399e-10 Test loss: 1.900959389899981e-09\n",
            "Epoc:580 Train loss: 4.226075600577417e-10 Test loss: 1.8248528244058093e-09\n",
            "Epoc:590 Train loss: 4.057985891758875e-10 Test loss: 1.7481145420106259e-09\n",
            "Epoc:600 Train loss: 3.897380751460844e-10 Test loss: 1.6723398221785146e-09\n",
            "Epoc:610 Train loss: 3.736014275723676e-10 Test loss: 1.6052403850608243e-09\n",
            "Epoc:620 Train loss: 3.6266603609114156e-10 Test loss: 1.5682776188796765e-09\n",
            "Epoc:630 Train loss: 3.518215163644811e-10 Test loss: 1.530915505476571e-09\n",
            "Epoc:640 Train loss: 3.4115135716383804e-10 Test loss: 1.4947861837200094e-09\n",
            "Epoc:650 Train loss: 3.3071240190807316e-10 Test loss: 1.4582596241652368e-09\n",
            "Epoc:660 Train loss: 3.2055383347717736e-10 Test loss: 1.4225485234220514e-09\n",
            "Epoc:670 Train loss: 3.105708190620504e-10 Test loss: 1.3806118470682804e-09\n",
            "Epoc:680 Train loss: 3.008267246418228e-10 Test loss: 1.336761479286963e-09\n",
            "Epoc:690 Train loss: 2.915601371444865e-10 Test loss: 1.2930204684735713e-09\n",
            "Epoc:700 Train loss: 2.822494737930725e-10 Test loss: 1.2506774504927876e-09\n",
            "Epoc:710 Train loss: 2.7314303596703837e-10 Test loss: 1.2093742673968677e-09\n",
            "Epoc:720 Train loss: 2.641603047415231e-10 Test loss: 1.1676934974502728e-09\n",
            "Epoc:730 Train loss: 2.552564271063318e-10 Test loss: 1.1276473088628336e-09\n",
            "Epoc:740 Train loss: 2.4637963891294135e-10 Test loss: 1.0886243018148889e-09\n",
            "Epoc:750 Train loss: 2.380196040263627e-10 Test loss: 1.0474998646259337e-09\n",
            "Epoc:760 Train loss: 2.2964893875432324e-10 Test loss: 1.0097295222166736e-09\n",
            "Epoc:770 Train loss: 2.2133730959161824e-10 Test loss: 9.7075525395951e-10\n",
            "Epoc:780 Train loss: 2.1313632803110494e-10 Test loss: 9.34044286360347e-10\n",
            "Epoc:790 Train loss: 2.0534837719132781e-10 Test loss: 8.975394871768572e-10\n",
            "Epoc:800 Train loss: 1.972894486668153e-10 Test loss: 8.623203262558832e-10\n",
            "Epoc:810 Train loss: 1.8995820194600554e-10 Test loss: 8.280828245332827e-10\n",
            "Epoc:820 Train loss: 1.8248198785375536e-10 Test loss: 7.936566959187985e-10\n",
            "Epoc:830 Train loss: 1.7510951022536858e-10 Test loss: 7.607017238342451e-10\n",
            "Epoc:840 Train loss: 1.6777639000320477e-10 Test loss: 7.287130898703253e-10\n",
            "Epoc:850 Train loss: 1.60904400914319e-10 Test loss: 6.951388908937872e-10\n",
            "Epoc:860 Train loss: 1.5404169606547669e-10 Test loss: 6.644341743466953e-10\n",
            "Epoc:870 Train loss: 1.472525712475914e-10 Test loss: 6.328907398156502e-10\n",
            "Epoc:880 Train loss: 1.405947164245802e-10 Test loss: 6.033193389320957e-10\n",
            "Epoc:890 Train loss: 1.3445596025452033e-10 Test loss: 5.768899802305327e-10\n",
            "Epoc:900 Train loss: 1.3098537532396648e-10 Test loss: 5.648356227183626e-10\n",
            "Epoc:910 Train loss: 1.2754222677990867e-10 Test loss: 5.542837300254178e-10\n",
            "Epoc:920 Train loss: 1.2445855457343669e-10 Test loss: 5.432905791913356e-10\n",
            "Epoc:930 Train loss: 1.2135829841053436e-10 Test loss: 5.320952567444692e-10\n",
            "Epoc:940 Train loss: 1.1826443990781144e-10 Test loss: 5.218552812102928e-10\n",
            "Epoc:950 Train loss: 1.151556419665134e-10 Test loss: 5.103935052375164e-10\n",
            "Epoc:960 Train loss: 1.121312626084503e-10 Test loss: 5.00365970879102e-10\n",
            "Epoc:970 Train loss: 1.0907663661186007e-10 Test loss: 4.899242123101999e-10\n",
            "Epoc:980 Train loss: 1.0609139955430891e-10 Test loss: 4.792966024069756e-10\n",
            "Epoc:990 Train loss: 1.0340202305503254e-10 Test loss: 4.695809852073296e-10\n"
          ]
        },
        {
          "output_type": "display_data",
          "data": {
            "text/plain": [
              "<Figure size 1000x700 with 1 Axes>"
            ],
            "image/png": "[encoded data removed]"
          },
          "metadata": {}
        }
      ]
    },
    {
      "cell_type": "code",
      "source": [
        "with torch.inference_mode():\n",
        "  y_preds=model_instance_1(X_test)\n",
        "details_plot(X_train,y_train,X_test,y_test,y_preds)"
      ],
      "metadata": {
        "id": "tCba4hBEeOa-",
        "colab": {
          "base_uri": "https://localhost:8080/",
          "height": 460
        },
        "outputId": "c57d41fa-504c-4452-85e3-d3aea1ca8ff6"
      },
      "execution_count": 124,
      "outputs": [
        {
          "output_type": "display_data",
          "data": {
            "text/plain": [
              "<Figure size 1000x700 with 1 Axes>"
            ],
            "image/png": "[encoded data removed]"
          },
          "metadata": {}
        }
      ]
    },
    {
      "cell_type": "code",
      "source": [
        "model_instance_1.state_dict()"
      ],
      "metadata": {
        "colab": {
          "base_uri": "https://localhost:8080/"
        },
        "id": "hNnYpMF5ziH9",
        "outputId": "ba6fe082-f790-4b67-a891-48fb48184fa9"
      },
      "execution_count": 125,
      "outputs": [
        {
          "output_type": "execute_result",
          "data": {
            "text/plain": [
              "OrderedDict([('weights', tensor([0.7000])), ('bias', tensor([0.3000]))])"
            ]
          },
          "metadata": {},
          "execution_count": 125
        }
      ]
    },
    {
      "cell_type": "code",
      "source": [],
      "metadata": {
        "id": "HUxYq6DIzi_W"
      },
      "execution_count": null,
      "outputs": []
    },
    {
      "cell_type": "code",
      "source": [],
      "metadata": {
        "id": "_9IQ2TVM4-J1"
      },
      "execution_count": null,
      "outputs": []
    }
  ]
}