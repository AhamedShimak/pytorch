{
  "nbformat": 4,
  "nbformat_minor": 0,
  "metadata": {
    "colab": {
      "provenance": [],
      "authorship_tag": "ABX9TyPP+yGS9raSQDCGWPJGm/xn",
      "include_colab_link": true
    },
    "kernelspec": {
      "name": "python3",
      "display_name": "Python 3"
    },
    "language_info": {
      "name": "python"
    }
  },
  "cells": [
    {
      "cell_type": "markdown",
      "metadata": {
        "id": "view-in-github",
        "colab_type": "text"
      },
      "source": [
        "<a href=\"https://colab.research.google.com/github/AhamedShimak/pytorch/blob/main/pytorch_workflow_code_along.ipynb\" target=\"_parent\"><img src=\"https://colab.research.google.com/assets/colab-badge.svg\" alt=\"Open In Colab\"/></a>"
      ]
    },
    {
      "cell_type": "markdown",
      "source": [
        "## Initiating Pytorch"
      ],
      "metadata": {
        "id": "n7Gn_JhaG7dY"
      }
    },
    {
      "cell_type": "markdown",
      "source": [
        "### Imports"
      ],
      "metadata": {
        "id": "Glqkeh5CHfl-"
      }
    },
    {
      "cell_type": "code",
      "source": [
        "import torch\n",
        "from torch import nn\n",
        "import pandas as pd\n",
        "import numpy as np\n",
        "import matplotlib.pyplot as plt\n"
      ],
      "metadata": {
        "id": "fQb72sHRBxT6"
      },
      "execution_count": 1,
      "outputs": []
    },
    {
      "cell_type": "markdown",
      "source": [
        "###MY DETAILS FUNCTION"
      ],
      "metadata": {
        "id": "8zKnh3Aga-W_"
      }
    },
    {
      "cell_type": "code",
      "source": [
        "import torch\n",
        "def details(tensor):\n",
        "  print(\"\")\n",
        "  print(\"Shape: \",tensor.shape)\n",
        "  print(\"Dimentions: \",tensor.ndim)\n",
        "  print(\"###########\")\n",
        "  print(tensor)\n",
        "  print(\"###########\")\n",
        "  print(\"Tensor Data type: \",tensor.dtype)\n",
        "  print(\"Device: \",tensor.device)\n",
        "  print(\"\")\n",
        "\n",
        "def details_plot(train_data, \n",
        "                     train_labels, \n",
        "                     test_data, \n",
        "                     test_labels,\n",
        "                     predictions=None):\n",
        "  \"\"\"\n",
        "  Plots training data, test data and compares predictions.\n",
        "  \"\"\"\n",
        "  plt.figure(figsize=(10, 7))\n",
        "\n",
        "  # Plot training data in blue\n",
        "  plt.scatter(train_data, train_labels, c=\"b\", s=4, label=\"Training data\")\n",
        "  \n",
        "  # Plot test data in green\n",
        "  plt.scatter(test_data, test_labels, c=\"g\", s=4, label=\"Testing data\")\n",
        "\n",
        "  if predictions is not None:\n",
        "    # Plot the predictions in red (predictions were made on the test data)\n",
        "    plt.scatter(test_data, predictions, c=\"r\", s=4, label=\"Predictions\")\n",
        "\n",
        "  # Show the legend\n",
        "  plt.legend(prop={\"size\": 14});"
      ],
      "metadata": {
        "id": "aYgYxCDHbBTO"
      },
      "execution_count": 2,
      "outputs": []
    },
    {
      "cell_type": "markdown",
      "source": [
        "###GPU"
      ],
      "metadata": {
        "id": "sMRYymjLIGWp"
      }
    },
    {
      "cell_type": "code",
      "source": [
        "!nvidia-smi\n",
        "print(torch.cuda.is_available())\n",
        "#setup device agnostic code\n",
        "device=\"cuda\" if torch.cuda.is_available() else \"cpu\"\n",
        "print(device)"
      ],
      "metadata": {
        "colab": {
          "base_uri": "https://localhost:8080/"
        },
        "id": "7nw_wfJXIIs0",
        "outputId": "13d0cae8-7767-4fcf-89ac-0c27dcaf6e03"
      },
      "execution_count": 3,
      "outputs": [
        {
          "output_type": "stream",
          "name": "stdout",
          "text": [
            "/bin/bash: nvidia-smi: command not found\n",
            "False\n",
            "cpu\n"
          ]
        }
      ]
    },
    {
      "cell_type": "markdown",
      "source": [
        "##Linear Regression\n"
      ],
      "metadata": {
        "id": "ptqUbYftO67F"
      }
    },
    {
      "cell_type": "code",
      "source": [
        "# Create *known* parameters\n",
        "weight = 0.7\n",
        "bias = 0.3\n",
        "\n",
        "# Create data\n",
        "start = 0\n",
        "end = 1\n",
        "step = 0.02\n",
        "X = torch.arange(start, end, step).unsqueeze(dim=1)\n",
        "y = weight * X + bias \n",
        "\n",
        "X[:10], y[:10]"
      ],
      "metadata": {
        "colab": {
          "base_uri": "https://localhost:8080/"
        },
        "id": "Khi062A2O-_5",
        "outputId": "9d723d14-8edb-4a0b-c57b-1df234d1be95"
      },
      "execution_count": 4,
      "outputs": [
        {
          "output_type": "execute_result",
          "data": {
            "text/plain": [
              "(tensor([[0.0000],\n",
              "         [0.0200],\n",
              "         [0.0400],\n",
              "         [0.0600],\n",
              "         [0.0800],\n",
              "         [0.1000],\n",
              "         [0.1200],\n",
              "         [0.1400],\n",
              "         [0.1600],\n",
              "         [0.1800]]),\n",
              " tensor([[0.3000],\n",
              "         [0.3140],\n",
              "         [0.3280],\n",
              "         [0.3420],\n",
              "         [0.3560],\n",
              "         [0.3700],\n",
              "         [0.3840],\n",
              "         [0.3980],\n",
              "         [0.4120],\n",
              "         [0.4260]]))"
            ]
          },
          "metadata": {},
          "execution_count": 4
        }
      ]
    },
    {
      "cell_type": "code",
      "source": [
        "# Create train/test split\n",
        "train_split = int(0.8 * len(X)) # 80% of data used for training set, 20% for testing \n",
        "X_train, y_train = X[:train_split], y[:train_split]\n",
        "X_test, y_test = X[train_split:], y[train_split:]\n",
        "\n",
        "len(X_train), len(y_train), len(X_test), len(y_test)"
      ],
      "metadata": {
        "colab": {
          "base_uri": "https://localhost:8080/"
        },
        "id": "SGZ3v5LHPG_A",
        "outputId": "bacab78d-daf2-4fd7-8bf0-bfd437a434ac"
      },
      "execution_count": 5,
      "outputs": [
        {
          "output_type": "execute_result",
          "data": {
            "text/plain": [
              "(40, 40, 10, 10)"
            ]
          },
          "metadata": {},
          "execution_count": 5
        }
      ]
    },
    {
      "cell_type": "code",
      "source": [
        "#details_plot(X_train,y_train,X_test,y_test,y_preds)"
      ],
      "metadata": {
        "id": "Ju3JoT5WP-V7"
      },
      "execution_count": 15,
      "outputs": []
    },
    {
      "cell_type": "markdown",
      "source": [
        "##Building the model"
      ],
      "metadata": {
        "id": "Tto_QOOaQS7A"
      }
    },
    {
      "cell_type": "code",
      "source": [
        "class LinearRegressionModel(nn.Module):\n",
        "  def __init__(self, *args, **kwargs) -> None:\n",
        "    super().__init__(*args, **kwargs)\n",
        "    self.weights =nn.Parameter(torch.randn(1))\n",
        "    self.bias =nn.Parameter(torch.randn(1))\n",
        "\n",
        "    #foward method to define the computation in model\n",
        "\n",
        "  def forward(self,x:torch.Tensor)->torch.Tensor:\n",
        "    return self.weights*x +self.bias\n"
      ],
      "metadata": {
        "id": "fchfssqDQLCG"
      },
      "execution_count": 7,
      "outputs": []
    },
    {
      "cell_type": "markdown",
      "source": [
        "### pytorch model building essential\n",
        "torch.nn\n",
        "torch.nn.Paramenter\n",
        "torch.nn.Module this is base class\n",
        "torch.optim - optimizer\n",
        "def forward() we have to over write\n"
      ],
      "metadata": {
        "id": "2raS2ftZWUaW"
      }
    },
    {
      "cell_type": "markdown",
      "source": [
        "##Content of model"
      ],
      "metadata": {
        "id": "2JjDpP4BZBjq"
      }
    },
    {
      "cell_type": "code",
      "source": [
        "torch.manual_seed(19)\n",
        "\n",
        "#cteate an instance of our model\n",
        "\n",
        "model_instance_1=LinearRegressionModel()"
      ],
      "metadata": {
        "id": "O_aqHJKRZAcj"
      },
      "execution_count": 34,
      "outputs": []
    },
    {
      "cell_type": "code",
      "source": [
        "list(model_instance_1.parameters())"
      ],
      "metadata": {
        "id": "4S50rxfDZjTa",
        "outputId": "fdb6ecca-f4f2-44e2-ad3b-f95de9305535",
        "colab": {
          "base_uri": "https://localhost:8080/"
        }
      },
      "execution_count": 35,
      "outputs": [
        {
          "output_type": "execute_result",
          "data": {
            "text/plain": [
              "[Parameter containing:\n",
              " tensor([-0.0021], requires_grad=True),\n",
              " Parameter containing:\n",
              " tensor([-0.2836], requires_grad=True)]"
            ]
          },
          "metadata": {},
          "execution_count": 35
        }
      ]
    },
    {
      "cell_type": "code",
      "source": [
        "model_instance_1.state_dict()"
      ],
      "metadata": {
        "id": "OCv9qKrvaiWB",
        "outputId": "6c578250-7132-48f2-d865-e7492592c7f2",
        "colab": {
          "base_uri": "https://localhost:8080/"
        }
      },
      "execution_count": 10,
      "outputs": [
        {
          "output_type": "execute_result",
          "data": {
            "text/plain": [
              "OrderedDict([('weights', tensor([-0.0021])), ('bias', tensor([-0.2836]))])"
            ]
          },
          "metadata": {},
          "execution_count": 10
        }
      ]
    },
    {
      "cell_type": "markdown",
      "source": [
        "##Make the prediction"
      ],
      "metadata": {
        "id": "zFDootHvcc0k"
      }
    },
    {
      "cell_type": "code",
      "source": [
        "with torch.inference_mode():\n",
        "  y_preds=model_instance_1(X_test)\n",
        "\n",
        "with torch.no_grad():\n",
        "  y_preds=model_instance_1(X_test)\n",
        "\n",
        "y_preds\n",
        "\n",
        "y_preds_simple=model_instance_1(X_test)"
      ],
      "metadata": {
        "id": "TvJFiuEjassa"
      },
      "execution_count": 51,
      "outputs": []
    },
    {
      "cell_type": "code",
      "source": [
        "details_plot(X_train,y_train,X_test,y_test,y_preds)"
      ],
      "metadata": {
        "id": "JnJvYLVgc_SF",
        "outputId": "bfba7b14-b5ba-4c69-a177-cb984a8b733e",
        "colab": {
          "base_uri": "https://localhost:8080/",
          "height": 460
        }
      },
      "execution_count": 52,
      "outputs": [
        {
          "output_type": "display_data",
          "data": {
            "text/plain": [
              "<Figure size 1000x700 with 1 Axes>"
            ],
            "image/png": "[encoded data removed]"
          },
          "metadata": {}
        }
      ]
    },
    {
      "cell_type": "code",
      "source": [
        "y_preds_simple"
      ],
      "metadata": {
        "id": "bGPvUrk4efTI",
        "outputId": "ce8f7f9d-e20f-4746-a0d3-de8ccdc49ba0",
        "colab": {
          "base_uri": "https://localhost:8080/"
        }
      },
      "execution_count": 13,
      "outputs": [
        {
          "output_type": "execute_result",
          "data": {
            "text/plain": [
              "tensor([[-0.2853],\n",
              "        [-0.2853],\n",
              "        [-0.2854],\n",
              "        [-0.2854],\n",
              "        [-0.2855],\n",
              "        [-0.2855],\n",
              "        [-0.2855],\n",
              "        [-0.2856],\n",
              "        [-0.2856],\n",
              "        [-0.2857]], grad_fn=<AddBackward0>)"
            ]
          },
          "metadata": {},
          "execution_count": 13
        }
      ]
    },
    {
      "cell_type": "markdown",
      "source": [
        "##Training the model"
      ],
      "metadata": {
        "id": "VxS7K9TsgiSY"
      }
    },
    {
      "cell_type": "markdown",
      "source": [
        "Loss func and opt\n",
        "Training loop testing loop"
      ],
      "metadata": {
        "id": "T9FF47u7g3ZL"
      }
    },
    {
      "cell_type": "code",
      "source": [
        "loss_func=nn.L1Loss()\n",
        "opt_func= torch.optim.SGD(model_instance_1.parameters(), lr=0.02)"
      ],
      "metadata": {
        "id": "EaAq8b2yehWZ"
      },
      "execution_count": 46,
      "outputs": []
    },
    {
      "cell_type": "markdown",
      "source": [
        "##Building the training loop"
      ],
      "metadata": {
        "id": "6vBh6ZxMPsYt"
      }
    },
    {
      "cell_type": "code",
      "source": [
        "print(list(model_instance_1.parameters()))\n",
        "model_instance_1.state_dict()"
      ],
      "metadata": {
        "id": "H9NmTX0cP08e",
        "outputId": "90b5bfda-45de-4c4f-a04d-30cd9fd0adb0",
        "colab": {
          "base_uri": "https://localhost:8080/"
        }
      },
      "execution_count": 31,
      "outputs": [
        {
          "output_type": "stream",
          "name": "stdout",
          "text": [
            "[Parameter containing:\n",
            "tensor([0.5309], requires_grad=True), Parameter containing:\n",
            "tensor([0.3714], requires_grad=True)]\n"
          ]
        },
        {
          "output_type": "execute_result",
          "data": {
            "text/plain": [
              "OrderedDict([('weights', tensor([0.5309])), ('bias', tensor([0.3714]))])"
            ]
          },
          "metadata": {},
          "execution_count": 31
        }
      ]
    },
    {
      "cell_type": "markdown",
      "source": [
        "Steps\n",
        "0. Loop throug the data\n",
        "1. set to training mode\n",
        "2. Forward pass\n",
        "3. Calculate the loss(pred to ground truth)\n",
        "4. optimizer zer grad\n",
        "5. loss backward .. back propogation\n",
        "6. optimizer step - use opt and adjust parameter ... grad desent\n"
      ],
      "metadata": {
        "id": "ntg6do8cclFi"
      }
    },
    {
      "cell_type": "code",
      "source": [
        "epochs =100\n",
        "#0\n",
        "loss_track=np.array([])\n",
        "for epoch in range(epochs):\n",
        "  print(epochs)\n",
        "  #1\n",
        "  # set the model to train mode eval mode/train mode\n",
        "  model_instance_1.train() #set all para that require grad to set require grad\n",
        "\n",
        "  #2\n",
        "  y_pred=model_instance_1(X_train)\n",
        "\n",
        "  #3\n",
        "  loss= loss_func(y_pred,y_train)\n",
        "  print(loss)\n",
        "  #np.append(loss_track,loss)\n",
        "  #plt.plot()\n",
        "  \n",
        "  #4\n",
        "  opt_func.zero_grad()\n",
        "\n",
        "  #5\n",
        "  loss.backward()\n",
        "\n",
        "  #6\n",
        "  opt_func.step()\n",
        "\n",
        "  #\n",
        "  model_instance_1.eval()\n"
      ],
      "metadata": {
        "id": "UuHsExVJbq5E",
        "outputId": "9f76a6fc-3559-4dfa-ba90-3c36b9fa9928",
        "colab": {
          "base_uri": "https://localhost:8080/"
        }
      },
      "execution_count": 49,
      "outputs": [
        {
          "output_type": "stream",
          "name": "stdout",
          "text": [
            "100\n",
            "tensor(0.0361, grad_fn=<MeanBackward0>)\n",
            "100\n",
            "tensor(0.0354, grad_fn=<MeanBackward0>)\n",
            "100\n",
            "tensor(0.0347, grad_fn=<MeanBackward0>)\n",
            "100\n",
            "tensor(0.0340, grad_fn=<MeanBackward0>)\n",
            "100\n",
            "tensor(0.0333, grad_fn=<MeanBackward0>)\n",
            "100\n",
            "tensor(0.0326, grad_fn=<MeanBackward0>)\n",
            "100\n",
            "tensor(0.0320, grad_fn=<MeanBackward0>)\n",
            "100\n",
            "tensor(0.0313, grad_fn=<MeanBackward0>)\n",
            "100\n",
            "tensor(0.0306, grad_fn=<MeanBackward0>)\n",
            "100\n",
            "tensor(0.0299, grad_fn=<MeanBackward0>)\n",
            "100\n",
            "tensor(0.0292, grad_fn=<MeanBackward0>)\n",
            "100\n",
            "tensor(0.0285, grad_fn=<MeanBackward0>)\n",
            "100\n",
            "tensor(0.0278, grad_fn=<MeanBackward0>)\n",
            "100\n",
            "tensor(0.0272, grad_fn=<MeanBackward0>)\n",
            "100\n",
            "tensor(0.0265, grad_fn=<MeanBackward0>)\n",
            "100\n",
            "tensor(0.0258, grad_fn=<MeanBackward0>)\n",
            "100\n",
            "tensor(0.0251, grad_fn=<MeanBackward0>)\n",
            "100\n",
            "tensor(0.0244, grad_fn=<MeanBackward0>)\n",
            "100\n",
            "tensor(0.0237, grad_fn=<MeanBackward0>)\n",
            "100\n",
            "tensor(0.0230, grad_fn=<MeanBackward0>)\n",
            "100\n",
            "tensor(0.0223, grad_fn=<MeanBackward0>)\n",
            "100\n",
            "tensor(0.0217, grad_fn=<MeanBackward0>)\n",
            "100\n",
            "tensor(0.0210, grad_fn=<MeanBackward0>)\n",
            "100\n",
            "tensor(0.0203, grad_fn=<MeanBackward0>)\n",
            "100\n",
            "tensor(0.0196, grad_fn=<MeanBackward0>)\n",
            "100\n",
            "tensor(0.0189, grad_fn=<MeanBackward0>)\n",
            "100\n",
            "tensor(0.0182, grad_fn=<MeanBackward0>)\n",
            "100\n",
            "tensor(0.0175, grad_fn=<MeanBackward0>)\n",
            "100\n",
            "tensor(0.0168, grad_fn=<MeanBackward0>)\n",
            "100\n",
            "tensor(0.0162, grad_fn=<MeanBackward0>)\n",
            "100\n",
            "tensor(0.0155, grad_fn=<MeanBackward0>)\n",
            "100\n",
            "tensor(0.0148, grad_fn=<MeanBackward0>)\n",
            "100\n",
            "tensor(0.0141, grad_fn=<MeanBackward0>)\n",
            "100\n",
            "tensor(0.0134, grad_fn=<MeanBackward0>)\n",
            "100\n",
            "tensor(0.0127, grad_fn=<MeanBackward0>)\n",
            "100\n",
            "tensor(0.0120, grad_fn=<MeanBackward0>)\n",
            "100\n",
            "tensor(0.0114, grad_fn=<MeanBackward0>)\n",
            "100\n",
            "tensor(0.0107, grad_fn=<MeanBackward0>)\n",
            "100\n",
            "tensor(0.0100, grad_fn=<MeanBackward0>)\n",
            "100\n",
            "tensor(0.0093, grad_fn=<MeanBackward0>)\n",
            "100\n",
            "tensor(0.0086, grad_fn=<MeanBackward0>)\n",
            "100\n",
            "tensor(0.0079, grad_fn=<MeanBackward0>)\n",
            "100\n",
            "tensor(0.0072, grad_fn=<MeanBackward0>)\n",
            "100\n",
            "tensor(0.0065, grad_fn=<MeanBackward0>)\n",
            "100\n",
            "tensor(0.0059, grad_fn=<MeanBackward0>)\n",
            "100\n",
            "tensor(0.0052, grad_fn=<MeanBackward0>)\n",
            "100\n",
            "tensor(0.0045, grad_fn=<MeanBackward0>)\n",
            "100\n",
            "tensor(0.0038, grad_fn=<MeanBackward0>)\n",
            "100\n",
            "tensor(0.0032, grad_fn=<MeanBackward0>)\n",
            "100\n",
            "tensor(0.0034, grad_fn=<MeanBackward0>)\n",
            "100\n",
            "tensor(0.0110, grad_fn=<MeanBackward0>)\n",
            "100\n",
            "tensor(0.0121, grad_fn=<MeanBackward0>)\n",
            "100\n",
            "tensor(0.0110, grad_fn=<MeanBackward0>)\n",
            "100\n",
            "tensor(0.0121, grad_fn=<MeanBackward0>)\n",
            "100\n",
            "tensor(0.0110, grad_fn=<MeanBackward0>)\n",
            "100\n",
            "tensor(0.0121, grad_fn=<MeanBackward0>)\n",
            "100\n",
            "tensor(0.0110, grad_fn=<MeanBackward0>)\n",
            "100\n",
            "tensor(0.0121, grad_fn=<MeanBackward0>)\n",
            "100\n",
            "tensor(0.0110, grad_fn=<MeanBackward0>)\n",
            "100\n",
            "tensor(0.0121, grad_fn=<MeanBackward0>)\n",
            "100\n",
            "tensor(0.0110, grad_fn=<MeanBackward0>)\n",
            "100\n",
            "tensor(0.0121, grad_fn=<MeanBackward0>)\n",
            "100\n",
            "tensor(0.0110, grad_fn=<MeanBackward0>)\n",
            "100\n",
            "tensor(0.0121, grad_fn=<MeanBackward0>)\n",
            "100\n",
            "tensor(0.0110, grad_fn=<MeanBackward0>)\n",
            "100\n",
            "tensor(0.0121, grad_fn=<MeanBackward0>)\n",
            "100\n",
            "tensor(0.0110, grad_fn=<MeanBackward0>)\n",
            "100\n",
            "tensor(0.0121, grad_fn=<MeanBackward0>)\n",
            "100\n",
            "tensor(0.0110, grad_fn=<MeanBackward0>)\n",
            "100\n",
            "tensor(0.0121, grad_fn=<MeanBackward0>)\n",
            "100\n",
            "tensor(0.0110, grad_fn=<MeanBackward0>)\n",
            "100\n",
            "tensor(0.0121, grad_fn=<MeanBackward0>)\n",
            "100\n",
            "tensor(0.0110, grad_fn=<MeanBackward0>)\n",
            "100\n",
            "tensor(0.0121, grad_fn=<MeanBackward0>)\n",
            "100\n",
            "tensor(0.0110, grad_fn=<MeanBackward0>)\n",
            "100\n",
            "tensor(0.0121, grad_fn=<MeanBackward0>)\n",
            "100\n",
            "tensor(0.0110, grad_fn=<MeanBackward0>)\n",
            "100\n",
            "tensor(0.0121, grad_fn=<MeanBackward0>)\n",
            "100\n",
            "tensor(0.0110, grad_fn=<MeanBackward0>)\n",
            "100\n",
            "tensor(0.0121, grad_fn=<MeanBackward0>)\n",
            "100\n",
            "tensor(0.0110, grad_fn=<MeanBackward0>)\n",
            "100\n",
            "tensor(0.0121, grad_fn=<MeanBackward0>)\n",
            "100\n",
            "tensor(0.0110, grad_fn=<MeanBackward0>)\n",
            "100\n",
            "tensor(0.0121, grad_fn=<MeanBackward0>)\n",
            "100\n",
            "tensor(0.0110, grad_fn=<MeanBackward0>)\n",
            "100\n",
            "tensor(0.0121, grad_fn=<MeanBackward0>)\n",
            "100\n",
            "tensor(0.0110, grad_fn=<MeanBackward0>)\n",
            "100\n",
            "tensor(0.0121, grad_fn=<MeanBackward0>)\n",
            "100\n",
            "tensor(0.0110, grad_fn=<MeanBackward0>)\n",
            "100\n",
            "tensor(0.0121, grad_fn=<MeanBackward0>)\n",
            "100\n",
            "tensor(0.0110, grad_fn=<MeanBackward0>)\n",
            "100\n",
            "tensor(0.0121, grad_fn=<MeanBackward0>)\n",
            "100\n",
            "tensor(0.0110, grad_fn=<MeanBackward0>)\n",
            "100\n",
            "tensor(0.0121, grad_fn=<MeanBackward0>)\n",
            "100\n",
            "tensor(0.0110, grad_fn=<MeanBackward0>)\n",
            "100\n",
            "tensor(0.0121, grad_fn=<MeanBackward0>)\n",
            "100\n",
            "tensor(0.0110, grad_fn=<MeanBackward0>)\n",
            "100\n",
            "tensor(0.0121, grad_fn=<MeanBackward0>)\n",
            "100\n",
            "tensor(0.0110, grad_fn=<MeanBackward0>)\n",
            "100\n",
            "tensor(0.0121, grad_fn=<MeanBackward0>)\n"
          ]
        }
      ]
    },
    {
      "cell_type": "code",
      "source": [
        "det"
      ],
      "metadata": {
        "id": "tCba4hBEeOa-"
      },
      "execution_count": null,
      "outputs": []
    }
  ]
}