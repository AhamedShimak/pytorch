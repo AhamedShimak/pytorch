{
  "nbformat": 4,
  "nbformat_minor": 0,
  "metadata": {
    "colab": {
      "provenance": [],
      "authorship_tag": "ABX9TyN3lnww1Pb6Gkg7aY3shxKw",
      "include_colab_link": true
    },
    "kernelspec": {
      "name": "python3",
      "display_name": "Python 3"
    },
    "language_info": {
      "name": "python"
    }
  },
  "cells": [
    {
      "cell_type": "markdown",
      "metadata": {
        "id": "view-in-github",
        "colab_type": "text"
      },
      "source": [
        "<a href=\"https://colab.research.google.com/github/AhamedShimak/pytorch/blob/main/pytorch_workflow_code_along.ipynb\" target=\"_parent\"><img src=\"https://colab.research.google.com/assets/colab-badge.svg\" alt=\"Open In Colab\"/></a>"
      ]
    },
    {
      "cell_type": "markdown",
      "source": [
        "## Initiating Pytorch"
      ],
      "metadata": {
        "id": "n7Gn_JhaG7dY"
      }
    },
    {
      "cell_type": "markdown",
      "source": [
        "### Imports"
      ],
      "metadata": {
        "id": "Glqkeh5CHfl-"
      }
    },
    {
      "cell_type": "code",
      "source": [
        "import torch\n",
        "from torch import nn\n",
        "import pandas as pd\n",
        "import numpy as np\n",
        "import matplotlib.pyplot as plt\n"
      ],
      "metadata": {
        "id": "fQb72sHRBxT6"
      },
      "execution_count": 1,
      "outputs": []
    },
    {
      "cell_type": "markdown",
      "source": [
        "###MY DETAILS FUNCTION"
      ],
      "metadata": {
        "id": "8zKnh3Aga-W_"
      }
    },
    {
      "cell_type": "code",
      "source": [
        "import torch\n",
        "def details(tensor):\n",
        "  print(\"\")\n",
        "  print(\"Shape: \",tensor.shape)\n",
        "  print(\"Dimentions: \",tensor.ndim)\n",
        "  print(\"###########\")\n",
        "  print(tensor)\n",
        "  print(\"###########\")\n",
        "  print(\"Tensor Data type: \",tensor.dtype)\n",
        "  print(\"Device: \",tensor.device)\n",
        "  print(\"\")\n",
        "\n",
        "def details_plot(train_data, \n",
        "                     train_labels, \n",
        "                     test_data, \n",
        "                     test_labels,\n",
        "                     predictions=None):\n",
        "  \"\"\"\n",
        "  Plots training data, test data and compares predictions.\n",
        "  \"\"\"\n",
        "  plt.figure(figsize=(10, 7))\n",
        "\n",
        "  # Plot training data in blue\n",
        "  plt.scatter(train_data, train_labels, c=\"b\", s=4, label=\"Training data\")\n",
        "  \n",
        "  # Plot test data in green\n",
        "  plt.scatter(test_data, test_labels, c=\"g\", s=4, label=\"Testing data\")\n",
        "\n",
        "  if predictions is not None:\n",
        "    # Plot the predictions in red (predictions were made on the test data)\n",
        "    plt.scatter(test_data, predictions, c=\"r\", s=4, label=\"Predictions\")\n",
        "\n",
        "  # Show the legend\n",
        "  plt.legend(prop={\"size\": 14});"
      ],
      "metadata": {
        "id": "aYgYxCDHbBTO"
      },
      "execution_count": 2,
      "outputs": []
    },
    {
      "cell_type": "markdown",
      "source": [
        "###GPU"
      ],
      "metadata": {
        "id": "sMRYymjLIGWp"
      }
    },
    {
      "cell_type": "code",
      "source": [
        "!nvidia-smi\n",
        "print(torch.cuda.is_available())\n",
        "#setup device agnostic code\n",
        "device=\"cuda\" if torch.cuda.is_available() else \"cpu\"\n",
        "print(device)"
      ],
      "metadata": {
        "colab": {
          "base_uri": "https://localhost:8080/"
        },
        "id": "7nw_wfJXIIs0",
        "outputId": "896dd024-69ea-4f9d-8f22-4d545e4bbbf4"
      },
      "execution_count": 3,
      "outputs": [
        {
          "output_type": "stream",
          "name": "stdout",
          "text": [
            "/bin/bash: nvidia-smi: command not found\n",
            "False\n",
            "cpu\n"
          ]
        }
      ]
    },
    {
      "cell_type": "markdown",
      "source": [
        "##Linear Regression\n"
      ],
      "metadata": {
        "id": "ptqUbYftO67F"
      }
    },
    {
      "cell_type": "code",
      "source": [
        "# Create *known* parameters\n",
        "weight = 0.7\n",
        "bias = 0.3\n",
        "\n",
        "# Create data\n",
        "start = 0\n",
        "end = 1\n",
        "step = 0.02\n",
        "X = torch.arange(start, end, step).unsqueeze(dim=1)\n",
        "y = weight * X + bias \n",
        "\n",
        "X[:10], y[:10]"
      ],
      "metadata": {
        "colab": {
          "base_uri": "https://localhost:8080/"
        },
        "id": "Khi062A2O-_5",
        "outputId": "3ed96a16-a168-45d9-e960-f6f867e3b384"
      },
      "execution_count": 4,
      "outputs": [
        {
          "output_type": "execute_result",
          "data": {
            "text/plain": [
              "(tensor([[0.0000],\n",
              "         [0.0200],\n",
              "         [0.0400],\n",
              "         [0.0600],\n",
              "         [0.0800],\n",
              "         [0.1000],\n",
              "         [0.1200],\n",
              "         [0.1400],\n",
              "         [0.1600],\n",
              "         [0.1800]]),\n",
              " tensor([[0.3000],\n",
              "         [0.3140],\n",
              "         [0.3280],\n",
              "         [0.3420],\n",
              "         [0.3560],\n",
              "         [0.3700],\n",
              "         [0.3840],\n",
              "         [0.3980],\n",
              "         [0.4120],\n",
              "         [0.4260]]))"
            ]
          },
          "metadata": {},
          "execution_count": 4
        }
      ]
    },
    {
      "cell_type": "code",
      "source": [
        "# Create train/test split\n",
        "train_split = int(0.8 * len(X)) # 80% of data used for training set, 20% for testing \n",
        "X_train, y_train = X[:train_split], y[:train_split]\n",
        "X_test, y_test = X[train_split:], y[train_split:]\n",
        "\n",
        "len(X_train), len(y_train), len(X_test), len(y_test)"
      ],
      "metadata": {
        "colab": {
          "base_uri": "https://localhost:8080/"
        },
        "id": "SGZ3v5LHPG_A",
        "outputId": "54e404d9-58af-4b1a-c420-6a83b6ca5524"
      },
      "execution_count": 5,
      "outputs": [
        {
          "output_type": "execute_result",
          "data": {
            "text/plain": [
              "(40, 40, 10, 10)"
            ]
          },
          "metadata": {},
          "execution_count": 5
        }
      ]
    },
    {
      "cell_type": "code",
      "source": [
        "#details_plot(X_train,y_train,X_test,y_test,y_preds)"
      ],
      "metadata": {
        "id": "Ju3JoT5WP-V7"
      },
      "execution_count": 6,
      "outputs": []
    },
    {
      "cell_type": "markdown",
      "source": [
        "##Building the model"
      ],
      "metadata": {
        "id": "Tto_QOOaQS7A"
      }
    },
    {
      "cell_type": "code",
      "source": [
        "class LinearRegressionModel(nn.Module):\n",
        "  def __init__(self, *args, **kwargs) -> None:\n",
        "    super().__init__(*args, **kwargs)\n",
        "    self.weights =nn.Parameter(torch.randn(1))\n",
        "    self.bias =nn.Parameter(torch.randn(1))\n",
        "\n",
        "    #foward method to define the computation in model\n",
        "\n",
        "  def forward(self,x:torch.Tensor)->torch.Tensor:\n",
        "    return self.weights*x +self.bias\n"
      ],
      "metadata": {
        "id": "fchfssqDQLCG"
      },
      "execution_count": 7,
      "outputs": []
    },
    {
      "cell_type": "markdown",
      "source": [
        "### pytorch model building essential\n",
        "torch.nn\n",
        "torch.nn.Paramenter\n",
        "torch.nn.Module this is base class\n",
        "torch.optim - optimizer\n",
        "def forward() we have to over write\n"
      ],
      "metadata": {
        "id": "2raS2ftZWUaW"
      }
    },
    {
      "cell_type": "markdown",
      "source": [
        "##Content of model"
      ],
      "metadata": {
        "id": "2JjDpP4BZBjq"
      }
    },
    {
      "cell_type": "code",
      "source": [
        "torch.manual_seed(19)\n",
        "\n",
        "#cteate an instance of our model\n",
        "\n",
        "model_instance_1=LinearRegressionModel()"
      ],
      "metadata": {
        "id": "O_aqHJKRZAcj"
      },
      "execution_count": 66,
      "outputs": []
    },
    {
      "cell_type": "code",
      "source": [
        "list(model_instance_1.parameters())"
      ],
      "metadata": {
        "id": "4S50rxfDZjTa",
        "outputId": "92050c2b-08da-44b7-b811-eef6481c0cb7",
        "colab": {
          "base_uri": "https://localhost:8080/"
        }
      },
      "execution_count": 67,
      "outputs": [
        {
          "output_type": "execute_result",
          "data": {
            "text/plain": [
              "[Parameter containing:\n",
              " tensor([-0.0021], requires_grad=True),\n",
              " Parameter containing:\n",
              " tensor([-0.2836], requires_grad=True)]"
            ]
          },
          "metadata": {},
          "execution_count": 67
        }
      ]
    },
    {
      "cell_type": "code",
      "source": [
        "model_instance_1.state_dict()"
      ],
      "metadata": {
        "id": "OCv9qKrvaiWB",
        "outputId": "a7f5eba9-6473-46c1-e340-1ebaefd02363",
        "colab": {
          "base_uri": "https://localhost:8080/"
        }
      },
      "execution_count": 68,
      "outputs": [
        {
          "output_type": "execute_result",
          "data": {
            "text/plain": [
              "OrderedDict([('weights', tensor([-0.0021])), ('bias', tensor([-0.2836]))])"
            ]
          },
          "metadata": {},
          "execution_count": 68
        }
      ]
    },
    {
      "cell_type": "markdown",
      "source": [
        "##Make the prediction"
      ],
      "metadata": {
        "id": "zFDootHvcc0k"
      }
    },
    {
      "cell_type": "code",
      "source": [
        "with torch.inference_mode():\n",
        "  y_preds=model_instance_1(X_test)\n",
        "\n",
        "with torch.no_grad():\n",
        "  y_preds=model_instance_1(X_test)\n",
        "\n",
        "y_preds\n",
        "\n",
        "y_preds_simple=model_instance_1(X_test)"
      ],
      "metadata": {
        "id": "TvJFiuEjassa"
      },
      "execution_count": 72,
      "outputs": []
    },
    {
      "cell_type": "code",
      "source": [
        "details_plot(X_train,y_train,X_test,y_test,y_preds)"
      ],
      "metadata": {
        "id": "JnJvYLVgc_SF",
        "outputId": "a05bc007-5330-45ff-bb70-b777eea0538e",
        "colab": {
          "base_uri": "https://localhost:8080/",
          "height": 454
        }
      },
      "execution_count": 73,
      "outputs": [
        {
          "output_type": "display_data",
          "data": {
            "text/plain": [
              "<Figure size 1000x700 with 1 Axes>"
            ],
            "image/png": "[encoded data removed]"
          },
          "metadata": {}
        }
      ]
    },
    {
      "cell_type": "code",
      "source": [
        "y_preds_simple"
      ],
      "metadata": {
        "id": "bGPvUrk4efTI",
        "outputId": "d8628eca-c91b-46e7-e695-3e81c1832525",
        "colab": {
          "base_uri": "https://localhost:8080/"
        }
      },
      "execution_count": 13,
      "outputs": [
        {
          "output_type": "execute_result",
          "data": {
            "text/plain": [
              "tensor([[-0.2853],\n",
              "        [-0.2853],\n",
              "        [-0.2854],\n",
              "        [-0.2854],\n",
              "        [-0.2855],\n",
              "        [-0.2855],\n",
              "        [-0.2855],\n",
              "        [-0.2856],\n",
              "        [-0.2856],\n",
              "        [-0.2857]], grad_fn=<AddBackward0>)"
            ]
          },
          "metadata": {},
          "execution_count": 13
        }
      ]
    },
    {
      "cell_type": "markdown",
      "source": [
        "##Training the model"
      ],
      "metadata": {
        "id": "VxS7K9TsgiSY"
      }
    },
    {
      "cell_type": "markdown",
      "source": [
        "Loss func and opt\n",
        "Training loop testing loop"
      ],
      "metadata": {
        "id": "T9FF47u7g3ZL"
      }
    },
    {
      "cell_type": "code",
      "source": [
        "loss_func=nn.L1Loss()\n",
        "opt_func= torch.optim.SGD(model_instance_1.parameters(), lr=0.002)"
      ],
      "metadata": {
        "id": "EaAq8b2yehWZ"
      },
      "execution_count": 75,
      "outputs": []
    },
    {
      "cell_type": "markdown",
      "source": [
        "##Building the training loop"
      ],
      "metadata": {
        "id": "6vBh6ZxMPsYt"
      }
    },
    {
      "cell_type": "code",
      "source": [
        "print(list(model_instance_1.parameters()))\n",
        "model_instance_1.state_dict()"
      ],
      "metadata": {
        "id": "H9NmTX0cP08e",
        "outputId": "fd5fd2f1-ea2a-4554-d36f-f3f7c1f718ec",
        "colab": {
          "base_uri": "https://localhost:8080/"
        }
      },
      "execution_count": 15,
      "outputs": [
        {
          "output_type": "stream",
          "name": "stdout",
          "text": [
            "[Parameter containing:\n",
            "tensor([-0.0021], requires_grad=True), Parameter containing:\n",
            "tensor([-0.2836], requires_grad=True)]\n"
          ]
        },
        {
          "output_type": "execute_result",
          "data": {
            "text/plain": [
              "OrderedDict([('weights', tensor([-0.0021])), ('bias', tensor([-0.2836]))])"
            ]
          },
          "metadata": {},
          "execution_count": 15
        }
      ]
    },
    {
      "cell_type": "markdown",
      "source": [
        "Steps\n",
        "0. Loop throug the data\n",
        "1. set to training mode\n",
        "2. Forward pass\n",
        "3. Calculate the loss(pred to ground truth)\n",
        "4. optimizer zer grad\n",
        "5. loss backward .. back propogation\n",
        "6. optimizer step - use opt and adjust parameter ... grad desent\n"
      ],
      "metadata": {
        "id": "ntg6do8cclFi"
      }
    },
    {
      "cell_type": "code",
      "source": [
        "epochs =100\n",
        "epoch_track=[]\n",
        "training_loss_track=[]\n",
        "testing_loss_track=[]\n",
        "\n",
        "for epoch in range(epochs):\n",
        "  print(epochs)\n",
        "  ####################\n",
        "  #1\n",
        "  # set the model to train mode eval mode/train mode\n",
        "  model_instance_1.train() #set all para that require grad to set require grad\n",
        "\n",
        "  #2\n",
        "  y_pred=model_instance_1(X_train)\n",
        "\n",
        "  #3\n",
        "  loss= loss_func(y_pred,y_train)\n",
        "  \n",
        "  loss_track.append(loss.detach())\n",
        "  plt.plot(loss_track)\n",
        "  \n",
        "  #4\n",
        "  opt_func.zero_grad( )\n",
        "\n",
        "  #5\n",
        "  loss.backward()\n",
        "\n",
        "  #6\n",
        "  opt_func.step()\n",
        "  ################\n",
        "  #testing \n",
        "  model_instance_1.eval()\n",
        "\n",
        "  with torch.inference_mode():\n",
        "    # do forwrd\n",
        "    test_pred=model_instance_1(X_test)\n",
        "\n",
        "    #calc loss\n",
        "    test_loss =loss_func(test_pred,y_test)\n",
        "\n",
        "  print(f\"Epoc:{epoch} Train loss: {loss} Test loss: {test_loss}\")"
      ],
      "metadata": {
        "id": "UuHsExVJbq5E"
      },
      "execution_count": null,
      "outputs": []
    },
    {
      "cell_type": "code",
      "source": [
        "details_plot(X_train,y_train,X_test,y_test,y_preds)"
      ],
      "metadata": {
        "id": "tCba4hBEeOa-",
        "outputId": "74905eb1-a656-470e-f770-c26d8e580231",
        "colab": {
          "base_uri": "https://localhost:8080/",
          "height": 619
        }
      },
      "execution_count": 28,
      "outputs": [
        {
          "output_type": "display_data",
          "data": {
            "text/plain": [
              "<Figure size 1000x700 with 1 Axes>"
            ],
            "image/png": "[encoded data removed]"
          },
          "metadata": {}
        }
      ]
    },
    {
      "cell_type": "code",
      "source": [],
      "metadata": {
        "id": "hNnYpMF5ziH9"
      },
      "execution_count": null,
      "outputs": []
    },
    {
      "cell_type": "code",
      "source": [],
      "metadata": {
        "id": "HUxYq6DIzi_W"
      },
      "execution_count": null,
      "outputs": []
    },
    {
      "cell_type": "code",
      "source": [],
      "metadata": {
        "id": "_9IQ2TVM4-J1"
      },
      "execution_count": null,
      "outputs": []
    }
  ]
}