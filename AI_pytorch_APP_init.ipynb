{
  "cells": [
    {
      "cell_type": "markdown",
      "metadata": {
        "colab_type": "text",
        "id": "view-in-github"
      },
      "source": [
        "<a href=\"https://colab.research.google.com/github/AhamedShimak/pytorch/blob/main/AI_pytorch_APP_init.ipynb\" target=\"_parent\"><img src=\"https://colab.research.google.com/assets/colab-badge.svg\" alt=\"Open In Colab\"/></a>"
      ]
    },
    {
      "cell_type": "markdown",
      "metadata": {
        "id": "n7Gn_JhaG7dY"
      },
      "source": [
        "## IMPORT AND MY DEFINED FUNCTIONS"
      ]
    },
    {
      "cell_type": "markdown",
      "metadata": {
        "id": "Glqkeh5CHfl-"
      },
      "source": [
        "### Imports"
      ]
    },
    {
      "cell_type": "code",
      "execution_count": 2,
      "metadata": {
        "id": "fQb72sHRBxT6"
      },
      "outputs": [
        {
          "name": "stderr",
          "output_type": "stream",
          "text": [
            "/home/codespace/.python/current/lib/python3.10/site-packages/tqdm/auto.py:21: TqdmWarning: IProgress not found. Please update jupyter and ipywidgets. See https://ipywidgets.readthedocs.io/en/stable/user_install.html\n",
            "  from .autonotebook import tqdm as notebook_tqdm\n"
          ]
        }
      ],
      "source": [
        "import torch\n",
        "from torch import nn\n",
        "import pandas as pd\n",
        "import numpy as np\n",
        "import matplotlib.pyplot as plt\n",
        "\n",
        "from torchvision import transforms\n",
        "from torch.utils.data import Dataset\n",
        "from torch.utils.data import DataLoader\n",
        "from torchvision import datasets\n",
        "\n",
        "from tqdm.auto import tqdm\n",
        "import sklearn\n",
        "from sklearn.model_selection import train_test_split"
      ]
    },
    {
      "cell_type": "markdown",
      "metadata": {
        "id": "8zKnh3Aga-W_"
      },
      "source": [
        "###My functions"
      ]
    },
    {
      "cell_type": "code",
      "execution_count": 3,
      "metadata": {
        "id": "M2NYo5UqpPVa"
      },
      "outputs": [],
      "source": [
        "## Visualization #####################\n",
        "########################################################################################\n",
        "########################################################################################\n",
        "\n",
        "def details(tensor):\n",
        "  print(\"\")\n",
        "  print(\"Shape: \",tensor.shape)\n",
        "  print(\"Dimentions: \",tensor.ndim)\n",
        "  print(\"###########\")\n",
        "  print(tensor)\n",
        "  print(\"###########\")\n",
        "  print(\"Tensor Data type: \",tensor.dtype)\n",
        "  print(\"Device: \",tensor.device)\n",
        "  print(\"\")\n",
        "\n",
        "########################################################################################\n",
        "def details_plot(train_data, \n",
        "                     train_labels, \n",
        "                     test_data, \n",
        "                     test_labels,\n",
        "                     predictions=None):\n",
        "  \"\"\"\n",
        "  Plots training data, test data and compares predictions.\n",
        "  \"\"\"\n",
        "  plt.figure(figsize=(10, 7))\n",
        "\n",
        "  # Plot training data in blue\n",
        "  plt.scatter(train_data, train_labels, c=\"b\", s=4, label=\"Training data\")\n",
        "  \n",
        "  # Plot test data in green\n",
        "  plt.scatter(test_data, test_labels, c=\"g\", s=4, label=\"Testing data\")\n",
        "\n",
        "  if predictions is not None:\n",
        "    # Plot the predictions in red (predictions were made on the test data)\n",
        "    plt.scatter(test_data, predictions, c=\"r\", s=4, label=\"Predictions\")\n",
        "\n",
        "  # Show the legend\n",
        "  plt.legend(prop={\"size\": 14});\n",
        "\n",
        "\n",
        "########################################################################################\n",
        "def details_loss_curve(epochs,train_loss_track,test_loss_track):\n",
        "  #loss curve\n",
        "  plt.figure(figsize=(8,8))\n",
        "  plt.title(\"Loss curve\")\n",
        "  plt.xlabel(\"Epochs\")\n",
        "  plt.ylabel(\"Loss\")\n",
        "  plt.plot(epochs,train_loss_track,label=\"Train loss\")\n",
        "  plt.plot(epochs,test_loss_track,label=\"Test loss\")\n",
        "  plt.legend(prop={\"size\": 14})\n"
      ]
    },
    {
      "cell_type": "code",
      "execution_count": 4,
      "metadata": {
        "id": "aYgYxCDHbBTO"
      },
      "outputs": [],
      "source": [
        "## operations ##############################\n",
        "########################################################################################\n",
        "########################################################################################\n",
        "\n",
        "def accu(y_pred,y_test):\n",
        "  correct=torch.eq(y_pred.squeeze(),y_test.squeeze()).sum().item()\n",
        "  accuracy=(correct/len(y_test))*100\n",
        "  return accuracy\n",
        "\n",
        "def details_plot_scatter(x_train, x_test, y_train, y_test,\n",
        "                     predictions=None):\n",
        "  \"\"\"\n",
        "  Plots training data, test data and compares predictions.\n",
        "  \"\"\"\n",
        "  plt.figure(figsize=(10, 7))\n",
        "  plt.scatter(x_train[:,0],x_train[:,1],c=y_train,cmap=plt.cm.BrBG, s=4, label=\"Training data\")\n",
        "  plt.scatter(x_test[:,0],x_test[:,1],c=y_test, s=60, label=\"Test data\")\n",
        "  plt.legend(prop={\"size\": 14});\n",
        "  if predictions is not None:\n",
        "    # Plot the predictions in red (predictions were made on the test data)\n",
        "    plt.scatter(x_test[:,0],x_test[:,1],c=predictions, s=20, label=\"Prediction\")\n",
        "\n",
        "  # Show the legend\n",
        "  plt.legend(prop={\"size\": 14});\n",
        "\n",
        "########################################################################################\n",
        "\n",
        "#traning function \n",
        "def train(\n",
        "    train_dataloader,\n",
        "    model,\n",
        "    loss_func,\n",
        "    optimizer,\n",
        "    accu,\n",
        "    device):\n",
        "  from tqdm.auto import tqdm  \n",
        "  #loss_tracking\n",
        "  train_loss=0\n",
        "  train_loss_track=[]\n",
        "  train_accuracy=0\n",
        "\n",
        "  #train mode\n",
        "  model=model.to(device)\n",
        "  model.train()\n",
        "\n",
        "  #training loop\n",
        "  for batch, (X,y) in tqdm(enumerate(train_dataloader)):\n",
        "    #device set\n",
        "    X,y=X.to(device),y.to(device)\n",
        "\n",
        "    \n",
        "\n",
        "    #forward propegation\n",
        "    predict=model(X)\n",
        "    #loss calcilation\n",
        "    loss=loss_func(predict,y)\n",
        "    \n",
        "\n",
        "    train_loss_track.append(loss.detach().item())\n",
        "\n",
        "    #clear passed gradients\n",
        "    optimizer.zero_grad()\n",
        "    #back propogation\n",
        "    loss.backward()\n",
        "    #update new values for weight and bias\n",
        "    optimizer.step()\n",
        "\n",
        "    #print(loss,batch)\n",
        "    train_loss_track.append(loss.detach().item())\n",
        "    \n",
        "    train_loss+=loss_func(predict,y)\n",
        "    train_accuracy+=accu(predict.squeeze().argmax(dim=1),y)\n",
        "  \n",
        "  #average_loss\n",
        "  train_loss=loss/len(train_dataloader)\n",
        "  train_accuracy=train_accuracy/len(train_dataloader)\n",
        "\n",
        "  print(f\"Training loss: {train_loss:.5f} Train_accuracy {train_accuracy:.2f}\")\n",
        "\n",
        "########################################################################################\n",
        "\n",
        "#testing function\n",
        "\n",
        "def test(\n",
        "    test_dataloader,\n",
        "    model,\n",
        "    loss_func,\n",
        "    accu,\n",
        "    device):\n",
        "  from tqdm.auto import tqdm  \n",
        "  #loss_tracking\n",
        "  test_loss=0\n",
        "  test_loss_track=[]\n",
        "  test_accuracy=0\n",
        "\n",
        "  #testing loop\n",
        "  model.eval()\n",
        "\n",
        "  with torch.inference_mode():\n",
        "    for batch, (X,y) in tqdm(enumerate(test_dataloader)):\n",
        "      #device set\n",
        "      X,y=X.to(device),y.to(device)\n",
        "\n",
        "      \n",
        "      #forward propegation\n",
        "      predict=model(X)\n",
        "      #loss calcilation\n",
        "      loss=loss_func(predict,y)\n",
        "      \n",
        "\n",
        "      test_loss_track.append(loss.detach().item())\n",
        "\n",
        "      #print(loss,batch)\n",
        "      test_loss_track.append(loss.detach().item())\n",
        "      \n",
        "      test_loss+=loss_func(predict,y)\n",
        "      test_accuracy+=accu(predict.squeeze().argmax(dim=1),y)\n",
        "  \n",
        "  #average_loss\n",
        "  test_loss=loss/len(test_dataloader)\n",
        "  test_accuracy=test_accuracy/len(test_dataloader)\n",
        "\n",
        "  print(f\"Testing loss: {test_loss:.5f} Test_accuracy {test_accuracy:.2f}\")\n",
        "\n",
        "########################################################################################\n",
        "\n",
        "#evaluation function   \n",
        "def evaluate(model:torch.nn.Module,\n",
        "             loss_func:torch.nn.Module,\n",
        "             data_loader:torch.utils.data.DataLoader,\n",
        "             accu\n",
        "             ):\n",
        "  model_name=model.__class__.__name__\n",
        "  model.eval()\n",
        "  loss,accuracy=0,0\n",
        "  with torch.inference_mode():\n",
        "    for x,y in tqdm(data_loader):\n",
        "      x,y=x.to(device),y.to(device)\n",
        "      predict=model(x)\n",
        "      loss+=loss_func(predict,y)\n",
        "      accuracy+=accu(predict.squeeze().argmax(dim=1),y)\n",
        "  loss=loss/len(data_loader)\n",
        "  accuracy=accuracy/len(data_loader)\n",
        "  return {\"Model Name\":model_name,\"Accuracy\":accuracy,\"Loss\":loss.item()}\n",
        "\n"
      ]
    },
    {
      "cell_type": "code",
      "execution_count": 5,
      "metadata": {
        "id": "zY7w5A1io2Om"
      },
      "outputs": [],
      "source": [
        "import torch\n",
        "def details(tensor):\n",
        "  print(\"\")\n",
        "  print(\"Shape: \",tensor.shape)\n",
        "  print(\"Dimentions: \",tensor.ndim)\n",
        "  print(\"###########\")\n",
        "  print(tensor)\n",
        "  print(\"###########\")\n",
        "  print(\"Tensor Data type: \",tensor.dtype)\n",
        "  print(\"Device: \",tensor.device)\n",
        "  print(\"\")\n",
        "\n",
        "def details_plot(train_data, \n",
        "                     train_labels, \n",
        "                     test_data, \n",
        "                     test_labels,\n",
        "                     predictions=None):\n",
        "  \"\"\"\n",
        "  Plots training data, test data and compares predictions.\n",
        "  \"\"\"\n",
        "  plt.figure(figsize=(10, 7))\n",
        "\n",
        "  # Plot training data in blue\n",
        "  plt.scatter(train_data, train_labels, c=\"b\", s=4, label=\"Training data\")\n",
        "  \n",
        "  # Plot test data in green\n",
        "  plt.scatter(test_data, test_labels, c=\"g\", s=4, label=\"Testing data\")\n",
        "\n",
        "  if predictions is not None:\n",
        "    # Plot the predictions in red (predictions were made on the test data)\n",
        "    plt.scatter(test_data, predictions, c=\"r\", s=4, label=\"Predictions\")\n",
        "\n",
        "  # Show the legend\n",
        "  plt.legend(prop={\"size\": 14});\n",
        "\n",
        "def details_loss_curve(epochs,train_loss_track,test_loss_track):\n",
        "  #loss curve\n",
        "  plt.figure(figsize=(8,8))\n",
        "  plt.title(\"Loss curve\")\n",
        "  plt.xlabel(\"Epochs\")\n",
        "  plt.ylabel(\"Loss\")\n",
        "  plt.plot(epochs,train_loss_track,label=\"Train loss\")\n",
        "  plt.plot(epochs,test_loss_track,label=\"Test loss\")\n",
        "  plt.legend(prop={\"size\": 14})\n",
        "\n",
        "import torch\n",
        "def details(tensor):\n",
        "  print(\"\")\n",
        "  print(\"Shape: \",tensor.shape)\n",
        "  print(\"Dimentions: \",tensor.ndim)\n",
        "  print(\"###########\")\n",
        "  print(tensor)\n",
        "  print(\"###########\")\n",
        "  print(\"Tensor Data type: \",tensor.dtype)\n",
        "  print(\"Device: \",tensor.device)\n",
        "  print(\"\")\n",
        "\n",
        "def details_plot(train_data, \n",
        "                     train_labels, \n",
        "                     test_data, \n",
        "                     test_labels,\n",
        "                     predictions=None):\n",
        "  \"\"\"\n",
        "  Plots training data, test data and compares predictions.\n",
        "  \"\"\"\n",
        "  plt.figure(figsize=(10, 7))\n",
        "\n",
        "  # Plot training data in blue\n",
        "  plt.scatter(train_data, train_labels, c=\"b\", s=4, label=\"Training data\")\n",
        "  \n",
        "  # Plot test data in green\n",
        "  plt.scatter(test_data, test_labels, c=\"g\", s=4, label=\"Testing data\")\n",
        "\n",
        "  if predictions is not None:\n",
        "    # Plot the predictions in red (predictions were made on the test data)\n",
        "    plt.scatter(test_data, predictions, c=\"r\", s=4, label=\"Predictions\")\n",
        "\n",
        "  # Show the legend\n",
        "  plt.legend(prop={\"size\": 14});\n",
        "\n",
        "\n",
        "\n",
        "def accu(y_pred,y_test):\n",
        "  correct=torch.eq(y_pred.squeeze(),y_test.squeeze()).sum().item()\n",
        "  accuracy=(correct/len(y_test))*100\n",
        "  return accuracy\n",
        "\n",
        "def details_plot_scatter(x_train, x_test, y_train, y_test,\n",
        "                     predictions=None):\n",
        "  \"\"\"\n",
        "  Plots training data, test data and compares predictions.\n",
        "  \"\"\"\n",
        "  plt.figure(figsize=(10, 7))\n",
        "  plt.scatter(x_train[:,0],x_train[:,1],c=y_train,cmap=plt.cm.BrBG, s=4, label=\"Training data\")\n",
        "  plt.scatter(x_test[:,0],x_test[:,1],c=y_test, s=60, label=\"Test data\")\n",
        "  plt.legend(prop={\"size\": 14});\n",
        "  if predictions is not None:\n",
        "    # Plot the predictions in red (predictions were made on the test data)\n",
        "    plt.scatter(x_test[:,0],x_test[:,1],c=predictions, s=20, label=\"Prediction\")\n",
        "\n",
        "  # Show the legend\n",
        "  plt.legend(prop={\"size\": 14});\n",
        "\n",
        "\n",
        "\n",
        "#traning function #####################################\n",
        "def train(\n",
        "    train_dataloader,\n",
        "    model,\n",
        "    loss_func,\n",
        "    optimizer,\n",
        "    accu,\n",
        "    device):\n",
        "  from tqdm.auto import tqdm  \n",
        "  #loss_tracking\n",
        "  train_loss=0\n",
        "  train_loss_track=[]\n",
        "  train_accuracy=0\n",
        "\n",
        "  #train mode\n",
        "  model=model.to(device)\n",
        "  model.train()\n",
        "\n",
        "  #training loop\n",
        "  for batch, (X,y) in tqdm(enumerate(train_dataloader)):\n",
        "    #device set\n",
        "    X,y=X.to(device),y.to(device)\n",
        "\n",
        "    \n",
        "\n",
        "    #forward propegation\n",
        "    predict=model(X)\n",
        "    #loss calcilation\n",
        "    loss=loss_func(predict,y)\n",
        "    \n",
        "\n",
        "    train_loss_track.append(loss.detach().item())\n",
        "\n",
        "    #clear passed gradients\n",
        "    optimizer.zero_grad()\n",
        "    #back propogation\n",
        "    loss.backward()\n",
        "    #update new values for weight and bias\n",
        "    optimizer.step()\n",
        "\n",
        "    #print(loss,batch)\n",
        "    train_loss_track.append(loss.detach().item())\n",
        "    \n",
        "    train_loss+=loss_func(predict,y)\n",
        "    train_accuracy+=accu(predict.squeeze().argmax(dim=1),y)\n",
        "  \n",
        "  #average_loss\n",
        "  train_loss=train_loss/len(train_dataloader)\n",
        "  train_accuracy=train_accuracy/len(train_dataloader)\n",
        "\n",
        "  print(f\"Training loss: {train_loss:.5f} Train_accuracy {train_accuracy:.2f}\")\n",
        "\n",
        "  \n",
        "#testing function##################################\n",
        "def test(\n",
        "    test_dataloader,\n",
        "    model,\n",
        "    loss_func,\n",
        "    accu,\n",
        "    device):\n",
        "  from tqdm.auto import tqdm  \n",
        "  #loss_tracking\n",
        "  test_loss=0\n",
        "  test_loss_track=[]\n",
        "  test_accuracy=0\n",
        "\n",
        "  #testing loop\n",
        "  model.eval()\n",
        "\n",
        "  with torch.inference_mode():\n",
        "    for batch, (X,y) in tqdm(enumerate(test_dataloader)):\n",
        "      #device set\n",
        "      X,y=X.to(device),y.to(device)\n",
        "\n",
        "      \n",
        "      #forward propegation\n",
        "      predict=model(X)\n",
        "      #loss calcilation\n",
        "      loss=loss_func(predict,y)\n",
        "      \n",
        "\n",
        "      test_loss_track.append(loss.detach().item())\n",
        "\n",
        "      #print(loss,batch)\n",
        "      test_loss_track.append(loss.detach().item())\n",
        "      \n",
        "      test_loss+=loss_func(predict,y)\n",
        "      test_accuracy+=accu(predict.squeeze().argmax(dim=1),y)\n",
        "  \n",
        "  #average_loss\n",
        "  test_loss=test_loss/len(test_dataloader)\n",
        "  test_accuracy=test_accuracy/len(test_dataloader)\n",
        "\n",
        "  print(f\"Testing loss: {test_loss:.5f} Test_accuracy {test_accuracy:.2f}\")\n",
        "\n",
        "#evaluation function ############################  \n",
        "def evaluate(model:torch.nn.Module,\n",
        "             loss_func:torch.nn.Module,\n",
        "             data_loader:torch.utils.data.DataLoader,\n",
        "             accu,\n",
        "             device\n",
        "             ):\n",
        "  model_name=model.__class__.__name__\n",
        "  model.eval()\n",
        "  loss,accuracy=0,0\n",
        "  with torch.inference_mode():\n",
        "    for x,y in tqdm(data_loader):\n",
        "      x,y=x.to(device),y.to(device)\n",
        "      predict=model(x)\n",
        "      loss+=loss_func(predict,y)\n",
        "      accuracy+=accu(predict.squeeze().argmax(dim=1),y)\n",
        "  loss=loss/len(data_loader)\n",
        "  accuracy=accuracy/len(data_loader)\n",
        "  return {\"Model Name\":model_name,\"Accuracy\":accuracy,\"Loss\":loss.item()}\n",
        "\n"
      ]
    },
    {
      "cell_type": "markdown",
      "metadata": {
        "id": "sMRYymjLIGWp"
      },
      "source": [
        "###GPU"
      ]
    },
    {
      "cell_type": "code",
      "execution_count": 6,
      "metadata": {
        "colab": {
          "base_uri": "https://localhost:8080/"
        },
        "id": "7nw_wfJXIIs0",
        "outputId": "ee304320-6636-4dad-e947-77915e5577ec"
      },
      "outputs": [
        {
          "name": "stdout",
          "output_type": "stream",
          "text": [
            "/bin/bash: nvidia-smi: command not found\n",
            "False\n",
            "cpu\n"
          ]
        }
      ],
      "source": [
        "!nvidia-smi\n",
        "print(torch.cuda.is_available())\n",
        "#setup device agnostic code\n",
        "device=\"cuda\" if torch.cuda.is_available() else \"cpu\"\n",
        "print(device)"
      ]
    },
    {
      "cell_type": "markdown",
      "metadata": {
        "id": "ptqUbYftO67F"
      },
      "source": [
        "##DATA PROCESS \n"
      ]
    },
    {
      "cell_type": "markdown",
      "metadata": {
        "id": "oMw_nOmGLh5O"
      },
      "source": [
        "ex- tensor data-> x_train,y_train,x_test,y_test\n"
      ]
    },
    {
      "cell_type": "code",
      "execution_count": 7,
      "metadata": {
        "id": "Khi062A2O-_5"
      },
      "outputs": [],
      "source": [
        "# create data\n",
        "\n",
        "#weight and bias\n",
        "\n",
        "  #######to prevent mat multiplication error   .unsqueeze(dim=1)\n",
        "\n",
        "#dataloader\n"
      ]
    },
    {
      "cell_type": "code",
      "execution_count": 36,
      "metadata": {
        "id": "SGZ3v5LHPG_A"
      },
      "outputs": [],
      "source": [
        "# create train/test split\n"
      ]
    },
    {
      "cell_type": "code",
      "execution_count": 37,
      "metadata": {
        "id": "Ju3JoT5WP-V7"
      },
      "outputs": [],
      "source": [
        "# plot and visualize it\n"
      ]
    },
    {
      "cell_type": "markdown",
      "metadata": {
        "id": "Tto_QOOaQS7A"
      },
      "source": [
        "##BUILDING THE MODEL\n"
      ]
    },
    {
      "cell_type": "markdown",
      "metadata": {
        "id": "Zxa0ngYiLY52"
      },
      "source": [
        "tips\n",
        "1. torch.nn.find_suitable_loss\n",
        "2. torch.nn.Paramenter\n",
        "3. torch.nn.Module this is base class\n",
        "4. torch.optim - optimizer"
      ]
    },
    {
      "cell_type": "code",
      "execution_count": 8,
      "metadata": {
        "id": "fchfssqDQLCG"
      },
      "outputs": [],
      "source": [
        "#model\n",
        "class Model_name(nn.Module):\n",
        "  def __init__(self):\n",
        "    super().__init__()\n",
        "    #model_structer\n",
        "   \n",
        "  def forward(self,x: torch.Tensor) -> torch.Tensor:\n",
        "\n",
        "\n",
        "    return ##\n",
        "\n",
        "\n",
        "\n",
        "#discription of model\n"
      ]
    },
    {
      "cell_type": "code",
      "execution_count": 39,
      "metadata": {
        "id": "O_aqHJKRZAcj"
      },
      "outputs": [],
      "source": [
        "#make inference/prediction and visualize the model\n"
      ]
    },
    {
      "cell_type": "markdown",
      "metadata": {
        "id": "VxS7K9TsgiSY"
      },
      "source": [
        "##CREATE OPTIMIZER / LOSS_FUNC"
      ]
    },
    {
      "cell_type": "code",
      "execution_count": 40,
      "metadata": {
        "id": "EaAq8b2yehWZ"
      },
      "outputs": [],
      "source": [
        "#create loss func\n",
        "\n",
        "#optimizer\n",
        "\n"
      ]
    },
    {
      "cell_type": "markdown",
      "metadata": {
        "id": "6vBh6ZxMPsYt"
      },
      "source": [
        "##TRAINING / TESTING LOOP"
      ]
    },
    {
      "cell_type": "markdown",
      "metadata": {
        "id": "ntg6do8cclFi"
      },
      "source": [
        "tips\n",
        "0. Loop throug the data\n",
        "1. set to training mode\n",
        "2. Forward pass\n",
        "3. Calculate the loss(pred to ground truth)\n",
        "4. optimizer zer grad\n",
        "5. loss backward .. back propogation\n",
        "6. optimizer step - use opt and adjust parameter ... grad desent\n"
      ]
    },
    {
      "cell_type": "code",
      "execution_count": 41,
      "metadata": {
        "colab": {
          "base_uri": "https://localhost:8080/",
          "height": 223,
          "referenced_widgets": [
            "d17f37f4f6c7480ca75c323d1ed614bf",
            "fb386e704567473a892060d7152a4195",
            "6b0bd0116f10474da754745ff2d60bab",
            "441661ea0ed24894a2f728ae350785f5",
            "da3b280d6a794d248a4cdea02a21415a",
            "7dc446a5913648be9748f8c728987d5e",
            "75cb894b671d484b8feb359d9c99e57a",
            "48607ddafb4e460b8a4aee992867f03d",
            "8c5c0faff9b046b9ae3ba7fab2a8f2b0",
            "92e9558baf6b4d36b723ab5c417f4b0e",
            "146fbf6cc1cb480fb87239c237edda97"
          ]
        },
        "id": "UuHsExVJbq5E",
        "outputId": "a4daa714-eebc-4d1f-bc27-40635ae6fb57"
      },
      "outputs": [
        {
          "data": {
            "application/vnd.jupyter.widget-view+json": {
              "model_id": "d17f37f4f6c7480ca75c323d1ed614bf",
              "version_major": 2,
              "version_minor": 0
            },
            "text/plain": [
              "  0%|          | 0/10 [00:00<?, ?it/s]"
            ]
          },
          "metadata": {},
          "output_type": "display_data"
        },
        {
          "name": "stdout",
          "output_type": "stream",
          "text": [
            "Epoch 0\n",
            "Epoch 1\n",
            "Epoch 2\n",
            "Epoch 3\n",
            "Epoch 4\n",
            "Epoch 5\n",
            "Epoch 6\n",
            "Epoch 7\n",
            "Epoch 8\n",
            "Epoch 9\n"
          ]
        }
      ],
      "source": [
        "#initiate trackers and hyper parameters\n",
        "\n",
        "epochs=10\n",
        "model=\"model_name\"\n",
        " \n",
        "for epoch in tqdm(range(epochs)):\n",
        "  print(f\"Epoch {epoch}\")\n",
        "  #train(train_dataloader,model,loss_func,optimizer,accu,device)\n",
        "  #test(test_dataloader,model,loss_func,accu,device)\n",
        "\n"
      ]
    },
    {
      "cell_type": "code",
      "execution_count": 41,
      "metadata": {
        "id": "rsPgMokiq7qf"
      },
      "outputs": [],
      "source": []
    },
    {
      "cell_type": "markdown",
      "metadata": {
        "id": "BNgX5AsNKXxH"
      },
      "source": [
        "##EVALUATION OF THE MODEL"
      ]
    },
    {
      "cell_type": "code",
      "execution_count": 42,
      "metadata": {
        "id": "tCba4hBEeOa-"
      },
      "outputs": [],
      "source": [
        "#plot / matrices\n",
        "\n"
      ]
    },
    {
      "cell_type": "markdown",
      "metadata": {
        "id": "KwxZmgXUPJgI"
      },
      "source": [
        "##SAVING/LOADING"
      ]
    },
    {
      "cell_type": "markdown",
      "metadata": {
        "id": "zW_QlscXPZsx"
      },
      "source": [
        "tips\n",
        "1.  torch.save() \n",
        "2.  torch.load()\n",
        "3.  toch.nn.Module.load_state_dict()"
      ]
    },
    {
      "cell_type": "code",
      "execution_count": 42,
      "metadata": {
        "id": "se4kqYtmQwPX"
      },
      "outputs": [],
      "source": []
    },
    {
      "cell_type": "code",
      "execution_count": 42,
      "metadata": {
        "id": "na5mRKb3fvDb"
      },
      "outputs": [],
      "source": []
    }
  ],
  "metadata": {
    "accelerator": "GPU",
    "colab": {
      "authorship_tag": "ABX9TyP7Hz9E+4ZWPmg3ci/OhT4i",
      "include_colab_link": true,
      "provenance": []
    },
    "gpuClass": "standard",
    "kernelspec": {
      "display_name": "Python 3",
      "name": "python3"
    },
    "language_info": {
      "codemirror_mode": {
        "name": "ipython",
        "version": 3
      },
      "file_extension": ".py",
      "mimetype": "text/x-python",
      "name": "python",
      "nbconvert_exporter": "python",
      "pygments_lexer": "ipython3",
      "version": "3.10.4"
    },
    "widgets": {
      "application/vnd.jupyter.widget-state+json": {
        "146fbf6cc1cb480fb87239c237edda97": {
          "model_module": "@jupyter-widgets/controls",
          "model_module_version": "1.5.0",
          "model_name": "DescriptionStyleModel",
          "state": {
            "_model_module": "@jupyter-widgets/controls",
            "_model_module_version": "1.5.0",
            "_model_name": "DescriptionStyleModel",
            "_view_count": null,
            "_view_module": "@jupyter-widgets/base",
            "_view_module_version": "1.2.0",
            "_view_name": "StyleView",
            "description_width": ""
          }
        },
        "441661ea0ed24894a2f728ae350785f5": {
          "model_module": "@jupyter-widgets/controls",
          "model_module_version": "1.5.0",
          "model_name": "HTMLModel",
          "state": {
            "_dom_classes": [],
            "_model_module": "@jupyter-widgets/controls",
            "_model_module_version": "1.5.0",
            "_model_name": "HTMLModel",
            "_view_count": null,
            "_view_module": "@jupyter-widgets/controls",
            "_view_module_version": "1.5.0",
            "_view_name": "HTMLView",
            "description": "",
            "description_tooltip": null,
            "layout": "IPY_MODEL_92e9558baf6b4d36b723ab5c417f4b0e",
            "placeholder": "​",
            "style": "IPY_MODEL_146fbf6cc1cb480fb87239c237edda97",
            "value": " 10/10 [00:00&lt;00:00, 247.18it/s]"
          }
        },
        "48607ddafb4e460b8a4aee992867f03d": {
          "model_module": "@jupyter-widgets/base",
          "model_module_version": "1.2.0",
          "model_name": "LayoutModel",
          "state": {
            "_model_module": "@jupyter-widgets/base",
            "_model_module_version": "1.2.0",
            "_model_name": "LayoutModel",
            "_view_count": null,
            "_view_module": "@jupyter-widgets/base",
            "_view_module_version": "1.2.0",
            "_view_name": "LayoutView",
            "align_content": null,
            "align_items": null,
            "align_self": null,
            "border": null,
            "bottom": null,
            "display": null,
            "flex": null,
            "flex_flow": null,
            "grid_area": null,
            "grid_auto_columns": null,
            "grid_auto_flow": null,
            "grid_auto_rows": null,
            "grid_column": null,
            "grid_gap": null,
            "grid_row": null,
            "grid_template_areas": null,
            "grid_template_columns": null,
            "grid_template_rows": null,
            "height": null,
            "justify_content": null,
            "justify_items": null,
            "left": null,
            "margin": null,
            "max_height": null,
            "max_width": null,
            "min_height": null,
            "min_width": null,
            "object_fit": null,
            "object_position": null,
            "order": null,
            "overflow": null,
            "overflow_x": null,
            "overflow_y": null,
            "padding": null,
            "right": null,
            "top": null,
            "visibility": null,
            "width": null
          }
        },
        "6b0bd0116f10474da754745ff2d60bab": {
          "model_module": "@jupyter-widgets/controls",
          "model_module_version": "1.5.0",
          "model_name": "FloatProgressModel",
          "state": {
            "_dom_classes": [],
            "_model_module": "@jupyter-widgets/controls",
            "_model_module_version": "1.5.0",
            "_model_name": "FloatProgressModel",
            "_view_count": null,
            "_view_module": "@jupyter-widgets/controls",
            "_view_module_version": "1.5.0",
            "_view_name": "ProgressView",
            "bar_style": "success",
            "description": "",
            "description_tooltip": null,
            "layout": "IPY_MODEL_48607ddafb4e460b8a4aee992867f03d",
            "max": 10,
            "min": 0,
            "orientation": "horizontal",
            "style": "IPY_MODEL_8c5c0faff9b046b9ae3ba7fab2a8f2b0",
            "value": 10
          }
        },
        "75cb894b671d484b8feb359d9c99e57a": {
          "model_module": "@jupyter-widgets/controls",
          "model_module_version": "1.5.0",
          "model_name": "DescriptionStyleModel",
          "state": {
            "_model_module": "@jupyter-widgets/controls",
            "_model_module_version": "1.5.0",
            "_model_name": "DescriptionStyleModel",
            "_view_count": null,
            "_view_module": "@jupyter-widgets/base",
            "_view_module_version": "1.2.0",
            "_view_name": "StyleView",
            "description_width": ""
          }
        },
        "7dc446a5913648be9748f8c728987d5e": {
          "model_module": "@jupyter-widgets/base",
          "model_module_version": "1.2.0",
          "model_name": "LayoutModel",
          "state": {
            "_model_module": "@jupyter-widgets/base",
            "_model_module_version": "1.2.0",
            "_model_name": "LayoutModel",
            "_view_count": null,
            "_view_module": "@jupyter-widgets/base",
            "_view_module_version": "1.2.0",
            "_view_name": "LayoutView",
            "align_content": null,
            "align_items": null,
            "align_self": null,
            "border": null,
            "bottom": null,
            "display": null,
            "flex": null,
            "flex_flow": null,
            "grid_area": null,
            "grid_auto_columns": null,
            "grid_auto_flow": null,
            "grid_auto_rows": null,
            "grid_column": null,
            "grid_gap": null,
            "grid_row": null,
            "grid_template_areas": null,
            "grid_template_columns": null,
            "grid_template_rows": null,
            "height": null,
            "justify_content": null,
            "justify_items": null,
            "left": null,
            "margin": null,
            "max_height": null,
            "max_width": null,
            "min_height": null,
            "min_width": null,
            "object_fit": null,
            "object_position": null,
            "order": null,
            "overflow": null,
            "overflow_x": null,
            "overflow_y": null,
            "padding": null,
            "right": null,
            "top": null,
            "visibility": null,
            "width": null
          }
        },
        "8c5c0faff9b046b9ae3ba7fab2a8f2b0": {
          "model_module": "@jupyter-widgets/controls",
          "model_module_version": "1.5.0",
          "model_name": "ProgressStyleModel",
          "state": {
            "_model_module": "@jupyter-widgets/controls",
            "_model_module_version": "1.5.0",
            "_model_name": "ProgressStyleModel",
            "_view_count": null,
            "_view_module": "@jupyter-widgets/base",
            "_view_module_version": "1.2.0",
            "_view_name": "StyleView",
            "bar_color": null,
            "description_width": ""
          }
        },
        "92e9558baf6b4d36b723ab5c417f4b0e": {
          "model_module": "@jupyter-widgets/base",
          "model_module_version": "1.2.0",
          "model_name": "LayoutModel",
          "state": {
            "_model_module": "@jupyter-widgets/base",
            "_model_module_version": "1.2.0",
            "_model_name": "LayoutModel",
            "_view_count": null,
            "_view_module": "@jupyter-widgets/base",
            "_view_module_version": "1.2.0",
            "_view_name": "LayoutView",
            "align_content": null,
            "align_items": null,
            "align_self": null,
            "border": null,
            "bottom": null,
            "display": null,
            "flex": null,
            "flex_flow": null,
            "grid_area": null,
            "grid_auto_columns": null,
            "grid_auto_flow": null,
            "grid_auto_rows": null,
            "grid_column": null,
            "grid_gap": null,
            "grid_row": null,
            "grid_template_areas": null,
            "grid_template_columns": null,
            "grid_template_rows": null,
            "height": null,
            "justify_content": null,
            "justify_items": null,
            "left": null,
            "margin": null,
            "max_height": null,
            "max_width": null,
            "min_height": null,
            "min_width": null,
            "object_fit": null,
            "object_position": null,
            "order": null,
            "overflow": null,
            "overflow_x": null,
            "overflow_y": null,
            "padding": null,
            "right": null,
            "top": null,
            "visibility": null,
            "width": null
          }
        },
        "d17f37f4f6c7480ca75c323d1ed614bf": {
          "model_module": "@jupyter-widgets/controls",
          "model_module_version": "1.5.0",
          "model_name": "HBoxModel",
          "state": {
            "_dom_classes": [],
            "_model_module": "@jupyter-widgets/controls",
            "_model_module_version": "1.5.0",
            "_model_name": "HBoxModel",
            "_view_count": null,
            "_view_module": "@jupyter-widgets/controls",
            "_view_module_version": "1.5.0",
            "_view_name": "HBoxView",
            "box_style": "",
            "children": [
              "IPY_MODEL_fb386e704567473a892060d7152a4195",
              "IPY_MODEL_6b0bd0116f10474da754745ff2d60bab",
              "IPY_MODEL_441661ea0ed24894a2f728ae350785f5"
            ],
            "layout": "IPY_MODEL_da3b280d6a794d248a4cdea02a21415a"
          }
        },
        "da3b280d6a794d248a4cdea02a21415a": {
          "model_module": "@jupyter-widgets/base",
          "model_module_version": "1.2.0",
          "model_name": "LayoutModel",
          "state": {
            "_model_module": "@jupyter-widgets/base",
            "_model_module_version": "1.2.0",
            "_model_name": "LayoutModel",
            "_view_count": null,
            "_view_module": "@jupyter-widgets/base",
            "_view_module_version": "1.2.0",
            "_view_name": "LayoutView",
            "align_content": null,
            "align_items": null,
            "align_self": null,
            "border": null,
            "bottom": null,
            "display": null,
            "flex": null,
            "flex_flow": null,
            "grid_area": null,
            "grid_auto_columns": null,
            "grid_auto_flow": null,
            "grid_auto_rows": null,
            "grid_column": null,
            "grid_gap": null,
            "grid_row": null,
            "grid_template_areas": null,
            "grid_template_columns": null,
            "grid_template_rows": null,
            "height": null,
            "justify_content": null,
            "justify_items": null,
            "left": null,
            "margin": null,
            "max_height": null,
            "max_width": null,
            "min_height": null,
            "min_width": null,
            "object_fit": null,
            "object_position": null,
            "order": null,
            "overflow": null,
            "overflow_x": null,
            "overflow_y": null,
            "padding": null,
            "right": null,
            "top": null,
            "visibility": null,
            "width": null
          }
        },
        "fb386e704567473a892060d7152a4195": {
          "model_module": "@jupyter-widgets/controls",
          "model_module_version": "1.5.0",
          "model_name": "HTMLModel",
          "state": {
            "_dom_classes": [],
            "_model_module": "@jupyter-widgets/controls",
            "_model_module_version": "1.5.0",
            "_model_name": "HTMLModel",
            "_view_count": null,
            "_view_module": "@jupyter-widgets/controls",
            "_view_module_version": "1.5.0",
            "_view_name": "HTMLView",
            "description": "",
            "description_tooltip": null,
            "layout": "IPY_MODEL_7dc446a5913648be9748f8c728987d5e",
            "placeholder": "​",
            "style": "IPY_MODEL_75cb894b671d484b8feb359d9c99e57a",
            "value": "100%"
          }
        }
      }
    }
  },
  "nbformat": 4,
  "nbformat_minor": 0
}
