{
  "nbformat": 4,
  "nbformat_minor": 0,
  "metadata": {
    "colab": {
      "provenance": [],
      "authorship_tag": "ABX9TyNMckMOo//M+rYSjiyAGz5r",
      "include_colab_link": true
    },
    "kernelspec": {
      "name": "python3",
      "display_name": "Python 3"
    },
    "language_info": {
      "name": "python"
    },
    "accelerator": "GPU",
    "gpuClass": "standard",
    "widgets": {
      "application/vnd.jupyter.widget-state+json": {
        "9bd8f62c5f3c403c9f3e77e8fda6a9da": {
          "model_module": "@jupyter-widgets/controls",
          "model_name": "HBoxModel",
          "model_module_version": "1.5.0",
          "state": {
            "_dom_classes": [],
            "_model_module": "@jupyter-widgets/controls",
            "_model_module_version": "1.5.0",
            "_model_name": "HBoxModel",
            "_view_count": null,
            "_view_module": "@jupyter-widgets/controls",
            "_view_module_version": "1.5.0",
            "_view_name": "HBoxView",
            "box_style": "",
            "children": [
              "IPY_MODEL_ca089f60ebc04e50b632ee1fedd86b58",
              "IPY_MODEL_31bf6abfadcf4a568917e3bead37e6cf",
              "IPY_MODEL_6d71ad5179ec4d999f3072ca52dd5377"
            ],
            "layout": "IPY_MODEL_63a7cbc566b743babeaa2f9354636683"
          }
        },
        "ca089f60ebc04e50b632ee1fedd86b58": {
          "model_module": "@jupyter-widgets/controls",
          "model_name": "HTMLModel",
          "model_module_version": "1.5.0",
          "state": {
            "_dom_classes": [],
            "_model_module": "@jupyter-widgets/controls",
            "_model_module_version": "1.5.0",
            "_model_name": "HTMLModel",
            "_view_count": null,
            "_view_module": "@jupyter-widgets/controls",
            "_view_module_version": "1.5.0",
            "_view_name": "HTMLView",
            "description": "",
            "description_tooltip": null,
            "layout": "IPY_MODEL_13baa667ab0f4a4fb5211742d1b3d2be",
            "placeholder": "​",
            "style": "IPY_MODEL_f118daf08806487fb24d1370604f6d8c",
            "value": " 80%"
          }
        },
        "31bf6abfadcf4a568917e3bead37e6cf": {
          "model_module": "@jupyter-widgets/controls",
          "model_name": "FloatProgressModel",
          "model_module_version": "1.5.0",
          "state": {
            "_dom_classes": [],
            "_model_module": "@jupyter-widgets/controls",
            "_model_module_version": "1.5.0",
            "_model_name": "FloatProgressModel",
            "_view_count": null,
            "_view_module": "@jupyter-widgets/controls",
            "_view_module_version": "1.5.0",
            "_view_name": "ProgressView",
            "bar_style": "danger",
            "description": "",
            "description_tooltip": null,
            "layout": "IPY_MODEL_36374b0bd5674fe58f52d5a513c660b8",
            "max": 20,
            "min": 0,
            "orientation": "horizontal",
            "style": "IPY_MODEL_5fc956ab8562447288627087861c1e1f",
            "value": 16
          }
        },
        "6d71ad5179ec4d999f3072ca52dd5377": {
          "model_module": "@jupyter-widgets/controls",
          "model_name": "HTMLModel",
          "model_module_version": "1.5.0",
          "state": {
            "_dom_classes": [],
            "_model_module": "@jupyter-widgets/controls",
            "_model_module_version": "1.5.0",
            "_model_name": "HTMLModel",
            "_view_count": null,
            "_view_module": "@jupyter-widgets/controls",
            "_view_module_version": "1.5.0",
            "_view_name": "HTMLView",
            "description": "",
            "description_tooltip": null,
            "layout": "IPY_MODEL_5755f212bad84a3ba0b8382f0982466e",
            "placeholder": "​",
            "style": "IPY_MODEL_25950ef906b74916863e1f729ccff0b8",
            "value": " 16/20 [03:32&lt;00:51, 12.83s/it]"
          }
        },
        "63a7cbc566b743babeaa2f9354636683": {
          "model_module": "@jupyter-widgets/base",
          "model_name": "LayoutModel",
          "model_module_version": "1.2.0",
          "state": {
            "_model_module": "@jupyter-widgets/base",
            "_model_module_version": "1.2.0",
            "_model_name": "LayoutModel",
            "_view_count": null,
            "_view_module": "@jupyter-widgets/base",
            "_view_module_version": "1.2.0",
            "_view_name": "LayoutView",
            "align_content": null,
            "align_items": null,
            "align_self": null,
            "border": null,
            "bottom": null,
            "display": null,
            "flex": null,
            "flex_flow": null,
            "grid_area": null,
            "grid_auto_columns": null,
            "grid_auto_flow": null,
            "grid_auto_rows": null,
            "grid_column": null,
            "grid_gap": null,
            "grid_row": null,
            "grid_template_areas": null,
            "grid_template_columns": null,
            "grid_template_rows": null,
            "height": null,
            "justify_content": null,
            "justify_items": null,
            "left": null,
            "margin": null,
            "max_height": null,
            "max_width": null,
            "min_height": null,
            "min_width": null,
            "object_fit": null,
            "object_position": null,
            "order": null,
            "overflow": null,
            "overflow_x": null,
            "overflow_y": null,
            "padding": null,
            "right": null,
            "top": null,
            "visibility": null,
            "width": null
          }
        },
        "13baa667ab0f4a4fb5211742d1b3d2be": {
          "model_module": "@jupyter-widgets/base",
          "model_name": "LayoutModel",
          "model_module_version": "1.2.0",
          "state": {
            "_model_module": "@jupyter-widgets/base",
            "_model_module_version": "1.2.0",
            "_model_name": "LayoutModel",
            "_view_count": null,
            "_view_module": "@jupyter-widgets/base",
            "_view_module_version": "1.2.0",
            "_view_name": "LayoutView",
            "align_content": null,
            "align_items": null,
            "align_self": null,
            "border": null,
            "bottom": null,
            "display": null,
            "flex": null,
            "flex_flow": null,
            "grid_area": null,
            "grid_auto_columns": null,
            "grid_auto_flow": null,
            "grid_auto_rows": null,
            "grid_column": null,
            "grid_gap": null,
            "grid_row": null,
            "grid_template_areas": null,
            "grid_template_columns": null,
            "grid_template_rows": null,
            "height": null,
            "justify_content": null,
            "justify_items": null,
            "left": null,
            "margin": null,
            "max_height": null,
            "max_width": null,
            "min_height": null,
            "min_width": null,
            "object_fit": null,
            "object_position": null,
            "order": null,
            "overflow": null,
            "overflow_x": null,
            "overflow_y": null,
            "padding": null,
            "right": null,
            "top": null,
            "visibility": null,
            "width": null
          }
        },
        "f118daf08806487fb24d1370604f6d8c": {
          "model_module": "@jupyter-widgets/controls",
          "model_name": "DescriptionStyleModel",
          "model_module_version": "1.5.0",
          "state": {
            "_model_module": "@jupyter-widgets/controls",
            "_model_module_version": "1.5.0",
            "_model_name": "DescriptionStyleModel",
            "_view_count": null,
            "_view_module": "@jupyter-widgets/base",
            "_view_module_version": "1.2.0",
            "_view_name": "StyleView",
            "description_width": ""
          }
        },
        "36374b0bd5674fe58f52d5a513c660b8": {
          "model_module": "@jupyter-widgets/base",
          "model_name": "LayoutModel",
          "model_module_version": "1.2.0",
          "state": {
            "_model_module": "@jupyter-widgets/base",
            "_model_module_version": "1.2.0",
            "_model_name": "LayoutModel",
            "_view_count": null,
            "_view_module": "@jupyter-widgets/base",
            "_view_module_version": "1.2.0",
            "_view_name": "LayoutView",
            "align_content": null,
            "align_items": null,
            "align_self": null,
            "border": null,
            "bottom": null,
            "display": null,
            "flex": null,
            "flex_flow": null,
            "grid_area": null,
            "grid_auto_columns": null,
            "grid_auto_flow": null,
            "grid_auto_rows": null,
            "grid_column": null,
            "grid_gap": null,
            "grid_row": null,
            "grid_template_areas": null,
            "grid_template_columns": null,
            "grid_template_rows": null,
            "height": null,
            "justify_content": null,
            "justify_items": null,
            "left": null,
            "margin": null,
            "max_height": null,
            "max_width": null,
            "min_height": null,
            "min_width": null,
            "object_fit": null,
            "object_position": null,
            "order": null,
            "overflow": null,
            "overflow_x": null,
            "overflow_y": null,
            "padding": null,
            "right": null,
            "top": null,
            "visibility": null,
            "width": null
          }
        },
        "5fc956ab8562447288627087861c1e1f": {
          "model_module": "@jupyter-widgets/controls",
          "model_name": "ProgressStyleModel",
          "model_module_version": "1.5.0",
          "state": {
            "_model_module": "@jupyter-widgets/controls",
            "_model_module_version": "1.5.0",
            "_model_name": "ProgressStyleModel",
            "_view_count": null,
            "_view_module": "@jupyter-widgets/base",
            "_view_module_version": "1.2.0",
            "_view_name": "StyleView",
            "bar_color": null,
            "description_width": ""
          }
        },
        "5755f212bad84a3ba0b8382f0982466e": {
          "model_module": "@jupyter-widgets/base",
          "model_name": "LayoutModel",
          "model_module_version": "1.2.0",
          "state": {
            "_model_module": "@jupyter-widgets/base",
            "_model_module_version": "1.2.0",
            "_model_name": "LayoutModel",
            "_view_count": null,
            "_view_module": "@jupyter-widgets/base",
            "_view_module_version": "1.2.0",
            "_view_name": "LayoutView",
            "align_content": null,
            "align_items": null,
            "align_self": null,
            "border": null,
            "bottom": null,
            "display": null,
            "flex": null,
            "flex_flow": null,
            "grid_area": null,
            "grid_auto_columns": null,
            "grid_auto_flow": null,
            "grid_auto_rows": null,
            "grid_column": null,
            "grid_gap": null,
            "grid_row": null,
            "grid_template_areas": null,
            "grid_template_columns": null,
            "grid_template_rows": null,
            "height": null,
            "justify_content": null,
            "justify_items": null,
            "left": null,
            "margin": null,
            "max_height": null,
            "max_width": null,
            "min_height": null,
            "min_width": null,
            "object_fit": null,
            "object_position": null,
            "order": null,
            "overflow": null,
            "overflow_x": null,
            "overflow_y": null,
            "padding": null,
            "right": null,
            "top": null,
            "visibility": null,
            "width": null
          }
        },
        "25950ef906b74916863e1f729ccff0b8": {
          "model_module": "@jupyter-widgets/controls",
          "model_name": "DescriptionStyleModel",
          "model_module_version": "1.5.0",
          "state": {
            "_model_module": "@jupyter-widgets/controls",
            "_model_module_version": "1.5.0",
            "_model_name": "DescriptionStyleModel",
            "_view_count": null,
            "_view_module": "@jupyter-widgets/base",
            "_view_module_version": "1.2.0",
            "_view_name": "StyleView",
            "description_width": ""
          }
        }
      }
    }
  },
  "cells": [
    {
      "cell_type": "markdown",
      "metadata": {
        "id": "view-in-github",
        "colab_type": "text"
      },
      "source": [
        "<a href=\"https://colab.research.google.com/github/AhamedShimak/pytorch/blob/main/computer_vision_cnn_code_along.ipynb\" target=\"_parent\"><img src=\"https://colab.research.google.com/assets/colab-badge.svg\" alt=\"Open In Colab\"/></a>"
      ]
    },
    {
      "cell_type": "markdown",
      "source": [
        "## IMPORT AND MY DEFINED FUNCTIONS"
      ],
      "metadata": {
        "id": "n7Gn_JhaG7dY"
      }
    },
    {
      "cell_type": "markdown",
      "source": [
        "### Imports"
      ],
      "metadata": {
        "id": "Glqkeh5CHfl-"
      }
    },
    {
      "cell_type": "code",
      "source": [
        "import torch\n",
        "from torch import nn\n",
        "import pandas as pd\n",
        "import numpy as np\n",
        "import matplotlib.pyplot as plt\n",
        "\n",
        "from torchvision import transforms\n",
        "from torch.utils.data import Dataset\n",
        "from torch.utils.data import DataLoader\n",
        "from torchvision import datasets\n",
        "\n",
        "\n",
        "import sklearn\n",
        "from sklearn.model_selection import train_test_split"
      ],
      "metadata": {
        "id": "fQb72sHRBxT6"
      },
      "execution_count": 135,
      "outputs": []
    },
    {
      "cell_type": "markdown",
      "source": [
        "###My functions"
      ],
      "metadata": {
        "id": "8zKnh3Aga-W_"
      }
    },
    {
      "cell_type": "code",
      "source": [
        "import torch\n",
        "def details(tensor):\n",
        "  print(\"\")\n",
        "  print(\"Shape: \",tensor.shape)\n",
        "  print(\"Dimentions: \",tensor.ndim)\n",
        "  print(\"###########\")\n",
        "  print(tensor)\n",
        "  print(\"###########\")\n",
        "  print(\"Tensor Data type: \",tensor.dtype)\n",
        "  print(\"Device: \",tensor.device)\n",
        "  print(\"\")\n",
        "\n",
        "def details_plot(train_data, \n",
        "                     train_labels, \n",
        "                     test_data, \n",
        "                     test_labels,\n",
        "                     predictions=None):\n",
        "  \"\"\"\n",
        "  Plots training data, test data and compares predictions.\n",
        "  \"\"\"\n",
        "  plt.figure(figsize=(10, 7))\n",
        "\n",
        "  # Plot training data in blue\n",
        "  plt.scatter(train_data, train_labels, c=\"b\", s=4, label=\"Training data\")\n",
        "  \n",
        "  # Plot test data in green\n",
        "  plt.scatter(test_data, test_labels, c=\"g\", s=4, label=\"Testing data\")\n",
        "\n",
        "  if predictions is not None:\n",
        "    # Plot the predictions in red (predictions were made on the test data)\n",
        "    plt.scatter(test_data, predictions, c=\"r\", s=4, label=\"Predictions\")\n",
        "\n",
        "  # Show the legend\n",
        "  plt.legend(prop={\"size\": 14});\n",
        "\n",
        "def details_loss_curve(epochs,train_loss_track,test_loss_track):\n",
        "  #loss curve\n",
        "  plt.figure(figsize=(8,8))\n",
        "  plt.title(\"Loss curve\")\n",
        "  plt.xlabel(\"Epochs\")\n",
        "  plt.ylabel(\"Loss\")\n",
        "  plt.plot(epochs,train_loss_track,label=\"Train loss\")\n",
        "  plt.plot(epochs,test_loss_track,label=\"Test loss\")\n",
        "  plt.legend(prop={\"size\": 14})\n",
        "\n",
        "import torch\n",
        "def details(tensor):\n",
        "  print(\"\")\n",
        "  print(\"Shape: \",tensor.shape)\n",
        "  print(\"Dimentions: \",tensor.ndim)\n",
        "  print(\"###########\")\n",
        "  print(tensor)\n",
        "  print(\"###########\")\n",
        "  print(\"Tensor Data type: \",tensor.dtype)\n",
        "  print(\"Device: \",tensor.device)\n",
        "  print(\"\")\n",
        "\n",
        "def details_plot(train_data, \n",
        "                     train_labels, \n",
        "                     test_data, \n",
        "                     test_labels,\n",
        "                     predictions=None):\n",
        "  \"\"\"\n",
        "  Plots training data, test data and compares predictions.\n",
        "  \"\"\"\n",
        "  plt.figure(figsize=(10, 7))\n",
        "\n",
        "  # Plot training data in blue\n",
        "  plt.scatter(train_data, train_labels, c=\"b\", s=4, label=\"Training data\")\n",
        "  \n",
        "  # Plot test data in green\n",
        "  plt.scatter(test_data, test_labels, c=\"g\", s=4, label=\"Testing data\")\n",
        "\n",
        "  if predictions is not None:\n",
        "    # Plot the predictions in red (predictions were made on the test data)\n",
        "    plt.scatter(test_data, predictions, c=\"r\", s=4, label=\"Predictions\")\n",
        "\n",
        "  # Show the legend\n",
        "  plt.legend(prop={\"size\": 14});\n",
        "\n",
        "\n",
        "\n",
        "def accu(y_pred,y_test):\n",
        "  correct=torch.eq(y_pred,y_test).sum().item()\n",
        "  accuracy=(correct/len(y_test))*100\n",
        "  return accuracy\n",
        "\n",
        "def details_plot_scatter(x_train, x_test, y_train, y_test,\n",
        "                     predictions=None):\n",
        "  \"\"\"\n",
        "  Plots training data, test data and compares predictions.\n",
        "  \"\"\"\n",
        "  plt.figure(figsize=(10, 7))\n",
        "  plt.scatter(x_train[:,0],x_train[:,1],c=y_train,cmap=plt.cm.BrBG, s=4, label=\"Training data\")\n",
        "  plt.scatter(x_test[:,0],x_test[:,1],c=y_test, s=60, label=\"Test data\")\n",
        "  plt.legend(prop={\"size\": 14});\n",
        "  if predictions is not None:\n",
        "    # Plot the predictions in red (predictions were made on the test data)\n",
        "    plt.scatter(x_test[:,0],x_test[:,1],c=predictions, s=20, label=\"Prediction\")\n",
        "\n",
        "  # Show the legend\n",
        "  plt.legend(prop={\"size\": 14});"
      ],
      "metadata": {
        "id": "aYgYxCDHbBTO"
      },
      "execution_count": 136,
      "outputs": []
    },
    {
      "cell_type": "markdown",
      "source": [
        "###GPU"
      ],
      "metadata": {
        "id": "sMRYymjLIGWp"
      }
    },
    {
      "cell_type": "code",
      "source": [
        "!nvidia-smi\n",
        "print(torch.cuda.is_available())\n",
        "#setup device agnostic code\n",
        "device=\"cuda\" if torch.cuda.is_available() else \"cpu\"\n",
        "print(device)"
      ],
      "metadata": {
        "colab": {
          "base_uri": "https://localhost:8080/"
        },
        "id": "7nw_wfJXIIs0",
        "outputId": "b771f6fe-a127-4dc4-835d-105311ded218"
      },
      "execution_count": 137,
      "outputs": [
        {
          "output_type": "stream",
          "name": "stdout",
          "text": [
            "Wed Apr 26 13:12:53 2023       \n",
            "+-----------------------------------------------------------------------------+\n",
            "| NVIDIA-SMI 525.85.12    Driver Version: 525.85.12    CUDA Version: 12.0     |\n",
            "|-------------------------------+----------------------+----------------------+\n",
            "| GPU  Name        Persistence-M| Bus-Id        Disp.A | Volatile Uncorr. ECC |\n",
            "| Fan  Temp  Perf  Pwr:Usage/Cap|         Memory-Usage | GPU-Util  Compute M. |\n",
            "|                               |                      |               MIG M. |\n",
            "|===============================+======================+======================|\n",
            "|   0  Tesla T4            Off  | 00000000:00:04.0 Off |                    0 |\n",
            "| N/A   41C    P8     9W /  70W |      3MiB / 15360MiB |      0%      Default |\n",
            "|                               |                      |                  N/A |\n",
            "+-------------------------------+----------------------+----------------------+\n",
            "                                                                               \n",
            "+-----------------------------------------------------------------------------+\n",
            "| Processes:                                                                  |\n",
            "|  GPU   GI   CI        PID   Type   Process name                  GPU Memory |\n",
            "|        ID   ID                                                   Usage      |\n",
            "|=============================================================================|\n",
            "|  No running processes found                                                 |\n",
            "+-----------------------------------------------------------------------------+\n",
            "True\n",
            "cuda\n"
          ]
        }
      ]
    },
    {
      "cell_type": "markdown",
      "source": [
        "##DATA PROCESS \n"
      ],
      "metadata": {
        "id": "ptqUbYftO67F"
      }
    },
    {
      "cell_type": "markdown",
      "source": [
        "ex- tensor data-> x_train,y_train,x_test,y_test\n"
      ],
      "metadata": {
        "id": "oMw_nOmGLh5O"
      }
    },
    {
      "cell_type": "code",
      "source": [
        "# create data\n",
        "\n",
        "train=datasets.FashionMNIST(\n",
        "    root=\"Data\",\n",
        "    train=True,\n",
        "    transform=transforms.ToTensor(),\n",
        "    download=True\n",
        ")\n",
        "test=datasets.FashionMNIST(\n",
        "    root=\"Data_test\",\n",
        "    train=False,\n",
        "    transform=transforms.ToTensor(),\n",
        "    download=True\n",
        ")\n",
        "#weight and bias\n",
        "\n",
        "  #######to prevent mat multiplication error   .unsqueeze(dim=1)\n"
      ],
      "metadata": {
        "id": "Khi062A2O-_5"
      },
      "execution_count": 138,
      "outputs": []
    },
    {
      "cell_type": "code",
      "source": [
        "details(train.data[0])"
      ],
      "metadata": {
        "colab": {
          "base_uri": "https://localhost:8080/"
        },
        "id": "eeO0hiCMI6l5",
        "outputId": "5f7ac9c4-284a-41cc-b29a-8bae130966c2"
      },
      "execution_count": 139,
      "outputs": [
        {
          "output_type": "stream",
          "name": "stdout",
          "text": [
            "\n",
            "Shape:  torch.Size([28, 28])\n",
            "Dimentions:  2\n",
            "###########\n",
            "tensor([[  0,   0,   0,   0,   0,   0,   0,   0,   0,   0,   0,   0,   0,   0,\n",
            "           0,   0,   0,   0,   0,   0,   0,   0,   0,   0,   0,   0,   0,   0],\n",
            "        [  0,   0,   0,   0,   0,   0,   0,   0,   0,   0,   0,   0,   0,   0,\n",
            "           0,   0,   0,   0,   0,   0,   0,   0,   0,   0,   0,   0,   0,   0],\n",
            "        [  0,   0,   0,   0,   0,   0,   0,   0,   0,   0,   0,   0,   0,   0,\n",
            "           0,   0,   0,   0,   0,   0,   0,   0,   0,   0,   0,   0,   0,   0],\n",
            "        [  0,   0,   0,   0,   0,   0,   0,   0,   0,   0,   0,   0,   1,   0,\n",
            "           0,  13,  73,   0,   0,   1,   4,   0,   0,   0,   0,   1,   1,   0],\n",
            "        [  0,   0,   0,   0,   0,   0,   0,   0,   0,   0,   0,   0,   3,   0,\n",
            "          36, 136, 127,  62,  54,   0,   0,   0,   1,   3,   4,   0,   0,   3],\n",
            "        [  0,   0,   0,   0,   0,   0,   0,   0,   0,   0,   0,   0,   6,   0,\n",
            "         102, 204, 176, 134, 144, 123,  23,   0,   0,   0,   0,  12,  10,   0],\n",
            "        [  0,   0,   0,   0,   0,   0,   0,   0,   0,   0,   0,   0,   0,   0,\n",
            "         155, 236, 207, 178, 107, 156, 161, 109,  64,  23,  77, 130,  72,  15],\n",
            "        [  0,   0,   0,   0,   0,   0,   0,   0,   0,   0,   0,   1,   0,  69,\n",
            "         207, 223, 218, 216, 216, 163, 127, 121, 122, 146, 141,  88, 172,  66],\n",
            "        [  0,   0,   0,   0,   0,   0,   0,   0,   0,   1,   1,   1,   0, 200,\n",
            "         232, 232, 233, 229, 223, 223, 215, 213, 164, 127, 123, 196, 229,   0],\n",
            "        [  0,   0,   0,   0,   0,   0,   0,   0,   0,   0,   0,   0,   0, 183,\n",
            "         225, 216, 223, 228, 235, 227, 224, 222, 224, 221, 223, 245, 173,   0],\n",
            "        [  0,   0,   0,   0,   0,   0,   0,   0,   0,   0,   0,   0,   0, 193,\n",
            "         228, 218, 213, 198, 180, 212, 210, 211, 213, 223, 220, 243, 202,   0],\n",
            "        [  0,   0,   0,   0,   0,   0,   0,   0,   0,   1,   3,   0,  12, 219,\n",
            "         220, 212, 218, 192, 169, 227, 208, 218, 224, 212, 226, 197, 209,  52],\n",
            "        [  0,   0,   0,   0,   0,   0,   0,   0,   0,   0,   6,   0,  99, 244,\n",
            "         222, 220, 218, 203, 198, 221, 215, 213, 222, 220, 245, 119, 167,  56],\n",
            "        [  0,   0,   0,   0,   0,   0,   0,   0,   0,   4,   0,   0,  55, 236,\n",
            "         228, 230, 228, 240, 232, 213, 218, 223, 234, 217, 217, 209,  92,   0],\n",
            "        [  0,   0,   1,   4,   6,   7,   2,   0,   0,   0,   0,   0, 237, 226,\n",
            "         217, 223, 222, 219, 222, 221, 216, 223, 229, 215, 218, 255,  77,   0],\n",
            "        [  0,   3,   0,   0,   0,   0,   0,   0,   0,  62, 145, 204, 228, 207,\n",
            "         213, 221, 218, 208, 211, 218, 224, 223, 219, 215, 224, 244, 159,   0],\n",
            "        [  0,   0,   0,   0,  18,  44,  82, 107, 189, 228, 220, 222, 217, 226,\n",
            "         200, 205, 211, 230, 224, 234, 176, 188, 250, 248, 233, 238, 215,   0],\n",
            "        [  0,  57, 187, 208, 224, 221, 224, 208, 204, 214, 208, 209, 200, 159,\n",
            "         245, 193, 206, 223, 255, 255, 221, 234, 221, 211, 220, 232, 246,   0],\n",
            "        [  3, 202, 228, 224, 221, 211, 211, 214, 205, 205, 205, 220, 240,  80,\n",
            "         150, 255, 229, 221, 188, 154, 191, 210, 204, 209, 222, 228, 225,   0],\n",
            "        [ 98, 233, 198, 210, 222, 229, 229, 234, 249, 220, 194, 215, 217, 241,\n",
            "          65,  73, 106, 117, 168, 219, 221, 215, 217, 223, 223, 224, 229,  29],\n",
            "        [ 75, 204, 212, 204, 193, 205, 211, 225, 216, 185, 197, 206, 198, 213,\n",
            "         240, 195, 227, 245, 239, 223, 218, 212, 209, 222, 220, 221, 230,  67],\n",
            "        [ 48, 203, 183, 194, 213, 197, 185, 190, 194, 192, 202, 214, 219, 221,\n",
            "         220, 236, 225, 216, 199, 206, 186, 181, 177, 172, 181, 205, 206, 115],\n",
            "        [  0, 122, 219, 193, 179, 171, 183, 196, 204, 210, 213, 207, 211, 210,\n",
            "         200, 196, 194, 191, 195, 191, 198, 192, 176, 156, 167, 177, 210,  92],\n",
            "        [  0,   0,  74, 189, 212, 191, 175, 172, 175, 181, 185, 188, 189, 188,\n",
            "         193, 198, 204, 209, 210, 210, 211, 188, 188, 194, 192, 216, 170,   0],\n",
            "        [  2,   0,   0,   0,  66, 200, 222, 237, 239, 242, 246, 243, 244, 221,\n",
            "         220, 193, 191, 179, 182, 182, 181, 176, 166, 168,  99,  58,   0,   0],\n",
            "        [  0,   0,   0,   0,   0,   0,   0,  40,  61,  44,  72,  41,  35,   0,\n",
            "           0,   0,   0,   0,   0,   0,   0,   0,   0,   0,   0,   0,   0,   0],\n",
            "        [  0,   0,   0,   0,   0,   0,   0,   0,   0,   0,   0,   0,   0,   0,\n",
            "           0,   0,   0,   0,   0,   0,   0,   0,   0,   0,   0,   0,   0,   0],\n",
            "        [  0,   0,   0,   0,   0,   0,   0,   0,   0,   0,   0,   0,   0,   0,\n",
            "           0,   0,   0,   0,   0,   0,   0,   0,   0,   0,   0,   0,   0,   0]],\n",
            "       dtype=torch.uint8)\n",
            "###########\n",
            "Tensor Data type:  torch.uint8\n",
            "Device:  cpu\n",
            "\n"
          ]
        }
      ]
    },
    {
      "cell_type": "code",
      "source": [],
      "metadata": {
        "id": "AZ-1ksuRLJ-B"
      },
      "execution_count": 139,
      "outputs": []
    },
    {
      "cell_type": "code",
      "source": [
        "# create train/test split\n",
        "labels_map = {\n",
        "    0: \"T-Shirt\",\n",
        "    1: \"Trouser\",\n",
        "    2: \"Pullover\",\n",
        "    3: \"Dress\",\n",
        "    4: \"Coat\",\n",
        "    5: \"Sandal\",\n",
        "    6: \"Shirt\",\n",
        "    7: \"Sneaker\",\n",
        "    8: \"Bag\",\n",
        "    9: \"Ankle Boot\",\n",
        "}\n",
        "for i in range(9):\n",
        "  img,label=train[i]\n",
        "  plt.figure(figsize=(8,8)).add_subplot(3,3,i+1)\n",
        "  plt.imshow(img.squeeze())\n",
        "  plt.title(labels_map[label])\n",
        "  plt.axis(\"off\")\n",
        "  "
      ],
      "metadata": {
        "id": "SGZ3v5LHPG_A",
        "colab": {
          "base_uri": "https://localhost:8080/",
          "height": 1000
        },
        "outputId": "d78ca7c1-bd29-49a1-d10b-378c2c03e7d9"
      },
      "execution_count": 140,
      "outputs": [
        {
          "output_type": "display_data",
          "data": {
            "text/plain": [
              "<Figure size 800x800 with 1 Axes>"
            ],
            "image/png": "[encoded data removed]"
          },
          "metadata": {}
        },
        {
          "output_type": "display_data",
          "data": {
            "text/plain": [
              "<Figure size 800x800 with 1 Axes>"
            ],
            "image/png": "[encoded data removed]"
          },
          "metadata": {}
        },
        {
          "output_type": "display_data",
          "data": {
            "text/plain": [
              "<Figure size 800x800 with 1 Axes>"
            ],
            "image/png": "[encoded data removed]"
          },
          "metadata": {}
        },
        {
          "output_type": "display_data",
          "data": {
            "text/plain": [
              "<Figure size 800x800 with 1 Axes>"
            ],
            "image/png": "[encoded data removed]"
          },
          "metadata": {}
        },
        {
          "output_type": "display_data",
          "data": {
            "text/plain": [
              "<Figure size 800x800 with 1 Axes>"
            ],
            "image/png": "[encoded data removed]"
          },
          "metadata": {}
        },
        {
          "output_type": "display_data",
          "data": {
            "text/plain": [
              "<Figure size 800x800 with 1 Axes>"
            ],
            "image/png": "[encoded data removed]"
          },
          "metadata": {}
        },
        {
          "output_type": "display_data",
          "data": {
            "text/plain": [
              "<Figure size 800x800 with 1 Axes>"
            ],
            "image/png": "[encoded data removed]"
          },
          "metadata": {}
        },
        {
          "output_type": "display_data",
          "data": {
            "text/plain": [
              "<Figure size 800x800 with 1 Axes>"
            ],
            "image/png": "[encoded data removed]"
          },
          "metadata": {}
        },
        {
          "output_type": "display_data",
          "data": {
            "text/plain": [
              "<Figure size 800x800 with 1 Axes>"
            ],
            "image/png": "[encoded data removed]"
          },
          "metadata": {}
        }
      ]
    },
    {
      "cell_type": "code",
      "source": [
        "#data_loader\n",
        "torch.manual_seed(23)\n",
        "train_dataloader = DataLoader(train, batch_size=32, shuffle=True)\n",
        "test_dataloader = DataLoader(test, batch_size=32, shuffle=False)\n",
        "\n",
        "len(train_dataloader),len(test_dataloader)"
      ],
      "metadata": {
        "id": "Ju3JoT5WP-V7",
        "colab": {
          "base_uri": "https://localhost:8080/"
        },
        "outputId": "e1ded5ef-538f-48e2-fc51-35500e7196d9"
      },
      "execution_count": 156,
      "outputs": [
        {
          "output_type": "execute_result",
          "data": {
            "text/plain": [
              "(1875, 313)"
            ]
          },
          "metadata": {},
          "execution_count": 156
        }
      ]
    },
    {
      "cell_type": "code",
      "source": [
        "x_train_b_sample,y_train_b_sample=next(iter(train_dataloader))\n",
        "details(x_train_b_sample),details(y_train_b_sample)\n",
        "\n",
        "plt.imshow(x_train_b_sample[0].squeeze())\n",
        "plt.title(labels_map[y_train_b_sample[0].item()])"
      ],
      "metadata": {
        "colab": {
          "base_uri": "https://localhost:8080/",
          "height": 1000
        },
        "id": "lmmYFPxjPdqx",
        "outputId": "3d74196a-f7e1-4e45-bbf3-b212f3f6ebb3"
      },
      "execution_count": 142,
      "outputs": [
        {
          "output_type": "stream",
          "name": "stdout",
          "text": [
            "\n",
            "Shape:  torch.Size([32, 1, 28, 28])\n",
            "Dimentions:  4\n",
            "###########\n",
            "tensor([[[[0.0000, 0.0000, 0.0000,  ..., 0.0000, 0.0000, 0.0000],\n",
            "          [0.0000, 0.0000, 0.0000,  ..., 0.0000, 0.0000, 0.0000],\n",
            "          [0.0000, 0.0000, 0.0000,  ..., 0.0000, 0.0000, 0.0000],\n",
            "          ...,\n",
            "          [0.0000, 0.0000, 0.0000,  ..., 0.0000, 0.0000, 0.0000],\n",
            "          [0.0000, 0.0000, 0.0000,  ..., 0.0000, 0.0000, 0.0000],\n",
            "          [0.0000, 0.0000, 0.0000,  ..., 0.0000, 0.0000, 0.0000]]],\n",
            "\n",
            "\n",
            "        [[[0.0000, 0.0000, 0.0000,  ..., 0.0000, 0.0000, 0.0000],\n",
            "          [0.0000, 0.0000, 0.0000,  ..., 0.0000, 0.0000, 0.0000],\n",
            "          [0.0000, 0.0000, 0.0000,  ..., 0.0000, 0.0000, 0.0000],\n",
            "          ...,\n",
            "          [0.0000, 0.0000, 0.0000,  ..., 0.2196, 0.0039, 0.0000],\n",
            "          [0.0000, 0.0000, 0.0000,  ..., 0.0000, 0.0000, 0.0000],\n",
            "          [0.0000, 0.0000, 0.0000,  ..., 0.0000, 0.0000, 0.0000]]],\n",
            "\n",
            "\n",
            "        [[[0.0000, 0.0000, 0.0000,  ..., 0.0000, 0.0000, 0.0000],\n",
            "          [0.0000, 0.0000, 0.0000,  ..., 0.0000, 0.0000, 0.0000],\n",
            "          [0.0000, 0.0000, 0.0000,  ..., 0.0000, 0.0000, 0.0000],\n",
            "          ...,\n",
            "          [0.0000, 0.0000, 0.0000,  ..., 0.0000, 0.0000, 0.0000],\n",
            "          [0.0000, 0.0000, 0.0000,  ..., 0.0000, 0.0000, 0.0000],\n",
            "          [0.0000, 0.0000, 0.0000,  ..., 0.0000, 0.0000, 0.0000]]],\n",
            "\n",
            "\n",
            "        ...,\n",
            "\n",
            "\n",
            "        [[[0.0000, 0.0000, 0.0000,  ..., 0.0000, 0.0000, 0.0000],\n",
            "          [0.0000, 0.0000, 0.0000,  ..., 0.0000, 0.0000, 0.0000],\n",
            "          [0.0000, 0.0000, 0.0000,  ..., 0.0039, 0.0000, 0.0000],\n",
            "          ...,\n",
            "          [0.0000, 0.1412, 0.7098,  ..., 0.7412, 0.8118, 0.0000],\n",
            "          [0.0000, 0.0000, 1.0000,  ..., 0.8980, 0.9529, 0.0000],\n",
            "          [0.0000, 0.0000, 0.1373,  ..., 0.7569, 0.1647, 0.0000]]],\n",
            "\n",
            "\n",
            "        [[[0.0000, 0.0000, 0.0000,  ..., 0.0000, 0.0000, 0.0000],\n",
            "          [0.0000, 0.0000, 0.0000,  ..., 0.0000, 0.0000, 0.0000],\n",
            "          [0.0000, 0.0000, 0.0000,  ..., 0.0000, 0.0000, 0.0000],\n",
            "          ...,\n",
            "          [0.0000, 0.0000, 0.0000,  ..., 0.0000, 0.0000, 0.0000],\n",
            "          [0.0000, 0.0000, 0.0000,  ..., 0.0000, 0.0000, 0.0000],\n",
            "          [0.0000, 0.0000, 0.0000,  ..., 0.0000, 0.0000, 0.0000]]],\n",
            "\n",
            "\n",
            "        [[[0.0000, 0.0000, 0.0000,  ..., 0.0000, 0.0000, 0.0000],\n",
            "          [0.0000, 0.0000, 0.0000,  ..., 0.0000, 0.0000, 0.0000],\n",
            "          [0.0000, 0.0000, 0.0000,  ..., 0.0000, 0.0000, 0.0000],\n",
            "          ...,\n",
            "          [0.0000, 0.0000, 0.0000,  ..., 0.0000, 0.0000, 0.0000],\n",
            "          [0.0000, 0.0000, 0.0000,  ..., 0.0000, 0.0000, 0.0000],\n",
            "          [0.0000, 0.0000, 0.0000,  ..., 0.0000, 0.0000, 0.0000]]]])\n",
            "###########\n",
            "Tensor Data type:  torch.float32\n",
            "Device:  cpu\n",
            "\n",
            "\n",
            "Shape:  torch.Size([32])\n",
            "Dimentions:  1\n",
            "###########\n",
            "tensor([0, 9, 3, 3, 1, 0, 2, 4, 3, 5, 7, 8, 1, 5, 6, 7, 4, 2, 2, 1, 3, 3, 8, 8,\n",
            "        9, 6, 4, 1, 9, 8, 3, 3])\n",
            "###########\n",
            "Tensor Data type:  torch.int64\n",
            "Device:  cpu\n",
            "\n"
          ]
        },
        {
          "output_type": "execute_result",
          "data": {
            "text/plain": [
              "Text(0.5, 1.0, 'T-Shirt')"
            ]
          },
          "metadata": {},
          "execution_count": 142
        },
        {
          "output_type": "display_data",
          "data": {
            "text/plain": [
              "<Figure size 640x480 with 1 Axes>"
            ],
            "image/png": "[encoded data removed]"
          },
          "metadata": {}
        }
      ]
    },
    {
      "cell_type": "markdown",
      "source": [
        "##BUILDING THE MODEL\n"
      ],
      "metadata": {
        "id": "Tto_QOOaQS7A"
      }
    },
    {
      "cell_type": "markdown",
      "source": [
        "tips\n",
        "1. torch.nn.find_suitable_loss\n",
        "2. torch.nn.Paramenter\n",
        "3. torch.nn.Module this is base class\n",
        "4. torch.optim - optimizer"
      ],
      "metadata": {
        "id": "Zxa0ngYiLY52"
      }
    },
    {
      "cell_type": "code",
      "source": [
        "#flattern layer\n",
        "details(x_train_b_sample)\n",
        "flattern=nn.Flatten()\n",
        "details(flattern(x_train_b_sample))"
      ],
      "metadata": {
        "colab": {
          "base_uri": "https://localhost:8080/"
        },
        "id": "yBTKGQGBVsby",
        "outputId": "da9e8d51-9bbf-4dcf-c7b4-edf94139c03e"
      },
      "execution_count": 143,
      "outputs": [
        {
          "output_type": "stream",
          "name": "stdout",
          "text": [
            "\n",
            "Shape:  torch.Size([32, 1, 28, 28])\n",
            "Dimentions:  4\n",
            "###########\n",
            "tensor([[[[0.0000, 0.0000, 0.0000,  ..., 0.0000, 0.0000, 0.0000],\n",
            "          [0.0000, 0.0000, 0.0000,  ..., 0.0000, 0.0000, 0.0000],\n",
            "          [0.0000, 0.0000, 0.0000,  ..., 0.0000, 0.0000, 0.0000],\n",
            "          ...,\n",
            "          [0.0000, 0.0000, 0.0000,  ..., 0.0000, 0.0000, 0.0000],\n",
            "          [0.0000, 0.0000, 0.0000,  ..., 0.0000, 0.0000, 0.0000],\n",
            "          [0.0000, 0.0000, 0.0000,  ..., 0.0000, 0.0000, 0.0000]]],\n",
            "\n",
            "\n",
            "        [[[0.0000, 0.0000, 0.0000,  ..., 0.0000, 0.0000, 0.0000],\n",
            "          [0.0000, 0.0000, 0.0000,  ..., 0.0000, 0.0000, 0.0000],\n",
            "          [0.0000, 0.0000, 0.0000,  ..., 0.0000, 0.0000, 0.0000],\n",
            "          ...,\n",
            "          [0.0000, 0.0000, 0.0000,  ..., 0.2196, 0.0039, 0.0000],\n",
            "          [0.0000, 0.0000, 0.0000,  ..., 0.0000, 0.0000, 0.0000],\n",
            "          [0.0000, 0.0000, 0.0000,  ..., 0.0000, 0.0000, 0.0000]]],\n",
            "\n",
            "\n",
            "        [[[0.0000, 0.0000, 0.0000,  ..., 0.0000, 0.0000, 0.0000],\n",
            "          [0.0000, 0.0000, 0.0000,  ..., 0.0000, 0.0000, 0.0000],\n",
            "          [0.0000, 0.0000, 0.0000,  ..., 0.0000, 0.0000, 0.0000],\n",
            "          ...,\n",
            "          [0.0000, 0.0000, 0.0000,  ..., 0.0000, 0.0000, 0.0000],\n",
            "          [0.0000, 0.0000, 0.0000,  ..., 0.0000, 0.0000, 0.0000],\n",
            "          [0.0000, 0.0000, 0.0000,  ..., 0.0000, 0.0000, 0.0000]]],\n",
            "\n",
            "\n",
            "        ...,\n",
            "\n",
            "\n",
            "        [[[0.0000, 0.0000, 0.0000,  ..., 0.0000, 0.0000, 0.0000],\n",
            "          [0.0000, 0.0000, 0.0000,  ..., 0.0000, 0.0000, 0.0000],\n",
            "          [0.0000, 0.0000, 0.0000,  ..., 0.0039, 0.0000, 0.0000],\n",
            "          ...,\n",
            "          [0.0000, 0.1412, 0.7098,  ..., 0.7412, 0.8118, 0.0000],\n",
            "          [0.0000, 0.0000, 1.0000,  ..., 0.8980, 0.9529, 0.0000],\n",
            "          [0.0000, 0.0000, 0.1373,  ..., 0.7569, 0.1647, 0.0000]]],\n",
            "\n",
            "\n",
            "        [[[0.0000, 0.0000, 0.0000,  ..., 0.0000, 0.0000, 0.0000],\n",
            "          [0.0000, 0.0000, 0.0000,  ..., 0.0000, 0.0000, 0.0000],\n",
            "          [0.0000, 0.0000, 0.0000,  ..., 0.0000, 0.0000, 0.0000],\n",
            "          ...,\n",
            "          [0.0000, 0.0000, 0.0000,  ..., 0.0000, 0.0000, 0.0000],\n",
            "          [0.0000, 0.0000, 0.0000,  ..., 0.0000, 0.0000, 0.0000],\n",
            "          [0.0000, 0.0000, 0.0000,  ..., 0.0000, 0.0000, 0.0000]]],\n",
            "\n",
            "\n",
            "        [[[0.0000, 0.0000, 0.0000,  ..., 0.0000, 0.0000, 0.0000],\n",
            "          [0.0000, 0.0000, 0.0000,  ..., 0.0000, 0.0000, 0.0000],\n",
            "          [0.0000, 0.0000, 0.0000,  ..., 0.0000, 0.0000, 0.0000],\n",
            "          ...,\n",
            "          [0.0000, 0.0000, 0.0000,  ..., 0.0000, 0.0000, 0.0000],\n",
            "          [0.0000, 0.0000, 0.0000,  ..., 0.0000, 0.0000, 0.0000],\n",
            "          [0.0000, 0.0000, 0.0000,  ..., 0.0000, 0.0000, 0.0000]]]])\n",
            "###########\n",
            "Tensor Data type:  torch.float32\n",
            "Device:  cpu\n",
            "\n",
            "\n",
            "Shape:  torch.Size([32, 784])\n",
            "Dimentions:  2\n",
            "###########\n",
            "tensor([[0.0000, 0.0000, 0.0000,  ..., 0.0000, 0.0000, 0.0000],\n",
            "        [0.0000, 0.0000, 0.0000,  ..., 0.0000, 0.0000, 0.0000],\n",
            "        [0.0000, 0.0000, 0.0000,  ..., 0.0000, 0.0000, 0.0000],\n",
            "        ...,\n",
            "        [0.0000, 0.0000, 0.0000,  ..., 0.7569, 0.1647, 0.0000],\n",
            "        [0.0000, 0.0000, 0.0000,  ..., 0.0000, 0.0000, 0.0000],\n",
            "        [0.0000, 0.0000, 0.0000,  ..., 0.0000, 0.0000, 0.0000]])\n",
            "###########\n",
            "Tensor Data type:  torch.float32\n",
            "Device:  cpu\n",
            "\n"
          ]
        }
      ]
    },
    {
      "cell_type": "code",
      "source": [
        "#model\n",
        "class fashion_model(nn.Module):\n",
        "  def __init__(self,in_,out_):\n",
        "    super().__init__()\n",
        "    #model_structer\n",
        "    self.layer_stack=nn.Sequential(\n",
        "        nn.Flatten(),\n",
        "        nn.ReLU(),\n",
        "        nn.Linear(in_,512),\n",
        "        nn.ReLU(),\n",
        "        nn.Linear(512,128),\n",
        "        nn.ReLU(),\n",
        "        nn.Linear(128,32),\n",
        "        nn.ReLU(),\n",
        "        nn.Linear(32,out_)\n",
        "    )\n",
        "  def forward(self,x: torch.Tensor) -> torch.Tensor:\n",
        "\n",
        "\n",
        "    return self.layer_stack(x)\n",
        "\n",
        "\n",
        "\n",
        "#discription of model\n",
        "model=fashion_model(in_=784,out_=10).to(device)\n",
        "model.state_dict()"
      ],
      "metadata": {
        "id": "fchfssqDQLCG",
        "colab": {
          "base_uri": "https://localhost:8080/"
        },
        "outputId": "4bf92d4f-242e-4220-c881-5858d4e799ad"
      },
      "execution_count": 168,
      "outputs": [
        {
          "output_type": "execute_result",
          "data": {
            "text/plain": [
              "OrderedDict([('layer_stack.2.weight',\n",
              "              tensor([[ 0.0277,  0.0350, -0.0100,  ..., -0.0159, -0.0097,  0.0192],\n",
              "                      [ 0.0330,  0.0105,  0.0083,  ...,  0.0054, -0.0259, -0.0269],\n",
              "                      [ 0.0069,  0.0059, -0.0088,  ...,  0.0190, -0.0190, -0.0270],\n",
              "                      ...,\n",
              "                      [ 0.0132,  0.0156,  0.0022,  ...,  0.0140,  0.0233,  0.0141],\n",
              "                      [-0.0314, -0.0212, -0.0018,  ...,  0.0027, -0.0037,  0.0318],\n",
              "                      [ 0.0057,  0.0162,  0.0064,  ...,  0.0212,  0.0287, -0.0193]],\n",
              "                     device='cuda:0')),\n",
              "             ('layer_stack.2.bias',\n",
              "              tensor([ 2.0585e-02,  3.3570e-02,  2.5818e-02,  2.4263e-02,  2.4840e-03,\n",
              "                      -2.9406e-02,  2.9457e-02, -2.2505e-02, -3.4009e-02, -8.1854e-03,\n",
              "                      -6.3767e-03,  4.5627e-03, -2.5837e-02,  1.2828e-03,  1.4609e-02,\n",
              "                       2.3463e-02, -1.1605e-02,  1.2846e-02, -2.6628e-02, -5.2133e-03,\n",
              "                      -2.1641e-02,  2.2159e-02,  3.3036e-02,  3.0778e-02, -2.4280e-02,\n",
              "                       2.5543e-02, -5.7601e-03, -2.9953e-02, -1.4318e-02,  1.7407e-02,\n",
              "                      -2.8007e-02, -4.6881e-03,  3.5160e-02, -2.9419e-02,  3.0082e-02,\n",
              "                      -2.0110e-02, -9.6249e-03,  2.9284e-02, -2.7088e-02, -1.9835e-02,\n",
              "                       1.8207e-02, -2.8248e-02, -3.0409e-02, -1.1992e-02, -1.0054e-02,\n",
              "                       2.9589e-02, -1.0382e-02, -7.3265e-03, -4.7372e-03,  3.4201e-02,\n",
              "                       1.1231e-02, -2.0775e-02, -3.4292e-02,  1.8061e-02, -3.3948e-02,\n",
              "                      -7.0766e-03,  3.2848e-02, -1.4413e-03,  1.5979e-02, -3.2019e-02,\n",
              "                       2.7569e-02, -3.1237e-03,  1.5958e-02, -1.8421e-02,  1.6868e-02,\n",
              "                       2.7275e-02,  3.4676e-02, -1.9237e-02, -2.9666e-02, -2.0297e-02,\n",
              "                      -1.6750e-02, -3.3789e-02,  6.0302e-03,  2.9584e-02, -2.3313e-02,\n",
              "                       7.2630e-03,  2.1696e-02, -1.1413e-02,  9.9471e-03,  2.9142e-02,\n",
              "                       1.9024e-02,  2.2196e-02, -1.4259e-02, -3.4357e-02,  1.2899e-02,\n",
              "                      -4.6902e-03,  2.0441e-03, -2.9420e-02,  1.2030e-02, -1.6979e-02,\n",
              "                       3.0890e-02, -3.3796e-02,  3.3239e-02, -6.4782e-03,  2.8521e-02,\n",
              "                       6.2240e-03, -2.6301e-02,  1.9694e-02,  2.9525e-02, -9.6723e-03,\n",
              "                       1.0822e-02,  2.1554e-02,  1.9369e-02,  2.0671e-03, -2.2773e-02,\n",
              "                      -3.4698e-02,  2.3774e-02,  1.0861e-02,  1.2763e-02,  2.4005e-02,\n",
              "                       2.9131e-03, -2.4998e-02,  2.8863e-02, -3.3896e-02, -4.5526e-03,\n",
              "                       7.5379e-04, -2.9798e-02, -1.1841e-02,  2.6703e-02,  5.9977e-03,\n",
              "                       2.9479e-02, -1.4711e-02, -3.1574e-02, -2.2739e-02,  3.6659e-03,\n",
              "                       9.0948e-03,  2.7212e-04, -1.9050e-02,  1.0974e-02,  2.2355e-02,\n",
              "                      -3.4356e-02,  2.7895e-02,  1.4283e-03, -3.5286e-02, -1.6314e-02,\n",
              "                      -1.3532e-02,  2.2151e-02, -1.8782e-02,  2.4224e-02,  1.3368e-02,\n",
              "                       1.1014e-02, -3.1382e-02,  5.4394e-03,  1.6159e-02,  1.7475e-03,\n",
              "                       3.4232e-02,  2.0135e-02,  1.9899e-02, -1.1066e-02,  1.5636e-02,\n",
              "                      -6.7637e-03,  1.1448e-03,  1.3485e-02,  2.0379e-02,  5.6639e-03,\n",
              "                       9.3666e-03,  6.8058e-03, -1.8338e-02, -1.5984e-02,  1.4669e-02,\n",
              "                      -1.7648e-02,  4.5378e-03,  1.1900e-02,  2.3938e-02,  1.9910e-02,\n",
              "                       1.4003e-02, -3.2133e-02,  2.9892e-03, -1.3942e-02, -3.1299e-02,\n",
              "                      -7.0649e-04, -1.3357e-02,  3.9475e-03, -1.3664e-02, -1.4207e-02,\n",
              "                       1.9236e-03,  3.3086e-02, -3.7763e-04, -9.0406e-03,  2.7466e-02,\n",
              "                      -1.9559e-02,  1.6340e-02,  6.1809e-03,  2.2248e-02, -2.2793e-02,\n",
              "                      -3.2066e-02, -5.0157e-03,  1.0208e-03, -3.0744e-02,  3.4840e-02,\n",
              "                       2.3950e-02,  2.7718e-02,  9.0048e-03, -3.5338e-02,  1.6613e-02,\n",
              "                       2.5855e-02,  2.4301e-02,  2.2214e-02, -1.8531e-02, -2.2812e-02,\n",
              "                      -3.4023e-02, -8.3572e-03, -1.2499e-03,  3.6953e-03, -1.5152e-02,\n",
              "                      -2.0886e-02,  9.3014e-03,  3.8964e-03, -2.7766e-02,  1.6461e-02,\n",
              "                      -8.0857e-03,  2.8865e-02,  1.6557e-02,  6.6636e-03,  1.4551e-03,\n",
              "                      -1.4645e-02,  3.6045e-03, -2.9484e-02, -2.8474e-02, -1.9243e-02,\n",
              "                       1.3329e-02, -6.6178e-03,  2.0588e-02, -2.3681e-02, -1.5314e-02,\n",
              "                      -1.1467e-02, -2.8350e-02, -3.5373e-02,  2.1214e-02, -1.9861e-02,\n",
              "                      -2.3243e-02,  9.4156e-03, -1.5025e-03, -1.6570e-02,  3.4070e-02,\n",
              "                       3.1402e-03,  1.5107e-02, -7.7308e-03,  1.1799e-02,  2.8076e-02,\n",
              "                       3.2326e-02, -5.8679e-03, -3.1712e-02, -2.8276e-02,  4.3179e-03,\n",
              "                       3.3498e-02, -9.5294e-03,  1.7169e-02, -2.3829e-02, -8.5268e-03,\n",
              "                      -1.1563e-02,  1.4176e-02,  1.8622e-02, -1.5246e-02, -8.2383e-04,\n",
              "                      -3.1929e-02, -8.4295e-04,  4.0435e-03,  1.0837e-03,  1.8546e-02,\n",
              "                       1.4151e-02, -3.8500e-03, -2.9446e-02,  2.6588e-02, -1.7082e-03,\n",
              "                       2.6286e-02,  1.0078e-02, -3.3353e-02,  2.2570e-02,  2.6715e-02,\n",
              "                       1.2932e-02,  2.3759e-02,  6.8008e-04, -2.2187e-02,  2.2484e-02,\n",
              "                      -1.6871e-02,  1.7564e-02,  1.3907e-02,  1.9114e-03,  1.8644e-03,\n",
              "                      -2.4162e-02, -1.5085e-02,  4.7394e-03, -2.1248e-02,  3.5482e-02,\n",
              "                      -5.5803e-03,  3.4695e-02,  2.4459e-03,  1.2292e-02,  1.2638e-02,\n",
              "                       1.0001e-02, -1.9904e-02, -8.0914e-03,  1.2369e-03,  1.5676e-02,\n",
              "                       2.0295e-02,  3.3060e-03,  5.3102e-03, -3.2855e-02,  2.8171e-02,\n",
              "                      -2.5647e-02, -1.0983e-02,  6.8337e-03, -4.8891e-03, -5.6275e-03,\n",
              "                       2.8429e-02,  2.3344e-02, -5.4496e-03,  1.4182e-02, -1.9239e-02,\n",
              "                      -2.8882e-03,  1.3993e-02,  3.5593e-02, -2.3636e-02,  1.6578e-02,\n",
              "                       2.6684e-02, -3.5120e-02,  7.5607e-03, -2.4483e-02,  3.5045e-02,\n",
              "                       1.6922e-03, -2.4049e-02, -2.8591e-02,  1.9245e-03,  1.0908e-02,\n",
              "                       2.3194e-02, -3.3322e-02, -2.9285e-03, -1.6896e-02, -1.9874e-02,\n",
              "                       1.7824e-02,  2.1758e-02,  3.5359e-02, -1.6622e-02,  1.5224e-02,\n",
              "                       1.3149e-02,  2.7830e-02,  7.9135e-04, -2.4533e-03,  4.1989e-03,\n",
              "                      -1.9072e-02,  3.3580e-02,  3.0897e-02, -1.0126e-02, -2.0313e-02,\n",
              "                       4.7207e-03,  2.7706e-02,  2.0623e-02,  2.2156e-02,  1.6337e-02,\n",
              "                       1.8287e-02,  5.4596e-04, -6.0125e-03,  1.9702e-02,  1.6482e-02,\n",
              "                       1.0682e-02, -2.3523e-02,  3.1852e-03, -3.0410e-02, -3.5281e-02,\n",
              "                      -9.7143e-03, -2.7003e-02, -1.2171e-03,  1.0383e-02, -2.3044e-02,\n",
              "                      -2.8033e-02,  2.4678e-03,  2.0275e-02, -2.8347e-02,  8.4935e-03,\n",
              "                      -1.9650e-04, -2.3987e-02,  2.2579e-02,  3.1986e-02, -2.5995e-02,\n",
              "                       9.9636e-03, -3.0228e-02,  3.7342e-03, -1.8400e-02, -2.1869e-02,\n",
              "                       3.2396e-02,  1.8014e-02,  1.5883e-02,  1.7727e-02,  3.0065e-02,\n",
              "                      -2.9318e-03, -1.0606e-03, -2.5579e-02, -1.4210e-02, -2.6758e-02,\n",
              "                       1.0224e-02,  1.9443e-02, -4.3472e-04, -3.6611e-03,  3.1955e-02,\n",
              "                       2.4872e-03,  1.2934e-02,  3.5519e-02,  1.5301e-02,  1.9966e-04,\n",
              "                      -2.1732e-02,  1.3182e-02, -3.1402e-02,  8.1921e-03, -1.0021e-02,\n",
              "                      -9.3333e-03,  4.1394e-03, -9.4074e-03, -1.3854e-02,  3.1988e-02,\n",
              "                      -2.3001e-02, -3.1821e-02,  2.3368e-02, -1.3257e-02,  2.8683e-02,\n",
              "                       1.9400e-02, -3.2047e-02,  9.8974e-05, -3.4895e-02,  1.5858e-02,\n",
              "                       2.7058e-02, -1.8936e-02,  2.8428e-02, -1.6226e-02,  1.4642e-02,\n",
              "                      -2.6807e-02,  2.1527e-02, -3.2647e-02, -2.9499e-03,  1.7516e-02,\n",
              "                      -2.0250e-02, -2.5016e-02,  3.5285e-02, -1.6962e-02, -1.5863e-02,\n",
              "                      -2.7132e-02, -1.8353e-02,  2.8574e-02,  1.0607e-02, -3.9530e-03,\n",
              "                      -1.5519e-02,  3.0012e-02,  2.6917e-02,  2.8480e-02, -3.1552e-03,\n",
              "                       3.0077e-02, -2.9327e-03,  3.0809e-02, -1.3281e-02, -2.2157e-02,\n",
              "                      -1.3950e-02,  1.3890e-03, -3.1620e-02,  1.4843e-02, -3.2815e-02,\n",
              "                      -7.2306e-03, -1.1905e-02,  2.6745e-02, -9.4289e-03, -1.6617e-02,\n",
              "                       3.2457e-02,  2.8486e-02, -2.9123e-02, -1.3601e-02, -1.4885e-02,\n",
              "                       2.8863e-02,  2.5525e-02,  9.6987e-03,  3.2430e-02, -3.3113e-02,\n",
              "                      -3.5705e-02,  5.9247e-03, -2.7814e-02,  1.1203e-02,  3.2368e-02,\n",
              "                      -2.3689e-02,  1.8573e-02, -1.4220e-02, -7.4327e-03, -4.0448e-03,\n",
              "                       7.2785e-03, -2.3856e-02,  1.1352e-02,  1.6151e-02,  1.2474e-02,\n",
              "                      -1.5575e-02, -1.4634e-02,  3.0969e-02,  3.1177e-02, -2.2973e-02,\n",
              "                      -7.5895e-03,  1.7462e-02,  1.3037e-02, -4.1085e-03,  2.9730e-02,\n",
              "                      -1.9547e-03, -3.0321e-02,  1.2570e-02, -1.6386e-02, -3.0627e-02,\n",
              "                       2.8471e-03,  1.1621e-02,  2.0214e-02,  2.8635e-02, -1.3060e-02,\n",
              "                      -3.4228e-02, -3.2847e-02, -2.7482e-02, -9.9899e-03,  2.5722e-02,\n",
              "                       2.4819e-02,  4.7268e-04], device='cuda:0')),\n",
              "             ('layer_stack.4.weight',\n",
              "              tensor([[ 0.0380,  0.0060,  0.0002,  ..., -0.0188, -0.0246, -0.0301],\n",
              "                      [ 0.0204, -0.0095,  0.0284,  ...,  0.0050,  0.0045,  0.0364],\n",
              "                      [-0.0414, -0.0295, -0.0027,  ..., -0.0113,  0.0135, -0.0172],\n",
              "                      ...,\n",
              "                      [ 0.0368, -0.0154,  0.0085,  ...,  0.0322,  0.0032, -0.0177],\n",
              "                      [ 0.0147, -0.0150,  0.0177,  ...,  0.0177, -0.0161, -0.0152],\n",
              "                      [ 0.0402,  0.0091,  0.0175,  ..., -0.0065,  0.0285, -0.0053]],\n",
              "                     device='cuda:0')),\n",
              "             ('layer_stack.4.bias',\n",
              "              tensor([ 0.0172,  0.0093,  0.0226,  0.0059,  0.0297, -0.0289,  0.0366,  0.0232,\n",
              "                       0.0249,  0.0161, -0.0256, -0.0143, -0.0339,  0.0005, -0.0299,  0.0382,\n",
              "                      -0.0192,  0.0012,  0.0222, -0.0105, -0.0431, -0.0221, -0.0269, -0.0185,\n",
              "                       0.0002,  0.0415,  0.0231,  0.0014, -0.0145,  0.0130, -0.0356, -0.0363,\n",
              "                      -0.0140,  0.0321, -0.0379,  0.0111, -0.0259, -0.0016, -0.0198, -0.0416,\n",
              "                      -0.0279, -0.0107,  0.0063,  0.0066, -0.0295,  0.0278,  0.0389,  0.0135,\n",
              "                      -0.0058, -0.0280,  0.0241, -0.0353, -0.0166,  0.0063, -0.0195, -0.0204,\n",
              "                       0.0329, -0.0074,  0.0147, -0.0027, -0.0332, -0.0357,  0.0395,  0.0331,\n",
              "                       0.0363, -0.0160,  0.0141, -0.0201, -0.0377,  0.0190, -0.0301,  0.0328,\n",
              "                       0.0334, -0.0234,  0.0067,  0.0103,  0.0305, -0.0159, -0.0023,  0.0197,\n",
              "                       0.0390, -0.0428, -0.0415,  0.0320, -0.0118,  0.0195, -0.0433,  0.0101,\n",
              "                       0.0109,  0.0133, -0.0275, -0.0164,  0.0379,  0.0420, -0.0357, -0.0356,\n",
              "                       0.0126,  0.0184, -0.0320, -0.0134, -0.0137, -0.0099,  0.0171, -0.0199,\n",
              "                       0.0187, -0.0374, -0.0123,  0.0290,  0.0180,  0.0342, -0.0091,  0.0137,\n",
              "                       0.0430, -0.0221,  0.0169,  0.0216,  0.0432,  0.0161, -0.0069, -0.0240,\n",
              "                       0.0034,  0.0196,  0.0051,  0.0094,  0.0417, -0.0339,  0.0116,  0.0331],\n",
              "                     device='cuda:0')),\n",
              "             ('layer_stack.6.weight',\n",
              "              tensor([[-0.0495,  0.0302, -0.0489,  ...,  0.0020,  0.0653, -0.0532],\n",
              "                      [-0.0035,  0.0456,  0.0285,  ..., -0.0398, -0.0744,  0.0110],\n",
              "                      [ 0.0089,  0.0614, -0.0374,  ..., -0.0364,  0.0070, -0.0221],\n",
              "                      ...,\n",
              "                      [-0.0161, -0.0630,  0.0349,  ...,  0.0708,  0.0822, -0.0558],\n",
              "                      [ 0.0203,  0.0162,  0.0783,  ...,  0.0694, -0.0277,  0.0807],\n",
              "                      [-0.0425,  0.0412, -0.0084,  ..., -0.0554, -0.0122, -0.0512]],\n",
              "                     device='cuda:0')),\n",
              "             ('layer_stack.6.bias',\n",
              "              tensor([ 0.0002,  0.0587, -0.0495, -0.0812,  0.0474, -0.0218,  0.0009,  0.0839,\n",
              "                       0.0826,  0.0489, -0.0114,  0.0850,  0.0231, -0.0038, -0.0676, -0.0067,\n",
              "                       0.0400,  0.0457,  0.0797, -0.0388,  0.0212,  0.0334, -0.0072,  0.0859,\n",
              "                      -0.0478,  0.0751,  0.0487,  0.0214, -0.0317, -0.0499,  0.0256, -0.0480],\n",
              "                     device='cuda:0')),\n",
              "             ('layer_stack.8.weight',\n",
              "              tensor([[ 0.0984, -0.1700, -0.0878,  0.1113,  0.1718,  0.1723,  0.0440, -0.0703,\n",
              "                        0.0297,  0.1027, -0.0146,  0.1577,  0.0734, -0.1330, -0.0970,  0.0118,\n",
              "                        0.0904,  0.0755,  0.0576, -0.1596,  0.0516,  0.1185, -0.0323, -0.1157,\n",
              "                       -0.0105, -0.1567,  0.1002,  0.0796, -0.0754, -0.0094,  0.0428, -0.1116],\n",
              "                      [ 0.0870,  0.0308,  0.0540,  0.1270,  0.1352, -0.0804, -0.1328,  0.0175,\n",
              "                       -0.1624,  0.0492,  0.0890,  0.0689, -0.1463, -0.0834, -0.1141, -0.1724,\n",
              "                       -0.0802,  0.0668,  0.1043, -0.0033, -0.0369, -0.0133, -0.1424,  0.1422,\n",
              "                        0.0425,  0.0021,  0.0038, -0.1250, -0.1428, -0.0893, -0.0194,  0.1520],\n",
              "                      [-0.1064,  0.0284,  0.1002,  0.0848, -0.1708, -0.1482,  0.0098,  0.1635,\n",
              "                       -0.0615, -0.0238,  0.1385,  0.0474, -0.0276, -0.1700,  0.0362,  0.0809,\n",
              "                       -0.1389, -0.0774,  0.1043,  0.1044, -0.0131, -0.0557,  0.0919, -0.1523,\n",
              "                       -0.1193,  0.1758, -0.0780,  0.0311,  0.0782,  0.1468,  0.0724, -0.1554],\n",
              "                      [ 0.1319, -0.1179, -0.0814, -0.0963, -0.1017, -0.1533, -0.0607,  0.1760,\n",
              "                        0.0165,  0.0913, -0.0808, -0.0315,  0.1571, -0.0570, -0.1464,  0.1432,\n",
              "                        0.1109, -0.0297, -0.1315,  0.1503, -0.1343,  0.0713,  0.0870,  0.0460,\n",
              "                       -0.1270,  0.0778, -0.1354,  0.1616,  0.0473,  0.1561, -0.0564,  0.1264],\n",
              "                      [ 0.0550,  0.0496,  0.0123, -0.0812, -0.1349, -0.0356,  0.0713, -0.0759,\n",
              "                       -0.0500,  0.1503, -0.1575, -0.0268,  0.0422, -0.0900, -0.0606,  0.0957,\n",
              "                       -0.1095, -0.0254,  0.1102,  0.1381,  0.0563, -0.0199, -0.1040,  0.0991,\n",
              "                        0.0122, -0.0177,  0.1422,  0.0403,  0.1281,  0.0413,  0.0474,  0.1083],\n",
              "                      [-0.1576,  0.1238, -0.1348,  0.0272,  0.0759, -0.1096,  0.0721, -0.1135,\n",
              "                       -0.1448,  0.1398, -0.0069, -0.1264,  0.1493, -0.0337, -0.1654, -0.1735,\n",
              "                       -0.0170,  0.1763, -0.1318, -0.1706,  0.0236,  0.1390, -0.0471, -0.1007,\n",
              "                        0.0033, -0.0902,  0.0146, -0.1192, -0.1380, -0.0545, -0.1356, -0.0342],\n",
              "                      [-0.0848,  0.0131, -0.1495,  0.0853,  0.1568,  0.0939, -0.0859,  0.1125,\n",
              "                       -0.0594, -0.0915, -0.1140,  0.0922, -0.1672, -0.1524, -0.1552,  0.0902,\n",
              "                        0.1375,  0.0960, -0.0431,  0.1165,  0.0113,  0.0464,  0.0407, -0.1310,\n",
              "                       -0.1515,  0.0315,  0.0225,  0.1113,  0.1656,  0.0630, -0.1425, -0.1463],\n",
              "                      [ 0.1540,  0.0192,  0.0248, -0.1211,  0.1362, -0.0312, -0.0462,  0.0311,\n",
              "                       -0.0812, -0.1003, -0.0848,  0.0468,  0.0217,  0.1325, -0.0744, -0.1710,\n",
              "                       -0.1233,  0.0204,  0.1439,  0.1577, -0.0603,  0.0900, -0.1275,  0.0589,\n",
              "                        0.1364, -0.0365, -0.1402,  0.0186, -0.1706, -0.0196,  0.0807, -0.0357],\n",
              "                      [-0.1000, -0.0673,  0.0737,  0.1342, -0.0060, -0.1562, -0.1529, -0.0346,\n",
              "                       -0.0905, -0.0706, -0.0291, -0.1280, -0.1027,  0.0899,  0.0801,  0.0359,\n",
              "                        0.1261, -0.0566, -0.0780, -0.0930,  0.1163, -0.0943,  0.0276, -0.0791,\n",
              "                        0.0742, -0.1514,  0.1260, -0.0673,  0.1005,  0.0130, -0.0689, -0.0875],\n",
              "                      [ 0.1360, -0.1629,  0.1297,  0.0670,  0.1257,  0.0460,  0.1552, -0.0740,\n",
              "                       -0.0387, -0.0457, -0.0777,  0.0273, -0.1215,  0.1126, -0.0742, -0.1196,\n",
              "                        0.1124,  0.1551, -0.1363, -0.0857,  0.1094,  0.0232, -0.0231,  0.0925,\n",
              "                       -0.0767, -0.0130,  0.0383,  0.0008, -0.1558,  0.0604,  0.0530,  0.0848]],\n",
              "                     device='cuda:0')),\n",
              "             ('layer_stack.8.bias',\n",
              "              tensor([ 0.0434,  0.0083,  0.1037,  0.0282,  0.1085,  0.0621,  0.1098,  0.1385,\n",
              "                      -0.0318,  0.0770], device='cuda:0'))])"
            ]
          },
          "metadata": {},
          "execution_count": 168
        }
      ]
    },
    {
      "cell_type": "code",
      "source": [
        "model.state_dict()"
      ],
      "metadata": {
        "colab": {
          "base_uri": "https://localhost:8080/"
        },
        "id": "u6WbsiTjbP_W",
        "outputId": "f8e6b07c-cd88-46d5-9c71-6d4251eccc77"
      },
      "execution_count": 169,
      "outputs": [
        {
          "output_type": "execute_result",
          "data": {
            "text/plain": [
              "OrderedDict([('layer_stack.2.weight',\n",
              "              tensor([[ 0.0277,  0.0350, -0.0100,  ..., -0.0159, -0.0097,  0.0192],\n",
              "                      [ 0.0330,  0.0105,  0.0083,  ...,  0.0054, -0.0259, -0.0269],\n",
              "                      [ 0.0069,  0.0059, -0.0088,  ...,  0.0190, -0.0190, -0.0270],\n",
              "                      ...,\n",
              "                      [ 0.0132,  0.0156,  0.0022,  ...,  0.0140,  0.0233,  0.0141],\n",
              "                      [-0.0314, -0.0212, -0.0018,  ...,  0.0027, -0.0037,  0.0318],\n",
              "                      [ 0.0057,  0.0162,  0.0064,  ...,  0.0212,  0.0287, -0.0193]],\n",
              "                     device='cuda:0')),\n",
              "             ('layer_stack.2.bias',\n",
              "              tensor([ 2.0585e-02,  3.3570e-02,  2.5818e-02,  2.4263e-02,  2.4840e-03,\n",
              "                      -2.9406e-02,  2.9457e-02, -2.2505e-02, -3.4009e-02, -8.1854e-03,\n",
              "                      -6.3767e-03,  4.5627e-03, -2.5837e-02,  1.2828e-03,  1.4609e-02,\n",
              "                       2.3463e-02, -1.1605e-02,  1.2846e-02, -2.6628e-02, -5.2133e-03,\n",
              "                      -2.1641e-02,  2.2159e-02,  3.3036e-02,  3.0778e-02, -2.4280e-02,\n",
              "                       2.5543e-02, -5.7601e-03, -2.9953e-02, -1.4318e-02,  1.7407e-02,\n",
              "                      -2.8007e-02, -4.6881e-03,  3.5160e-02, -2.9419e-02,  3.0082e-02,\n",
              "                      -2.0110e-02, -9.6249e-03,  2.9284e-02, -2.7088e-02, -1.9835e-02,\n",
              "                       1.8207e-02, -2.8248e-02, -3.0409e-02, -1.1992e-02, -1.0054e-02,\n",
              "                       2.9589e-02, -1.0382e-02, -7.3265e-03, -4.7372e-03,  3.4201e-02,\n",
              "                       1.1231e-02, -2.0775e-02, -3.4292e-02,  1.8061e-02, -3.3948e-02,\n",
              "                      -7.0766e-03,  3.2848e-02, -1.4413e-03,  1.5979e-02, -3.2019e-02,\n",
              "                       2.7569e-02, -3.1237e-03,  1.5958e-02, -1.8421e-02,  1.6868e-02,\n",
              "                       2.7275e-02,  3.4676e-02, -1.9237e-02, -2.9666e-02, -2.0297e-02,\n",
              "                      -1.6750e-02, -3.3789e-02,  6.0302e-03,  2.9584e-02, -2.3313e-02,\n",
              "                       7.2630e-03,  2.1696e-02, -1.1413e-02,  9.9471e-03,  2.9142e-02,\n",
              "                       1.9024e-02,  2.2196e-02, -1.4259e-02, -3.4357e-02,  1.2899e-02,\n",
              "                      -4.6902e-03,  2.0441e-03, -2.9420e-02,  1.2030e-02, -1.6979e-02,\n",
              "                       3.0890e-02, -3.3796e-02,  3.3239e-02, -6.4782e-03,  2.8521e-02,\n",
              "                       6.2240e-03, -2.6301e-02,  1.9694e-02,  2.9525e-02, -9.6723e-03,\n",
              "                       1.0822e-02,  2.1554e-02,  1.9369e-02,  2.0671e-03, -2.2773e-02,\n",
              "                      -3.4698e-02,  2.3774e-02,  1.0861e-02,  1.2763e-02,  2.4005e-02,\n",
              "                       2.9131e-03, -2.4998e-02,  2.8863e-02, -3.3896e-02, -4.5526e-03,\n",
              "                       7.5379e-04, -2.9798e-02, -1.1841e-02,  2.6703e-02,  5.9977e-03,\n",
              "                       2.9479e-02, -1.4711e-02, -3.1574e-02, -2.2739e-02,  3.6659e-03,\n",
              "                       9.0948e-03,  2.7212e-04, -1.9050e-02,  1.0974e-02,  2.2355e-02,\n",
              "                      -3.4356e-02,  2.7895e-02,  1.4283e-03, -3.5286e-02, -1.6314e-02,\n",
              "                      -1.3532e-02,  2.2151e-02, -1.8782e-02,  2.4224e-02,  1.3368e-02,\n",
              "                       1.1014e-02, -3.1382e-02,  5.4394e-03,  1.6159e-02,  1.7475e-03,\n",
              "                       3.4232e-02,  2.0135e-02,  1.9899e-02, -1.1066e-02,  1.5636e-02,\n",
              "                      -6.7637e-03,  1.1448e-03,  1.3485e-02,  2.0379e-02,  5.6639e-03,\n",
              "                       9.3666e-03,  6.8058e-03, -1.8338e-02, -1.5984e-02,  1.4669e-02,\n",
              "                      -1.7648e-02,  4.5378e-03,  1.1900e-02,  2.3938e-02,  1.9910e-02,\n",
              "                       1.4003e-02, -3.2133e-02,  2.9892e-03, -1.3942e-02, -3.1299e-02,\n",
              "                      -7.0649e-04, -1.3357e-02,  3.9475e-03, -1.3664e-02, -1.4207e-02,\n",
              "                       1.9236e-03,  3.3086e-02, -3.7763e-04, -9.0406e-03,  2.7466e-02,\n",
              "                      -1.9559e-02,  1.6340e-02,  6.1809e-03,  2.2248e-02, -2.2793e-02,\n",
              "                      -3.2066e-02, -5.0157e-03,  1.0208e-03, -3.0744e-02,  3.4840e-02,\n",
              "                       2.3950e-02,  2.7718e-02,  9.0048e-03, -3.5338e-02,  1.6613e-02,\n",
              "                       2.5855e-02,  2.4301e-02,  2.2214e-02, -1.8531e-02, -2.2812e-02,\n",
              "                      -3.4023e-02, -8.3572e-03, -1.2499e-03,  3.6953e-03, -1.5152e-02,\n",
              "                      -2.0886e-02,  9.3014e-03,  3.8964e-03, -2.7766e-02,  1.6461e-02,\n",
              "                      -8.0857e-03,  2.8865e-02,  1.6557e-02,  6.6636e-03,  1.4551e-03,\n",
              "                      -1.4645e-02,  3.6045e-03, -2.9484e-02, -2.8474e-02, -1.9243e-02,\n",
              "                       1.3329e-02, -6.6178e-03,  2.0588e-02, -2.3681e-02, -1.5314e-02,\n",
              "                      -1.1467e-02, -2.8350e-02, -3.5373e-02,  2.1214e-02, -1.9861e-02,\n",
              "                      -2.3243e-02,  9.4156e-03, -1.5025e-03, -1.6570e-02,  3.4070e-02,\n",
              "                       3.1402e-03,  1.5107e-02, -7.7308e-03,  1.1799e-02,  2.8076e-02,\n",
              "                       3.2326e-02, -5.8679e-03, -3.1712e-02, -2.8276e-02,  4.3179e-03,\n",
              "                       3.3498e-02, -9.5294e-03,  1.7169e-02, -2.3829e-02, -8.5268e-03,\n",
              "                      -1.1563e-02,  1.4176e-02,  1.8622e-02, -1.5246e-02, -8.2383e-04,\n",
              "                      -3.1929e-02, -8.4295e-04,  4.0435e-03,  1.0837e-03,  1.8546e-02,\n",
              "                       1.4151e-02, -3.8500e-03, -2.9446e-02,  2.6588e-02, -1.7082e-03,\n",
              "                       2.6286e-02,  1.0078e-02, -3.3353e-02,  2.2570e-02,  2.6715e-02,\n",
              "                       1.2932e-02,  2.3759e-02,  6.8008e-04, -2.2187e-02,  2.2484e-02,\n",
              "                      -1.6871e-02,  1.7564e-02,  1.3907e-02,  1.9114e-03,  1.8644e-03,\n",
              "                      -2.4162e-02, -1.5085e-02,  4.7394e-03, -2.1248e-02,  3.5482e-02,\n",
              "                      -5.5803e-03,  3.4695e-02,  2.4459e-03,  1.2292e-02,  1.2638e-02,\n",
              "                       1.0001e-02, -1.9904e-02, -8.0914e-03,  1.2369e-03,  1.5676e-02,\n",
              "                       2.0295e-02,  3.3060e-03,  5.3102e-03, -3.2855e-02,  2.8171e-02,\n",
              "                      -2.5647e-02, -1.0983e-02,  6.8337e-03, -4.8891e-03, -5.6275e-03,\n",
              "                       2.8429e-02,  2.3344e-02, -5.4496e-03,  1.4182e-02, -1.9239e-02,\n",
              "                      -2.8882e-03,  1.3993e-02,  3.5593e-02, -2.3636e-02,  1.6578e-02,\n",
              "                       2.6684e-02, -3.5120e-02,  7.5607e-03, -2.4483e-02,  3.5045e-02,\n",
              "                       1.6922e-03, -2.4049e-02, -2.8591e-02,  1.9245e-03,  1.0908e-02,\n",
              "                       2.3194e-02, -3.3322e-02, -2.9285e-03, -1.6896e-02, -1.9874e-02,\n",
              "                       1.7824e-02,  2.1758e-02,  3.5359e-02, -1.6622e-02,  1.5224e-02,\n",
              "                       1.3149e-02,  2.7830e-02,  7.9135e-04, -2.4533e-03,  4.1989e-03,\n",
              "                      -1.9072e-02,  3.3580e-02,  3.0897e-02, -1.0126e-02, -2.0313e-02,\n",
              "                       4.7207e-03,  2.7706e-02,  2.0623e-02,  2.2156e-02,  1.6337e-02,\n",
              "                       1.8287e-02,  5.4596e-04, -6.0125e-03,  1.9702e-02,  1.6482e-02,\n",
              "                       1.0682e-02, -2.3523e-02,  3.1852e-03, -3.0410e-02, -3.5281e-02,\n",
              "                      -9.7143e-03, -2.7003e-02, -1.2171e-03,  1.0383e-02, -2.3044e-02,\n",
              "                      -2.8033e-02,  2.4678e-03,  2.0275e-02, -2.8347e-02,  8.4935e-03,\n",
              "                      -1.9650e-04, -2.3987e-02,  2.2579e-02,  3.1986e-02, -2.5995e-02,\n",
              "                       9.9636e-03, -3.0228e-02,  3.7342e-03, -1.8400e-02, -2.1869e-02,\n",
              "                       3.2396e-02,  1.8014e-02,  1.5883e-02,  1.7727e-02,  3.0065e-02,\n",
              "                      -2.9318e-03, -1.0606e-03, -2.5579e-02, -1.4210e-02, -2.6758e-02,\n",
              "                       1.0224e-02,  1.9443e-02, -4.3472e-04, -3.6611e-03,  3.1955e-02,\n",
              "                       2.4872e-03,  1.2934e-02,  3.5519e-02,  1.5301e-02,  1.9966e-04,\n",
              "                      -2.1732e-02,  1.3182e-02, -3.1402e-02,  8.1921e-03, -1.0021e-02,\n",
              "                      -9.3333e-03,  4.1394e-03, -9.4074e-03, -1.3854e-02,  3.1988e-02,\n",
              "                      -2.3001e-02, -3.1821e-02,  2.3368e-02, -1.3257e-02,  2.8683e-02,\n",
              "                       1.9400e-02, -3.2047e-02,  9.8974e-05, -3.4895e-02,  1.5858e-02,\n",
              "                       2.7058e-02, -1.8936e-02,  2.8428e-02, -1.6226e-02,  1.4642e-02,\n",
              "                      -2.6807e-02,  2.1527e-02, -3.2647e-02, -2.9499e-03,  1.7516e-02,\n",
              "                      -2.0250e-02, -2.5016e-02,  3.5285e-02, -1.6962e-02, -1.5863e-02,\n",
              "                      -2.7132e-02, -1.8353e-02,  2.8574e-02,  1.0607e-02, -3.9530e-03,\n",
              "                      -1.5519e-02,  3.0012e-02,  2.6917e-02,  2.8480e-02, -3.1552e-03,\n",
              "                       3.0077e-02, -2.9327e-03,  3.0809e-02, -1.3281e-02, -2.2157e-02,\n",
              "                      -1.3950e-02,  1.3890e-03, -3.1620e-02,  1.4843e-02, -3.2815e-02,\n",
              "                      -7.2306e-03, -1.1905e-02,  2.6745e-02, -9.4289e-03, -1.6617e-02,\n",
              "                       3.2457e-02,  2.8486e-02, -2.9123e-02, -1.3601e-02, -1.4885e-02,\n",
              "                       2.8863e-02,  2.5525e-02,  9.6987e-03,  3.2430e-02, -3.3113e-02,\n",
              "                      -3.5705e-02,  5.9247e-03, -2.7814e-02,  1.1203e-02,  3.2368e-02,\n",
              "                      -2.3689e-02,  1.8573e-02, -1.4220e-02, -7.4327e-03, -4.0448e-03,\n",
              "                       7.2785e-03, -2.3856e-02,  1.1352e-02,  1.6151e-02,  1.2474e-02,\n",
              "                      -1.5575e-02, -1.4634e-02,  3.0969e-02,  3.1177e-02, -2.2973e-02,\n",
              "                      -7.5895e-03,  1.7462e-02,  1.3037e-02, -4.1085e-03,  2.9730e-02,\n",
              "                      -1.9547e-03, -3.0321e-02,  1.2570e-02, -1.6386e-02, -3.0627e-02,\n",
              "                       2.8471e-03,  1.1621e-02,  2.0214e-02,  2.8635e-02, -1.3060e-02,\n",
              "                      -3.4228e-02, -3.2847e-02, -2.7482e-02, -9.9899e-03,  2.5722e-02,\n",
              "                       2.4819e-02,  4.7268e-04], device='cuda:0')),\n",
              "             ('layer_stack.4.weight',\n",
              "              tensor([[ 0.0380,  0.0060,  0.0002,  ..., -0.0188, -0.0246, -0.0301],\n",
              "                      [ 0.0204, -0.0095,  0.0284,  ...,  0.0050,  0.0045,  0.0364],\n",
              "                      [-0.0414, -0.0295, -0.0027,  ..., -0.0113,  0.0135, -0.0172],\n",
              "                      ...,\n",
              "                      [ 0.0368, -0.0154,  0.0085,  ...,  0.0322,  0.0032, -0.0177],\n",
              "                      [ 0.0147, -0.0150,  0.0177,  ...,  0.0177, -0.0161, -0.0152],\n",
              "                      [ 0.0402,  0.0091,  0.0175,  ..., -0.0065,  0.0285, -0.0053]],\n",
              "                     device='cuda:0')),\n",
              "             ('layer_stack.4.bias',\n",
              "              tensor([ 0.0172,  0.0093,  0.0226,  0.0059,  0.0297, -0.0289,  0.0366,  0.0232,\n",
              "                       0.0249,  0.0161, -0.0256, -0.0143, -0.0339,  0.0005, -0.0299,  0.0382,\n",
              "                      -0.0192,  0.0012,  0.0222, -0.0105, -0.0431, -0.0221, -0.0269, -0.0185,\n",
              "                       0.0002,  0.0415,  0.0231,  0.0014, -0.0145,  0.0130, -0.0356, -0.0363,\n",
              "                      -0.0140,  0.0321, -0.0379,  0.0111, -0.0259, -0.0016, -0.0198, -0.0416,\n",
              "                      -0.0279, -0.0107,  0.0063,  0.0066, -0.0295,  0.0278,  0.0389,  0.0135,\n",
              "                      -0.0058, -0.0280,  0.0241, -0.0353, -0.0166,  0.0063, -0.0195, -0.0204,\n",
              "                       0.0329, -0.0074,  0.0147, -0.0027, -0.0332, -0.0357,  0.0395,  0.0331,\n",
              "                       0.0363, -0.0160,  0.0141, -0.0201, -0.0377,  0.0190, -0.0301,  0.0328,\n",
              "                       0.0334, -0.0234,  0.0067,  0.0103,  0.0305, -0.0159, -0.0023,  0.0197,\n",
              "                       0.0390, -0.0428, -0.0415,  0.0320, -0.0118,  0.0195, -0.0433,  0.0101,\n",
              "                       0.0109,  0.0133, -0.0275, -0.0164,  0.0379,  0.0420, -0.0357, -0.0356,\n",
              "                       0.0126,  0.0184, -0.0320, -0.0134, -0.0137, -0.0099,  0.0171, -0.0199,\n",
              "                       0.0187, -0.0374, -0.0123,  0.0290,  0.0180,  0.0342, -0.0091,  0.0137,\n",
              "                       0.0430, -0.0221,  0.0169,  0.0216,  0.0432,  0.0161, -0.0069, -0.0240,\n",
              "                       0.0034,  0.0196,  0.0051,  0.0094,  0.0417, -0.0339,  0.0116,  0.0331],\n",
              "                     device='cuda:0')),\n",
              "             ('layer_stack.6.weight',\n",
              "              tensor([[-0.0495,  0.0302, -0.0489,  ...,  0.0020,  0.0653, -0.0532],\n",
              "                      [-0.0035,  0.0456,  0.0285,  ..., -0.0398, -0.0744,  0.0110],\n",
              "                      [ 0.0089,  0.0614, -0.0374,  ..., -0.0364,  0.0070, -0.0221],\n",
              "                      ...,\n",
              "                      [-0.0161, -0.0630,  0.0349,  ...,  0.0708,  0.0822, -0.0558],\n",
              "                      [ 0.0203,  0.0162,  0.0783,  ...,  0.0694, -0.0277,  0.0807],\n",
              "                      [-0.0425,  0.0412, -0.0084,  ..., -0.0554, -0.0122, -0.0512]],\n",
              "                     device='cuda:0')),\n",
              "             ('layer_stack.6.bias',\n",
              "              tensor([ 0.0002,  0.0587, -0.0495, -0.0812,  0.0474, -0.0218,  0.0009,  0.0839,\n",
              "                       0.0826,  0.0489, -0.0114,  0.0850,  0.0231, -0.0038, -0.0676, -0.0067,\n",
              "                       0.0400,  0.0457,  0.0797, -0.0388,  0.0212,  0.0334, -0.0072,  0.0859,\n",
              "                      -0.0478,  0.0751,  0.0487,  0.0214, -0.0317, -0.0499,  0.0256, -0.0480],\n",
              "                     device='cuda:0')),\n",
              "             ('layer_stack.8.weight',\n",
              "              tensor([[ 0.0984, -0.1700, -0.0878,  0.1113,  0.1718,  0.1723,  0.0440, -0.0703,\n",
              "                        0.0297,  0.1027, -0.0146,  0.1577,  0.0734, -0.1330, -0.0970,  0.0118,\n",
              "                        0.0904,  0.0755,  0.0576, -0.1596,  0.0516,  0.1185, -0.0323, -0.1157,\n",
              "                       -0.0105, -0.1567,  0.1002,  0.0796, -0.0754, -0.0094,  0.0428, -0.1116],\n",
              "                      [ 0.0870,  0.0308,  0.0540,  0.1270,  0.1352, -0.0804, -0.1328,  0.0175,\n",
              "                       -0.1624,  0.0492,  0.0890,  0.0689, -0.1463, -0.0834, -0.1141, -0.1724,\n",
              "                       -0.0802,  0.0668,  0.1043, -0.0033, -0.0369, -0.0133, -0.1424,  0.1422,\n",
              "                        0.0425,  0.0021,  0.0038, -0.1250, -0.1428, -0.0893, -0.0194,  0.1520],\n",
              "                      [-0.1064,  0.0284,  0.1002,  0.0848, -0.1708, -0.1482,  0.0098,  0.1635,\n",
              "                       -0.0615, -0.0238,  0.1385,  0.0474, -0.0276, -0.1700,  0.0362,  0.0809,\n",
              "                       -0.1389, -0.0774,  0.1043,  0.1044, -0.0131, -0.0557,  0.0919, -0.1523,\n",
              "                       -0.1193,  0.1758, -0.0780,  0.0311,  0.0782,  0.1468,  0.0724, -0.1554],\n",
              "                      [ 0.1319, -0.1179, -0.0814, -0.0963, -0.1017, -0.1533, -0.0607,  0.1760,\n",
              "                        0.0165,  0.0913, -0.0808, -0.0315,  0.1571, -0.0570, -0.1464,  0.1432,\n",
              "                        0.1109, -0.0297, -0.1315,  0.1503, -0.1343,  0.0713,  0.0870,  0.0460,\n",
              "                       -0.1270,  0.0778, -0.1354,  0.1616,  0.0473,  0.1561, -0.0564,  0.1264],\n",
              "                      [ 0.0550,  0.0496,  0.0123, -0.0812, -0.1349, -0.0356,  0.0713, -0.0759,\n",
              "                       -0.0500,  0.1503, -0.1575, -0.0268,  0.0422, -0.0900, -0.0606,  0.0957,\n",
              "                       -0.1095, -0.0254,  0.1102,  0.1381,  0.0563, -0.0199, -0.1040,  0.0991,\n",
              "                        0.0122, -0.0177,  0.1422,  0.0403,  0.1281,  0.0413,  0.0474,  0.1083],\n",
              "                      [-0.1576,  0.1238, -0.1348,  0.0272,  0.0759, -0.1096,  0.0721, -0.1135,\n",
              "                       -0.1448,  0.1398, -0.0069, -0.1264,  0.1493, -0.0337, -0.1654, -0.1735,\n",
              "                       -0.0170,  0.1763, -0.1318, -0.1706,  0.0236,  0.1390, -0.0471, -0.1007,\n",
              "                        0.0033, -0.0902,  0.0146, -0.1192, -0.1380, -0.0545, -0.1356, -0.0342],\n",
              "                      [-0.0848,  0.0131, -0.1495,  0.0853,  0.1568,  0.0939, -0.0859,  0.1125,\n",
              "                       -0.0594, -0.0915, -0.1140,  0.0922, -0.1672, -0.1524, -0.1552,  0.0902,\n",
              "                        0.1375,  0.0960, -0.0431,  0.1165,  0.0113,  0.0464,  0.0407, -0.1310,\n",
              "                       -0.1515,  0.0315,  0.0225,  0.1113,  0.1656,  0.0630, -0.1425, -0.1463],\n",
              "                      [ 0.1540,  0.0192,  0.0248, -0.1211,  0.1362, -0.0312, -0.0462,  0.0311,\n",
              "                       -0.0812, -0.1003, -0.0848,  0.0468,  0.0217,  0.1325, -0.0744, -0.1710,\n",
              "                       -0.1233,  0.0204,  0.1439,  0.1577, -0.0603,  0.0900, -0.1275,  0.0589,\n",
              "                        0.1364, -0.0365, -0.1402,  0.0186, -0.1706, -0.0196,  0.0807, -0.0357],\n",
              "                      [-0.1000, -0.0673,  0.0737,  0.1342, -0.0060, -0.1562, -0.1529, -0.0346,\n",
              "                       -0.0905, -0.0706, -0.0291, -0.1280, -0.1027,  0.0899,  0.0801,  0.0359,\n",
              "                        0.1261, -0.0566, -0.0780, -0.0930,  0.1163, -0.0943,  0.0276, -0.0791,\n",
              "                        0.0742, -0.1514,  0.1260, -0.0673,  0.1005,  0.0130, -0.0689, -0.0875],\n",
              "                      [ 0.1360, -0.1629,  0.1297,  0.0670,  0.1257,  0.0460,  0.1552, -0.0740,\n",
              "                       -0.0387, -0.0457, -0.0777,  0.0273, -0.1215,  0.1126, -0.0742, -0.1196,\n",
              "                        0.1124,  0.1551, -0.1363, -0.0857,  0.1094,  0.0232, -0.0231,  0.0925,\n",
              "                       -0.0767, -0.0130,  0.0383,  0.0008, -0.1558,  0.0604,  0.0530,  0.0848]],\n",
              "                     device='cuda:0')),\n",
              "             ('layer_stack.8.bias',\n",
              "              tensor([ 0.0434,  0.0083,  0.1037,  0.0282,  0.1085,  0.0621,  0.1098,  0.1385,\n",
              "                      -0.0318,  0.0770], device='cuda:0'))])"
            ]
          },
          "metadata": {},
          "execution_count": 169
        }
      ]
    },
    {
      "cell_type": "code",
      "source": [
        "x_train_b_sample[0].shape"
      ],
      "metadata": {
        "colab": {
          "base_uri": "https://localhost:8080/"
        },
        "id": "3hhBtAiiZsgw",
        "outputId": "b3928e41-5b31-4724-9637-4957e1f07299"
      },
      "execution_count": 170,
      "outputs": [
        {
          "output_type": "execute_result",
          "data": {
            "text/plain": [
              "torch.Size([1, 28, 28])"
            ]
          },
          "metadata": {},
          "execution_count": 170
        }
      ]
    },
    {
      "cell_type": "code",
      "source": [
        "#make inference/prediction and visualize the model\n",
        "with torch.inference_mode():\n",
        "  pred=model(x_train_b_sample[0])"
      ],
      "metadata": {
        "id": "O_aqHJKRZAcj",
        "colab": {
          "base_uri": "https://localhost:8080/",
          "height": 364
        },
        "outputId": "99f5948a-0bc1-4965-b306-daabc63778ba"
      },
      "execution_count": 171,
      "outputs": [
        {
          "output_type": "error",
          "ename": "RuntimeError",
          "evalue": "ignored",
          "traceback": [
            "\u001b[0;31m---------------------------------------------------------------------------\u001b[0m",
            "\u001b[0;31mRuntimeError\u001b[0m                              Traceback (most recent call last)",
            "\u001b[0;32m<ipython-input-171-a728d802ef10>\u001b[0m in \u001b[0;36m<cell line: 2>\u001b[0;34m()\u001b[0m\n\u001b[1;32m      1\u001b[0m \u001b[0;31m#make inference/prediction and visualize the model\u001b[0m\u001b[0;34m\u001b[0m\u001b[0;34m\u001b[0m\u001b[0m\n\u001b[1;32m      2\u001b[0m \u001b[0;32mwith\u001b[0m \u001b[0mtorch\u001b[0m\u001b[0;34m.\u001b[0m\u001b[0minference_mode\u001b[0m\u001b[0;34m(\u001b[0m\u001b[0;34m)\u001b[0m\u001b[0;34m:\u001b[0m\u001b[0;34m\u001b[0m\u001b[0;34m\u001b[0m\u001b[0m\n\u001b[0;32m----> 3\u001b[0;31m   \u001b[0mpred\u001b[0m\u001b[0;34m=\u001b[0m\u001b[0mmodel\u001b[0m\u001b[0;34m(\u001b[0m\u001b[0mx_train_b_sample\u001b[0m\u001b[0;34m[\u001b[0m\u001b[0;36m0\u001b[0m\u001b[0;34m]\u001b[0m\u001b[0;34m)\u001b[0m\u001b[0;34m\u001b[0m\u001b[0;34m\u001b[0m\u001b[0m\n\u001b[0m",
            "\u001b[0;32m/usr/local/lib/python3.9/dist-packages/torch/nn/modules/module.py\u001b[0m in \u001b[0;36m_call_impl\u001b[0;34m(self, *args, **kwargs)\u001b[0m\n\u001b[1;32m   1499\u001b[0m                 \u001b[0;32mor\u001b[0m \u001b[0m_global_backward_pre_hooks\u001b[0m \u001b[0;32mor\u001b[0m \u001b[0m_global_backward_hooks\u001b[0m\u001b[0;34m\u001b[0m\u001b[0;34m\u001b[0m\u001b[0m\n\u001b[1;32m   1500\u001b[0m                 or _global_forward_hooks or _global_forward_pre_hooks):\n\u001b[0;32m-> 1501\u001b[0;31m             \u001b[0;32mreturn\u001b[0m \u001b[0mforward_call\u001b[0m\u001b[0;34m(\u001b[0m\u001b[0;34m*\u001b[0m\u001b[0margs\u001b[0m\u001b[0;34m,\u001b[0m \u001b[0;34m**\u001b[0m\u001b[0mkwargs\u001b[0m\u001b[0;34m)\u001b[0m\u001b[0;34m\u001b[0m\u001b[0;34m\u001b[0m\u001b[0m\n\u001b[0m\u001b[1;32m   1502\u001b[0m         \u001b[0;31m# Do not call functions when jit is used\u001b[0m\u001b[0;34m\u001b[0m\u001b[0;34m\u001b[0m\u001b[0m\n\u001b[1;32m   1503\u001b[0m         \u001b[0mfull_backward_hooks\u001b[0m\u001b[0;34m,\u001b[0m \u001b[0mnon_full_backward_hooks\u001b[0m \u001b[0;34m=\u001b[0m \u001b[0;34m[\u001b[0m\u001b[0;34m]\u001b[0m\u001b[0;34m,\u001b[0m \u001b[0;34m[\u001b[0m\u001b[0;34m]\u001b[0m\u001b[0;34m\u001b[0m\u001b[0;34m\u001b[0m\u001b[0m\n",
            "\u001b[0;32m<ipython-input-168-8de1a6d98951>\u001b[0m in \u001b[0;36mforward\u001b[0;34m(self, x)\u001b[0m\n\u001b[1;32m     18\u001b[0m \u001b[0;34m\u001b[0m\u001b[0m\n\u001b[1;32m     19\u001b[0m \u001b[0;34m\u001b[0m\u001b[0m\n\u001b[0;32m---> 20\u001b[0;31m     \u001b[0;32mreturn\u001b[0m \u001b[0mself\u001b[0m\u001b[0;34m.\u001b[0m\u001b[0mlayer_stack\u001b[0m\u001b[0;34m(\u001b[0m\u001b[0mx\u001b[0m\u001b[0;34m)\u001b[0m\u001b[0;34m\u001b[0m\u001b[0;34m\u001b[0m\u001b[0m\n\u001b[0m\u001b[1;32m     21\u001b[0m \u001b[0;34m\u001b[0m\u001b[0m\n\u001b[1;32m     22\u001b[0m \u001b[0;34m\u001b[0m\u001b[0m\n",
            "\u001b[0;32m/usr/local/lib/python3.9/dist-packages/torch/nn/modules/module.py\u001b[0m in \u001b[0;36m_call_impl\u001b[0;34m(self, *args, **kwargs)\u001b[0m\n\u001b[1;32m   1499\u001b[0m                 \u001b[0;32mor\u001b[0m \u001b[0m_global_backward_pre_hooks\u001b[0m \u001b[0;32mor\u001b[0m \u001b[0m_global_backward_hooks\u001b[0m\u001b[0;34m\u001b[0m\u001b[0;34m\u001b[0m\u001b[0m\n\u001b[1;32m   1500\u001b[0m                 or _global_forward_hooks or _global_forward_pre_hooks):\n\u001b[0;32m-> 1501\u001b[0;31m             \u001b[0;32mreturn\u001b[0m \u001b[0mforward_call\u001b[0m\u001b[0;34m(\u001b[0m\u001b[0;34m*\u001b[0m\u001b[0margs\u001b[0m\u001b[0;34m,\u001b[0m \u001b[0;34m**\u001b[0m\u001b[0mkwargs\u001b[0m\u001b[0;34m)\u001b[0m\u001b[0;34m\u001b[0m\u001b[0;34m\u001b[0m\u001b[0m\n\u001b[0m\u001b[1;32m   1502\u001b[0m         \u001b[0;31m# Do not call functions when jit is used\u001b[0m\u001b[0;34m\u001b[0m\u001b[0;34m\u001b[0m\u001b[0m\n\u001b[1;32m   1503\u001b[0m         \u001b[0mfull_backward_hooks\u001b[0m\u001b[0;34m,\u001b[0m \u001b[0mnon_full_backward_hooks\u001b[0m \u001b[0;34m=\u001b[0m \u001b[0;34m[\u001b[0m\u001b[0;34m]\u001b[0m\u001b[0;34m,\u001b[0m \u001b[0;34m[\u001b[0m\u001b[0;34m]\u001b[0m\u001b[0;34m\u001b[0m\u001b[0;34m\u001b[0m\u001b[0m\n",
            "\u001b[0;32m/usr/local/lib/python3.9/dist-packages/torch/nn/modules/container.py\u001b[0m in \u001b[0;36mforward\u001b[0;34m(self, input)\u001b[0m\n\u001b[1;32m    215\u001b[0m     \u001b[0;32mdef\u001b[0m \u001b[0mforward\u001b[0m\u001b[0;34m(\u001b[0m\u001b[0mself\u001b[0m\u001b[0;34m,\u001b[0m \u001b[0minput\u001b[0m\u001b[0;34m)\u001b[0m\u001b[0;34m:\u001b[0m\u001b[0;34m\u001b[0m\u001b[0;34m\u001b[0m\u001b[0m\n\u001b[1;32m    216\u001b[0m         \u001b[0;32mfor\u001b[0m \u001b[0mmodule\u001b[0m \u001b[0;32min\u001b[0m \u001b[0mself\u001b[0m\u001b[0;34m:\u001b[0m\u001b[0;34m\u001b[0m\u001b[0;34m\u001b[0m\u001b[0m\n\u001b[0;32m--> 217\u001b[0;31m             \u001b[0minput\u001b[0m \u001b[0;34m=\u001b[0m \u001b[0mmodule\u001b[0m\u001b[0;34m(\u001b[0m\u001b[0minput\u001b[0m\u001b[0;34m)\u001b[0m\u001b[0;34m\u001b[0m\u001b[0;34m\u001b[0m\u001b[0m\n\u001b[0m\u001b[1;32m    218\u001b[0m         \u001b[0;32mreturn\u001b[0m \u001b[0minput\u001b[0m\u001b[0;34m\u001b[0m\u001b[0;34m\u001b[0m\u001b[0m\n\u001b[1;32m    219\u001b[0m \u001b[0;34m\u001b[0m\u001b[0m\n",
            "\u001b[0;32m/usr/local/lib/python3.9/dist-packages/torch/nn/modules/module.py\u001b[0m in \u001b[0;36m_call_impl\u001b[0;34m(self, *args, **kwargs)\u001b[0m\n\u001b[1;32m   1499\u001b[0m                 \u001b[0;32mor\u001b[0m \u001b[0m_global_backward_pre_hooks\u001b[0m \u001b[0;32mor\u001b[0m \u001b[0m_global_backward_hooks\u001b[0m\u001b[0;34m\u001b[0m\u001b[0;34m\u001b[0m\u001b[0m\n\u001b[1;32m   1500\u001b[0m                 or _global_forward_hooks or _global_forward_pre_hooks):\n\u001b[0;32m-> 1501\u001b[0;31m             \u001b[0;32mreturn\u001b[0m \u001b[0mforward_call\u001b[0m\u001b[0;34m(\u001b[0m\u001b[0;34m*\u001b[0m\u001b[0margs\u001b[0m\u001b[0;34m,\u001b[0m \u001b[0;34m**\u001b[0m\u001b[0mkwargs\u001b[0m\u001b[0;34m)\u001b[0m\u001b[0;34m\u001b[0m\u001b[0;34m\u001b[0m\u001b[0m\n\u001b[0m\u001b[1;32m   1502\u001b[0m         \u001b[0;31m# Do not call functions when jit is used\u001b[0m\u001b[0;34m\u001b[0m\u001b[0;34m\u001b[0m\u001b[0m\n\u001b[1;32m   1503\u001b[0m         \u001b[0mfull_backward_hooks\u001b[0m\u001b[0;34m,\u001b[0m \u001b[0mnon_full_backward_hooks\u001b[0m \u001b[0;34m=\u001b[0m \u001b[0;34m[\u001b[0m\u001b[0;34m]\u001b[0m\u001b[0;34m,\u001b[0m \u001b[0;34m[\u001b[0m\u001b[0;34m]\u001b[0m\u001b[0;34m\u001b[0m\u001b[0;34m\u001b[0m\u001b[0m\n",
            "\u001b[0;32m/usr/local/lib/python3.9/dist-packages/torch/nn/modules/linear.py\u001b[0m in \u001b[0;36mforward\u001b[0;34m(self, input)\u001b[0m\n\u001b[1;32m    112\u001b[0m \u001b[0;34m\u001b[0m\u001b[0m\n\u001b[1;32m    113\u001b[0m     \u001b[0;32mdef\u001b[0m \u001b[0mforward\u001b[0m\u001b[0;34m(\u001b[0m\u001b[0mself\u001b[0m\u001b[0;34m,\u001b[0m \u001b[0minput\u001b[0m\u001b[0;34m:\u001b[0m \u001b[0mTensor\u001b[0m\u001b[0;34m)\u001b[0m \u001b[0;34m->\u001b[0m \u001b[0mTensor\u001b[0m\u001b[0;34m:\u001b[0m\u001b[0;34m\u001b[0m\u001b[0;34m\u001b[0m\u001b[0m\n\u001b[0;32m--> 114\u001b[0;31m         \u001b[0;32mreturn\u001b[0m \u001b[0mF\u001b[0m\u001b[0;34m.\u001b[0m\u001b[0mlinear\u001b[0m\u001b[0;34m(\u001b[0m\u001b[0minput\u001b[0m\u001b[0;34m,\u001b[0m \u001b[0mself\u001b[0m\u001b[0;34m.\u001b[0m\u001b[0mweight\u001b[0m\u001b[0;34m,\u001b[0m \u001b[0mself\u001b[0m\u001b[0;34m.\u001b[0m\u001b[0mbias\u001b[0m\u001b[0;34m)\u001b[0m\u001b[0;34m\u001b[0m\u001b[0;34m\u001b[0m\u001b[0m\n\u001b[0m\u001b[1;32m    115\u001b[0m \u001b[0;34m\u001b[0m\u001b[0m\n\u001b[1;32m    116\u001b[0m     \u001b[0;32mdef\u001b[0m \u001b[0mextra_repr\u001b[0m\u001b[0;34m(\u001b[0m\u001b[0mself\u001b[0m\u001b[0;34m)\u001b[0m \u001b[0;34m->\u001b[0m \u001b[0mstr\u001b[0m\u001b[0;34m:\u001b[0m\u001b[0;34m\u001b[0m\u001b[0;34m\u001b[0m\u001b[0m\n",
            "\u001b[0;31mRuntimeError\u001b[0m: Expected all tensors to be on the same device, but found at least two devices, cuda:0 and cpu! (when checking argument for argument mat1 in method wrapper_CUDA_addmm)"
          ]
        }
      ]
    },
    {
      "cell_type": "markdown",
      "source": [
        "##CREATE OPTIMIZER / LOSS_FUNC"
      ],
      "metadata": {
        "id": "VxS7K9TsgiSY"
      }
    },
    {
      "cell_type": "code",
      "source": [
        "#create loss func\n",
        "loss_func=nn.CrossEntropyLoss()\n",
        "#optimizer\n",
        "\n",
        "optimizer=torch.optim.SGD(model.parameters(),lr=0.1)"
      ],
      "metadata": {
        "id": "EaAq8b2yehWZ"
      },
      "execution_count": 173,
      "outputs": []
    },
    {
      "cell_type": "markdown",
      "source": [
        "##TRAINING / TESTING LOOP"
      ],
      "metadata": {
        "id": "6vBh6ZxMPsYt"
      }
    },
    {
      "cell_type": "markdown",
      "source": [
        "tips\n",
        "0. Loop throug the data\n",
        "1. set to training mode\n",
        "2. Forward pass\n",
        "3. Calculate the loss(pred to ground truth)\n",
        "4. optimizer zer grad\n",
        "5. loss backward .. back propogation\n",
        "6. optimizer step - use opt and adjust parameter ... grad desent\n"
      ],
      "metadata": {
        "id": "ntg6do8cclFi"
      }
    },
    {
      "cell_type": "code",
      "source": [
        "from tqdm.auto import tqdm\n",
        "#creating loop using batches\n",
        "epochs=20\n",
        "train_loss_track=[]\n",
        "test_loss_track=[]\n",
        "\n",
        "for epoch in tqdm(range(epochs)):\n",
        "  torch.manual_seed(67)\n",
        "  model.train()\n",
        "  train_loss=0\n",
        "  test_loss=0\n",
        "  \n",
        "  for batch, (x_train,y_train) in enumerate(train_dataloader):\n",
        "    x_train,y_train=x_train.to(device),y_train.to(device)\n",
        "    model.train()\n",
        "    y_pred=model(x_train)\n",
        "    loss=loss_func(y_pred,y_train)\n",
        "    train_loss +=loss\n",
        "    optimizer.zero_grad\n",
        "\n",
        "    loss.backward()\n",
        "    optimizer.step()\n",
        "   # print(loss,batch)\n",
        "    train_loss_track.append(loss.detach())\n",
        "\n",
        "  for batch, (x_test,y_test) in enumerate(test_dataloader):\n",
        "    x_test,y_test=x_test.to(device),y_test.to(device)\n",
        "\n",
        "    with torch.inference_mode():\n",
        "      model.eval()\n",
        "      test_raw_pred=model(x_test).squeeze()\n",
        "      test_loss=loss_func(test_raw_pred,y_test)\n",
        "      test_loss_track.append(test_loss.detach())\n",
        "  print(loss)\n",
        "  #plt.plot(train_loss_track)\n",
        "  "
      ],
      "metadata": {
        "id": "mOHhU9GajipP",
        "outputId": "73bc5c71-2fc3-42de-8e4c-0b48505da440",
        "colab": {
          "base_uri": "https://localhost:8080/",
          "height": 691,
          "referenced_widgets": [
            "9bd8f62c5f3c403c9f3e77e8fda6a9da",
            "ca089f60ebc04e50b632ee1fedd86b58",
            "31bf6abfadcf4a568917e3bead37e6cf",
            "6d71ad5179ec4d999f3072ca52dd5377",
            "63a7cbc566b743babeaa2f9354636683",
            "13baa667ab0f4a4fb5211742d1b3d2be",
            "f118daf08806487fb24d1370604f6d8c",
            "36374b0bd5674fe58f52d5a513c660b8",
            "5fc956ab8562447288627087861c1e1f",
            "5755f212bad84a3ba0b8382f0982466e",
            "25950ef906b74916863e1f729ccff0b8"
          ]
        }
      },
      "execution_count": 174,
      "outputs": [
        {
          "output_type": "display_data",
          "data": {
            "text/plain": [
              "  0%|          | 0/20 [00:00<?, ?it/s]"
            ],
            "application/vnd.jupyter.widget-view+json": {
              "version_major": 2,
              "version_minor": 0,
              "model_id": "9bd8f62c5f3c403c9f3e77e8fda6a9da"
            }
          },
          "metadata": {}
        },
        {
          "output_type": "stream",
          "name": "stdout",
          "text": [
            "tensor(3.5114, device='cuda:0', grad_fn=<NllLossBackward0>)\n",
            "tensor(4.1732, device='cuda:0', grad_fn=<NllLossBackward0>)\n",
            "tensor(4.5556, device='cuda:0', grad_fn=<NllLossBackward0>)\n",
            "tensor(8.0025, device='cuda:0', grad_fn=<NllLossBackward0>)\n",
            "tensor(8.9188, device='cuda:0', grad_fn=<NllLossBackward0>)\n",
            "tensor(8.9172, device='cuda:0', grad_fn=<NllLossBackward0>)\n",
            "tensor(9.5372, device='cuda:0', grad_fn=<NllLossBackward0>)\n",
            "tensor(13.1564, device='cuda:0', grad_fn=<NllLossBackward0>)\n",
            "tensor(10.4946, device='cuda:0', grad_fn=<NllLossBackward0>)\n",
            "tensor(14.6232, device='cuda:0', grad_fn=<NllLossBackward0>)\n",
            "tensor(14.4974, device='cuda:0', grad_fn=<NllLossBackward0>)\n",
            "tensor(12.3682, device='cuda:0', grad_fn=<NllLossBackward0>)\n",
            "tensor(23.7173, device='cuda:0', grad_fn=<NllLossBackward0>)\n",
            "tensor(15.4342, device='cuda:0', grad_fn=<NllLossBackward0>)\n",
            "tensor(16.4822, device='cuda:0', grad_fn=<NllLossBackward0>)\n",
            "tensor(19.6197, device='cuda:0', grad_fn=<NllLossBackward0>)\n"
          ]
        },
        {
          "output_type": "error",
          "ename": "KeyboardInterrupt",
          "evalue": "ignored",
          "traceback": [
            "\u001b[0;31m---------------------------------------------------------------------------\u001b[0m",
            "\u001b[0;31mKeyboardInterrupt\u001b[0m                         Traceback (most recent call last)",
            "\u001b[0;32m<ipython-input-174-7b4fecd48370>\u001b[0m in \u001b[0;36m<cell line: 7>\u001b[0;34m()\u001b[0m\n\u001b[1;32m     11\u001b[0m   \u001b[0mtest_loss\u001b[0m\u001b[0;34m=\u001b[0m\u001b[0;36m0\u001b[0m\u001b[0;34m\u001b[0m\u001b[0;34m\u001b[0m\u001b[0m\n\u001b[1;32m     12\u001b[0m \u001b[0;34m\u001b[0m\u001b[0m\n\u001b[0;32m---> 13\u001b[0;31m   \u001b[0;32mfor\u001b[0m \u001b[0mbatch\u001b[0m\u001b[0;34m,\u001b[0m \u001b[0;34m(\u001b[0m\u001b[0mx_train\u001b[0m\u001b[0;34m,\u001b[0m\u001b[0my_train\u001b[0m\u001b[0;34m)\u001b[0m \u001b[0;32min\u001b[0m \u001b[0menumerate\u001b[0m\u001b[0;34m(\u001b[0m\u001b[0mtrain_dataloader\u001b[0m\u001b[0;34m)\u001b[0m\u001b[0;34m:\u001b[0m\u001b[0;34m\u001b[0m\u001b[0;34m\u001b[0m\u001b[0m\n\u001b[0m\u001b[1;32m     14\u001b[0m     \u001b[0mx_train\u001b[0m\u001b[0;34m,\u001b[0m\u001b[0my_train\u001b[0m\u001b[0;34m=\u001b[0m\u001b[0mx_train\u001b[0m\u001b[0;34m.\u001b[0m\u001b[0mto\u001b[0m\u001b[0;34m(\u001b[0m\u001b[0mdevice\u001b[0m\u001b[0;34m)\u001b[0m\u001b[0;34m,\u001b[0m\u001b[0my_train\u001b[0m\u001b[0;34m.\u001b[0m\u001b[0mto\u001b[0m\u001b[0;34m(\u001b[0m\u001b[0mdevice\u001b[0m\u001b[0;34m)\u001b[0m\u001b[0;34m\u001b[0m\u001b[0;34m\u001b[0m\u001b[0m\n\u001b[1;32m     15\u001b[0m     \u001b[0mmodel\u001b[0m\u001b[0;34m.\u001b[0m\u001b[0mtrain\u001b[0m\u001b[0;34m(\u001b[0m\u001b[0;34m)\u001b[0m\u001b[0;34m\u001b[0m\u001b[0;34m\u001b[0m\u001b[0m\n",
            "\u001b[0;32m/usr/local/lib/python3.9/dist-packages/torch/utils/data/dataloader.py\u001b[0m in \u001b[0;36m__next__\u001b[0;34m(self)\u001b[0m\n\u001b[1;32m    632\u001b[0m                 \u001b[0;31m# TODO(https://github.com/pytorch/pytorch/issues/76750)\u001b[0m\u001b[0;34m\u001b[0m\u001b[0;34m\u001b[0m\u001b[0m\n\u001b[1;32m    633\u001b[0m                 \u001b[0mself\u001b[0m\u001b[0;34m.\u001b[0m\u001b[0m_reset\u001b[0m\u001b[0;34m(\u001b[0m\u001b[0;34m)\u001b[0m  \u001b[0;31m# type: ignore[call-arg]\u001b[0m\u001b[0;34m\u001b[0m\u001b[0;34m\u001b[0m\u001b[0m\n\u001b[0;32m--> 634\u001b[0;31m             \u001b[0mdata\u001b[0m \u001b[0;34m=\u001b[0m \u001b[0mself\u001b[0m\u001b[0;34m.\u001b[0m\u001b[0m_next_data\u001b[0m\u001b[0;34m(\u001b[0m\u001b[0;34m)\u001b[0m\u001b[0;34m\u001b[0m\u001b[0;34m\u001b[0m\u001b[0m\n\u001b[0m\u001b[1;32m    635\u001b[0m             \u001b[0mself\u001b[0m\u001b[0;34m.\u001b[0m\u001b[0m_num_yielded\u001b[0m \u001b[0;34m+=\u001b[0m \u001b[0;36m1\u001b[0m\u001b[0;34m\u001b[0m\u001b[0;34m\u001b[0m\u001b[0m\n\u001b[1;32m    636\u001b[0m             \u001b[0;32mif\u001b[0m \u001b[0mself\u001b[0m\u001b[0;34m.\u001b[0m\u001b[0m_dataset_kind\u001b[0m \u001b[0;34m==\u001b[0m \u001b[0m_DatasetKind\u001b[0m\u001b[0;34m.\u001b[0m\u001b[0mIterable\u001b[0m \u001b[0;32mand\u001b[0m\u001b[0;31m \u001b[0m\u001b[0;31m\\\u001b[0m\u001b[0;34m\u001b[0m\u001b[0;34m\u001b[0m\u001b[0m\n",
            "\u001b[0;32m/usr/local/lib/python3.9/dist-packages/torch/utils/data/dataloader.py\u001b[0m in \u001b[0;36m_next_data\u001b[0;34m(self)\u001b[0m\n\u001b[1;32m    676\u001b[0m     \u001b[0;32mdef\u001b[0m \u001b[0m_next_data\u001b[0m\u001b[0;34m(\u001b[0m\u001b[0mself\u001b[0m\u001b[0;34m)\u001b[0m\u001b[0;34m:\u001b[0m\u001b[0;34m\u001b[0m\u001b[0;34m\u001b[0m\u001b[0m\n\u001b[1;32m    677\u001b[0m         \u001b[0mindex\u001b[0m \u001b[0;34m=\u001b[0m \u001b[0mself\u001b[0m\u001b[0;34m.\u001b[0m\u001b[0m_next_index\u001b[0m\u001b[0;34m(\u001b[0m\u001b[0;34m)\u001b[0m  \u001b[0;31m# may raise StopIteration\u001b[0m\u001b[0;34m\u001b[0m\u001b[0;34m\u001b[0m\u001b[0m\n\u001b[0;32m--> 678\u001b[0;31m         \u001b[0mdata\u001b[0m \u001b[0;34m=\u001b[0m \u001b[0mself\u001b[0m\u001b[0;34m.\u001b[0m\u001b[0m_dataset_fetcher\u001b[0m\u001b[0;34m.\u001b[0m\u001b[0mfetch\u001b[0m\u001b[0;34m(\u001b[0m\u001b[0mindex\u001b[0m\u001b[0;34m)\u001b[0m  \u001b[0;31m# may raise StopIteration\u001b[0m\u001b[0;34m\u001b[0m\u001b[0;34m\u001b[0m\u001b[0m\n\u001b[0m\u001b[1;32m    679\u001b[0m         \u001b[0;32mif\u001b[0m \u001b[0mself\u001b[0m\u001b[0;34m.\u001b[0m\u001b[0m_pin_memory\u001b[0m\u001b[0;34m:\u001b[0m\u001b[0;34m\u001b[0m\u001b[0;34m\u001b[0m\u001b[0m\n\u001b[1;32m    680\u001b[0m             \u001b[0mdata\u001b[0m \u001b[0;34m=\u001b[0m \u001b[0m_utils\u001b[0m\u001b[0;34m.\u001b[0m\u001b[0mpin_memory\u001b[0m\u001b[0;34m.\u001b[0m\u001b[0mpin_memory\u001b[0m\u001b[0;34m(\u001b[0m\u001b[0mdata\u001b[0m\u001b[0;34m,\u001b[0m \u001b[0mself\u001b[0m\u001b[0;34m.\u001b[0m\u001b[0m_pin_memory_device\u001b[0m\u001b[0;34m)\u001b[0m\u001b[0;34m\u001b[0m\u001b[0;34m\u001b[0m\u001b[0m\n",
            "\u001b[0;32m/usr/local/lib/python3.9/dist-packages/torch/utils/data/_utils/fetch.py\u001b[0m in \u001b[0;36mfetch\u001b[0;34m(self, possibly_batched_index)\u001b[0m\n\u001b[1;32m     49\u001b[0m                 \u001b[0mdata\u001b[0m \u001b[0;34m=\u001b[0m \u001b[0mself\u001b[0m\u001b[0;34m.\u001b[0m\u001b[0mdataset\u001b[0m\u001b[0;34m.\u001b[0m\u001b[0m__getitems__\u001b[0m\u001b[0;34m(\u001b[0m\u001b[0mpossibly_batched_index\u001b[0m\u001b[0;34m)\u001b[0m\u001b[0;34m\u001b[0m\u001b[0;34m\u001b[0m\u001b[0m\n\u001b[1;32m     50\u001b[0m             \u001b[0;32melse\u001b[0m\u001b[0;34m:\u001b[0m\u001b[0;34m\u001b[0m\u001b[0;34m\u001b[0m\u001b[0m\n\u001b[0;32m---> 51\u001b[0;31m                 \u001b[0mdata\u001b[0m \u001b[0;34m=\u001b[0m \u001b[0;34m[\u001b[0m\u001b[0mself\u001b[0m\u001b[0;34m.\u001b[0m\u001b[0mdataset\u001b[0m\u001b[0;34m[\u001b[0m\u001b[0midx\u001b[0m\u001b[0;34m]\u001b[0m \u001b[0;32mfor\u001b[0m \u001b[0midx\u001b[0m \u001b[0;32min\u001b[0m \u001b[0mpossibly_batched_index\u001b[0m\u001b[0;34m]\u001b[0m\u001b[0;34m\u001b[0m\u001b[0;34m\u001b[0m\u001b[0m\n\u001b[0m\u001b[1;32m     52\u001b[0m         \u001b[0;32melse\u001b[0m\u001b[0;34m:\u001b[0m\u001b[0;34m\u001b[0m\u001b[0;34m\u001b[0m\u001b[0m\n\u001b[1;32m     53\u001b[0m             \u001b[0mdata\u001b[0m \u001b[0;34m=\u001b[0m \u001b[0mself\u001b[0m\u001b[0;34m.\u001b[0m\u001b[0mdataset\u001b[0m\u001b[0;34m[\u001b[0m\u001b[0mpossibly_batched_index\u001b[0m\u001b[0;34m]\u001b[0m\u001b[0;34m\u001b[0m\u001b[0;34m\u001b[0m\u001b[0m\n",
            "\u001b[0;32m/usr/local/lib/python3.9/dist-packages/torch/utils/data/_utils/fetch.py\u001b[0m in \u001b[0;36m<listcomp>\u001b[0;34m(.0)\u001b[0m\n\u001b[1;32m     49\u001b[0m                 \u001b[0mdata\u001b[0m \u001b[0;34m=\u001b[0m \u001b[0mself\u001b[0m\u001b[0;34m.\u001b[0m\u001b[0mdataset\u001b[0m\u001b[0;34m.\u001b[0m\u001b[0m__getitems__\u001b[0m\u001b[0;34m(\u001b[0m\u001b[0mpossibly_batched_index\u001b[0m\u001b[0;34m)\u001b[0m\u001b[0;34m\u001b[0m\u001b[0;34m\u001b[0m\u001b[0m\n\u001b[1;32m     50\u001b[0m             \u001b[0;32melse\u001b[0m\u001b[0;34m:\u001b[0m\u001b[0;34m\u001b[0m\u001b[0;34m\u001b[0m\u001b[0m\n\u001b[0;32m---> 51\u001b[0;31m                 \u001b[0mdata\u001b[0m \u001b[0;34m=\u001b[0m \u001b[0;34m[\u001b[0m\u001b[0mself\u001b[0m\u001b[0;34m.\u001b[0m\u001b[0mdataset\u001b[0m\u001b[0;34m[\u001b[0m\u001b[0midx\u001b[0m\u001b[0;34m]\u001b[0m \u001b[0;32mfor\u001b[0m \u001b[0midx\u001b[0m \u001b[0;32min\u001b[0m \u001b[0mpossibly_batched_index\u001b[0m\u001b[0;34m]\u001b[0m\u001b[0;34m\u001b[0m\u001b[0;34m\u001b[0m\u001b[0m\n\u001b[0m\u001b[1;32m     52\u001b[0m         \u001b[0;32melse\u001b[0m\u001b[0;34m:\u001b[0m\u001b[0;34m\u001b[0m\u001b[0;34m\u001b[0m\u001b[0m\n\u001b[1;32m     53\u001b[0m             \u001b[0mdata\u001b[0m \u001b[0;34m=\u001b[0m \u001b[0mself\u001b[0m\u001b[0;34m.\u001b[0m\u001b[0mdataset\u001b[0m\u001b[0;34m[\u001b[0m\u001b[0mpossibly_batched_index\u001b[0m\u001b[0;34m]\u001b[0m\u001b[0;34m\u001b[0m\u001b[0;34m\u001b[0m\u001b[0m\n",
            "\u001b[0;32m/usr/local/lib/python3.9/dist-packages/torchvision/datasets/mnist.py\u001b[0m in \u001b[0;36m__getitem__\u001b[0;34m(self, index)\u001b[0m\n\u001b[1;32m    140\u001b[0m         \u001b[0;31m# doing this so that it is consistent with all other datasets\u001b[0m\u001b[0;34m\u001b[0m\u001b[0;34m\u001b[0m\u001b[0m\n\u001b[1;32m    141\u001b[0m         \u001b[0;31m# to return a PIL Image\u001b[0m\u001b[0;34m\u001b[0m\u001b[0;34m\u001b[0m\u001b[0m\n\u001b[0;32m--> 142\u001b[0;31m         \u001b[0mimg\u001b[0m \u001b[0;34m=\u001b[0m \u001b[0mImage\u001b[0m\u001b[0;34m.\u001b[0m\u001b[0mfromarray\u001b[0m\u001b[0;34m(\u001b[0m\u001b[0mimg\u001b[0m\u001b[0;34m.\u001b[0m\u001b[0mnumpy\u001b[0m\u001b[0;34m(\u001b[0m\u001b[0;34m)\u001b[0m\u001b[0;34m,\u001b[0m \u001b[0mmode\u001b[0m\u001b[0;34m=\u001b[0m\u001b[0;34m\"L\"\u001b[0m\u001b[0;34m)\u001b[0m\u001b[0;34m\u001b[0m\u001b[0;34m\u001b[0m\u001b[0m\n\u001b[0m\u001b[1;32m    143\u001b[0m \u001b[0;34m\u001b[0m\u001b[0m\n\u001b[1;32m    144\u001b[0m         \u001b[0;32mif\u001b[0m \u001b[0mself\u001b[0m\u001b[0;34m.\u001b[0m\u001b[0mtransform\u001b[0m \u001b[0;32mis\u001b[0m \u001b[0;32mnot\u001b[0m \u001b[0;32mNone\u001b[0m\u001b[0;34m:\u001b[0m\u001b[0;34m\u001b[0m\u001b[0;34m\u001b[0m\u001b[0m\n",
            "\u001b[0;32m/usr/local/lib/python3.9/dist-packages/PIL/Image.py\u001b[0m in \u001b[0;36mfromarray\u001b[0;34m(obj, mode)\u001b[0m\n\u001b[1;32m   2823\u001b[0m     \u001b[0;34m.\u001b[0m\u001b[0;34m.\u001b[0m \u001b[0mversionadded\u001b[0m\u001b[0;34m:\u001b[0m\u001b[0;34m:\u001b[0m \u001b[0;36m1.1\u001b[0m\u001b[0;36m.6\u001b[0m\u001b[0;34m\u001b[0m\u001b[0;34m\u001b[0m\u001b[0m\n\u001b[1;32m   2824\u001b[0m     \"\"\"\n\u001b[0;32m-> 2825\u001b[0;31m     \u001b[0marr\u001b[0m \u001b[0;34m=\u001b[0m \u001b[0mobj\u001b[0m\u001b[0;34m.\u001b[0m\u001b[0m__array_interface__\u001b[0m\u001b[0;34m\u001b[0m\u001b[0;34m\u001b[0m\u001b[0m\n\u001b[0m\u001b[1;32m   2826\u001b[0m     \u001b[0mshape\u001b[0m \u001b[0;34m=\u001b[0m \u001b[0marr\u001b[0m\u001b[0;34m[\u001b[0m\u001b[0;34m\"shape\"\u001b[0m\u001b[0;34m]\u001b[0m\u001b[0;34m\u001b[0m\u001b[0;34m\u001b[0m\u001b[0m\n\u001b[1;32m   2827\u001b[0m     \u001b[0mndim\u001b[0m \u001b[0;34m=\u001b[0m \u001b[0mlen\u001b[0m\u001b[0;34m(\u001b[0m\u001b[0mshape\u001b[0m\u001b[0;34m)\u001b[0m\u001b[0;34m\u001b[0m\u001b[0;34m\u001b[0m\u001b[0m\n",
            "\u001b[0;31mKeyboardInterrupt\u001b[0m: "
          ]
        }
      ]
    },
    {
      "cell_type": "code",
      "source": [
        "loss"
      ],
      "metadata": {
        "id": "N57AzwLIpK8I",
        "outputId": "922e740d-4a1e-41bb-a8ca-95a91d3ce133",
        "colab": {
          "base_uri": "https://localhost:8080/"
        }
      },
      "execution_count": 165,
      "outputs": [
        {
          "output_type": "execute_result",
          "data": {
            "text/plain": [
              "tensor(2.3057, device='cuda:0', grad_fn=<NllLossBackward0>)"
            ]
          },
          "metadata": {},
          "execution_count": 165
        }
      ]
    },
    {
      "cell_type": "code",
      "source": [
        "#initiate trackers and hyper parameters\n",
        "epoch=1000\n",
        "epochs=range(epoch)\n",
        "train_loss_track=[]\n",
        "test_loss_track=[]\n",
        "#training loop\n",
        "for epoch in range(epoch):\n",
        "\n",
        "  model.train()\n",
        "  y_raw=model(x_train).squeeze()\n",
        "  y_pred=torch.round(torch.sigmoid(y_raw))\n",
        "\n",
        "  #LOSS CAL\n",
        "  loss=loss_func(y_raw,y_train)\n",
        "\n",
        "  optimizer.zero_grad\n",
        "\n",
        "  loss.backward()\n",
        "  optimizer.step()\n",
        "  print(accu(y_pred,y_train))\n",
        "  with torch.inference_mode():\n",
        "    model.eval()\n",
        "    test_raw_pred=model(x_test).squeeze()\n",
        "    test_loss=loss_func(test_raw_pred,y_test)\n",
        "    test_loss_track.append(test_loss.detach())\n",
        "    train_loss_track.append(loss.detach())\n",
        "\n",
        "\n",
        "  ####testing part\n",
        " \n",
        "details_loss_curve(epochs,train_loss_track,test_loss_track)"
      ],
      "metadata": {
        "id": "UuHsExVJbq5E"
      },
      "execution_count": null,
      "outputs": []
    },
    {
      "cell_type": "markdown",
      "source": [
        "##EVALUATION OF THE MODEL"
      ],
      "metadata": {
        "id": "BNgX5AsNKXxH"
      }
    },
    {
      "cell_type": "code",
      "source": [
        "#plot / matrices\n",
        "\n"
      ],
      "metadata": {
        "id": "tCba4hBEeOa-"
      },
      "execution_count": null,
      "outputs": []
    },
    {
      "cell_type": "markdown",
      "source": [
        "##SAVING/LOADING"
      ],
      "metadata": {
        "id": "KwxZmgXUPJgI"
      }
    },
    {
      "cell_type": "markdown",
      "source": [
        "tips\n",
        "1.  torch.save() \n",
        "2.  torch.load()\n",
        "3.  toch.nn.Module.load_state_dict()"
      ],
      "metadata": {
        "id": "zW_QlscXPZsx"
      }
    },
    {
      "cell_type": "code",
      "source": [],
      "metadata": {
        "id": "se4kqYtmQwPX"
      },
      "execution_count": null,
      "outputs": []
    },
    {
      "cell_type": "code",
      "source": [],
      "metadata": {
        "id": "na5mRKb3fvDb"
      },
      "execution_count": null,
      "outputs": []
    }
  ]
}