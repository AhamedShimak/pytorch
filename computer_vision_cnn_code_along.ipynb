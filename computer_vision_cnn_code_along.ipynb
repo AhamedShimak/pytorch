{
  "nbformat": 4,
  "nbformat_minor": 0,
  "metadata": {
    "colab": {
      "provenance": [],
      "authorship_tag": "ABX9TyN9iIwOp0gJwSzzgdOc1Zi0",
      "include_colab_link": true
    },
    "kernelspec": {
      "name": "python3",
      "display_name": "Python 3"
    },
    "language_info": {
      "name": "python"
    },
    "accelerator": "GPU",
    "gpuClass": "standard",
    "widgets": {
      "application/vnd.jupyter.widget-state+json": {
        "aada9b411ce7462e953c8246d400323c": {
          "model_module": "@jupyter-widgets/controls",
          "model_name": "HBoxModel",
          "model_module_version": "1.5.0",
          "state": {
            "_dom_classes": [],
            "_model_module": "@jupyter-widgets/controls",
            "_model_module_version": "1.5.0",
            "_model_name": "HBoxModel",
            "_view_count": null,
            "_view_module": "@jupyter-widgets/controls",
            "_view_module_version": "1.5.0",
            "_view_name": "HBoxView",
            "box_style": "",
            "children": [
              "IPY_MODEL_fa096da83ba9467da35214d00ee53286",
              "IPY_MODEL_aa71268168fd42afae7078c65b4176eb",
              "IPY_MODEL_374baba32d3a4c708278562e7022538b"
            ],
            "layout": "IPY_MODEL_b20a2ac7ff264f6eb168903fbef6c26f"
          }
        },
        "fa096da83ba9467da35214d00ee53286": {
          "model_module": "@jupyter-widgets/controls",
          "model_name": "HTMLModel",
          "model_module_version": "1.5.0",
          "state": {
            "_dom_classes": [],
            "_model_module": "@jupyter-widgets/controls",
            "_model_module_version": "1.5.0",
            "_model_name": "HTMLModel",
            "_view_count": null,
            "_view_module": "@jupyter-widgets/controls",
            "_view_module_version": "1.5.0",
            "_view_name": "HTMLView",
            "description": "",
            "description_tooltip": null,
            "layout": "IPY_MODEL_6d57ed19b4a148909cc968c83ded227a",
            "placeholder": "​",
            "style": "IPY_MODEL_9f2a982b483f406bb2e9405c6db3bb17",
            "value": "100%"
          }
        },
        "aa71268168fd42afae7078c65b4176eb": {
          "model_module": "@jupyter-widgets/controls",
          "model_name": "FloatProgressModel",
          "model_module_version": "1.5.0",
          "state": {
            "_dom_classes": [],
            "_model_module": "@jupyter-widgets/controls",
            "_model_module_version": "1.5.0",
            "_model_name": "FloatProgressModel",
            "_view_count": null,
            "_view_module": "@jupyter-widgets/controls",
            "_view_module_version": "1.5.0",
            "_view_name": "ProgressView",
            "bar_style": "success",
            "description": "",
            "description_tooltip": null,
            "layout": "IPY_MODEL_6708a4aa60914d54a35913fd8222fdd4",
            "max": 5,
            "min": 0,
            "orientation": "horizontal",
            "style": "IPY_MODEL_ee0a5c6a0a84401bb5609f06524123ef",
            "value": 5
          }
        },
        "374baba32d3a4c708278562e7022538b": {
          "model_module": "@jupyter-widgets/controls",
          "model_name": "HTMLModel",
          "model_module_version": "1.5.0",
          "state": {
            "_dom_classes": [],
            "_model_module": "@jupyter-widgets/controls",
            "_model_module_version": "1.5.0",
            "_model_name": "HTMLModel",
            "_view_count": null,
            "_view_module": "@jupyter-widgets/controls",
            "_view_module_version": "1.5.0",
            "_view_name": "HTMLView",
            "description": "",
            "description_tooltip": null,
            "layout": "IPY_MODEL_1dc113f6344340dcb79b6d9ab2913abb",
            "placeholder": "​",
            "style": "IPY_MODEL_b8bf9331f03244ca94206e5af27a66d7",
            "value": " 5/5 [01:28&lt;00:00, 17.72s/it]"
          }
        },
        "b20a2ac7ff264f6eb168903fbef6c26f": {
          "model_module": "@jupyter-widgets/base",
          "model_name": "LayoutModel",
          "model_module_version": "1.2.0",
          "state": {
            "_model_module": "@jupyter-widgets/base",
            "_model_module_version": "1.2.0",
            "_model_name": "LayoutModel",
            "_view_count": null,
            "_view_module": "@jupyter-widgets/base",
            "_view_module_version": "1.2.0",
            "_view_name": "LayoutView",
            "align_content": null,
            "align_items": null,
            "align_self": null,
            "border": null,
            "bottom": null,
            "display": null,
            "flex": null,
            "flex_flow": null,
            "grid_area": null,
            "grid_auto_columns": null,
            "grid_auto_flow": null,
            "grid_auto_rows": null,
            "grid_column": null,
            "grid_gap": null,
            "grid_row": null,
            "grid_template_areas": null,
            "grid_template_columns": null,
            "grid_template_rows": null,
            "height": null,
            "justify_content": null,
            "justify_items": null,
            "left": null,
            "margin": null,
            "max_height": null,
            "max_width": null,
            "min_height": null,
            "min_width": null,
            "object_fit": null,
            "object_position": null,
            "order": null,
            "overflow": null,
            "overflow_x": null,
            "overflow_y": null,
            "padding": null,
            "right": null,
            "top": null,
            "visibility": null,
            "width": null
          }
        },
        "6d57ed19b4a148909cc968c83ded227a": {
          "model_module": "@jupyter-widgets/base",
          "model_name": "LayoutModel",
          "model_module_version": "1.2.0",
          "state": {
            "_model_module": "@jupyter-widgets/base",
            "_model_module_version": "1.2.0",
            "_model_name": "LayoutModel",
            "_view_count": null,
            "_view_module": "@jupyter-widgets/base",
            "_view_module_version": "1.2.0",
            "_view_name": "LayoutView",
            "align_content": null,
            "align_items": null,
            "align_self": null,
            "border": null,
            "bottom": null,
            "display": null,
            "flex": null,
            "flex_flow": null,
            "grid_area": null,
            "grid_auto_columns": null,
            "grid_auto_flow": null,
            "grid_auto_rows": null,
            "grid_column": null,
            "grid_gap": null,
            "grid_row": null,
            "grid_template_areas": null,
            "grid_template_columns": null,
            "grid_template_rows": null,
            "height": null,
            "justify_content": null,
            "justify_items": null,
            "left": null,
            "margin": null,
            "max_height": null,
            "max_width": null,
            "min_height": null,
            "min_width": null,
            "object_fit": null,
            "object_position": null,
            "order": null,
            "overflow": null,
            "overflow_x": null,
            "overflow_y": null,
            "padding": null,
            "right": null,
            "top": null,
            "visibility": null,
            "width": null
          }
        },
        "9f2a982b483f406bb2e9405c6db3bb17": {
          "model_module": "@jupyter-widgets/controls",
          "model_name": "DescriptionStyleModel",
          "model_module_version": "1.5.0",
          "state": {
            "_model_module": "@jupyter-widgets/controls",
            "_model_module_version": "1.5.0",
            "_model_name": "DescriptionStyleModel",
            "_view_count": null,
            "_view_module": "@jupyter-widgets/base",
            "_view_module_version": "1.2.0",
            "_view_name": "StyleView",
            "description_width": ""
          }
        },
        "6708a4aa60914d54a35913fd8222fdd4": {
          "model_module": "@jupyter-widgets/base",
          "model_name": "LayoutModel",
          "model_module_version": "1.2.0",
          "state": {
            "_model_module": "@jupyter-widgets/base",
            "_model_module_version": "1.2.0",
            "_model_name": "LayoutModel",
            "_view_count": null,
            "_view_module": "@jupyter-widgets/base",
            "_view_module_version": "1.2.0",
            "_view_name": "LayoutView",
            "align_content": null,
            "align_items": null,
            "align_self": null,
            "border": null,
            "bottom": null,
            "display": null,
            "flex": null,
            "flex_flow": null,
            "grid_area": null,
            "grid_auto_columns": null,
            "grid_auto_flow": null,
            "grid_auto_rows": null,
            "grid_column": null,
            "grid_gap": null,
            "grid_row": null,
            "grid_template_areas": null,
            "grid_template_columns": null,
            "grid_template_rows": null,
            "height": null,
            "justify_content": null,
            "justify_items": null,
            "left": null,
            "margin": null,
            "max_height": null,
            "max_width": null,
            "min_height": null,
            "min_width": null,
            "object_fit": null,
            "object_position": null,
            "order": null,
            "overflow": null,
            "overflow_x": null,
            "overflow_y": null,
            "padding": null,
            "right": null,
            "top": null,
            "visibility": null,
            "width": null
          }
        },
        "ee0a5c6a0a84401bb5609f06524123ef": {
          "model_module": "@jupyter-widgets/controls",
          "model_name": "ProgressStyleModel",
          "model_module_version": "1.5.0",
          "state": {
            "_model_module": "@jupyter-widgets/controls",
            "_model_module_version": "1.5.0",
            "_model_name": "ProgressStyleModel",
            "_view_count": null,
            "_view_module": "@jupyter-widgets/base",
            "_view_module_version": "1.2.0",
            "_view_name": "StyleView",
            "bar_color": null,
            "description_width": ""
          }
        },
        "1dc113f6344340dcb79b6d9ab2913abb": {
          "model_module": "@jupyter-widgets/base",
          "model_name": "LayoutModel",
          "model_module_version": "1.2.0",
          "state": {
            "_model_module": "@jupyter-widgets/base",
            "_model_module_version": "1.2.0",
            "_model_name": "LayoutModel",
            "_view_count": null,
            "_view_module": "@jupyter-widgets/base",
            "_view_module_version": "1.2.0",
            "_view_name": "LayoutView",
            "align_content": null,
            "align_items": null,
            "align_self": null,
            "border": null,
            "bottom": null,
            "display": null,
            "flex": null,
            "flex_flow": null,
            "grid_area": null,
            "grid_auto_columns": null,
            "grid_auto_flow": null,
            "grid_auto_rows": null,
            "grid_column": null,
            "grid_gap": null,
            "grid_row": null,
            "grid_template_areas": null,
            "grid_template_columns": null,
            "grid_template_rows": null,
            "height": null,
            "justify_content": null,
            "justify_items": null,
            "left": null,
            "margin": null,
            "max_height": null,
            "max_width": null,
            "min_height": null,
            "min_width": null,
            "object_fit": null,
            "object_position": null,
            "order": null,
            "overflow": null,
            "overflow_x": null,
            "overflow_y": null,
            "padding": null,
            "right": null,
            "top": null,
            "visibility": null,
            "width": null
          }
        },
        "b8bf9331f03244ca94206e5af27a66d7": {
          "model_module": "@jupyter-widgets/controls",
          "model_name": "DescriptionStyleModel",
          "model_module_version": "1.5.0",
          "state": {
            "_model_module": "@jupyter-widgets/controls",
            "_model_module_version": "1.5.0",
            "_model_name": "DescriptionStyleModel",
            "_view_count": null,
            "_view_module": "@jupyter-widgets/base",
            "_view_module_version": "1.2.0",
            "_view_name": "StyleView",
            "description_width": ""
          }
        },
        "731625ddafd146e797e322eafb5cc7da": {
          "model_module": "@jupyter-widgets/controls",
          "model_name": "HBoxModel",
          "model_module_version": "1.5.0",
          "state": {
            "_dom_classes": [],
            "_model_module": "@jupyter-widgets/controls",
            "_model_module_version": "1.5.0",
            "_model_name": "HBoxModel",
            "_view_count": null,
            "_view_module": "@jupyter-widgets/controls",
            "_view_module_version": "1.5.0",
            "_view_name": "HBoxView",
            "box_style": "",
            "children": [
              "IPY_MODEL_ad55df4545974f0783fef19a75f5de96",
              "IPY_MODEL_5aa2e55e37404f9ea220be04d0aa9be7",
              "IPY_MODEL_5eda0c73f3ab4d6dae469aaac1d6faa1"
            ],
            "layout": "IPY_MODEL_fe390445181e4b909aa08080a92b49e6"
          }
        },
        "ad55df4545974f0783fef19a75f5de96": {
          "model_module": "@jupyter-widgets/controls",
          "model_name": "HTMLModel",
          "model_module_version": "1.5.0",
          "state": {
            "_dom_classes": [],
            "_model_module": "@jupyter-widgets/controls",
            "_model_module_version": "1.5.0",
            "_model_name": "HTMLModel",
            "_view_count": null,
            "_view_module": "@jupyter-widgets/controls",
            "_view_module_version": "1.5.0",
            "_view_name": "HTMLView",
            "description": "",
            "description_tooltip": null,
            "layout": "IPY_MODEL_6ff002e5179c4e61850b5c3ef56a9356",
            "placeholder": "​",
            "style": "IPY_MODEL_a746ff0d855b434599641a5d08295bd8",
            "value": "100%"
          }
        },
        "5aa2e55e37404f9ea220be04d0aa9be7": {
          "model_module": "@jupyter-widgets/controls",
          "model_name": "FloatProgressModel",
          "model_module_version": "1.5.0",
          "state": {
            "_dom_classes": [],
            "_model_module": "@jupyter-widgets/controls",
            "_model_module_version": "1.5.0",
            "_model_name": "FloatProgressModel",
            "_view_count": null,
            "_view_module": "@jupyter-widgets/controls",
            "_view_module_version": "1.5.0",
            "_view_name": "ProgressView",
            "bar_style": "success",
            "description": "",
            "description_tooltip": null,
            "layout": "IPY_MODEL_edea5a2b8d7b4f818122abde0709a969",
            "max": 3,
            "min": 0,
            "orientation": "horizontal",
            "style": "IPY_MODEL_28330af316804bdd8ee4d2bacd23a3e5",
            "value": 3
          }
        },
        "5eda0c73f3ab4d6dae469aaac1d6faa1": {
          "model_module": "@jupyter-widgets/controls",
          "model_name": "HTMLModel",
          "model_module_version": "1.5.0",
          "state": {
            "_dom_classes": [],
            "_model_module": "@jupyter-widgets/controls",
            "_model_module_version": "1.5.0",
            "_model_name": "HTMLModel",
            "_view_count": null,
            "_view_module": "@jupyter-widgets/controls",
            "_view_module_version": "1.5.0",
            "_view_name": "HTMLView",
            "description": "",
            "description_tooltip": null,
            "layout": "IPY_MODEL_d5180808c1814c6abfa75c58618dc17b",
            "placeholder": "​",
            "style": "IPY_MODEL_25845a10e8294cb19950d79e4f58b6f3",
            "value": " 3/3 [00:57&lt;00:00, 18.92s/it]"
          }
        },
        "fe390445181e4b909aa08080a92b49e6": {
          "model_module": "@jupyter-widgets/base",
          "model_name": "LayoutModel",
          "model_module_version": "1.2.0",
          "state": {
            "_model_module": "@jupyter-widgets/base",
            "_model_module_version": "1.2.0",
            "_model_name": "LayoutModel",
            "_view_count": null,
            "_view_module": "@jupyter-widgets/base",
            "_view_module_version": "1.2.0",
            "_view_name": "LayoutView",
            "align_content": null,
            "align_items": null,
            "align_self": null,
            "border": null,
            "bottom": null,
            "display": null,
            "flex": null,
            "flex_flow": null,
            "grid_area": null,
            "grid_auto_columns": null,
            "grid_auto_flow": null,
            "grid_auto_rows": null,
            "grid_column": null,
            "grid_gap": null,
            "grid_row": null,
            "grid_template_areas": null,
            "grid_template_columns": null,
            "grid_template_rows": null,
            "height": null,
            "justify_content": null,
            "justify_items": null,
            "left": null,
            "margin": null,
            "max_height": null,
            "max_width": null,
            "min_height": null,
            "min_width": null,
            "object_fit": null,
            "object_position": null,
            "order": null,
            "overflow": null,
            "overflow_x": null,
            "overflow_y": null,
            "padding": null,
            "right": null,
            "top": null,
            "visibility": null,
            "width": null
          }
        },
        "6ff002e5179c4e61850b5c3ef56a9356": {
          "model_module": "@jupyter-widgets/base",
          "model_name": "LayoutModel",
          "model_module_version": "1.2.0",
          "state": {
            "_model_module": "@jupyter-widgets/base",
            "_model_module_version": "1.2.0",
            "_model_name": "LayoutModel",
            "_view_count": null,
            "_view_module": "@jupyter-widgets/base",
            "_view_module_version": "1.2.0",
            "_view_name": "LayoutView",
            "align_content": null,
            "align_items": null,
            "align_self": null,
            "border": null,
            "bottom": null,
            "display": null,
            "flex": null,
            "flex_flow": null,
            "grid_area": null,
            "grid_auto_columns": null,
            "grid_auto_flow": null,
            "grid_auto_rows": null,
            "grid_column": null,
            "grid_gap": null,
            "grid_row": null,
            "grid_template_areas": null,
            "grid_template_columns": null,
            "grid_template_rows": null,
            "height": null,
            "justify_content": null,
            "justify_items": null,
            "left": null,
            "margin": null,
            "max_height": null,
            "max_width": null,
            "min_height": null,
            "min_width": null,
            "object_fit": null,
            "object_position": null,
            "order": null,
            "overflow": null,
            "overflow_x": null,
            "overflow_y": null,
            "padding": null,
            "right": null,
            "top": null,
            "visibility": null,
            "width": null
          }
        },
        "a746ff0d855b434599641a5d08295bd8": {
          "model_module": "@jupyter-widgets/controls",
          "model_name": "DescriptionStyleModel",
          "model_module_version": "1.5.0",
          "state": {
            "_model_module": "@jupyter-widgets/controls",
            "_model_module_version": "1.5.0",
            "_model_name": "DescriptionStyleModel",
            "_view_count": null,
            "_view_module": "@jupyter-widgets/base",
            "_view_module_version": "1.2.0",
            "_view_name": "StyleView",
            "description_width": ""
          }
        },
        "edea5a2b8d7b4f818122abde0709a969": {
          "model_module": "@jupyter-widgets/base",
          "model_name": "LayoutModel",
          "model_module_version": "1.2.0",
          "state": {
            "_model_module": "@jupyter-widgets/base",
            "_model_module_version": "1.2.0",
            "_model_name": "LayoutModel",
            "_view_count": null,
            "_view_module": "@jupyter-widgets/base",
            "_view_module_version": "1.2.0",
            "_view_name": "LayoutView",
            "align_content": null,
            "align_items": null,
            "align_self": null,
            "border": null,
            "bottom": null,
            "display": null,
            "flex": null,
            "flex_flow": null,
            "grid_area": null,
            "grid_auto_columns": null,
            "grid_auto_flow": null,
            "grid_auto_rows": null,
            "grid_column": null,
            "grid_gap": null,
            "grid_row": null,
            "grid_template_areas": null,
            "grid_template_columns": null,
            "grid_template_rows": null,
            "height": null,
            "justify_content": null,
            "justify_items": null,
            "left": null,
            "margin": null,
            "max_height": null,
            "max_width": null,
            "min_height": null,
            "min_width": null,
            "object_fit": null,
            "object_position": null,
            "order": null,
            "overflow": null,
            "overflow_x": null,
            "overflow_y": null,
            "padding": null,
            "right": null,
            "top": null,
            "visibility": null,
            "width": null
          }
        },
        "28330af316804bdd8ee4d2bacd23a3e5": {
          "model_module": "@jupyter-widgets/controls",
          "model_name": "ProgressStyleModel",
          "model_module_version": "1.5.0",
          "state": {
            "_model_module": "@jupyter-widgets/controls",
            "_model_module_version": "1.5.0",
            "_model_name": "ProgressStyleModel",
            "_view_count": null,
            "_view_module": "@jupyter-widgets/base",
            "_view_module_version": "1.2.0",
            "_view_name": "StyleView",
            "bar_color": null,
            "description_width": ""
          }
        },
        "d5180808c1814c6abfa75c58618dc17b": {
          "model_module": "@jupyter-widgets/base",
          "model_name": "LayoutModel",
          "model_module_version": "1.2.0",
          "state": {
            "_model_module": "@jupyter-widgets/base",
            "_model_module_version": "1.2.0",
            "_model_name": "LayoutModel",
            "_view_count": null,
            "_view_module": "@jupyter-widgets/base",
            "_view_module_version": "1.2.0",
            "_view_name": "LayoutView",
            "align_content": null,
            "align_items": null,
            "align_self": null,
            "border": null,
            "bottom": null,
            "display": null,
            "flex": null,
            "flex_flow": null,
            "grid_area": null,
            "grid_auto_columns": null,
            "grid_auto_flow": null,
            "grid_auto_rows": null,
            "grid_column": null,
            "grid_gap": null,
            "grid_row": null,
            "grid_template_areas": null,
            "grid_template_columns": null,
            "grid_template_rows": null,
            "height": null,
            "justify_content": null,
            "justify_items": null,
            "left": null,
            "margin": null,
            "max_height": null,
            "max_width": null,
            "min_height": null,
            "min_width": null,
            "object_fit": null,
            "object_position": null,
            "order": null,
            "overflow": null,
            "overflow_x": null,
            "overflow_y": null,
            "padding": null,
            "right": null,
            "top": null,
            "visibility": null,
            "width": null
          }
        },
        "25845a10e8294cb19950d79e4f58b6f3": {
          "model_module": "@jupyter-widgets/controls",
          "model_name": "DescriptionStyleModel",
          "model_module_version": "1.5.0",
          "state": {
            "_model_module": "@jupyter-widgets/controls",
            "_model_module_version": "1.5.0",
            "_model_name": "DescriptionStyleModel",
            "_view_count": null,
            "_view_module": "@jupyter-widgets/base",
            "_view_module_version": "1.2.0",
            "_view_name": "StyleView",
            "description_width": ""
          }
        }
      }
    }
  },
  "cells": [
    {
      "cell_type": "markdown",
      "metadata": {
        "id": "view-in-github",
        "colab_type": "text"
      },
      "source": [
        "<a href=\"https://colab.research.google.com/github/AhamedShimak/pytorch/blob/main/computer_vision_cnn_code_along.ipynb\" target=\"_parent\"><img src=\"https://colab.research.google.com/assets/colab-badge.svg\" alt=\"Open In Colab\"/></a>"
      ]
    },
    {
      "cell_type": "markdown",
      "source": [
        "## IMPORT AND MY DEFINED FUNCTIONS"
      ],
      "metadata": {
        "id": "n7Gn_JhaG7dY"
      }
    },
    {
      "cell_type": "markdown",
      "source": [
        "### Imports"
      ],
      "metadata": {
        "id": "Glqkeh5CHfl-"
      }
    },
    {
      "cell_type": "code",
      "source": [
        "import torch\n",
        "from torch import nn\n",
        "import pandas as pd\n",
        "import numpy as np\n",
        "import matplotlib.pyplot as plt\n",
        "\n",
        "from torchvision import transforms\n",
        "from torch.utils.data import Dataset\n",
        "from torch.utils.data import DataLoader\n",
        "from torchvision import datasets\n",
        "\n",
        "\n",
        "import sklearn\n",
        "from sklearn.model_selection import train_test_split"
      ],
      "metadata": {
        "id": "fQb72sHRBxT6"
      },
      "execution_count": 1,
      "outputs": []
    },
    {
      "cell_type": "markdown",
      "source": [
        "###My functions"
      ],
      "metadata": {
        "id": "8zKnh3Aga-W_"
      }
    },
    {
      "cell_type": "code",
      "source": [
        "import torch\n",
        "def details(tensor):\n",
        "  print(\"\")\n",
        "  print(\"Shape: \",tensor.shape)\n",
        "  print(\"Dimentions: \",tensor.ndim)\n",
        "  print(\"###########\")\n",
        "  print(tensor)\n",
        "  print(\"###########\")\n",
        "  print(\"Tensor Data type: \",tensor.dtype)\n",
        "  print(\"Device: \",tensor.device)\n",
        "  print(\"\")\n",
        "\n",
        "def details_plot(train_data, \n",
        "                     train_labels, \n",
        "                     test_data, \n",
        "                     test_labels,\n",
        "                     predictions=None):\n",
        "  \"\"\"\n",
        "  Plots training data, test data and compares predictions.\n",
        "  \"\"\"\n",
        "  plt.figure(figsize=(10, 7))\n",
        "\n",
        "  # Plot training data in blue\n",
        "  plt.scatter(train_data, train_labels, c=\"b\", s=4, label=\"Training data\")\n",
        "  \n",
        "  # Plot test data in green\n",
        "  plt.scatter(test_data, test_labels, c=\"g\", s=4, label=\"Testing data\")\n",
        "\n",
        "  if predictions is not None:\n",
        "    # Plot the predictions in red (predictions were made on the test data)\n",
        "    plt.scatter(test_data, predictions, c=\"r\", s=4, label=\"Predictions\")\n",
        "\n",
        "  # Show the legend\n",
        "  plt.legend(prop={\"size\": 14});\n",
        "\n",
        "def details_loss_curve(epochs,train_loss_track,test_loss_track):\n",
        "  #loss curve\n",
        "  plt.figure(figsize=(8,8))\n",
        "  plt.title(\"Loss curve\")\n",
        "  plt.xlabel(\"Epochs\")\n",
        "  plt.ylabel(\"Loss\")\n",
        "  plt.plot(epochs,train_loss_track,label=\"Train loss\")\n",
        "  plt.plot(epochs,test_loss_track,label=\"Test loss\")\n",
        "  plt.legend(prop={\"size\": 14})\n",
        "\n",
        "import torch\n",
        "def details(tensor):\n",
        "  print(\"\")\n",
        "  print(\"Shape: \",tensor.shape)\n",
        "  print(\"Dimentions: \",tensor.ndim)\n",
        "  print(\"###########\")\n",
        "  print(tensor)\n",
        "  print(\"###########\")\n",
        "  print(\"Tensor Data type: \",tensor.dtype)\n",
        "  print(\"Device: \",tensor.device)\n",
        "  print(\"\")\n",
        "\n",
        "def details_plot(train_data, \n",
        "                     train_labels, \n",
        "                     test_data, \n",
        "                     test_labels,\n",
        "                     predictions=None):\n",
        "  \"\"\"\n",
        "  Plots training data, test data and compares predictions.\n",
        "  \"\"\"\n",
        "  plt.figure(figsize=(10, 7))\n",
        "\n",
        "  # Plot training data in blue\n",
        "  plt.scatter(train_data, train_labels, c=\"b\", s=4, label=\"Training data\")\n",
        "  \n",
        "  # Plot test data in green\n",
        "  plt.scatter(test_data, test_labels, c=\"g\", s=4, label=\"Testing data\")\n",
        "\n",
        "  if predictions is not None:\n",
        "    # Plot the predictions in red (predictions were made on the test data)\n",
        "    plt.scatter(test_data, predictions, c=\"r\", s=4, label=\"Predictions\")\n",
        "\n",
        "  # Show the legend\n",
        "  plt.legend(prop={\"size\": 14});\n",
        "\n",
        "\n",
        "\n",
        "def accu(y_pred,y_test):\n",
        "  correct=torch.eq(y_pred,y_test).sum().item()\n",
        "  accuracy=(correct/len(y_test))*100\n",
        "  return accuracy\n",
        "\n",
        "def details_plot_scatter(x_train, x_test, y_train, y_test,\n",
        "                     predictions=None):\n",
        "  \"\"\"\n",
        "  Plots training data, test data and compares predictions.\n",
        "  \"\"\"\n",
        "  plt.figure(figsize=(10, 7))\n",
        "  plt.scatter(x_train[:,0],x_train[:,1],c=y_train,cmap=plt.cm.BrBG, s=4, label=\"Training data\")\n",
        "  plt.scatter(x_test[:,0],x_test[:,1],c=y_test, s=60, label=\"Test data\")\n",
        "  plt.legend(prop={\"size\": 14});\n",
        "  if predictions is not None:\n",
        "    # Plot the predictions in red (predictions were made on the test data)\n",
        "    plt.scatter(x_test[:,0],x_test[:,1],c=predictions, s=20, label=\"Prediction\")\n",
        "\n",
        "  # Show the legend\n",
        "  plt.legend(prop={\"size\": 14});"
      ],
      "metadata": {
        "id": "aYgYxCDHbBTO"
      },
      "execution_count": 2,
      "outputs": []
    },
    {
      "cell_type": "markdown",
      "source": [
        "###GPU"
      ],
      "metadata": {
        "id": "sMRYymjLIGWp"
      }
    },
    {
      "cell_type": "code",
      "source": [
        "!nvidia-smi\n",
        "print(torch.cuda.is_available())\n",
        "#setup device agnostic code\n",
        "device=\"cuda\" if torch.cuda.is_available() else \"cpu\"\n",
        "print(device)"
      ],
      "metadata": {
        "colab": {
          "base_uri": "https://localhost:8080/"
        },
        "id": "7nw_wfJXIIs0",
        "outputId": "1839a022-a87e-45a0-fca7-74cc9165f90e"
      },
      "execution_count": 3,
      "outputs": [
        {
          "output_type": "stream",
          "name": "stdout",
          "text": [
            "/bin/bash: nvidia-smi: command not found\n",
            "False\n",
            "cpu\n"
          ]
        }
      ]
    },
    {
      "cell_type": "markdown",
      "source": [
        "##DATA PROCESS \n"
      ],
      "metadata": {
        "id": "ptqUbYftO67F"
      }
    },
    {
      "cell_type": "markdown",
      "source": [
        "ex- tensor data-> x_train,y_train,x_test,y_test\n"
      ],
      "metadata": {
        "id": "oMw_nOmGLh5O"
      }
    },
    {
      "cell_type": "code",
      "source": [
        "# create data\n",
        "\n",
        "train=datasets.FashionMNIST(\n",
        "    root=\"Data\",\n",
        "    train=True,\n",
        "    transform=transforms.ToTensor(),\n",
        "    download=True\n",
        ")\n",
        "test=datasets.FashionMNIST(\n",
        "    root=\"Data_test\",\n",
        "    train=False,\n",
        "    transform=transforms.ToTensor(),\n",
        "    download=True\n",
        ")\n",
        "#weight and bias\n",
        "\n",
        "  #######to prevent mat multiplication error   .unsqueeze(dim=1)\n"
      ],
      "metadata": {
        "id": "Khi062A2O-_5"
      },
      "execution_count": 4,
      "outputs": []
    },
    {
      "cell_type": "code",
      "source": [
        "details(train.data[0])"
      ],
      "metadata": {
        "colab": {
          "base_uri": "https://localhost:8080/"
        },
        "id": "eeO0hiCMI6l5",
        "outputId": "3abd6311-32a2-4670-f102-2a2bd9dd2c80"
      },
      "execution_count": 5,
      "outputs": [
        {
          "output_type": "stream",
          "name": "stdout",
          "text": [
            "\n",
            "Shape:  torch.Size([28, 28])\n",
            "Dimentions:  2\n",
            "###########\n",
            "tensor([[  0,   0,   0,   0,   0,   0,   0,   0,   0,   0,   0,   0,   0,   0,\n",
            "           0,   0,   0,   0,   0,   0,   0,   0,   0,   0,   0,   0,   0,   0],\n",
            "        [  0,   0,   0,   0,   0,   0,   0,   0,   0,   0,   0,   0,   0,   0,\n",
            "           0,   0,   0,   0,   0,   0,   0,   0,   0,   0,   0,   0,   0,   0],\n",
            "        [  0,   0,   0,   0,   0,   0,   0,   0,   0,   0,   0,   0,   0,   0,\n",
            "           0,   0,   0,   0,   0,   0,   0,   0,   0,   0,   0,   0,   0,   0],\n",
            "        [  0,   0,   0,   0,   0,   0,   0,   0,   0,   0,   0,   0,   1,   0,\n",
            "           0,  13,  73,   0,   0,   1,   4,   0,   0,   0,   0,   1,   1,   0],\n",
            "        [  0,   0,   0,   0,   0,   0,   0,   0,   0,   0,   0,   0,   3,   0,\n",
            "          36, 136, 127,  62,  54,   0,   0,   0,   1,   3,   4,   0,   0,   3],\n",
            "        [  0,   0,   0,   0,   0,   0,   0,   0,   0,   0,   0,   0,   6,   0,\n",
            "         102, 204, 176, 134, 144, 123,  23,   0,   0,   0,   0,  12,  10,   0],\n",
            "        [  0,   0,   0,   0,   0,   0,   0,   0,   0,   0,   0,   0,   0,   0,\n",
            "         155, 236, 207, 178, 107, 156, 161, 109,  64,  23,  77, 130,  72,  15],\n",
            "        [  0,   0,   0,   0,   0,   0,   0,   0,   0,   0,   0,   1,   0,  69,\n",
            "         207, 223, 218, 216, 216, 163, 127, 121, 122, 146, 141,  88, 172,  66],\n",
            "        [  0,   0,   0,   0,   0,   0,   0,   0,   0,   1,   1,   1,   0, 200,\n",
            "         232, 232, 233, 229, 223, 223, 215, 213, 164, 127, 123, 196, 229,   0],\n",
            "        [  0,   0,   0,   0,   0,   0,   0,   0,   0,   0,   0,   0,   0, 183,\n",
            "         225, 216, 223, 228, 235, 227, 224, 222, 224, 221, 223, 245, 173,   0],\n",
            "        [  0,   0,   0,   0,   0,   0,   0,   0,   0,   0,   0,   0,   0, 193,\n",
            "         228, 218, 213, 198, 180, 212, 210, 211, 213, 223, 220, 243, 202,   0],\n",
            "        [  0,   0,   0,   0,   0,   0,   0,   0,   0,   1,   3,   0,  12, 219,\n",
            "         220, 212, 218, 192, 169, 227, 208, 218, 224, 212, 226, 197, 209,  52],\n",
            "        [  0,   0,   0,   0,   0,   0,   0,   0,   0,   0,   6,   0,  99, 244,\n",
            "         222, 220, 218, 203, 198, 221, 215, 213, 222, 220, 245, 119, 167,  56],\n",
            "        [  0,   0,   0,   0,   0,   0,   0,   0,   0,   4,   0,   0,  55, 236,\n",
            "         228, 230, 228, 240, 232, 213, 218, 223, 234, 217, 217, 209,  92,   0],\n",
            "        [  0,   0,   1,   4,   6,   7,   2,   0,   0,   0,   0,   0, 237, 226,\n",
            "         217, 223, 222, 219, 222, 221, 216, 223, 229, 215, 218, 255,  77,   0],\n",
            "        [  0,   3,   0,   0,   0,   0,   0,   0,   0,  62, 145, 204, 228, 207,\n",
            "         213, 221, 218, 208, 211, 218, 224, 223, 219, 215, 224, 244, 159,   0],\n",
            "        [  0,   0,   0,   0,  18,  44,  82, 107, 189, 228, 220, 222, 217, 226,\n",
            "         200, 205, 211, 230, 224, 234, 176, 188, 250, 248, 233, 238, 215,   0],\n",
            "        [  0,  57, 187, 208, 224, 221, 224, 208, 204, 214, 208, 209, 200, 159,\n",
            "         245, 193, 206, 223, 255, 255, 221, 234, 221, 211, 220, 232, 246,   0],\n",
            "        [  3, 202, 228, 224, 221, 211, 211, 214, 205, 205, 205, 220, 240,  80,\n",
            "         150, 255, 229, 221, 188, 154, 191, 210, 204, 209, 222, 228, 225,   0],\n",
            "        [ 98, 233, 198, 210, 222, 229, 229, 234, 249, 220, 194, 215, 217, 241,\n",
            "          65,  73, 106, 117, 168, 219, 221, 215, 217, 223, 223, 224, 229,  29],\n",
            "        [ 75, 204, 212, 204, 193, 205, 211, 225, 216, 185, 197, 206, 198, 213,\n",
            "         240, 195, 227, 245, 239, 223, 218, 212, 209, 222, 220, 221, 230,  67],\n",
            "        [ 48, 203, 183, 194, 213, 197, 185, 190, 194, 192, 202, 214, 219, 221,\n",
            "         220, 236, 225, 216, 199, 206, 186, 181, 177, 172, 181, 205, 206, 115],\n",
            "        [  0, 122, 219, 193, 179, 171, 183, 196, 204, 210, 213, 207, 211, 210,\n",
            "         200, 196, 194, 191, 195, 191, 198, 192, 176, 156, 167, 177, 210,  92],\n",
            "        [  0,   0,  74, 189, 212, 191, 175, 172, 175, 181, 185, 188, 189, 188,\n",
            "         193, 198, 204, 209, 210, 210, 211, 188, 188, 194, 192, 216, 170,   0],\n",
            "        [  2,   0,   0,   0,  66, 200, 222, 237, 239, 242, 246, 243, 244, 221,\n",
            "         220, 193, 191, 179, 182, 182, 181, 176, 166, 168,  99,  58,   0,   0],\n",
            "        [  0,   0,   0,   0,   0,   0,   0,  40,  61,  44,  72,  41,  35,   0,\n",
            "           0,   0,   0,   0,   0,   0,   0,   0,   0,   0,   0,   0,   0,   0],\n",
            "        [  0,   0,   0,   0,   0,   0,   0,   0,   0,   0,   0,   0,   0,   0,\n",
            "           0,   0,   0,   0,   0,   0,   0,   0,   0,   0,   0,   0,   0,   0],\n",
            "        [  0,   0,   0,   0,   0,   0,   0,   0,   0,   0,   0,   0,   0,   0,\n",
            "           0,   0,   0,   0,   0,   0,   0,   0,   0,   0,   0,   0,   0,   0]],\n",
            "       dtype=torch.uint8)\n",
            "###########\n",
            "Tensor Data type:  torch.uint8\n",
            "Device:  cpu\n",
            "\n"
          ]
        }
      ]
    },
    {
      "cell_type": "code",
      "source": [],
      "metadata": {
        "id": "AZ-1ksuRLJ-B"
      },
      "execution_count": 5,
      "outputs": []
    },
    {
      "cell_type": "code",
      "source": [
        "# create train/test split\n",
        "labels_map = {\n",
        "    0: \"T-Shirt\",\n",
        "    1: \"Trouser\",\n",
        "    2: \"Pullover\",\n",
        "    3: \"Dress\",\n",
        "    4: \"Coat\",\n",
        "    5: \"Sandal\",\n",
        "    6: \"Shirt\",\n",
        "    7: \"Sneaker\",\n",
        "    8: \"Bag\",\n",
        "    9: \"Ankle Boot\",\n",
        "}\n",
        "for i in range(9):\n",
        "  img,label=train[i]\n",
        "  plt.figure(figsize=(8,8)).add_subplot(3,3,i+1)\n",
        "  plt.imshow(img.squeeze())\n",
        "  plt.title(labels_map[label])\n",
        "  plt.axis(\"off\")\n",
        "  "
      ],
      "metadata": {
        "id": "SGZ3v5LHPG_A",
        "colab": {
          "base_uri": "https://localhost:8080/",
          "height": 1000
        },
        "outputId": "2b42cb79-bc89-45f7-fb19-c4448148ca46"
      },
      "execution_count": 6,
      "outputs": [
        {
          "output_type": "display_data",
          "data": {
            "text/plain": [
              "<Figure size 800x800 with 1 Axes>"
            ],
            "image/png": "[encoded data removed]"
          },
          "metadata": {}
        },
        {
          "output_type": "display_data",
          "data": {
            "text/plain": [
              "<Figure size 800x800 with 1 Axes>"
            ],
            "image/png": "[encoded data removed]"
          },
          "metadata": {}
        },
        {
          "output_type": "display_data",
          "data": {
            "text/plain": [
              "<Figure size 800x800 with 1 Axes>"
            ],
            "image/png": "[encoded data removed]"
          },
          "metadata": {}
        },
        {
          "output_type": "display_data",
          "data": {
            "text/plain": [
              "<Figure size 800x800 with 1 Axes>"
            ],
            "image/png": "[encoded data removed]"
          },
          "metadata": {}
        },
        {
          "output_type": "display_data",
          "data": {
            "text/plain": [
              "<Figure size 800x800 with 1 Axes>"
            ],
            "image/png": "[encoded data removed]"
          },
          "metadata": {}
        },
        {
          "output_type": "display_data",
          "data": {
            "text/plain": [
              "<Figure size 800x800 with 1 Axes>"
            ],
            "image/png": "[encoded data removed]"
          },
          "metadata": {}
        },
        {
          "output_type": "display_data",
          "data": {
            "text/plain": [
              "<Figure size 800x800 with 1 Axes>"
            ],
            "image/png": "[encoded data removed]"
          },
          "metadata": {}
        },
        {
          "output_type": "display_data",
          "data": {
            "text/plain": [
              "<Figure size 800x800 with 1 Axes>"
            ],
            "image/png": "[encoded data removed]"
          },
          "metadata": {}
        },
        {
          "output_type": "display_data",
          "data": {
            "text/plain": [
              "<Figure size 800x800 with 1 Axes>"
            ],
            "image/png": "[encoded data removed]"
          },
          "metadata": {}
        }
      ]
    },
    {
      "cell_type": "code",
      "source": [
        "#data_loader\n",
        "torch.manual_seed(23)\n",
        "train_dataloader = DataLoader(train, batch_size=32, shuffle=True)\n",
        "test_dataloader = DataLoader(test, batch_size=32, shuffle=False)\n",
        "\n",
        "len(train_dataloader),len(test_dataloader)"
      ],
      "metadata": {
        "id": "Ju3JoT5WP-V7",
        "colab": {
          "base_uri": "https://localhost:8080/"
        },
        "outputId": "d0fac51a-3cf8-4168-c706-71604f6e291d"
      },
      "execution_count": 7,
      "outputs": [
        {
          "output_type": "execute_result",
          "data": {
            "text/plain": [
              "(1875, 313)"
            ]
          },
          "metadata": {},
          "execution_count": 7
        }
      ]
    },
    {
      "cell_type": "code",
      "source": [
        "x_train_b_sample,y_train_b_sample=next(iter(train_dataloader))\n",
        "details(x_train_b_sample),details(y_train_b_sample)\n",
        "\n",
        "plt.imshow(x_train_b_sample[0].squeeze())\n",
        "plt.title(labels_map[y_train_b_sample[0].item()])"
      ],
      "metadata": {
        "colab": {
          "base_uri": "https://localhost:8080/",
          "height": 1000
        },
        "id": "lmmYFPxjPdqx",
        "outputId": "b6a7667d-0ab6-40b3-d785-fb73425e0950"
      },
      "execution_count": 8,
      "outputs": [
        {
          "output_type": "stream",
          "name": "stdout",
          "text": [
            "\n",
            "Shape:  torch.Size([32, 1, 28, 28])\n",
            "Dimentions:  4\n",
            "###########\n",
            "tensor([[[[0.0000, 0.0000, 0.0000,  ..., 0.0000, 0.0000, 0.0000],\n",
            "          [0.0000, 0.0000, 0.0000,  ..., 0.0000, 0.0000, 0.0000],\n",
            "          [0.0000, 0.0000, 0.0000,  ..., 0.0000, 0.0000, 0.0000],\n",
            "          ...,\n",
            "          [0.0000, 0.0000, 0.0000,  ..., 0.0000, 0.0000, 0.0000],\n",
            "          [0.0000, 0.0000, 0.0000,  ..., 0.0000, 0.0000, 0.0000],\n",
            "          [0.0000, 0.0000, 0.0000,  ..., 0.0000, 0.0000, 0.0000]]],\n",
            "\n",
            "\n",
            "        [[[0.0000, 0.0000, 0.0000,  ..., 0.0000, 0.0000, 0.0000],\n",
            "          [0.0000, 0.0000, 0.0000,  ..., 0.0000, 0.0000, 0.0000],\n",
            "          [0.0000, 0.0000, 0.0000,  ..., 0.0000, 0.0000, 0.0000],\n",
            "          ...,\n",
            "          [0.0000, 0.0000, 0.0000,  ..., 0.2196, 0.0039, 0.0000],\n",
            "          [0.0000, 0.0000, 0.0000,  ..., 0.0000, 0.0000, 0.0000],\n",
            "          [0.0000, 0.0000, 0.0000,  ..., 0.0000, 0.0000, 0.0000]]],\n",
            "\n",
            "\n",
            "        [[[0.0000, 0.0000, 0.0000,  ..., 0.0000, 0.0000, 0.0000],\n",
            "          [0.0000, 0.0000, 0.0000,  ..., 0.0000, 0.0000, 0.0000],\n",
            "          [0.0000, 0.0000, 0.0000,  ..., 0.0000, 0.0000, 0.0000],\n",
            "          ...,\n",
            "          [0.0000, 0.0000, 0.0000,  ..., 0.0000, 0.0000, 0.0000],\n",
            "          [0.0000, 0.0000, 0.0000,  ..., 0.0000, 0.0000, 0.0000],\n",
            "          [0.0000, 0.0000, 0.0000,  ..., 0.0000, 0.0000, 0.0000]]],\n",
            "\n",
            "\n",
            "        ...,\n",
            "\n",
            "\n",
            "        [[[0.0000, 0.0000, 0.0000,  ..., 0.0000, 0.0000, 0.0000],\n",
            "          [0.0000, 0.0000, 0.0000,  ..., 0.0000, 0.0000, 0.0000],\n",
            "          [0.0000, 0.0000, 0.0000,  ..., 0.0039, 0.0000, 0.0000],\n",
            "          ...,\n",
            "          [0.0000, 0.1412, 0.7098,  ..., 0.7412, 0.8118, 0.0000],\n",
            "          [0.0000, 0.0000, 1.0000,  ..., 0.8980, 0.9529, 0.0000],\n",
            "          [0.0000, 0.0000, 0.1373,  ..., 0.7569, 0.1647, 0.0000]]],\n",
            "\n",
            "\n",
            "        [[[0.0000, 0.0000, 0.0000,  ..., 0.0000, 0.0000, 0.0000],\n",
            "          [0.0000, 0.0000, 0.0000,  ..., 0.0000, 0.0000, 0.0000],\n",
            "          [0.0000, 0.0000, 0.0000,  ..., 0.0000, 0.0000, 0.0000],\n",
            "          ...,\n",
            "          [0.0000, 0.0000, 0.0000,  ..., 0.0000, 0.0000, 0.0000],\n",
            "          [0.0000, 0.0000, 0.0000,  ..., 0.0000, 0.0000, 0.0000],\n",
            "          [0.0000, 0.0000, 0.0000,  ..., 0.0000, 0.0000, 0.0000]]],\n",
            "\n",
            "\n",
            "        [[[0.0000, 0.0000, 0.0000,  ..., 0.0000, 0.0000, 0.0000],\n",
            "          [0.0000, 0.0000, 0.0000,  ..., 0.0000, 0.0000, 0.0000],\n",
            "          [0.0000, 0.0000, 0.0000,  ..., 0.0000, 0.0000, 0.0000],\n",
            "          ...,\n",
            "          [0.0000, 0.0000, 0.0000,  ..., 0.0000, 0.0000, 0.0000],\n",
            "          [0.0000, 0.0000, 0.0000,  ..., 0.0000, 0.0000, 0.0000],\n",
            "          [0.0000, 0.0000, 0.0000,  ..., 0.0000, 0.0000, 0.0000]]]])\n",
            "###########\n",
            "Tensor Data type:  torch.float32\n",
            "Device:  cpu\n",
            "\n",
            "\n",
            "Shape:  torch.Size([32])\n",
            "Dimentions:  1\n",
            "###########\n",
            "tensor([0, 9, 3, 3, 1, 0, 2, 4, 3, 5, 7, 8, 1, 5, 6, 7, 4, 2, 2, 1, 3, 3, 8, 8,\n",
            "        9, 6, 4, 1, 9, 8, 3, 3])\n",
            "###########\n",
            "Tensor Data type:  torch.int64\n",
            "Device:  cpu\n",
            "\n"
          ]
        },
        {
          "output_type": "execute_result",
          "data": {
            "text/plain": [
              "Text(0.5, 1.0, 'T-Shirt')"
            ]
          },
          "metadata": {},
          "execution_count": 8
        },
        {
          "output_type": "display_data",
          "data": {
            "text/plain": [
              "<Figure size 640x480 with 1 Axes>"
            ],
            "image/png": "[encoded data removed]"
          },
          "metadata": {}
        }
      ]
    },
    {
      "cell_type": "markdown",
      "source": [
        "##BUILDING THE MODEL\n"
      ],
      "metadata": {
        "id": "Tto_QOOaQS7A"
      }
    },
    {
      "cell_type": "markdown",
      "source": [
        "tips\n",
        "1. torch.nn.find_suitable_loss\n",
        "2. torch.nn.Paramenter\n",
        "3. torch.nn.Module this is base class\n",
        "4. torch.optim - optimizer"
      ],
      "metadata": {
        "id": "Zxa0ngYiLY52"
      }
    },
    {
      "cell_type": "code",
      "source": [
        "#flattern layer\n",
        "details(x_train_b_sample)\n",
        "flattern=nn.Flatten()\n",
        "details(flattern(x_train_b_sample))"
      ],
      "metadata": {
        "colab": {
          "base_uri": "https://localhost:8080/"
        },
        "id": "yBTKGQGBVsby",
        "outputId": "efa1759a-acb2-41b1-add7-ce8f4c57621d"
      },
      "execution_count": 9,
      "outputs": [
        {
          "output_type": "stream",
          "name": "stdout",
          "text": [
            "\n",
            "Shape:  torch.Size([32, 1, 28, 28])\n",
            "Dimentions:  4\n",
            "###########\n",
            "tensor([[[[0.0000, 0.0000, 0.0000,  ..., 0.0000, 0.0000, 0.0000],\n",
            "          [0.0000, 0.0000, 0.0000,  ..., 0.0000, 0.0000, 0.0000],\n",
            "          [0.0000, 0.0000, 0.0000,  ..., 0.0000, 0.0000, 0.0000],\n",
            "          ...,\n",
            "          [0.0000, 0.0000, 0.0000,  ..., 0.0000, 0.0000, 0.0000],\n",
            "          [0.0000, 0.0000, 0.0000,  ..., 0.0000, 0.0000, 0.0000],\n",
            "          [0.0000, 0.0000, 0.0000,  ..., 0.0000, 0.0000, 0.0000]]],\n",
            "\n",
            "\n",
            "        [[[0.0000, 0.0000, 0.0000,  ..., 0.0000, 0.0000, 0.0000],\n",
            "          [0.0000, 0.0000, 0.0000,  ..., 0.0000, 0.0000, 0.0000],\n",
            "          [0.0000, 0.0000, 0.0000,  ..., 0.0000, 0.0000, 0.0000],\n",
            "          ...,\n",
            "          [0.0000, 0.0000, 0.0000,  ..., 0.2196, 0.0039, 0.0000],\n",
            "          [0.0000, 0.0000, 0.0000,  ..., 0.0000, 0.0000, 0.0000],\n",
            "          [0.0000, 0.0000, 0.0000,  ..., 0.0000, 0.0000, 0.0000]]],\n",
            "\n",
            "\n",
            "        [[[0.0000, 0.0000, 0.0000,  ..., 0.0000, 0.0000, 0.0000],\n",
            "          [0.0000, 0.0000, 0.0000,  ..., 0.0000, 0.0000, 0.0000],\n",
            "          [0.0000, 0.0000, 0.0000,  ..., 0.0000, 0.0000, 0.0000],\n",
            "          ...,\n",
            "          [0.0000, 0.0000, 0.0000,  ..., 0.0000, 0.0000, 0.0000],\n",
            "          [0.0000, 0.0000, 0.0000,  ..., 0.0000, 0.0000, 0.0000],\n",
            "          [0.0000, 0.0000, 0.0000,  ..., 0.0000, 0.0000, 0.0000]]],\n",
            "\n",
            "\n",
            "        ...,\n",
            "\n",
            "\n",
            "        [[[0.0000, 0.0000, 0.0000,  ..., 0.0000, 0.0000, 0.0000],\n",
            "          [0.0000, 0.0000, 0.0000,  ..., 0.0000, 0.0000, 0.0000],\n",
            "          [0.0000, 0.0000, 0.0000,  ..., 0.0039, 0.0000, 0.0000],\n",
            "          ...,\n",
            "          [0.0000, 0.1412, 0.7098,  ..., 0.7412, 0.8118, 0.0000],\n",
            "          [0.0000, 0.0000, 1.0000,  ..., 0.8980, 0.9529, 0.0000],\n",
            "          [0.0000, 0.0000, 0.1373,  ..., 0.7569, 0.1647, 0.0000]]],\n",
            "\n",
            "\n",
            "        [[[0.0000, 0.0000, 0.0000,  ..., 0.0000, 0.0000, 0.0000],\n",
            "          [0.0000, 0.0000, 0.0000,  ..., 0.0000, 0.0000, 0.0000],\n",
            "          [0.0000, 0.0000, 0.0000,  ..., 0.0000, 0.0000, 0.0000],\n",
            "          ...,\n",
            "          [0.0000, 0.0000, 0.0000,  ..., 0.0000, 0.0000, 0.0000],\n",
            "          [0.0000, 0.0000, 0.0000,  ..., 0.0000, 0.0000, 0.0000],\n",
            "          [0.0000, 0.0000, 0.0000,  ..., 0.0000, 0.0000, 0.0000]]],\n",
            "\n",
            "\n",
            "        [[[0.0000, 0.0000, 0.0000,  ..., 0.0000, 0.0000, 0.0000],\n",
            "          [0.0000, 0.0000, 0.0000,  ..., 0.0000, 0.0000, 0.0000],\n",
            "          [0.0000, 0.0000, 0.0000,  ..., 0.0000, 0.0000, 0.0000],\n",
            "          ...,\n",
            "          [0.0000, 0.0000, 0.0000,  ..., 0.0000, 0.0000, 0.0000],\n",
            "          [0.0000, 0.0000, 0.0000,  ..., 0.0000, 0.0000, 0.0000],\n",
            "          [0.0000, 0.0000, 0.0000,  ..., 0.0000, 0.0000, 0.0000]]]])\n",
            "###########\n",
            "Tensor Data type:  torch.float32\n",
            "Device:  cpu\n",
            "\n",
            "\n",
            "Shape:  torch.Size([32, 784])\n",
            "Dimentions:  2\n",
            "###########\n",
            "tensor([[0.0000, 0.0000, 0.0000,  ..., 0.0000, 0.0000, 0.0000],\n",
            "        [0.0000, 0.0000, 0.0000,  ..., 0.0000, 0.0000, 0.0000],\n",
            "        [0.0000, 0.0000, 0.0000,  ..., 0.0000, 0.0000, 0.0000],\n",
            "        ...,\n",
            "        [0.0000, 0.0000, 0.0000,  ..., 0.7569, 0.1647, 0.0000],\n",
            "        [0.0000, 0.0000, 0.0000,  ..., 0.0000, 0.0000, 0.0000],\n",
            "        [0.0000, 0.0000, 0.0000,  ..., 0.0000, 0.0000, 0.0000]])\n",
            "###########\n",
            "Tensor Data type:  torch.float32\n",
            "Device:  cpu\n",
            "\n"
          ]
        }
      ]
    },
    {
      "cell_type": "code",
      "source": [
        "#model\n",
        "class fashion_model(nn.Module):\n",
        "  def __init__(self,in_,out_):\n",
        "    super().__init__()\n",
        "    #model_structer\n",
        "    self.layer_stack=nn.Sequential(\n",
        "        nn.Flatten(),\n",
        "        nn.ReLU(),\n",
        "        nn.Linear(in_,512),\n",
        "        nn.ReLU(),\n",
        "        nn.Linear(512,128),\n",
        "        nn.ReLU(),\n",
        "        nn.Linear(128,32),\n",
        "        nn.ReLU(),\n",
        "        nn.Linear(32,out_)\n",
        "    )\n",
        "  def forward(self,x: torch.Tensor) -> torch.Tensor:\n",
        "\n",
        "\n",
        "    return self.layer_stack(x)\n",
        "\n",
        "\n"
      ],
      "metadata": {
        "id": "fchfssqDQLCG"
      },
      "execution_count": 24,
      "outputs": []
    },
    {
      "cell_type": "code",
      "source": [
        "#model_2\n",
        "class fashion_model_V01(nn.Module):\n",
        "  def __init__(self,in_,out_):\n",
        "    super().__init__()\n",
        "    #model_structer\n",
        "    self.layer_stack=nn.Sequential(\n",
        "        nn.Flatten(),\n",
        "        nn.ReLU(),\n",
        "        nn.Linear(in_,20),\n",
        "        nn.ReLU(),\n",
        "        nn.Linear(20,32),\n",
        "        nn.ReLU(),\n",
        "        nn.Linear(32,out_)\n",
        "    )\n",
        "  def forward(self,x: torch.Tensor) -> torch.Tensor:\n",
        "\n",
        "\n",
        "    return self.layer_stack(x)"
      ],
      "metadata": {
        "id": "d51BxlSCICde"
      },
      "execution_count": 11,
      "outputs": []
    },
    {
      "cell_type": "code",
      "source": [
        "#model_2\n",
        "class fashion_model_V02(nn.Module):\n",
        "  def __init__(self,in_,out_):\n",
        "    super().__init__()\n",
        "    #model_structer\n",
        "    self.layer_stack=nn.Sequential(\n",
        "        nn.Flatten(),\n",
        "        nn.Linear(in_,8),\n",
        "        nn.ReLU(),\n",
        "        nn.Linear(8,out_)\n",
        "    )\n",
        "  def forward(self,x: torch.Tensor) -> torch.Tensor:\n",
        "\n",
        "\n",
        "    return self.layer_stack(x)"
      ],
      "metadata": {
        "id": "BKmWh_bKJtg3"
      },
      "execution_count": 12,
      "outputs": []
    },
    {
      "cell_type": "code",
      "source": [
        "\n",
        "#discription of model\n",
        "model=fashion_model(in_=784,out_=10).to(device)\n",
        "model.state_dict()"
      ],
      "metadata": {
        "colab": {
          "base_uri": "https://localhost:8080/"
        },
        "id": "u6WbsiTjbP_W",
        "outputId": "05169ecf-234c-43ca-ced9-8e7e70a0f73e"
      },
      "execution_count": 26,
      "outputs": [
        {
          "output_type": "execute_result",
          "data": {
            "text/plain": [
              "OrderedDict([('layer_stack.2.weight',\n",
              "              tensor([[ 0.0144, -0.0007,  0.0215,  ...,  0.0234, -0.0195,  0.0271],\n",
              "                      [-0.0072, -0.0266,  0.0259,  ...,  0.0320, -0.0240,  0.0086],\n",
              "                      [ 0.0075, -0.0325,  0.0061,  ...,  0.0140, -0.0245,  0.0108],\n",
              "                      ...,\n",
              "                      [-0.0090,  0.0101, -0.0268,  ..., -0.0208, -0.0210,  0.0290],\n",
              "                      [-0.0047, -0.0058, -0.0191,  ...,  0.0227,  0.0135, -0.0026],\n",
              "                      [ 0.0216, -0.0008, -0.0120,  ...,  0.0216, -0.0114, -0.0163]])),\n",
              "             ('layer_stack.2.bias',\n",
              "              tensor([-2.2176e-02,  1.2423e-04,  1.9556e-03, -1.4743e-02,  2.2097e-02,\n",
              "                      -2.7696e-02,  2.2796e-02,  3.2480e-02, -3.9442e-03,  3.3940e-02,\n",
              "                       8.8192e-03,  1.3672e-02,  2.0712e-02,  1.4314e-02,  3.8045e-03,\n",
              "                      -2.1585e-02,  7.3837e-03,  2.2178e-02, -3.3347e-02,  3.3174e-02,\n",
              "                      -1.6648e-02, -2.3285e-02,  1.1085e-02, -1.4426e-02, -9.0610e-03,\n",
              "                       1.4045e-02, -1.7100e-02, -2.0142e-02, -1.1136e-02,  1.2833e-02,\n",
              "                       7.5400e-03, -9.1715e-03,  2.9296e-02, -2.8209e-02,  1.2659e-02,\n",
              "                      -1.1611e-02,  2.0668e-02,  2.3496e-02, -3.3491e-02,  2.8094e-02,\n",
              "                       5.6601e-03, -1.5141e-02,  3.3971e-02,  3.2483e-02,  3.2353e-02,\n",
              "                       2.5940e-02,  1.6635e-02,  2.5936e-02,  3.4326e-02, -4.5088e-03,\n",
              "                       5.8235e-03,  2.7478e-03,  8.0173e-03, -2.1723e-02, -1.2453e-02,\n",
              "                       2.2976e-02,  1.9061e-02, -1.3607e-02, -1.3908e-02,  6.0430e-03,\n",
              "                       2.7938e-02, -2.5129e-02, -2.5153e-02, -2.6586e-02, -3.3954e-02,\n",
              "                       1.0006e-02,  4.4331e-03,  2.2222e-03, -3.2436e-03, -2.9099e-02,\n",
              "                       3.5713e-02,  2.7664e-02, -1.7746e-03,  8.2894e-03, -2.5657e-02,\n",
              "                      -1.3543e-02,  2.9830e-02,  8.1566e-03,  5.5034e-03, -1.8625e-02,\n",
              "                      -5.0795e-03,  1.9267e-02, -2.5296e-02, -3.0173e-03,  2.5692e-02,\n",
              "                      -1.2675e-02, -2.6873e-02,  2.8455e-02,  3.2191e-02,  2.8540e-02,\n",
              "                       2.1426e-02, -2.3140e-02, -1.1605e-02,  4.4406e-03,  2.7137e-02,\n",
              "                      -5.2804e-03, -2.3387e-02,  2.8355e-02,  2.0247e-02,  1.7008e-02,\n",
              "                      -1.5892e-02, -3.0434e-02,  8.3562e-04,  2.5932e-02,  3.3219e-02,\n",
              "                       9.4531e-03,  1.1140e-02,  5.7750e-03,  1.6555e-02,  1.5645e-02,\n",
              "                       1.4790e-02,  3.4467e-02, -3.4539e-02, -2.7264e-02, -2.1976e-03,\n",
              "                      -1.7368e-02, -2.7313e-02, -1.0034e-02, -3.4574e-02,  1.0574e-02,\n",
              "                      -3.2710e-02,  1.2678e-02, -7.6577e-03, -1.8294e-02, -8.3120e-03,\n",
              "                      -3.2908e-02, -2.9092e-02, -2.8061e-03,  2.8151e-02, -2.9152e-02,\n",
              "                      -2.1927e-02, -6.2106e-03,  2.5574e-02,  1.8300e-02, -3.2037e-02,\n",
              "                       4.1999e-03,  1.5687e-02,  2.1120e-02, -7.6536e-03,  1.9986e-02,\n",
              "                       2.4142e-02, -5.2367e-03, -2.7242e-02, -6.4427e-03,  1.3907e-02,\n",
              "                      -3.1002e-02,  9.5681e-03, -2.6782e-02, -1.4482e-02, -7.0742e-03,\n",
              "                      -3.0778e-02, -5.4218e-03, -3.1851e-02, -3.1692e-02, -1.1188e-02,\n",
              "                       1.9016e-02, -6.8843e-06,  2.6483e-02,  2.9707e-02, -1.5159e-02,\n",
              "                      -2.1754e-02,  1.4053e-02, -9.7721e-04, -2.2645e-02, -2.7712e-02,\n",
              "                       3.0017e-02,  2.8380e-02, -2.6604e-02, -7.1552e-03,  3.0241e-02,\n",
              "                       2.3973e-02, -2.7488e-02,  1.1958e-02,  8.5367e-03,  9.9556e-03,\n",
              "                       2.9447e-02, -3.2970e-02, -3.2173e-02, -1.2579e-02,  1.0367e-02,\n",
              "                       2.6632e-02,  6.2956e-03,  1.0245e-02, -2.4773e-02,  1.2529e-02,\n",
              "                      -6.3522e-03, -8.6695e-03, -1.2468e-02, -1.0277e-02, -1.1450e-02,\n",
              "                      -5.6648e-04, -2.9226e-02,  2.7300e-02, -1.8722e-02,  1.7970e-02,\n",
              "                      -5.7061e-03, -1.7931e-02,  3.2445e-02,  9.0106e-03, -8.9366e-03,\n",
              "                      -1.1413e-02,  2.8875e-02, -3.0320e-02,  2.9921e-03, -5.2344e-03,\n",
              "                      -1.7794e-02, -9.6562e-03, -1.9510e-02, -1.4914e-02,  3.2434e-02,\n",
              "                       6.2197e-03,  1.2321e-02, -1.2431e-02, -8.0924e-03, -3.4510e-02,\n",
              "                       6.3217e-03, -5.9760e-03, -2.2246e-02, -9.5809e-03,  2.7953e-02,\n",
              "                       4.0524e-04,  1.4874e-02, -2.5272e-02, -2.9404e-02, -1.2298e-02,\n",
              "                       1.2861e-02,  2.7429e-02, -2.4686e-02, -7.9229e-03,  1.5437e-02,\n",
              "                       6.6456e-03,  2.4705e-02,  1.3674e-02,  1.6010e-03,  1.5471e-02,\n",
              "                       3.3823e-02,  1.3589e-02,  2.0249e-02, -2.7398e-02,  1.1680e-02,\n",
              "                      -2.3949e-02, -2.9460e-02,  2.6536e-02,  2.0048e-02,  2.8460e-03,\n",
              "                       2.7706e-02, -1.1774e-02,  2.5228e-02, -2.6610e-02,  2.3381e-02,\n",
              "                       7.5442e-04,  5.0821e-03, -3.2944e-02, -2.2549e-02,  1.5002e-02,\n",
              "                      -2.0415e-02, -1.2180e-02, -2.0133e-02,  6.0158e-04, -3.1758e-02,\n",
              "                       1.8477e-02, -1.6872e-02,  1.7315e-02,  3.3474e-02,  1.7138e-02,\n",
              "                      -3.1527e-02, -2.5184e-02, -2.4350e-03,  2.7866e-02,  2.3582e-02,\n",
              "                      -2.9330e-02,  1.5034e-02,  4.3039e-03,  1.3811e-03, -2.7133e-02,\n",
              "                       2.9940e-02,  2.6714e-02, -3.1747e-03, -1.1159e-02,  3.6765e-03,\n",
              "                      -3.4616e-02,  2.5113e-02, -2.3697e-03,  2.4171e-02, -4.6502e-03,\n",
              "                      -4.2795e-03,  2.0312e-02, -2.0729e-02, -3.1441e-02, -2.5663e-02,\n",
              "                      -2.2219e-02,  3.0838e-03,  2.3912e-02, -1.4938e-03,  4.2687e-03,\n",
              "                       2.7867e-02,  2.9801e-02, -1.5685e-03, -2.7310e-02,  5.6984e-03,\n",
              "                      -2.0926e-03,  3.0549e-02,  2.0790e-03, -3.0969e-02,  1.2505e-02,\n",
              "                       2.6234e-02, -1.1396e-02, -3.3079e-02, -2.0005e-02,  1.9301e-03,\n",
              "                       3.5159e-02,  1.5951e-02, -3.2191e-03,  2.9134e-02,  1.2424e-02,\n",
              "                      -1.5127e-02, -3.5241e-02,  7.5907e-03, -6.2808e-04, -1.2595e-03,\n",
              "                       3.3960e-02, -1.7681e-02,  2.7959e-03,  1.1799e-02, -4.5515e-04,\n",
              "                       1.6838e-02, -1.1552e-02, -3.1223e-02, -2.5072e-02,  1.3968e-02,\n",
              "                       1.9355e-02,  2.3749e-02,  3.4049e-02,  1.8494e-02, -2.8309e-02,\n",
              "                       9.4504e-03,  2.7959e-02,  3.3994e-02,  2.6980e-02,  1.6637e-02,\n",
              "                      -1.6764e-03,  1.6018e-02,  1.8647e-03,  1.4383e-02,  2.0124e-02,\n",
              "                      -6.9072e-03, -2.7396e-02,  1.5175e-02,  7.6901e-03, -3.5008e-02,\n",
              "                      -6.2267e-03,  7.7472e-03, -2.6844e-02,  2.7641e-02,  1.2801e-02,\n",
              "                       8.1245e-03,  7.2647e-03, -3.5118e-02,  1.5537e-03,  1.6472e-02,\n",
              "                      -1.1821e-02, -2.1286e-02, -1.9425e-02, -3.4897e-04, -5.8609e-03,\n",
              "                      -2.8881e-03,  2.7815e-02,  2.0622e-02, -3.0179e-02,  1.3733e-02,\n",
              "                       1.1870e-02, -7.5841e-03, -2.3835e-03, -9.4970e-03,  3.5622e-02,\n",
              "                       1.6241e-02, -2.7855e-03, -1.1784e-02,  2.5909e-02,  7.5298e-03,\n",
              "                      -5.1254e-03,  3.4564e-02, -9.1018e-03, -8.3591e-03, -3.5050e-02,\n",
              "                       2.1122e-02,  1.0907e-02, -1.8509e-02,  3.6265e-03, -1.0915e-02,\n",
              "                      -6.8302e-03,  1.7588e-02,  2.0420e-03, -1.4601e-02,  2.3982e-02,\n",
              "                       1.0493e-02, -2.3705e-02,  2.2519e-02,  2.9867e-02,  2.7732e-02,\n",
              "                      -3.3411e-02,  1.3002e-03,  1.6005e-03, -2.1262e-02, -4.1527e-03,\n",
              "                       5.3001e-03,  2.3222e-02, -1.4003e-02,  1.4597e-02, -7.7221e-03,\n",
              "                      -3.3814e-02,  3.6353e-03,  1.3562e-03,  3.1954e-02, -7.0087e-03,\n",
              "                      -2.1968e-02,  2.6172e-02,  9.9950e-03, -2.0511e-02,  1.5975e-02,\n",
              "                      -2.0998e-02, -3.0823e-02,  8.1646e-03, -1.5743e-02,  2.3071e-02,\n",
              "                      -2.9322e-02, -3.2154e-02,  6.8196e-03,  8.2457e-03, -3.3101e-02,\n",
              "                      -3.2073e-02, -4.7511e-04,  1.6149e-02, -7.3244e-03,  1.0159e-02,\n",
              "                      -1.3893e-04, -1.1382e-02,  9.3919e-03,  2.9489e-02, -2.7179e-02,\n",
              "                      -1.5303e-02, -1.8986e-02, -1.6922e-02, -9.2173e-03, -3.0986e-02,\n",
              "                      -3.0866e-02, -2.0387e-02,  4.0984e-03,  3.6638e-03, -3.2244e-02,\n",
              "                      -3.1556e-02, -1.5795e-02, -2.4456e-02, -1.4354e-02,  3.1320e-02,\n",
              "                      -1.0707e-02, -1.2414e-02,  2.8035e-02,  2.0700e-02,  2.9763e-02,\n",
              "                       3.4001e-02,  3.3981e-02, -1.2784e-02, -6.7255e-03, -9.6814e-03,\n",
              "                       2.4208e-02, -5.0006e-03,  2.4987e-02,  2.7886e-02, -4.3331e-03,\n",
              "                       2.0181e-02, -1.8707e-02, -1.5797e-02, -2.9909e-02, -2.4002e-02,\n",
              "                       2.0283e-02, -1.8204e-02,  1.1806e-02,  3.2821e-02, -1.2013e-03,\n",
              "                      -1.9517e-02,  1.3691e-02,  3.3775e-02,  1.6767e-02,  2.3922e-02,\n",
              "                      -3.1625e-02, -2.2660e-02,  1.4578e-02, -2.1957e-03,  1.8756e-02,\n",
              "                       1.8818e-02,  3.2922e-03, -8.2273e-03,  1.1826e-02, -2.3291e-02,\n",
              "                       3.1614e-02,  2.1608e-02,  2.9405e-03, -2.5177e-02,  1.8218e-02,\n",
              "                       2.3920e-02,  2.7605e-02,  1.2913e-02, -5.5012e-03,  1.0626e-02,\n",
              "                      -2.3511e-02, -3.2459e-02, -1.6810e-02,  4.8862e-03,  2.6189e-02,\n",
              "                      -1.4870e-02, -1.3557e-02])),\n",
              "             ('layer_stack.4.weight',\n",
              "              tensor([[ 0.0350, -0.0047, -0.0431,  ..., -0.0023,  0.0246,  0.0380],\n",
              "                      [-0.0134,  0.0058, -0.0398,  ..., -0.0374,  0.0278, -0.0430],\n",
              "                      [-0.0158, -0.0036, -0.0439,  ..., -0.0027,  0.0320, -0.0433],\n",
              "                      ...,\n",
              "                      [-0.0207, -0.0323, -0.0142,  ...,  0.0171,  0.0345, -0.0237],\n",
              "                      [ 0.0108, -0.0426, -0.0157,  ...,  0.0417, -0.0318,  0.0056],\n",
              "                      [ 0.0388, -0.0305,  0.0313,  ...,  0.0272,  0.0014, -0.0220]])),\n",
              "             ('layer_stack.4.bias',\n",
              "              tensor([-2.4598e-02, -1.5618e-03,  1.1919e-03,  4.1539e-02,  7.7472e-03,\n",
              "                       1.2411e-02,  3.5967e-02, -3.6875e-03,  2.0803e-02,  1.9536e-02,\n",
              "                       2.2286e-02, -4.3534e-03,  2.1792e-02, -9.3392e-05,  2.5045e-02,\n",
              "                       8.9543e-03,  2.5247e-02, -2.9715e-02,  4.1185e-02, -3.9266e-02,\n",
              "                      -1.8107e-02,  3.9472e-02, -1.6451e-02, -1.4429e-02,  1.9995e-02,\n",
              "                       2.0476e-02, -4.0606e-02, -1.7579e-03, -2.7695e-02, -3.1914e-02,\n",
              "                      -2.4003e-02,  3.6840e-02,  2.0394e-02, -4.0116e-02, -3.8443e-02,\n",
              "                       4.1016e-02, -4.3842e-02, -1.1440e-02,  1.5614e-02,  1.8759e-02,\n",
              "                      -2.6191e-02, -2.8461e-02,  3.7751e-02, -2.3709e-02, -2.9683e-02,\n",
              "                       4.1294e-02,  2.9524e-02, -3.5377e-02,  7.8256e-03,  2.2025e-02,\n",
              "                       1.7124e-02,  2.1508e-02,  2.9346e-03,  3.8359e-04,  6.4803e-03,\n",
              "                      -4.2743e-02,  3.2783e-02, -4.3094e-02,  2.3042e-02, -3.0425e-03,\n",
              "                       3.7127e-02, -5.3421e-03,  2.7306e-02, -3.9702e-02, -2.7835e-04,\n",
              "                       1.3095e-03, -4.2028e-02,  4.4549e-03, -4.0159e-02, -5.3272e-03,\n",
              "                      -1.8611e-02, -1.5453e-02,  4.6625e-04, -1.9500e-02,  3.0763e-02,\n",
              "                      -1.4644e-02, -3.5212e-02,  4.1925e-02, -3.9166e-03,  1.8508e-02,\n",
              "                       3.3836e-02,  2.7862e-03,  1.2069e-02, -2.5171e-02,  2.9012e-02,\n",
              "                      -3.1527e-02,  2.9133e-02, -1.9813e-02,  2.8668e-02,  4.1542e-02,\n",
              "                       1.9637e-02,  3.3671e-02, -3.9397e-04,  2.1256e-02, -1.5204e-03,\n",
              "                       4.4024e-02,  2.3452e-02, -6.6133e-03,  2.1968e-02, -2.8426e-02,\n",
              "                       4.4104e-02, -3.9439e-02, -4.9142e-04,  3.9698e-02,  9.4020e-03,\n",
              "                       6.1458e-03, -2.0982e-02, -2.8215e-02,  4.0667e-02, -1.4614e-02,\n",
              "                       3.2994e-03,  8.9120e-03,  3.4210e-02, -2.1382e-02, -1.8676e-02,\n",
              "                      -9.4831e-03,  3.8437e-02, -2.7770e-02,  1.0819e-02,  1.5438e-02,\n",
              "                      -9.0765e-03,  3.3002e-02,  6.7367e-03, -3.7001e-02,  2.1051e-02,\n",
              "                      -1.5329e-02,  1.3600e-02, -3.1808e-02])),\n",
              "             ('layer_stack.6.weight',\n",
              "              tensor([[-0.0713, -0.0459,  0.0800,  ..., -0.0660,  0.0478,  0.0787],\n",
              "                      [ 0.0610, -0.0856, -0.0844,  ..., -0.0349,  0.0689,  0.0857],\n",
              "                      [-0.0094,  0.0017,  0.0882,  ..., -0.0295, -0.0040, -0.0404],\n",
              "                      ...,\n",
              "                      [ 0.0255,  0.0854, -0.0771,  ...,  0.0681, -0.0499, -0.0326],\n",
              "                      [-0.0092, -0.0767, -0.0249,  ..., -0.0228,  0.0439,  0.0650],\n",
              "                      [ 0.0239,  0.0568,  0.0220,  ...,  0.0134, -0.0791,  0.0141]])),\n",
              "             ('layer_stack.6.bias',\n",
              "              tensor([ 0.0246,  0.0068,  0.0076,  0.0112,  0.0789, -0.0406, -0.0846, -0.0097,\n",
              "                      -0.0574,  0.0456, -0.0323, -0.0630,  0.0347,  0.0612,  0.0733,  0.0780,\n",
              "                      -0.0804, -0.0429,  0.0021,  0.0614,  0.0096,  0.0619, -0.0281,  0.0453,\n",
              "                      -0.0706, -0.0582,  0.0508, -0.0745, -0.0747, -0.0826, -0.0195, -0.0668])),\n",
              "             ('layer_stack.8.weight',\n",
              "              tensor([[ 1.5778e-01, -7.0896e-02,  2.4322e-02, -6.7797e-02,  1.1295e-01,\n",
              "                       -1.2151e-01,  2.9271e-02,  1.5403e-01,  9.3762e-02,  6.8651e-02,\n",
              "                       -1.0098e-01,  8.8441e-02,  9.1030e-02, -3.7807e-02,  9.6640e-02,\n",
              "                       -1.3138e-01,  1.3553e-01, -5.0704e-02,  6.3253e-02,  3.3485e-02,\n",
              "                        6.0647e-02,  1.2809e-01,  2.1228e-02, -4.5855e-02,  7.5910e-02,\n",
              "                       -1.3701e-01, -1.6671e-01, -1.0476e-01, -1.1696e-01, -6.3192e-02,\n",
              "                       -1.3013e-01,  9.2196e-02],\n",
              "                      [-1.2352e-01, -1.1830e-01,  3.2501e-02, -1.1065e-01, -1.5226e-01,\n",
              "                       -1.1364e-01,  1.0749e-01,  1.6448e-01, -1.1556e-01, -9.2067e-02,\n",
              "                        9.4389e-02, -6.4059e-02,  1.1509e-01, -6.9451e-02,  3.5549e-02,\n",
              "                        7.4374e-02,  2.4756e-03,  2.5061e-02, -1.3676e-01, -5.2013e-02,\n",
              "                        1.0867e-01, -1.3464e-01, -1.4938e-01,  1.1799e-02,  7.9913e-02,\n",
              "                        1.6982e-02,  1.1816e-01,  1.6411e-01, -1.6904e-01,  1.4088e-01,\n",
              "                        8.5683e-02,  1.6549e-01],\n",
              "                      [ 9.6135e-02,  1.2359e-01, -6.3209e-02,  1.6458e-02,  6.5240e-02,\n",
              "                        1.7222e-01,  9.9743e-02,  3.8400e-02, -1.3634e-01, -1.4798e-01,\n",
              "                       -1.2616e-01, -5.8662e-02,  1.5166e-01, -9.6998e-02,  1.1792e-01,\n",
              "                       -1.6032e-01,  1.2464e-01, -7.7690e-02, -7.1921e-02, -3.9261e-02,\n",
              "                       -7.2338e-02,  1.2887e-01,  1.2201e-01,  1.7065e-01,  4.3384e-03,\n",
              "                       -1.2076e-03, -5.6859e-02,  8.4289e-02, -1.2628e-01, -1.4595e-01,\n",
              "                        1.7138e-01,  8.5784e-02],\n",
              "                      [-2.2452e-02,  8.4676e-02,  1.5078e-02, -1.5724e-01, -9.1870e-02,\n",
              "                       -1.2637e-01,  2.9014e-02, -1.6338e-01,  3.7829e-02,  1.6200e-01,\n",
              "                        7.7921e-02, -8.1297e-02, -1.9659e-02,  4.1020e-02, -1.2508e-01,\n",
              "                        1.1474e-01, -1.1428e-01,  8.2696e-02,  5.0201e-02,  1.3959e-01,\n",
              "                       -1.1242e-01,  6.3155e-02, -1.0735e-01,  3.2051e-02, -1.3005e-01,\n",
              "                        1.7184e-01,  6.9353e-02, -1.0468e-01, -1.0711e-01, -8.5354e-03,\n",
              "                       -2.0748e-02,  1.7655e-01],\n",
              "                      [-6.0573e-02, -1.3442e-02, -2.7878e-02, -6.4587e-02, -7.8804e-02,\n",
              "                       -9.1354e-02,  4.4053e-02, -8.0589e-03, -1.5946e-01,  1.4363e-01,\n",
              "                       -7.5367e-02,  9.9003e-02,  8.1288e-02, -8.4329e-02, -4.2911e-02,\n",
              "                       -1.6584e-01, -1.6526e-01,  1.5182e-02,  1.3281e-01,  2.8311e-02,\n",
              "                        6.3254e-02, -1.2479e-01,  4.6146e-02, -4.0176e-02, -1.0000e-02,\n",
              "                       -2.9051e-02, -3.9393e-02,  7.7103e-02, -1.1790e-01,  8.1489e-02,\n",
              "                        1.1187e-01, -3.2158e-02],\n",
              "                      [-6.0668e-02, -1.2229e-01,  5.2579e-02, -1.0850e-01,  4.7843e-02,\n",
              "                       -1.6698e-01,  1.8320e-02,  1.2580e-01, -2.6835e-02,  2.5983e-02,\n",
              "                       -1.1136e-01,  6.0100e-02, -5.4063e-02, -9.1459e-02,  8.3249e-02,\n",
              "                       -1.3227e-03,  7.5816e-02,  1.1308e-01,  1.0080e-01,  1.1652e-01,\n",
              "                       -1.2075e-01, -1.7583e-01,  1.5661e-01,  1.1664e-01, -1.0840e-01,\n",
              "                       -5.2240e-02, -1.6835e-02,  5.4063e-02,  7.1750e-02,  1.0385e-01,\n",
              "                        7.0496e-02,  6.9444e-02],\n",
              "                      [-1.1971e-01,  8.1709e-03, -1.2334e-01,  9.6103e-02,  3.2086e-03,\n",
              "                        9.2557e-02, -1.2116e-01,  6.4107e-02, -5.4760e-03,  1.1677e-02,\n",
              "                       -9.0696e-02, -1.3817e-01,  6.0200e-02, -1.5900e-01, -1.0389e-01,\n",
              "                       -6.4839e-02,  1.3558e-01,  6.0191e-02,  1.3662e-01,  1.6070e-01,\n",
              "                       -1.2601e-01,  7.2006e-02,  4.8233e-02, -1.2055e-01,  3.0400e-02,\n",
              "                        3.4541e-02,  3.2826e-02, -3.5467e-02,  6.0395e-02, -4.3141e-02,\n",
              "                        3.8001e-02,  7.3462e-02],\n",
              "                      [-1.2136e-01, -2.7445e-03, -7.8334e-02,  1.1504e-01, -2.6416e-02,\n",
              "                       -1.1480e-01, -1.3275e-01,  1.3885e-01, -1.2671e-01,  1.9962e-02,\n",
              "                       -2.7043e-02,  3.0543e-02, -8.8127e-03, -1.5396e-01,  8.8277e-05,\n",
              "                       -9.2725e-03,  2.8419e-02,  1.5419e-01, -3.3636e-02, -2.2800e-02,\n",
              "                       -4.3036e-02, -1.3752e-01,  1.0184e-01,  3.2880e-02,  9.2351e-03,\n",
              "                       -1.7262e-01, -5.4383e-02,  1.4864e-01,  1.4512e-01, -1.6111e-01,\n",
              "                        3.6060e-02, -3.9808e-02],\n",
              "                      [-2.0320e-03, -1.0421e-01, -3.1028e-02, -9.6664e-02,  1.5202e-01,\n",
              "                       -9.9322e-02, -1.1909e-01,  3.6968e-03, -7.4336e-02, -1.8022e-02,\n",
              "                       -5.0327e-02, -1.7411e-01, -9.3771e-02,  1.1619e-01, -8.6768e-02,\n",
              "                        6.3638e-03, -1.6915e-01, -8.7335e-04, -1.2574e-02, -1.7400e-01,\n",
              "                        3.6306e-02, -5.9331e-02, -8.0622e-02,  6.1943e-03,  1.2904e-01,\n",
              "                        1.2762e-03,  4.6103e-02,  1.5323e-01,  2.9682e-02,  4.5996e-02,\n",
              "                        6.6627e-02,  1.7571e-01],\n",
              "                      [-1.7347e-01,  1.3266e-01, -7.3846e-02, -1.3562e-01, -4.9666e-02,\n",
              "                       -1.2192e-01,  2.9479e-02,  3.3452e-02,  1.0134e-01,  1.2068e-01,\n",
              "                       -6.9129e-02, -1.2010e-01, -1.6246e-01, -1.1597e-01,  3.1005e-02,\n",
              "                       -1.2572e-01, -5.4612e-02, -1.2013e-02, -8.5846e-02,  8.2091e-03,\n",
              "                        5.2575e-02,  1.0761e-03,  2.0259e-02, -1.4473e-01, -1.6721e-01,\n",
              "                       -5.7531e-02, -1.5291e-01, -1.4543e-01, -1.3169e-01,  2.5119e-02,\n",
              "                        1.3771e-01, -1.0968e-02]])),\n",
              "             ('layer_stack.8.bias',\n",
              "              tensor([ 0.0134, -0.0280, -0.1605, -0.1680, -0.1548, -0.0449,  0.0543,  0.1304,\n",
              "                       0.1734,  0.1747]))])"
            ]
          },
          "metadata": {},
          "execution_count": 26
        }
      ]
    },
    {
      "cell_type": "markdown",
      "source": [
        "##CREATE OPTIMIZER / LOSS_FUNC"
      ],
      "metadata": {
        "id": "VxS7K9TsgiSY"
      }
    },
    {
      "cell_type": "code",
      "source": [
        "#create loss func\n",
        "loss_func=nn.CrossEntropyLoss()\n",
        "#optimizer\n",
        "\n",
        "optimizer=torch.optim.SGD(model.parameters(),lr=0.1)"
      ],
      "metadata": {
        "id": "EaAq8b2yehWZ"
      },
      "execution_count": 27,
      "outputs": []
    },
    {
      "cell_type": "markdown",
      "source": [
        "##TRAINING / TESTING LOOP"
      ],
      "metadata": {
        "id": "6vBh6ZxMPsYt"
      }
    },
    {
      "cell_type": "markdown",
      "source": [
        "tips\n",
        "0. Loop throug the data\n",
        "1. set to training mode\n",
        "2. Forward pass\n",
        "3. Calculate the loss(pred to ground truth)\n",
        "4. optimizer zer grad\n",
        "5. loss backward .. back propogation\n",
        "6. optimizer step - use opt and adjust parameter ... grad desent\n"
      ],
      "metadata": {
        "id": "ntg6do8cclFi"
      }
    },
    {
      "cell_type": "code",
      "source": [
        "x,y=test_dataloader.dataset[0]"
      ],
      "metadata": {
        "id": "uIkpUfMeVpAw"
      },
      "execution_count": 15,
      "outputs": []
    },
    {
      "cell_type": "code",
      "source": [
        "y"
      ],
      "metadata": {
        "id": "CDvtP2bLV-tZ",
        "outputId": "9e0b06ad-bfc4-4f2c-a260-2fe7299a490a",
        "colab": {
          "base_uri": "https://localhost:8080/"
        }
      },
      "execution_count": 16,
      "outputs": [
        {
          "output_type": "execute_result",
          "data": {
            "text/plain": [
              "9"
            ]
          },
          "metadata": {},
          "execution_count": 16
        }
      ]
    },
    {
      "cell_type": "code",
      "source": [
        "from tqdm.auto import tqdm\n",
        "#creating loop using batches\n",
        "epochs=5\n",
        "train_loss_track=[]\n",
        "test_loss_track=[]\n",
        "\n",
        "for epoch in tqdm(range(epochs)):\n",
        "  train_loss=0\n",
        "  \n",
        "  for batch, (x_,y_) in enumerate(train_dataloader):\n",
        "    model.train()\n",
        "    y_pred=model(x_)\n",
        "    loss=loss_func(y_pred,y_)\n",
        "    optimizer.zero_grad()\n",
        "    loss.backward()\n",
        "    optimizer.step()\n",
        "   # print(loss,batch)\n",
        "    train_loss_track.append(loss.detach())\n",
        "    test_loss=0\n",
        "    model.eval()\n",
        "  with torch.inference_mode():\n",
        "    for b,(x_,y_) in enumerate(test_dataloader):\n",
        "      test_raw_pred=model(x_)\n",
        "      test_loss=loss_func(test_raw_pred,y_)\n",
        "    print(\"test accuracy\",accu(y_,test_raw_pred.argmax(dim=1)))\n",
        "  print(loss)\n",
        "  #plt.plot(train_loss_track)\n",
        "  "
      ],
      "metadata": {
        "id": "mOHhU9GajipP",
        "outputId": "67becdb4-6652-495b-8754-b0701ef91278",
        "colab": {
          "base_uri": "https://localhost:8080/",
          "height": 223,
          "referenced_widgets": [
            "aada9b411ce7462e953c8246d400323c",
            "fa096da83ba9467da35214d00ee53286",
            "aa71268168fd42afae7078c65b4176eb",
            "374baba32d3a4c708278562e7022538b",
            "b20a2ac7ff264f6eb168903fbef6c26f",
            "6d57ed19b4a148909cc968c83ded227a",
            "9f2a982b483f406bb2e9405c6db3bb17",
            "6708a4aa60914d54a35913fd8222fdd4",
            "ee0a5c6a0a84401bb5609f06524123ef",
            "1dc113f6344340dcb79b6d9ab2913abb",
            "b8bf9331f03244ca94206e5af27a66d7"
          ]
        }
      },
      "execution_count": 28,
      "outputs": [
        {
          "output_type": "display_data",
          "data": {
            "text/plain": [
              "  0%|          | 0/5 [00:00<?, ?it/s]"
            ],
            "application/vnd.jupyter.widget-view+json": {
              "version_major": 2,
              "version_minor": 0,
              "model_id": "aada9b411ce7462e953c8246d400323c"
            }
          },
          "metadata": {}
        },
        {
          "output_type": "stream",
          "name": "stdout",
          "text": [
            "test accuracy 87.5\n",
            "tensor(0.1683, grad_fn=<NllLossBackward0>)\n",
            "test accuracy 87.5\n",
            "tensor(0.4136, grad_fn=<NllLossBackward0>)\n",
            "test accuracy 100.0\n",
            "tensor(0.4392, grad_fn=<NllLossBackward0>)\n",
            "test accuracy 87.5\n",
            "tensor(0.3467, grad_fn=<NllLossBackward0>)\n",
            "test accuracy 93.75\n",
            "tensor(0.2091, grad_fn=<NllLossBackward0>)\n"
          ]
        }
      ]
    },
    {
      "cell_type": "code",
      "source": [
        "plt.plot(train_loss_track)"
      ],
      "metadata": {
        "id": "luQD_97lcIh4",
        "outputId": "debfadb9-3d87-4804-eac8-1771c42e82b2",
        "colab": {
          "base_uri": "https://localhost:8080/",
          "height": 447
        }
      },
      "execution_count": 29,
      "outputs": [
        {
          "output_type": "execute_result",
          "data": {
            "text/plain": [
              "[<matplotlib.lines.Line2D at 0x7f4d1d105880>]"
            ]
          },
          "metadata": {},
          "execution_count": 29
        },
        {
          "output_type": "display_data",
          "data": {
            "text/plain": [
              "<Figure size 640x480 with 1 Axes>"
            ],
            "image/png": "[encoded data removed]"
          },
          "metadata": {}
        }
      ]
    },
    {
      "cell_type": "code",
      "source": [
        "plt.plot(train_loss_track) #V01"
      ],
      "metadata": {
        "id": "HWsESv2TbYwz",
        "outputId": "200e9dad-3554-4bd0-fc82-fb8f51b60ddb",
        "colab": {
          "base_uri": "https://localhost:8080/",
          "height": 447
        }
      },
      "execution_count": 23,
      "outputs": [
        {
          "output_type": "execute_result",
          "data": {
            "text/plain": [
              "[<matplotlib.lines.Line2D at 0x7f4d1cb559a0>]"
            ]
          },
          "metadata": {},
          "execution_count": 23
        },
        {
          "output_type": "display_data",
          "data": {
            "text/plain": [
              "<Figure size 640x480 with 1 Axes>"
            ],
            "image/png": "[encoded data removed]"
          },
          "metadata": {}
        }
      ]
    },
    {
      "cell_type": "code",
      "source": [
        "plt.plot(train_loss_track) #V02"
      ],
      "metadata": {
        "id": "N57AzwLIpK8I",
        "outputId": "59c904c8-f20f-42a7-c165-70af0036a03d",
        "colab": {
          "base_uri": "https://localhost:8080/",
          "height": 447
        }
      },
      "execution_count": 19,
      "outputs": [
        {
          "output_type": "execute_result",
          "data": {
            "text/plain": [
              "[<matplotlib.lines.Line2D at 0x7f4d1ceb56a0>]"
            ]
          },
          "metadata": {},
          "execution_count": 19
        },
        {
          "output_type": "display_data",
          "data": {
            "text/plain": [
              "<Figure size 640x480 with 1 Axes>"
            ],
            "image/png": "[encoded data removed]"
          },
          "metadata": {}
        }
      ]
    },
    {
      "cell_type": "code",
      "source": [
        "# Import tqdm for progress bar\n",
        "from tqdm.auto import tqdm\n",
        "train_loss_track=[]\n",
        "test_loss_track=[]\n",
        "\n",
        "# Set the number of epochs (we'll keep this small for faster training times)\n",
        "epochs = 3\n",
        "\n",
        "# Create training and testing loop\n",
        "for epoch in tqdm(range(epochs)):\n",
        "    print(f\"Epoch: {epoch}\\n-------\")\n",
        "    ### Training\n",
        "    train_loss = 0\n",
        "    # Add a loop to loop through training batches\n",
        "    for batch, (X, y) in enumerate(train_dataloader):\n",
        "        model.train() \n",
        "        # 1. Forward pass\n",
        "        y_pred = model(X)\n",
        "\n",
        "        # 2. Calculate loss (per batch)\n",
        "        loss = loss_func(y_pred, y)\n",
        "        train_loss += loss # accumulatively add up the loss per epoch \n",
        "\n",
        "        # 3. Optimizer zero grad\n",
        "        optimizer.zero_grad()\n",
        "\n",
        "        # 4. Loss backward\n",
        "        loss.backward()\n",
        "\n",
        "        # 5. Optimizer step\n",
        "        optimizer.step()\n",
        "\n",
        "        # Print out how many samples have been seen\n",
        "        if batch % 400 == 0:\n",
        "            print(f\"Looked at {batch * len(X)}/{len(train_dataloader.dataset)} samples\")\n",
        "            plt.plot(train_loss_track)\n",
        "\n",
        "    # Divide total train loss by length of train dataloader (average loss per batch per epoch)\n",
        "    train_loss /= len(train_dataloader)\n",
        "    train_loss_track.append(train_loss.detach())\n",
        "    ### Testing\n",
        "    # Setup variables for accumulatively adding up loss and accuracy \n",
        "    test_loss, test_acc = 0, 0 \n",
        "    model.eval()\n",
        "    with torch.inference_mode():\n",
        "        for X, y in test_dataloader:\n",
        "            # 1. Forward pass\n",
        "            test_pred = model(X)\n",
        "           \n",
        "            # 2. Calculate loss (accumatively)\n",
        "            test_loss += loss_func(test_pred, y) # accumulatively add up the loss per epoch\n",
        "\n",
        "            # 3. Calculate accuracy (preds need to be same as y_true)\n",
        "            test_acc += accu(y, test_pred.argmax(dim=1))\n",
        "        \n",
        "        # Calculations on test metrics need to happen inside torch.inference_mode()\n",
        "        # Divide total test loss by length of test dataloader (per batch)\n",
        "        test_loss /= len(test_dataloader)\n",
        "\n",
        "        # Divide total accuracy by length of test dataloader (per batch)\n",
        "        test_acc /= len(test_dataloader)\n",
        "        test_loss_track.append(test_loss.detach())\n",
        "\n",
        "    ## Print out what's happening\n",
        "    print(f\"\\nTrain loss: {train_loss:.5f} | Test loss: {test_loss:.5f}, Test acc: {test_acc:.2f}%\\n\")\n",
        "\n",
        "\n",
        "details_loss_curve(range(epochs),train_loss_track,test_loss_track)"
      ],
      "metadata": {
        "id": "BCEE22NJKTyh",
        "outputId": "c03d9dde-feb5-488f-989f-8a57fd24c9eb",
        "colab": {
          "base_uri": "https://localhost:8080/",
          "height": 1000,
          "referenced_widgets": [
            "731625ddafd146e797e322eafb5cc7da",
            "ad55df4545974f0783fef19a75f5de96",
            "5aa2e55e37404f9ea220be04d0aa9be7",
            "5eda0c73f3ab4d6dae469aaac1d6faa1",
            "fe390445181e4b909aa08080a92b49e6",
            "6ff002e5179c4e61850b5c3ef56a9356",
            "a746ff0d855b434599641a5d08295bd8",
            "edea5a2b8d7b4f818122abde0709a969",
            "28330af316804bdd8ee4d2bacd23a3e5",
            "d5180808c1814c6abfa75c58618dc17b",
            "25845a10e8294cb19950d79e4f58b6f3"
          ]
        }
      },
      "execution_count": 37,
      "outputs": [
        {
          "output_type": "display_data",
          "data": {
            "text/plain": [
              "  0%|          | 0/3 [00:00<?, ?it/s]"
            ],
            "application/vnd.jupyter.widget-view+json": {
              "version_major": 2,
              "version_minor": 0,
              "model_id": "731625ddafd146e797e322eafb5cc7da"
            }
          },
          "metadata": {}
        },
        {
          "output_type": "stream",
          "name": "stdout",
          "text": [
            "Epoch: 0\n",
            "-------\n",
            "Looked at 0/60000 samples\n",
            "Looked at 12800/60000 samples\n",
            "Looked at 25600/60000 samples\n",
            "Looked at 38400/60000 samples\n",
            "Looked at 51200/60000 samples\n",
            "\n",
            "Train loss: 0.25812 | Test loss: 0.32743, Test acc: 88.40%\n",
            "\n",
            "Epoch: 1\n",
            "-------\n",
            "Looked at 0/60000 samples\n",
            "Looked at 12800/60000 samples\n",
            "Looked at 25600/60000 samples\n",
            "Looked at 38400/60000 samples\n",
            "Looked at 51200/60000 samples\n",
            "\n",
            "Train loss: 0.24857 | Test loss: 0.33050, Test acc: 88.00%\n",
            "\n",
            "Epoch: 2\n",
            "-------\n",
            "Looked at 0/60000 samples\n",
            "Looked at 12800/60000 samples\n",
            "Looked at 25600/60000 samples\n",
            "Looked at 38400/60000 samples\n",
            "Looked at 51200/60000 samples\n",
            "\n",
            "Train loss: 0.24117 | Test loss: 0.34184, Test acc: 87.89%\n",
            "\n"
          ]
        },
        {
          "output_type": "display_data",
          "data": {
            "text/plain": [
              "<Figure size 640x480 with 1 Axes>"
            ],
            "image/png": "[encoded data removed]"
          },
          "metadata": {}
        },
        {
          "output_type": "display_data",
          "data": {
            "text/plain": [
              "<Figure size 800x800 with 1 Axes>"
            ],
            "image/png": "[encoded data removed]"
          },
          "metadata": {}
        }
      ]
    },
    {
      "cell_type": "code",
      "source": [
        "train_loss_track.shape()"
      ],
      "metadata": {
        "id": "hLrVFYwiVnNr",
        "outputId": "4e327a47-800f-49d9-f815-6fa0dff3f692",
        "colab": {
          "base_uri": "https://localhost:8080/"
        }
      },
      "execution_count": 36,
      "outputs": [
        {
          "output_type": "execute_result",
          "data": {
            "text/plain": [
              "0.2707850933074951"
            ]
          },
          "metadata": {},
          "execution_count": 36
        }
      ]
    },
    {
      "cell_type": "markdown",
      "source": [
        "##EVALUATION OF THE MODEL"
      ],
      "metadata": {
        "id": "BNgX5AsNKXxH"
      }
    },
    {
      "cell_type": "markdown",
      "source": [
        "##SAVING/LOADING"
      ],
      "metadata": {
        "id": "KwxZmgXUPJgI"
      }
    },
    {
      "cell_type": "markdown",
      "source": [
        "tips\n",
        "1.  torch.save() \n",
        "2.  torch.load()\n",
        "3.  toch.nn.Module.load_state_dict()"
      ],
      "metadata": {
        "id": "zW_QlscXPZsx"
      }
    },
    {
      "cell_type": "code",
      "source": [],
      "metadata": {
        "id": "se4kqYtmQwPX"
      },
      "execution_count": null,
      "outputs": []
    },
    {
      "cell_type": "code",
      "source": [],
      "metadata": {
        "id": "na5mRKb3fvDb"
      },
      "execution_count": null,
      "outputs": []
    }
  ]
}