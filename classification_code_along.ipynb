{
  "nbformat": 4,
  "nbformat_minor": 0,
  "metadata": {
    "colab": {
      "provenance": [],
      "authorship_tag": "ABX9TyPguIxefmPDFJ7tOuKSr+4i",
      "include_colab_link": true
    },
    "kernelspec": {
      "name": "python3",
      "display_name": "Python 3"
    },
    "language_info": {
      "name": "python"
    },
    "accelerator": "GPU",
    "gpuClass": "standard"
  },
  "cells": [
    {
      "cell_type": "markdown",
      "metadata": {
        "id": "view-in-github",
        "colab_type": "text"
      },
      "source": [
        "<a href=\"https://colab.research.google.com/github/AhamedShimak/pytorch/blob/main/classification_code_along.ipynb\" target=\"_parent\"><img src=\"https://colab.research.google.com/assets/colab-badge.svg\" alt=\"Open In Colab\"/></a>"
      ]
    },
    {
      "cell_type": "markdown",
      "source": [
        "## IMPORT AND MY DEFINED FUNCTIONS"
      ],
      "metadata": {
        "id": "n7Gn_JhaG7dY"
      }
    },
    {
      "cell_type": "markdown",
      "source": [
        "### Imports"
      ],
      "metadata": {
        "id": "Glqkeh5CHfl-"
      }
    },
    {
      "cell_type": "code",
      "source": [
        "import torch\n",
        "from torch import nn\n",
        "import pandas as pd\n",
        "import numpy as np\n",
        "import matplotlib.pyplot as plt\n"
      ],
      "metadata": {
        "id": "fQb72sHRBxT6"
      },
      "execution_count": 1,
      "outputs": []
    },
    {
      "cell_type": "markdown",
      "source": [
        "###My functions"
      ],
      "metadata": {
        "id": "8zKnh3Aga-W_"
      }
    },
    {
      "cell_type": "code",
      "source": [
        "import torch\n",
        "def details(tensor):\n",
        "  print(\"\")\n",
        "  print(\"Shape: \",tensor.shape)\n",
        "  print(\"Dimentions: \",tensor.ndim)\n",
        "  print(\"###########\")\n",
        "  print(tensor)\n",
        "  print(\"###########\")\n",
        "  print(\"Tensor Data type: \",tensor.dtype)\n",
        "  print(\"Device: \",tensor.device)\n",
        "  print(\"\")\n",
        "\n",
        "def details_plot(train_data, \n",
        "                     train_labels, \n",
        "                     test_data, \n",
        "                     test_labels,\n",
        "                     predictions=None):\n",
        "  \"\"\"\n",
        "  Plots training data, test data and compares predictions.\n",
        "  \"\"\"\n",
        "  plt.figure(figsize=(10, 7))\n",
        "\n",
        "  # Plot training data in blue\n",
        "  plt.scatter(train_data, train_labels, c=\"b\", s=4, label=\"Training data\")\n",
        "  \n",
        "  # Plot test data in green\n",
        "  plt.scatter(test_data, test_labels, c=\"g\", s=4, label=\"Testing data\")\n",
        "\n",
        "  if predictions is not None:\n",
        "    # Plot the predictions in red (predictions were made on the test data)\n",
        "    plt.scatter(test_data, predictions, c=\"r\", s=4, label=\"Predictions\")\n",
        "\n",
        "  # Show the legend\n",
        "  plt.legend(prop={\"size\": 14});\n",
        "\n",
        "def details_loss_curve(epochs,train_loss_track,test_loss_track):\n",
        "  #loss curve\n",
        "  plt.figure(figsize=(8,8))\n",
        "  plt.title(\"Loss curve\")\n",
        "  plt.xlabel(\"Epochs\")\n",
        "  plt.ylabel(\"Loss\")\n",
        "  plt.plot(epochs,train_loss_track,label=\"Train loss\")\n",
        "  plt.plot(epochs,test_loss_track,label=\"Test loss\")\n",
        "  plt.legend(prop={\"size\": 14})"
      ],
      "metadata": {
        "id": "aYgYxCDHbBTO"
      },
      "execution_count": 2,
      "outputs": []
    },
    {
      "cell_type": "markdown",
      "source": [
        "###GPU"
      ],
      "metadata": {
        "id": "sMRYymjLIGWp"
      }
    },
    {
      "cell_type": "code",
      "source": [
        "!nvidia-smi\n",
        "print(torch.cuda.is_available())\n",
        "#setup device agnostic code\n",
        "device=\"cuda\" if torch.cuda.is_available() else \"cpu\"\n",
        "print(device)"
      ],
      "metadata": {
        "colab": {
          "base_uri": "https://localhost:8080/"
        },
        "id": "7nw_wfJXIIs0",
        "outputId": "3ddac5a2-2203-4f0f-83e4-ede8d160897e"
      },
      "execution_count": 3,
      "outputs": [
        {
          "output_type": "stream",
          "name": "stdout",
          "text": [
            "Mon Apr 24 14:53:59 2023       \n",
            "+-----------------------------------------------------------------------------+\n",
            "| NVIDIA-SMI 525.85.12    Driver Version: 525.85.12    CUDA Version: 12.0     |\n",
            "|-------------------------------+----------------------+----------------------+\n",
            "| GPU  Name        Persistence-M| Bus-Id        Disp.A | Volatile Uncorr. ECC |\n",
            "| Fan  Temp  Perf  Pwr:Usage/Cap|         Memory-Usage | GPU-Util  Compute M. |\n",
            "|                               |                      |               MIG M. |\n",
            "|===============================+======================+======================|\n",
            "|   0  Tesla T4            Off  | 00000000:00:04.0 Off |                    0 |\n",
            "| N/A   66C    P8    12W /  70W |      0MiB / 15360MiB |      0%      Default |\n",
            "|                               |                      |                  N/A |\n",
            "+-------------------------------+----------------------+----------------------+\n",
            "                                                                               \n",
            "+-----------------------------------------------------------------------------+\n",
            "| Processes:                                                                  |\n",
            "|  GPU   GI   CI        PID   Type   Process name                  GPU Memory |\n",
            "|        ID   ID                                                   Usage      |\n",
            "|=============================================================================|\n",
            "|  No running processes found                                                 |\n",
            "+-----------------------------------------------------------------------------+\n",
            "True\n",
            "cuda\n"
          ]
        }
      ]
    },
    {
      "cell_type": "markdown",
      "source": [
        "##DATA PROCESS \n"
      ],
      "metadata": {
        "id": "ptqUbYftO67F"
      }
    },
    {
      "cell_type": "markdown",
      "source": [
        "ex- tensor data-> x_train,y_train,x_test,y_test\n"
      ],
      "metadata": {
        "id": "oMw_nOmGLh5O"
      }
    },
    {
      "cell_type": "code",
      "source": [
        "# create data\n",
        "\n",
        "#weight and bias\n",
        "\n",
        "  #######to prevent mat multiplication error   .unsqueeze(dim=1)\n"
      ],
      "metadata": {
        "id": "Khi062A2O-_5"
      },
      "execution_count": 4,
      "outputs": []
    },
    {
      "cell_type": "code",
      "source": [
        "# create train/test split\n"
      ],
      "metadata": {
        "id": "SGZ3v5LHPG_A"
      },
      "execution_count": 5,
      "outputs": []
    },
    {
      "cell_type": "code",
      "source": [
        "# plot and visualize it\n"
      ],
      "metadata": {
        "id": "Ju3JoT5WP-V7"
      },
      "execution_count": 6,
      "outputs": []
    },
    {
      "cell_type": "markdown",
      "source": [
        "##BUILDING THE MODEL\n"
      ],
      "metadata": {
        "id": "Tto_QOOaQS7A"
      }
    },
    {
      "cell_type": "markdown",
      "source": [
        "tips\n",
        "1. torch.nn.find_suitable_loss\n",
        "2. torch.nn.Paramenter\n",
        "3. torch.nn.Module this is base class\n",
        "4. torch.optim - optimizer"
      ],
      "metadata": {
        "id": "Zxa0ngYiLY52"
      }
    },
    {
      "cell_type": "code",
      "source": [
        "#model\n",
        "class Model_name(nn.Module):\n",
        "  def __init__(self):\n",
        "    super().__init__()\n",
        "    #model_structer\n",
        "   \n",
        "  def forward(self,x: torch.Tensor) -> torch.Tensor:\n",
        "\n",
        "\n",
        "    return ##\n",
        "\n",
        "\n",
        "\n",
        "#discription of model\n"
      ],
      "metadata": {
        "id": "fchfssqDQLCG"
      },
      "execution_count": 7,
      "outputs": []
    },
    {
      "cell_type": "code",
      "source": [
        "#make inference/prediction and visualize the model\n"
      ],
      "metadata": {
        "id": "O_aqHJKRZAcj"
      },
      "execution_count": 8,
      "outputs": []
    },
    {
      "cell_type": "markdown",
      "source": [
        "##CREATE OPTIMIZER / LOSS_FUNC"
      ],
      "metadata": {
        "id": "VxS7K9TsgiSY"
      }
    },
    {
      "cell_type": "code",
      "source": [
        "#create loss func\n",
        "\n",
        "#optimizer\n",
        "\n"
      ],
      "metadata": {
        "id": "EaAq8b2yehWZ"
      },
      "execution_count": 9,
      "outputs": []
    },
    {
      "cell_type": "markdown",
      "source": [
        "##TRAINING / TESTING LOOP"
      ],
      "metadata": {
        "id": "6vBh6ZxMPsYt"
      }
    },
    {
      "cell_type": "markdown",
      "source": [
        "tips\n",
        "0. Loop throug the data\n",
        "1. set to training mode\n",
        "2. Forward pass\n",
        "3. Calculate the loss(pred to ground truth)\n",
        "4. optimizer zer grad\n",
        "5. loss backward .. back propogation\n",
        "6. optimizer step - use opt and adjust parameter ... grad desent\n"
      ],
      "metadata": {
        "id": "ntg6do8cclFi"
      }
    },
    {
      "cell_type": "code",
      "source": [
        "#initiate trackers and hyper parameters\n",
        "epoch=100\n",
        "epochs=range(epoch)\n",
        "train_loss_track=[]\n",
        "test_loss_track=[]\n",
        "\n",
        "\n",
        "#training loop\n",
        "\n",
        "  ####testing part\n",
        " \n"
      ],
      "metadata": {
        "id": "UuHsExVJbq5E"
      },
      "execution_count": 10,
      "outputs": []
    },
    {
      "cell_type": "markdown",
      "source": [
        "##EVALUATION OF THE MODEL"
      ],
      "metadata": {
        "id": "BNgX5AsNKXxH"
      }
    },
    {
      "cell_type": "code",
      "source": [
        "#plot / matrices\n",
        "\n"
      ],
      "metadata": {
        "id": "tCba4hBEeOa-"
      },
      "execution_count": 11,
      "outputs": []
    },
    {
      "cell_type": "markdown",
      "source": [
        "##SAVING/LOADING"
      ],
      "metadata": {
        "id": "KwxZmgXUPJgI"
      }
    },
    {
      "cell_type": "markdown",
      "source": [
        "tips\n",
        "1.  torch.save() \n",
        "2.  torch.load()\n",
        "3.  toch.nn.Module.load_state_dict()"
      ],
      "metadata": {
        "id": "zW_QlscXPZsx"
      }
    },
    {
      "cell_type": "code",
      "source": [],
      "metadata": {
        "id": "se4kqYtmQwPX"
      },
      "execution_count": 11,
      "outputs": []
    }
  ]
}