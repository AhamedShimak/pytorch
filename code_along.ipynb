{
  "nbformat": 4,
  "nbformat_minor": 0,
  "metadata": {
    "colab": {
      "provenance": [],
      "authorship_tag": "ABX9TyPXkw7JOUTiW6lXvWr0BLzY",
      "include_colab_link": true
    },
    "kernelspec": {
      "name": "python3",
      "display_name": "Python 3"
    },
    "language_info": {
      "name": "python"
    },
    "gpuClass": "standard"
  },
  "cells": [
    {
      "cell_type": "markdown",
      "metadata": {
        "id": "view-in-github",
        "colab_type": "text"
      },
      "source": [
        "<a href=\"https://colab.research.google.com/github/AhamedShimak/pytorch/blob/main/code_along.ipynb\" target=\"_parent\"><img src=\"https://colab.research.google.com/assets/colab-badge.svg\" alt=\"Open In Colab\"/></a>"
      ]
    },
    {
      "cell_type": "markdown",
      "source": [
        "Saving the colab project in Github "
      ],
      "metadata": {
        "id": "8fB4t6CcEkMt"
      }
    },
    {
      "cell_type": "code",
      "source": [
        "import torch\n",
        "import pandas as pd\n",
        "import numpy as np\n",
        "import matplotlib.pyplot as plt\n"
      ],
      "metadata": {
        "id": "fQb72sHRBxT6"
      },
      "execution_count": 2,
      "outputs": []
    },
    {
      "cell_type": "code",
      "source": [
        "!nvidia-smi"
      ],
      "metadata": {
        "id": "GNaR88YgGaZR"
      },
      "execution_count": null,
      "outputs": []
    },
    {
      "cell_type": "markdown",
      "source": [
        "### Tensors"
      ],
      "metadata": {
        "id": "6wWoiSN8G_DQ"
      }
    },
    {
      "cell_type": "code",
      "source": [
        "#scaler\n",
        "scaler= torch.tensor(7)\n",
        "print(scaler.ndim)\n",
        "print(scaler.item())\n",
        "print(scaler.shape)"
      ],
      "metadata": {
        "colab": {
          "base_uri": "https://localhost:8080/"
        },
        "id": "o-PAthr_GzbX",
        "outputId": "0544f02c-b695-480e-ad8c-7c29ce81350c"
      },
      "execution_count": 9,
      "outputs": [
        {
          "output_type": "stream",
          "name": "stdout",
          "text": [
            "0\n",
            "7\n",
            "torch.Size([])\n"
          ]
        }
      ]
    },
    {
      "cell_type": "code",
      "source": [
        "#vector\n",
        "vector=torch.tensor([3,3])\n",
        "print(vector.ndim)\n",
        "print(vector)\n",
        "print(vector.shape)\n",
        "vector[0]"
      ],
      "metadata": {
        "colab": {
          "base_uri": "https://localhost:8080/"
        },
        "id": "D6Sq__imHWbV",
        "outputId": "017b2398-aae5-41d4-8039-3ee9c72b3c12"
      },
      "execution_count": 13,
      "outputs": [
        {
          "output_type": "stream",
          "name": "stdout",
          "text": [
            "1\n",
            "tensor([3, 3])\n",
            "torch.Size([2])\n"
          ]
        },
        {
          "output_type": "execute_result",
          "data": {
            "text/plain": [
              "tensor(3)"
            ]
          },
          "metadata": {},
          "execution_count": 13
        }
      ]
    },
    {
      "cell_type": "code",
      "source": [
        "#MATRIX\n",
        "\n",
        "MATRIX=torch.tensor([[1,2],[2,3],[2,34]])\n",
        "print(MATRIX.ndim)\n",
        "print(MATRIX)\n",
        "print(MATRIX.shape)\n",
        "MATRIX[0]"
      ],
      "metadata": {
        "colab": {
          "base_uri": "https://localhost:8080/"
        },
        "id": "e0eFmrZQIDg0",
        "outputId": "00851e65-3649-426f-f6ec-a25fe5697af5"
      },
      "execution_count": 24,
      "outputs": [
        {
          "output_type": "stream",
          "name": "stdout",
          "text": [
            "2\n",
            "tensor([[ 1,  2],\n",
            "        [ 2,  3],\n",
            "        [ 2, 34]])\n",
            "torch.Size([3, 2])\n"
          ]
        },
        {
          "output_type": "execute_result",
          "data": {
            "text/plain": [
              "tensor([1, 2])"
            ]
          },
          "metadata": {},
          "execution_count": 24
        }
      ]
    },
    {
      "cell_type": "code",
      "source": [
        "#TENSOR\n",
        "\n",
        "TENSOR=torch.tensor([[[1,2],[2,3],[2,34]],[[1,2],[2,3],[2,34]],[[1,2],[2,3],[2,34]]])\n",
        "print(TENSOR.ndim)\n",
        "print(TENSOR)\n",
        "print(TENSOR.shape)\n",
        "TENSOR[0]"
      ],
      "metadata": {
        "colab": {
          "base_uri": "https://localhost:8080/"
        },
        "id": "dkhQMfg0JvDI",
        "outputId": "1393857c-5178-4f68-bc77-d15d11b789d7"
      },
      "execution_count": 22,
      "outputs": [
        {
          "output_type": "stream",
          "name": "stdout",
          "text": [
            "3\n",
            "tensor([[[ 1,  2],\n",
            "         [ 2,  3],\n",
            "         [ 2, 34]],\n",
            "\n",
            "        [[ 1,  2],\n",
            "         [ 2,  3],\n",
            "         [ 2, 34]],\n",
            "\n",
            "        [[ 1,  2],\n",
            "         [ 2,  3],\n",
            "         [ 2, 34]]])\n",
            "torch.Size([3, 3, 2])\n"
          ]
        },
        {
          "output_type": "execute_result",
          "data": {
            "text/plain": [
              "tensor([[ 1,  2],\n",
              "        [ 2,  3],\n",
              "        [ 2, 34]])"
            ]
          },
          "metadata": {},
          "execution_count": 22
        }
      ]
    },
    {
      "cell_type": "markdown",
      "source": [
        "##RandoM TeNSoRs"
      ],
      "metadata": {
        "id": "8hwXMzijM6vv"
      }
    },
    {
      "cell_type": "code",
      "source": [
        "random_tensor=torch.rand(3,224,224)\n",
        "print(random_tensor.ndim)\n",
        "print(random_tensor)\n",
        "print(random_tensor.shape)\n",
        "random_tensor[0]"
      ],
      "metadata": {
        "id": "lQxvGepsK_Xf"
      },
      "execution_count": null,
      "outputs": []
    },
    {
      "cell_type": "code",
      "source": [
        "random_tensor2=torch.rand(224)\n",
        "print(random_tensor2.ndim)\n",
        "print(random_tensor2)\n",
        "print(random_tensor2.shape)\n",
        "random_tensor2[1]"
      ],
      "metadata": {
        "id": "5sWCtVkxL2iz",
        "outputId": "86f8d7be-0607-4ba1-bdc1-83838eddac3f",
        "colab": {
          "base_uri": "https://localhost:8080/"
        }
      },
      "execution_count": 50,
      "outputs": [
        {
          "output_type": "stream",
          "name": "stdout",
          "text": [
            "1\n",
            "tensor([0.9312, 0.6647, 0.1640, 0.8614, 0.2772, 0.7753, 0.3532, 0.0428, 0.3055,\n",
            "        0.5388, 0.4610, 0.6770, 0.1033, 0.5129, 0.1569, 0.9928, 0.8708, 0.0408,\n",
            "        0.4829, 0.3748, 0.5092, 0.5968, 0.2821, 0.3039, 0.7375, 0.3771, 0.9980,\n",
            "        0.0509, 0.9900, 0.7471, 0.9971, 0.4561, 0.3662, 0.3148, 0.4219, 0.9896,\n",
            "        0.1559, 0.8913, 0.1226, 0.6133, 0.1489, 0.1731, 0.3796, 0.7418, 0.7711,\n",
            "        0.9051, 0.9246, 0.2122, 0.8528, 0.8529, 0.0639, 0.0129, 0.8861, 0.6687,\n",
            "        0.1035, 0.1464, 0.5326, 0.1878, 0.2157, 0.0089, 0.0993, 0.2444, 0.0268,\n",
            "        0.4621, 0.7202, 0.5004, 0.3826, 0.6402, 0.7420, 0.7588, 0.9527, 0.1988,\n",
            "        0.4870, 0.1717, 0.6855, 0.4054, 0.2747, 0.4384, 0.8938, 0.9021, 0.6146,\n",
            "        0.0260, 0.5104, 0.6837, 0.7931, 0.5265, 0.0044, 0.3319, 0.9191, 0.0541,\n",
            "        0.0056, 0.8226, 0.1014, 0.6681, 0.7361, 0.8039, 0.9130, 0.2373, 0.4295,\n",
            "        0.0523, 0.4574, 0.3277, 0.4174, 0.8961, 0.6185, 0.7757, 0.4571, 0.9873,\n",
            "        0.7651, 0.5009, 0.5306, 0.8692, 0.8013, 0.9196, 0.7970, 0.6367, 0.9476,\n",
            "        0.8398, 0.8276, 0.1137, 0.6234, 0.5676, 0.5357, 0.9389, 0.8801, 0.0527,\n",
            "        0.6593, 0.4640, 0.0438, 0.0206, 0.2046, 0.3786, 0.7383, 0.6025, 0.9310,\n",
            "        0.1865, 0.0172, 0.3099, 0.5819, 0.6662, 0.3748, 0.0655, 0.9083, 0.4321,\n",
            "        0.1741, 0.6368, 0.6760, 0.0731, 0.4420, 0.3123, 0.8373, 0.7186, 0.1362,\n",
            "        0.4822, 0.3299, 0.6521, 0.1607, 0.1899, 0.0946, 0.7877, 0.1670, 0.7993,\n",
            "        0.9556, 0.7914, 0.2735, 0.1295, 0.6106, 0.6755, 0.6305, 0.8737, 0.4424,\n",
            "        0.4746, 0.6822, 0.8116, 0.0083, 0.0211, 0.0791, 0.7451, 0.7638, 0.3771,\n",
            "        0.8165, 0.2231, 0.0346, 0.1598, 0.8126, 0.9006, 0.7643, 0.3643, 0.9960,\n",
            "        0.8772, 0.5152, 0.5950, 0.1032, 0.5462, 0.3990, 0.5699, 0.2059, 0.2884,\n",
            "        0.8761, 0.4294, 0.9519, 0.5843, 0.8830, 0.9363, 0.3281, 0.7210, 0.1252,\n",
            "        0.2405, 0.9629, 0.0296, 0.0059, 0.7608, 0.4435, 0.3536, 0.1362, 0.8149,\n",
            "        0.5320, 0.0066, 0.4914, 0.4361, 0.7067, 0.5878, 0.1672, 0.3805])\n",
            "torch.Size([224])\n"
          ]
        },
        {
          "output_type": "execute_result",
          "data": {
            "text/plain": [
              "tensor(0.6647)"
            ]
          },
          "metadata": {},
          "execution_count": 50
        }
      ]
    },
    {
      "cell_type": "markdown",
      "source": [
        "##ZEROS AND ONE"
      ],
      "metadata": {
        "id": "kz07YryCQZbS"
      }
    },
    {
      "cell_type": "code",
      "source": [
        "zeros=torch.zeros(2,3,4)\n",
        "print(zeros.ndim)\n",
        "print(zeros)\n",
        "print(zeros.shape)\n",
        "zeros[1]"
      ],
      "metadata": {
        "id": "3i8u8nhJPb1Z",
        "outputId": "c71da1ca-5879-4fff-c94b-7c64299d3330",
        "colab": {
          "base_uri": "https://localhost:8080/"
        }
      },
      "execution_count": 58,
      "outputs": [
        {
          "output_type": "stream",
          "name": "stdout",
          "text": [
            "3\n",
            "tensor([[[0., 0., 0., 0.],\n",
            "         [0., 0., 0., 0.],\n",
            "         [0., 0., 0., 0.]],\n",
            "\n",
            "        [[0., 0., 0., 0.],\n",
            "         [0., 0., 0., 0.],\n",
            "         [0., 0., 0., 0.]]])\n",
            "torch.Size([2, 3, 4])\n"
          ]
        },
        {
          "output_type": "execute_result",
          "data": {
            "text/plain": [
              "tensor([[0., 0., 0., 0.],\n",
              "        [0., 0., 0., 0.],\n",
              "        [0., 0., 0., 0.]])"
            ]
          },
          "metadata": {},
          "execution_count": 58
        }
      ]
    },
    {
      "cell_type": "code",
      "source": [
        "ones=torch.ones(2,3,4)\n",
        "print(ones.ndim)\n",
        "print(ones)\n",
        "print(ones.shape)\n",
        "ones[1]"
      ],
      "metadata": {
        "id": "h63SDwzbPxnP",
        "outputId": "69ec5de4-af42-4bc7-bfc8-315c6c0d193d",
        "colab": {
          "base_uri": "https://localhost:8080/"
        }
      },
      "execution_count": 63,
      "outputs": [
        {
          "output_type": "stream",
          "name": "stdout",
          "text": [
            "3\n",
            "tensor([[[1., 1., 1., 1.],\n",
            "         [1., 1., 1., 1.],\n",
            "         [1., 1., 1., 1.]],\n",
            "\n",
            "        [[1., 1., 1., 1.],\n",
            "         [1., 1., 1., 1.],\n",
            "         [1., 1., 1., 1.]]])\n",
            "torch.Size([2, 3, 4])\n"
          ]
        },
        {
          "output_type": "execute_result",
          "data": {
            "text/plain": [
              "tensor([[1., 1., 1., 1.],\n",
              "        [1., 1., 1., 1.],\n",
              "        [1., 1., 1., 1.]])"
            ]
          },
          "metadata": {},
          "execution_count": 63
        }
      ]
    },
    {
      "cell_type": "markdown",
      "source": [
        "##RANGE OF TENSOR"
      ],
      "metadata": {
        "id": "R62IanL_SRL8"
      }
    },
    {
      "cell_type": "code",
      "source": [
        "torch.arange(start=0,end=100,step=40)"
      ],
      "metadata": {
        "id": "I_YqA2fHPyXi",
        "outputId": "cd1194b3-4646-4515-aefb-d7e019606ead",
        "colab": {
          "base_uri": "https://localhost:8080/"
        }
      },
      "execution_count": 67,
      "outputs": [
        {
          "output_type": "execute_result",
          "data": {
            "text/plain": [
              "tensor([ 0, 40, 80])"
            ]
          },
          "metadata": {},
          "execution_count": 67
        }
      ]
    },
    {
      "cell_type": "code",
      "source": [
        "torch.zeros_like(torch.arange(start=0,end=100,step=40))"
      ],
      "metadata": {
        "id": "z5NaVBHbR3q4",
        "outputId": "44f6e32e-997c-4284-9bab-2e3aa15f0d7a",
        "colab": {
          "base_uri": "https://localhost:8080/"
        }
      },
      "execution_count": 68,
      "outputs": [
        {
          "output_type": "execute_result",
          "data": {
            "text/plain": [
              "tensor([0, 0, 0])"
            ]
          },
          "metadata": {},
          "execution_count": 68
        }
      ]
    },
    {
      "cell_type": "code",
      "source": [
        "torch.arange(start=0,end=100,step=40)*0"
      ],
      "metadata": {
        "id": "68COAWsbSgPW",
        "outputId": "bbe838d3-ca49-4808-b552-7afbcff8cece",
        "colab": {
          "base_uri": "https://localhost:8080/"
        }
      },
      "execution_count": 69,
      "outputs": [
        {
          "output_type": "execute_result",
          "data": {
            "text/plain": [
              "tensor([0, 0, 0])"
            ]
          },
          "metadata": {},
          "execution_count": 69
        }
      ]
    },
    {
      "cell_type": "markdown",
      "source": [
        "##DATA TYPE TENSOR"
      ],
      "metadata": {
        "id": "iR7_tzYFS17Y"
      }
    },
    {
      "cell_type": "code",
      "source": [
        "float_32_tens=torch.tensor([1.0,2.2],dtype=None)\n",
        "float_32_tens"
      ],
      "metadata": {
        "id": "HFKc58JpSkph",
        "outputId": "7d63c7e7-44e7-4d73-e9a9-0135026c8a64",
        "colab": {
          "base_uri": "https://localhost:8080/"
        }
      },
      "execution_count": 79,
      "outputs": [
        {
          "output_type": "execute_result",
          "data": {
            "text/plain": [
              "tensor([1.0000, 2.2000])"
            ]
          },
          "metadata": {},
          "execution_count": 79
        }
      ]
    },
    {
      "cell_type": "code",
      "source": [
        "float_32_tens=torch.tensor([1.0,2.2] ,device=None, requires_grad=False)\n",
        "float_32_tens"
      ],
      "metadata": {
        "id": "FHCNbgKsTLXQ",
        "outputId": "f9ec3d56-778a-43dc-8e03-af74d6c11090",
        "colab": {
          "base_uri": "https://localhost:8080/"
        }
      },
      "execution_count": 82,
      "outputs": [
        {
          "output_type": "execute_result",
          "data": {
            "text/plain": [
              "tensor([1.0000, 2.2000])"
            ]
          },
          "metadata": {},
          "execution_count": 82
        }
      ]
    },
    {
      "cell_type": "code",
      "source": [
        "float_16=float_32_tens.type(torch.float64)\n",
        "float_16"
      ],
      "metadata": {
        "id": "_f4_p0SBUXRl",
        "outputId": "b0c685b7-f50b-4078-f526-a90227645902",
        "colab": {
          "base_uri": "https://localhost:8080/"
        }
      },
      "execution_count": 87,
      "outputs": [
        {
          "output_type": "execute_result",
          "data": {
            "text/plain": [
              "tensor([1.0000, 2.2000], dtype=torch.float64)"
            ]
          },
          "metadata": {},
          "execution_count": 87
        }
      ]
    },
    {
      "cell_type": "markdown",
      "source": [
        "##GET INFO FROM TENSOR"
      ],
      "metadata": {
        "id": "odCiK04cWbRa"
      }
    },
    {
      "cell_type": "code",
      "source": [
        "print(MATRIX.shape)\n",
        "print(MATRIX.dtype)\n",
        "print(MATRIX.device)"
      ],
      "metadata": {
        "id": "_GdcgNzwXBdK",
        "outputId": "a8dd2a16-f1dd-4af3-a4b1-67a8cb66c570",
        "colab": {
          "base_uri": "https://localhost:8080/"
        }
      },
      "execution_count": 91,
      "outputs": [
        {
          "output_type": "stream",
          "name": "stdout",
          "text": [
            "torch.Size([3, 2])\n",
            "torch.int64\n",
            "cpu\n"
          ]
        }
      ]
    },
    {
      "cell_type": "markdown",
      "source": [
        "##MY FUNCTION"
      ],
      "metadata": {
        "id": "8zKnh3Aga-W_"
      }
    },
    {
      "cell_type": "code",
      "source": [
        "def details(tensor):\n",
        "  print(\"\")\n",
        "  print(\"Shape: \",tensor.shape)\n",
        "  print(\"Dimentions: \",tensor.ndim)\n",
        "  print(\"###########\")\n",
        "  print(tensor)\n",
        "  print(\"###########\")\n",
        "  print(\"Tensor Data type: \",tensor.dtype)\n",
        "  print(\"Device: \",tensor.device)\n",
        "  print(\"\")"
      ],
      "metadata": {
        "id": "aYgYxCDHbBTO"
      },
      "execution_count": 107,
      "outputs": []
    },
    {
      "cell_type": "markdown",
      "source": [
        "##MANIPULATING / TENSOR OPERATIONS"
      ],
      "metadata": {
        "id": "s29og89AXv0w"
      }
    },
    {
      "cell_type": "code",
      "source": [
        "t=torch.rand(2,3,4)\n",
        "details(t)"
      ],
      "metadata": {
        "id": "Ilhf-LBRXJtW",
        "outputId": "d1a16536-1c96-46b5-95d4-deda1bfa9f76",
        "colab": {
          "base_uri": "https://localhost:8080/"
        }
      },
      "execution_count": 103,
      "outputs": [
        {
          "output_type": "stream",
          "name": "stdout",
          "text": [
            "Shape:  torch.Size([2, 3, 4])\n",
            "Dimentions:  3\n",
            "###########\n",
            "tensor([[[0.3796, 0.8016, 0.5551, 0.5097],\n",
            "         [0.8915, 0.2737, 0.7504, 0.1455],\n",
            "         [0.2125, 0.4841, 0.3566, 0.3411]],\n",
            "\n",
            "        [[0.0693, 0.2499, 0.8695, 0.9120],\n",
            "         [0.3530, 0.0802, 0.5449, 0.4456],\n",
            "         [0.4018, 0.3155, 0.4969, 0.3121]]])\n",
            "###########\n",
            "Tensor Data type:  torch.float32\n",
            "Device:  cpu\n"
          ]
        }
      ]
    },
    {
      "cell_type": "code",
      "source": [
        "t_1=torch.rand(2,3,4)\n",
        "details(t_1)"
      ],
      "metadata": {
        "id": "JvzYtlnfYCvt",
        "outputId": "300626d1-3cb0-4287-b5a1-380456417f4f",
        "colab": {
          "base_uri": "https://localhost:8080/"
        }
      },
      "execution_count": 101,
      "outputs": [
        {
          "output_type": "stream",
          "name": "stdout",
          "text": [
            "Shape:  torch.Size([2, 3, 4])\n",
            "Dimentions:  3\n",
            "###########\n",
            "tensor([[[0.7346, 0.2099, 0.5405, 0.2353],\n",
            "         [0.0416, 0.5036, 0.3686, 0.0081],\n",
            "         [0.6518, 0.0788, 0.8721, 0.6708]],\n",
            "\n",
            "        [[0.8009, 0.6394, 0.1152, 0.8369],\n",
            "         [0.5428, 0.3872, 0.5169, 0.6749],\n",
            "         [0.3249, 0.0429, 0.6637, 0.6218]]])\n",
            "###########\n",
            "Tensor Data type:  torch.float32\n",
            "Device:  cpu\n"
          ]
        }
      ]
    },
    {
      "cell_type": "code",
      "source": [
        "details(t+1)\n",
        "details(t+t_1)\n",
        "details(t*4)\n",
        "details(t*0)"
      ],
      "metadata": {
        "id": "sJHlGZGSZ9ac"
      },
      "execution_count": null,
      "outputs": []
    },
    {
      "cell_type": "code",
      "source": [],
      "metadata": {
        "id": "xEnMeJZJbaPs"
      },
      "execution_count": null,
      "outputs": []
    }
  ]
}