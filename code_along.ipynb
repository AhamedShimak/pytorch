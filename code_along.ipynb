{
  "nbformat": 4,
  "nbformat_minor": 0,
  "metadata": {
    "colab": {
      "provenance": [],
      "authorship_tag": "ABX9TyMGZ73IbOAobeMvW6rdBosC",
      "include_colab_link": true
    },
    "kernelspec": {
      "name": "python3",
      "display_name": "Python 3"
    },
    "language_info": {
      "name": "python"
    },
    "gpuClass": "standard",
    "accelerator": "GPU"
  },
  "cells": [
    {
      "cell_type": "markdown",
      "metadata": {
        "id": "view-in-github",
        "colab_type": "text"
      },
      "source": [
        "<a href=\"https://colab.research.google.com/github/AhamedShimak/pytorch/blob/main/code_along.ipynb\" target=\"_parent\"><img src=\"https://colab.research.google.com/assets/colab-badge.svg\" alt=\"Open In Colab\"/></a>"
      ]
    },
    {
      "cell_type": "markdown",
      "source": [
        "## Initiating Pytorch"
      ],
      "metadata": {
        "id": "n7Gn_JhaG7dY"
      }
    },
    {
      "cell_type": "markdown",
      "source": [
        "### Imports"
      ],
      "metadata": {
        "id": "Glqkeh5CHfl-"
      }
    },
    {
      "cell_type": "code",
      "source": [
        "import torch\n",
        "import pandas as pd\n",
        "import numpy as np\n",
        "import matplotlib.pyplot as plt\n"
      ],
      "metadata": {
        "id": "_Z5kpDsjIqHm"
      },
      "execution_count": null,
      "outputs": []
    },
    {
      "cell_type": "markdown",
      "source": [
        "###MY DETAILS FUNCTION"
      ],
      "metadata": {
        "id": "htKM3hZ3IqHn"
      }
    },
    {
      "cell_type": "code",
      "source": [
        "import torch\n",
        "def details(tensor):\n",
        "  print(\"\")\n",
        "  print(\"Shape: \",tensor.shape)\n",
        "  print(\"Dimentions: \",tensor.ndim)\n",
        "  print(\"###########\")\n",
        "  print(tensor)\n",
        "  print(\"###########\")\n",
        "  print(\"Tensor Data type: \",tensor.dtype)\n",
        "  print(\"Device: \",tensor.device)\n",
        "  print(\"\")"
      ],
      "metadata": {
        "id": "aqZBmUtXIqHo"
      },
      "execution_count": null,
      "outputs": []
    },
    {
      "cell_type": "markdown",
      "source": [
        "###GPU"
      ],
      "metadata": {
        "id": "sMRYymjLIGWp"
      }
    },
    {
      "cell_type": "code",
      "source": [
        "!nvidia-smi\n",
        "print(torch.cuda.is_available())\n",
        "#setup device agnostic code\n",
        "device=\"cuda\" if torch.cuda.is_available() else \"cpu\"\n",
        "print(device)"
      ],
      "metadata": {
        "colab": {
          "base_uri": "https://localhost:8080/"
        },
        "id": "7nw_wfJXIIs0",
        "outputId": "dcd5333c-6586-4f77-e720-5515ab1b234a"
      },
      "execution_count": 20,
      "outputs": [
        {
          "output_type": "stream",
          "name": "stdout",
          "text": [
            "Tue Apr 18 16:11:53 2023       \n",
            "+-----------------------------------------------------------------------------+\n",
            "| NVIDIA-SMI 525.85.12    Driver Version: 525.85.12    CUDA Version: 12.0     |\n",
            "|-------------------------------+----------------------+----------------------+\n",
            "| GPU  Name        Persistence-M| Bus-Id        Disp.A | Volatile Uncorr. ECC |\n",
            "| Fan  Temp  Perf  Pwr:Usage/Cap|         Memory-Usage | GPU-Util  Compute M. |\n",
            "|                               |                      |               MIG M. |\n",
            "|===============================+======================+======================|\n",
            "|   0  Tesla T4            Off  | 00000000:00:04.0 Off |                    0 |\n",
            "| N/A   69C    P0    29W /  70W |    601MiB / 15360MiB |      0%      Default |\n",
            "|                               |                      |                  N/A |\n",
            "+-------------------------------+----------------------+----------------------+\n",
            "                                                                               \n",
            "+-----------------------------------------------------------------------------+\n",
            "| Processes:                                                                  |\n",
            "|  GPU   GI   CI        PID   Type   Process name                  GPU Memory |\n",
            "|        ID   ID                                                   Usage      |\n",
            "|=============================================================================|\n",
            "+-----------------------------------------------------------------------------+\n",
            "True\n",
            "cuda\n"
          ]
        }
      ]
    },
    {
      "cell_type": "markdown",
      "source": [
        "##PUTTING TENSORS/MODELS IN GPU"
      ],
      "metadata": {
        "id": "uXzkrgsaBi_h"
      }
    },
    {
      "cell_type": "code",
      "source": [
        "%%time\n",
        "tensor= torch.rand((3,45,56),device=device)\n",
        "tensor_on_gpu=tensor.to(\"cuda\")\n",
        "tensor_on_cpu=tensor.to(\"cpu\")\n",
        "details(tensor)\n",
        "details(tensor_on_cpu)\n"
      ],
      "metadata": {
        "colab": {
          "base_uri": "https://localhost:8080/"
        },
        "id": "B47Jcmg9Bvi0",
        "outputId": "e3427f0f-f687-4119-cc47-3518e48af78a"
      },
      "execution_count": 16,
      "outputs": [
        {
          "output_type": "stream",
          "name": "stdout",
          "text": [
            "\n",
            "Shape:  torch.Size([3, 45, 56])\n",
            "Dimentions:  3\n",
            "###########\n",
            "tensor([[[0.2966, 0.7621, 0.6128,  ..., 0.8793, 0.7682, 0.6692],\n",
            "         [0.5781, 0.9374, 0.6518,  ..., 0.5449, 0.4440, 0.6614],\n",
            "         [0.5469, 0.5696, 0.8549,  ..., 0.6205, 0.9891, 0.3086],\n",
            "         ...,\n",
            "         [0.5663, 0.3017, 0.8185,  ..., 0.5208, 0.0920, 0.0931],\n",
            "         [0.9668, 0.1505, 0.5371,  ..., 0.9444, 0.5445, 0.8324],\n",
            "         [0.1798, 0.9539, 0.3874,  ..., 0.0326, 0.9004, 0.4010]],\n",
            "\n",
            "        [[0.4648, 0.5016, 0.4053,  ..., 0.6815, 0.9206, 0.2063],\n",
            "         [0.9594, 0.7513, 0.4217,  ..., 0.7443, 0.5863, 0.2113],\n",
            "         [0.9358, 0.2548, 0.5510,  ..., 0.8940, 0.0192, 0.1620],\n",
            "         ...,\n",
            "         [0.7368, 0.6729, 0.6481,  ..., 0.0536, 0.0876, 0.9366],\n",
            "         [0.5078, 0.2941, 0.2343,  ..., 0.3599, 0.2404, 0.1551],\n",
            "         [0.6787, 0.6482, 0.1679,  ..., 0.6336, 0.7432, 0.2441]],\n",
            "\n",
            "        [[0.5674, 0.8350, 0.0385,  ..., 0.9166, 0.6016, 0.6989],\n",
            "         [0.6442, 0.1921, 0.8416,  ..., 0.6479, 0.2787, 0.4764],\n",
            "         [0.2334, 0.7246, 0.6883,  ..., 0.0563, 0.8055, 0.2124],\n",
            "         ...,\n",
            "         [0.9237, 0.8275, 0.9192,  ..., 0.7855, 0.2731, 0.9767],\n",
            "         [0.8679, 0.8189, 0.7215,  ..., 0.9117, 0.8441, 0.9025],\n",
            "         [0.8678, 0.5572, 0.2590,  ..., 0.8817, 0.5284, 0.2312]]],\n",
            "       device='cuda:0')\n",
            "###########\n",
            "Tensor Data type:  torch.float32\n",
            "Device:  cuda:0\n",
            "\n",
            "\n",
            "Shape:  torch.Size([3, 45, 56])\n",
            "Dimentions:  3\n",
            "###########\n",
            "tensor([[[0.2966, 0.7621, 0.6128,  ..., 0.8793, 0.7682, 0.6692],\n",
            "         [0.5781, 0.9374, 0.6518,  ..., 0.5449, 0.4440, 0.6614],\n",
            "         [0.5469, 0.5696, 0.8549,  ..., 0.6205, 0.9891, 0.3086],\n",
            "         ...,\n",
            "         [0.5663, 0.3017, 0.8185,  ..., 0.5208, 0.0920, 0.0931],\n",
            "         [0.9668, 0.1505, 0.5371,  ..., 0.9444, 0.5445, 0.8324],\n",
            "         [0.1798, 0.9539, 0.3874,  ..., 0.0326, 0.9004, 0.4010]],\n",
            "\n",
            "        [[0.4648, 0.5016, 0.4053,  ..., 0.6815, 0.9206, 0.2063],\n",
            "         [0.9594, 0.7513, 0.4217,  ..., 0.7443, 0.5863, 0.2113],\n",
            "         [0.9358, 0.2548, 0.5510,  ..., 0.8940, 0.0192, 0.1620],\n",
            "         ...,\n",
            "         [0.7368, 0.6729, 0.6481,  ..., 0.0536, 0.0876, 0.9366],\n",
            "         [0.5078, 0.2941, 0.2343,  ..., 0.3599, 0.2404, 0.1551],\n",
            "         [0.6787, 0.6482, 0.1679,  ..., 0.6336, 0.7432, 0.2441]],\n",
            "\n",
            "        [[0.5674, 0.8350, 0.0385,  ..., 0.9166, 0.6016, 0.6989],\n",
            "         [0.6442, 0.1921, 0.8416,  ..., 0.6479, 0.2787, 0.4764],\n",
            "         [0.2334, 0.7246, 0.6883,  ..., 0.0563, 0.8055, 0.2124],\n",
            "         ...,\n",
            "         [0.9237, 0.8275, 0.9192,  ..., 0.7855, 0.2731, 0.9767],\n",
            "         [0.8679, 0.8189, 0.7215,  ..., 0.9117, 0.8441, 0.9025],\n",
            "         [0.8678, 0.5572, 0.2590,  ..., 0.8817, 0.5284, 0.2312]]])\n",
            "###########\n",
            "Tensor Data type:  torch.float32\n",
            "Device:  cpu\n",
            "\n",
            "CPU times: user 18.8 ms, sys: 1.93 ms, total: 20.8 ms\n",
            "Wall time: 39.2 ms\n"
          ]
        }
      ]
    },
    {
      "cell_type": "markdown",
      "source": [
        "### Tensors"
      ],
      "metadata": {
        "id": "6wWoiSN8G_DQ"
      }
    },
    {
      "cell_type": "code",
      "source": [
        "#scaler\n",
        "scaler= torch.tensor(7)\n",
        "print(scaler.ndim)\n",
        "print(scaler.item())\n",
        "print(scaler.shape)"
      ],
      "metadata": {
        "colab": {
          "base_uri": "https://localhost:8080/"
        },
        "id": "o-PAthr_GzbX",
        "outputId": "4b9a27ee-cfd4-48e4-a130-fea511fe16db"
      },
      "execution_count": 3,
      "outputs": [
        {
          "output_type": "stream",
          "name": "stdout",
          "text": [
            "0\n",
            "7\n",
            "torch.Size([])\n"
          ]
        }
      ]
    },
    {
      "cell_type": "code",
      "source": [
        "#vector\n",
        "vector=torch.tensor([3,3])\n",
        "print(vector.ndim)\n",
        "print(vector)\n",
        "print(vector.shape)\n",
        "vector[0]"
      ],
      "metadata": {
        "colab": {
          "base_uri": "https://localhost:8080/"
        },
        "id": "D6Sq__imHWbV",
        "outputId": "dffc5970-03b1-4299-b58c-9f17acd9faf6"
      },
      "execution_count": 4,
      "outputs": [
        {
          "output_type": "stream",
          "name": "stdout",
          "text": [
            "1\n",
            "tensor([3, 3])\n",
            "torch.Size([2])\n"
          ]
        },
        {
          "output_type": "execute_result",
          "data": {
            "text/plain": [
              "tensor(3)"
            ]
          },
          "metadata": {},
          "execution_count": 4
        }
      ]
    },
    {
      "cell_type": "code",
      "source": [
        "#MATRIX\n",
        "\n",
        "MATRIX=torch.tensor([[1,2],[2,3],[2,34]])\n",
        "print(MATRIX.ndim)\n",
        "print(MATRIX)\n",
        "print(MATRIX.shape)\n",
        "MATRIX[0]"
      ],
      "metadata": {
        "colab": {
          "base_uri": "https://localhost:8080/"
        },
        "id": "e0eFmrZQIDg0",
        "outputId": "b20a1a14-fd13-47e9-f8c1-18222bc2f814"
      },
      "execution_count": 5,
      "outputs": [
        {
          "output_type": "stream",
          "name": "stdout",
          "text": [
            "2\n",
            "tensor([[ 1,  2],\n",
            "        [ 2,  3],\n",
            "        [ 2, 34]])\n",
            "torch.Size([3, 2])\n"
          ]
        },
        {
          "output_type": "execute_result",
          "data": {
            "text/plain": [
              "tensor([1, 2])"
            ]
          },
          "metadata": {},
          "execution_count": 5
        }
      ]
    },
    {
      "cell_type": "code",
      "source": [
        "#TENSOR\n",
        "\n",
        "TENSOR=torch.tensor([[[1,2],[2,3],[2,34]],[[1,2],[2,3],[2,34]],[[1,2],[2,3],[2,34]]])\n",
        "print(TENSOR.ndim)\n",
        "print(TENSOR)\n",
        "print(TENSOR.shape)\n",
        "TENSOR[0]"
      ],
      "metadata": {
        "colab": {
          "base_uri": "https://localhost:8080/"
        },
        "id": "dkhQMfg0JvDI",
        "outputId": "5b1d5e26-ceaf-4cc1-fb0e-8e62eff5ab0b"
      },
      "execution_count": 6,
      "outputs": [
        {
          "output_type": "stream",
          "name": "stdout",
          "text": [
            "3\n",
            "tensor([[[ 1,  2],\n",
            "         [ 2,  3],\n",
            "         [ 2, 34]],\n",
            "\n",
            "        [[ 1,  2],\n",
            "         [ 2,  3],\n",
            "         [ 2, 34]],\n",
            "\n",
            "        [[ 1,  2],\n",
            "         [ 2,  3],\n",
            "         [ 2, 34]]])\n",
            "torch.Size([3, 3, 2])\n"
          ]
        },
        {
          "output_type": "execute_result",
          "data": {
            "text/plain": [
              "tensor([[ 1,  2],\n",
              "        [ 2,  3],\n",
              "        [ 2, 34]])"
            ]
          },
          "metadata": {},
          "execution_count": 6
        }
      ]
    },
    {
      "cell_type": "markdown",
      "source": [
        "##RandoM TeNSoRs"
      ],
      "metadata": {
        "id": "8hwXMzijM6vv"
      }
    },
    {
      "cell_type": "code",
      "source": [
        "random_tensor=torch.rand(3,224,224)\n",
        "print(random_tensor.ndim)\n",
        "print(random_tensor)\n",
        "print(random_tensor.shape)\n",
        "random_tensor[0]"
      ],
      "metadata": {
        "id": "lQxvGepsK_Xf"
      },
      "execution_count": null,
      "outputs": []
    },
    {
      "cell_type": "code",
      "source": [
        "random_tensor2=torch.rand(224)\n",
        "print(random_tensor2.ndim)\n",
        "print(random_tensor2)\n",
        "print(random_tensor2.shape)\n",
        "random_tensor2[1]"
      ],
      "metadata": {
        "colab": {
          "base_uri": "https://localhost:8080/"
        },
        "id": "5sWCtVkxL2iz",
        "outputId": "86f8d7be-0607-4ba1-bdc1-83838eddac3f"
      },
      "execution_count": null,
      "outputs": [
        {
          "output_type": "stream",
          "name": "stdout",
          "text": [
            "1\n",
            "tensor([0.9312, 0.6647, 0.1640, 0.8614, 0.2772, 0.7753, 0.3532, 0.0428, 0.3055,\n",
            "        0.5388, 0.4610, 0.6770, 0.1033, 0.5129, 0.1569, 0.9928, 0.8708, 0.0408,\n",
            "        0.4829, 0.3748, 0.5092, 0.5968, 0.2821, 0.3039, 0.7375, 0.3771, 0.9980,\n",
            "        0.0509, 0.9900, 0.7471, 0.9971, 0.4561, 0.3662, 0.3148, 0.4219, 0.9896,\n",
            "        0.1559, 0.8913, 0.1226, 0.6133, 0.1489, 0.1731, 0.3796, 0.7418, 0.7711,\n",
            "        0.9051, 0.9246, 0.2122, 0.8528, 0.8529, 0.0639, 0.0129, 0.8861, 0.6687,\n",
            "        0.1035, 0.1464, 0.5326, 0.1878, 0.2157, 0.0089, 0.0993, 0.2444, 0.0268,\n",
            "        0.4621, 0.7202, 0.5004, 0.3826, 0.6402, 0.7420, 0.7588, 0.9527, 0.1988,\n",
            "        0.4870, 0.1717, 0.6855, 0.4054, 0.2747, 0.4384, 0.8938, 0.9021, 0.6146,\n",
            "        0.0260, 0.5104, 0.6837, 0.7931, 0.5265, 0.0044, 0.3319, 0.9191, 0.0541,\n",
            "        0.0056, 0.8226, 0.1014, 0.6681, 0.7361, 0.8039, 0.9130, 0.2373, 0.4295,\n",
            "        0.0523, 0.4574, 0.3277, 0.4174, 0.8961, 0.6185, 0.7757, 0.4571, 0.9873,\n",
            "        0.7651, 0.5009, 0.5306, 0.8692, 0.8013, 0.9196, 0.7970, 0.6367, 0.9476,\n",
            "        0.8398, 0.8276, 0.1137, 0.6234, 0.5676, 0.5357, 0.9389, 0.8801, 0.0527,\n",
            "        0.6593, 0.4640, 0.0438, 0.0206, 0.2046, 0.3786, 0.7383, 0.6025, 0.9310,\n",
            "        0.1865, 0.0172, 0.3099, 0.5819, 0.6662, 0.3748, 0.0655, 0.9083, 0.4321,\n",
            "        0.1741, 0.6368, 0.6760, 0.0731, 0.4420, 0.3123, 0.8373, 0.7186, 0.1362,\n",
            "        0.4822, 0.3299, 0.6521, 0.1607, 0.1899, 0.0946, 0.7877, 0.1670, 0.7993,\n",
            "        0.9556, 0.7914, 0.2735, 0.1295, 0.6106, 0.6755, 0.6305, 0.8737, 0.4424,\n",
            "        0.4746, 0.6822, 0.8116, 0.0083, 0.0211, 0.0791, 0.7451, 0.7638, 0.3771,\n",
            "        0.8165, 0.2231, 0.0346, 0.1598, 0.8126, 0.9006, 0.7643, 0.3643, 0.9960,\n",
            "        0.8772, 0.5152, 0.5950, 0.1032, 0.5462, 0.3990, 0.5699, 0.2059, 0.2884,\n",
            "        0.8761, 0.4294, 0.9519, 0.5843, 0.8830, 0.9363, 0.3281, 0.7210, 0.1252,\n",
            "        0.2405, 0.9629, 0.0296, 0.0059, 0.7608, 0.4435, 0.3536, 0.1362, 0.8149,\n",
            "        0.5320, 0.0066, 0.4914, 0.4361, 0.7067, 0.5878, 0.1672, 0.3805])\n",
            "torch.Size([224])\n"
          ]
        },
        {
          "output_type": "execute_result",
          "data": {
            "text/plain": [
              "tensor(0.6647)"
            ]
          },
          "metadata": {},
          "execution_count": 50
        }
      ]
    },
    {
      "cell_type": "markdown",
      "source": [
        "##ZEROS AND ONE"
      ],
      "metadata": {
        "id": "kz07YryCQZbS"
      }
    },
    {
      "cell_type": "code",
      "source": [
        "zeros=torch.zeros(2,3,4)\n",
        "print(zeros.ndim)\n",
        "print(zeros)\n",
        "print(zeros.shape)\n",
        "zeros[1]"
      ],
      "metadata": {
        "colab": {
          "base_uri": "https://localhost:8080/"
        },
        "id": "3i8u8nhJPb1Z",
        "outputId": "c71da1ca-5879-4fff-c94b-7c64299d3330"
      },
      "execution_count": null,
      "outputs": [
        {
          "output_type": "stream",
          "name": "stdout",
          "text": [
            "3\n",
            "tensor([[[0., 0., 0., 0.],\n",
            "         [0., 0., 0., 0.],\n",
            "         [0., 0., 0., 0.]],\n",
            "\n",
            "        [[0., 0., 0., 0.],\n",
            "         [0., 0., 0., 0.],\n",
            "         [0., 0., 0., 0.]]])\n",
            "torch.Size([2, 3, 4])\n"
          ]
        },
        {
          "output_type": "execute_result",
          "data": {
            "text/plain": [
              "tensor([[0., 0., 0., 0.],\n",
              "        [0., 0., 0., 0.],\n",
              "        [0., 0., 0., 0.]])"
            ]
          },
          "metadata": {},
          "execution_count": 58
        }
      ]
    },
    {
      "cell_type": "code",
      "source": [
        "ones=torch.ones(2,3,4)\n",
        "print(ones.ndim)\n",
        "print(ones)\n",
        "print(ones.shape)\n",
        "ones[1]"
      ],
      "metadata": {
        "colab": {
          "base_uri": "https://localhost:8080/"
        },
        "id": "h63SDwzbPxnP",
        "outputId": "69ec5de4-af42-4bc7-bfc8-315c6c0d193d"
      },
      "execution_count": null,
      "outputs": [
        {
          "output_type": "stream",
          "name": "stdout",
          "text": [
            "3\n",
            "tensor([[[1., 1., 1., 1.],\n",
            "         [1., 1., 1., 1.],\n",
            "         [1., 1., 1., 1.]],\n",
            "\n",
            "        [[1., 1., 1., 1.],\n",
            "         [1., 1., 1., 1.],\n",
            "         [1., 1., 1., 1.]]])\n",
            "torch.Size([2, 3, 4])\n"
          ]
        },
        {
          "output_type": "execute_result",
          "data": {
            "text/plain": [
              "tensor([[1., 1., 1., 1.],\n",
              "        [1., 1., 1., 1.],\n",
              "        [1., 1., 1., 1.]])"
            ]
          },
          "metadata": {},
          "execution_count": 63
        }
      ]
    },
    {
      "cell_type": "markdown",
      "source": [
        "##RANGE OF TENSOR"
      ],
      "metadata": {
        "id": "R62IanL_SRL8"
      }
    },
    {
      "cell_type": "code",
      "source": [
        "torch.arange(start=0,end=100,step=40)"
      ],
      "metadata": {
        "colab": {
          "base_uri": "https://localhost:8080/"
        },
        "id": "I_YqA2fHPyXi",
        "outputId": "cd1194b3-4646-4515-aefb-d7e019606ead"
      },
      "execution_count": null,
      "outputs": [
        {
          "output_type": "execute_result",
          "data": {
            "text/plain": [
              "tensor([ 0, 40, 80])"
            ]
          },
          "metadata": {},
          "execution_count": 67
        }
      ]
    },
    {
      "cell_type": "code",
      "source": [
        "torch.zeros_like(torch.arange(start=0,end=100,step=40))"
      ],
      "metadata": {
        "colab": {
          "base_uri": "https://localhost:8080/"
        },
        "id": "z5NaVBHbR3q4",
        "outputId": "44f6e32e-997c-4284-9bab-2e3aa15f0d7a"
      },
      "execution_count": null,
      "outputs": [
        {
          "output_type": "execute_result",
          "data": {
            "text/plain": [
              "tensor([0, 0, 0])"
            ]
          },
          "metadata": {},
          "execution_count": 68
        }
      ]
    },
    {
      "cell_type": "code",
      "source": [
        "torch.arange(start=0,end=100,step=40)*0"
      ],
      "metadata": {
        "colab": {
          "base_uri": "https://localhost:8080/"
        },
        "id": "68COAWsbSgPW",
        "outputId": "bbe838d3-ca49-4808-b552-7afbcff8cece"
      },
      "execution_count": null,
      "outputs": [
        {
          "output_type": "execute_result",
          "data": {
            "text/plain": [
              "tensor([0, 0, 0])"
            ]
          },
          "metadata": {},
          "execution_count": 69
        }
      ]
    },
    {
      "cell_type": "markdown",
      "source": [
        "##DATA TYPE TENSOR"
      ],
      "metadata": {
        "id": "iR7_tzYFS17Y"
      }
    },
    {
      "cell_type": "code",
      "source": [
        "float_32_tens=torch.tensor([1.0,2.2],dtype=None)\n",
        "float_32_tens"
      ],
      "metadata": {
        "colab": {
          "base_uri": "https://localhost:8080/"
        },
        "id": "HFKc58JpSkph",
        "outputId": "7d63c7e7-44e7-4d73-e9a9-0135026c8a64"
      },
      "execution_count": null,
      "outputs": [
        {
          "output_type": "execute_result",
          "data": {
            "text/plain": [
              "tensor([1.0000, 2.2000])"
            ]
          },
          "metadata": {},
          "execution_count": 79
        }
      ]
    },
    {
      "cell_type": "code",
      "source": [
        "float_32_tens=torch.tensor([1.0,2.2] ,device=None, requires_grad=False)\n",
        "float_32_tens"
      ],
      "metadata": {
        "colab": {
          "base_uri": "https://localhost:8080/"
        },
        "id": "FHCNbgKsTLXQ",
        "outputId": "f9ec3d56-778a-43dc-8e03-af74d6c11090"
      },
      "execution_count": null,
      "outputs": [
        {
          "output_type": "execute_result",
          "data": {
            "text/plain": [
              "tensor([1.0000, 2.2000])"
            ]
          },
          "metadata": {},
          "execution_count": 82
        }
      ]
    },
    {
      "cell_type": "code",
      "source": [
        "float_16=float_32_tens.type(torch.float64)\n",
        "float_16"
      ],
      "metadata": {
        "colab": {
          "base_uri": "https://localhost:8080/"
        },
        "id": "_f4_p0SBUXRl",
        "outputId": "b0c685b7-f50b-4078-f526-a90227645902"
      },
      "execution_count": null,
      "outputs": [
        {
          "output_type": "execute_result",
          "data": {
            "text/plain": [
              "tensor([1.0000, 2.2000], dtype=torch.float64)"
            ]
          },
          "metadata": {},
          "execution_count": 87
        }
      ]
    },
    {
      "cell_type": "markdown",
      "source": [
        "##GET INFO FROM TENSOR"
      ],
      "metadata": {
        "id": "odCiK04cWbRa"
      }
    },
    {
      "cell_type": "code",
      "source": [
        "print(MATRIX.shape)\n",
        "print(MATRIX.dtype)\n",
        "print(MATRIX.device)"
      ],
      "metadata": {
        "colab": {
          "base_uri": "https://localhost:8080/"
        },
        "id": "_GdcgNzwXBdK",
        "outputId": "a8dd2a16-f1dd-4af3-a4b1-67a8cb66c570"
      },
      "execution_count": null,
      "outputs": [
        {
          "output_type": "stream",
          "name": "stdout",
          "text": [
            "torch.Size([3, 2])\n",
            "torch.int64\n",
            "cpu\n"
          ]
        }
      ]
    },
    {
      "cell_type": "markdown",
      "source": [
        "##MANIPULATING / TENSOR OPERATIONS"
      ],
      "metadata": {
        "id": "s29og89AXv0w"
      }
    },
    {
      "cell_type": "code",
      "source": [
        "t=torch.rand(2,3,4)\n",
        "details(t)\n",
        "t_1=torch.rand(2,3,4)\n",
        "details(t_1)"
      ],
      "metadata": {
        "colab": {
          "base_uri": "https://localhost:8080/"
        },
        "id": "JvzYtlnfYCvt",
        "outputId": "857a564c-8b69-43f6-c180-e55afe2d0d65"
      },
      "execution_count": null,
      "outputs": [
        {
          "output_type": "stream",
          "name": "stdout",
          "text": [
            "\n",
            "Shape:  torch.Size([2, 3, 4])\n",
            "Dimentions:  3\n",
            "###########\n",
            "tensor([[[0.6768, 0.2560, 0.6969, 0.1026],\n",
            "         [0.7872, 0.3013, 0.8168, 0.0735],\n",
            "         [0.2441, 0.7941, 0.6309, 0.3067]],\n",
            "\n",
            "        [[0.3284, 0.0077, 0.1634, 0.5597],\n",
            "         [0.1879, 0.6758, 0.0633, 0.0298],\n",
            "         [0.7092, 0.8760, 0.9342, 0.6488]]])\n",
            "###########\n",
            "Tensor Data type:  torch.float32\n",
            "Device:  cpu\n",
            "\n",
            "\n",
            "Shape:  torch.Size([2, 3, 4])\n",
            "Dimentions:  3\n",
            "###########\n",
            "tensor([[[0.2803, 0.4340, 0.7691, 0.3508],\n",
            "         [0.1614, 0.7867, 0.7086, 0.5649],\n",
            "         [0.5690, 0.2267, 0.8365, 0.4286]],\n",
            "\n",
            "        [[0.8849, 0.0916, 0.3303, 0.6954],\n",
            "         [0.7975, 0.0286, 0.2194, 0.0805],\n",
            "         [0.9446, 0.3586, 0.3263, 0.7336]]])\n",
            "###########\n",
            "Tensor Data type:  torch.float32\n",
            "Device:  cpu\n",
            "\n"
          ]
        }
      ]
    },
    {
      "cell_type": "code",
      "source": [
        "%%time\n",
        "details(t+1)\n",
        "details(t+t_1)\n",
        "details(t*4)\n",
        "details(t*0)\n",
        "details(t*t_1) #element_wise multiplication\n",
        "details(torch.matmul(torch.rand(2,3),torch.rand(3,2))) #dot product\n",
        "details(torch.rand(200,200,300) @ torch.rand(200,300,200)) #DOT\n",
        "#matmal and @ and mm are same\n",
        "\n"
      ],
      "metadata": {
        "id": "sJHlGZGSZ9ac"
      },
      "execution_count": null,
      "outputs": []
    },
    {
      "cell_type": "markdown",
      "source": [
        "Transpose"
      ],
      "metadata": {
        "id": "Nq6WOONAmCpR"
      }
    },
    {
      "cell_type": "code",
      "source": [
        "t=torch.rand(2,3)\n",
        "details(t)\n",
        "details(t.T) #transpose\n",
        "details(t@t.T)\n",
        "details(torch.mm(t.T,t))"
      ],
      "metadata": {
        "colab": {
          "base_uri": "https://localhost:8080/"
        },
        "id": "xEnMeJZJbaPs",
        "outputId": "08f6e61c-f20a-4fa0-c20b-6abb48dd8f0a"
      },
      "execution_count": null,
      "outputs": [
        {
          "output_type": "stream",
          "name": "stdout",
          "text": [
            "\n",
            "Shape:  torch.Size([2, 3])\n",
            "Dimentions:  2\n",
            "###########\n",
            "tensor([[5.1537e-01, 6.5937e-01, 1.1006e-01],\n",
            "        [3.4970e-04, 5.1001e-01, 4.5537e-01]])\n",
            "###########\n",
            "Tensor Data type:  torch.float32\n",
            "Device:  cpu\n",
            "\n",
            "\n",
            "Shape:  torch.Size([3, 2])\n",
            "Dimentions:  2\n",
            "###########\n",
            "tensor([[5.1537e-01, 3.4970e-04],\n",
            "        [6.5937e-01, 5.1001e-01],\n",
            "        [1.1006e-01, 4.5537e-01]])\n",
            "###########\n",
            "Tensor Data type:  torch.float32\n",
            "Device:  cpu\n",
            "\n",
            "\n",
            "Shape:  torch.Size([2, 2])\n",
            "Dimentions:  2\n",
            "###########\n",
            "tensor([[0.7125, 0.3866],\n",
            "        [0.3866, 0.4675]])\n",
            "###########\n",
            "Tensor Data type:  torch.float32\n",
            "Device:  cpu\n",
            "\n",
            "\n",
            "Shape:  torch.Size([3, 3])\n",
            "Dimentions:  2\n",
            "###########\n",
            "tensor([[0.2656, 0.3400, 0.0569],\n",
            "        [0.3400, 0.6949, 0.3048],\n",
            "        [0.0569, 0.3048, 0.2195]])\n",
            "###########\n",
            "Tensor Data type:  torch.float32\n",
            "Device:  cpu\n",
            "\n"
          ]
        }
      ]
    },
    {
      "cell_type": "markdown",
      "source": [
        "##TENSOR AGGREGATION"
      ],
      "metadata": {
        "id": "pk81z11cnjd2"
      }
    },
    {
      "cell_type": "markdown",
      "source": [
        "getting info"
      ],
      "metadata": {
        "id": "uIhVd5LvpFM_"
      }
    },
    {
      "cell_type": "code",
      "source": [
        "x=torch.arange(start=2,end=200,step=3)\n",
        "details(x)\n",
        "torch.max(x),torch.min(x), torch.mean(x.type(torch.float32)) #######\n"
      ],
      "metadata": {
        "colab": {
          "base_uri": "https://localhost:8080/"
        },
        "id": "b7voFXg-mWlX",
        "outputId": "b2928a4f-67fe-4b53-8286-0ee517d355d9"
      },
      "execution_count": 12,
      "outputs": [
        {
          "output_type": "stream",
          "name": "stdout",
          "text": [
            "\n",
            "Shape:  torch.Size([66])\n",
            "Dimentions:  1\n",
            "###########\n",
            "tensor([  2,   5,   8,  11,  14,  17,  20,  23,  26,  29,  32,  35,  38,  41,\n",
            "         44,  47,  50,  53,  56,  59,  62,  65,  68,  71,  74,  77,  80,  83,\n",
            "         86,  89,  92,  95,  98, 101, 104, 107, 110, 113, 116, 119, 122, 125,\n",
            "        128, 131, 134, 137, 140, 143, 146, 149, 152, 155, 158, 161, 164, 167,\n",
            "        170, 173, 176, 179, 182, 185, 188, 191, 194, 197])\n",
            "###########\n",
            "Tensor Data type:  torch.int64\n",
            "Device:  cpu\n",
            "\n"
          ]
        },
        {
          "output_type": "execute_result",
          "data": {
            "text/plain": [
              "(tensor(197), tensor(2), tensor(99.5000))"
            ]
          },
          "metadata": {},
          "execution_count": 12
        }
      ]
    },
    {
      "cell_type": "code",
      "source": [
        "t_rand=torch.rand(100,100)\n",
        "details(t_rand)\n",
        "torch.max(t_rand),torch.min(t_rand), torch.mean(t_rand.type(torch.float32)),torch.argmax(t_rand), torch.argmin(t_rand)"
      ],
      "metadata": {
        "colab": {
          "base_uri": "https://localhost:8080/"
        },
        "id": "B2ZnRHndn7az",
        "outputId": "9a7d7a7f-da9b-4283-d69e-22f31cf77a41"
      },
      "execution_count": 13,
      "outputs": [
        {
          "output_type": "stream",
          "name": "stdout",
          "text": [
            "\n",
            "Shape:  torch.Size([100, 100])\n",
            "Dimentions:  2\n",
            "###########\n",
            "tensor([[0.7949, 0.7668, 0.3458,  ..., 0.4033, 0.1710, 0.4871],\n",
            "        [0.1711, 0.6599, 0.6598,  ..., 0.2338, 0.7982, 0.6637],\n",
            "        [0.4942, 0.2875, 0.0505,  ..., 0.4009, 0.7349, 0.3366],\n",
            "        ...,\n",
            "        [0.0272, 0.6804, 0.4561,  ..., 0.0273, 0.8513, 0.8240],\n",
            "        [0.7731, 0.9356, 0.1988,  ..., 0.3608, 0.3274, 0.7279],\n",
            "        [0.8973, 0.1904, 0.0917,  ..., 0.8731, 0.4893, 0.5331]])\n",
            "###########\n",
            "Tensor Data type:  torch.float32\n",
            "Device:  cpu\n",
            "\n"
          ]
        },
        {
          "output_type": "execute_result",
          "data": {
            "text/plain": [
              "(tensor(1.0000), tensor(0.0001), tensor(0.5074), tensor(2710), tensor(449))"
            ]
          },
          "metadata": {},
          "execution_count": 13
        }
      ]
    },
    {
      "cell_type": "markdown",
      "source": [
        "##RESHAPING, STACKING, SQUEEZING AND UNSQUEEZING tensors"
      ],
      "metadata": {
        "id": "x-DQHAURsBeg"
      }
    },
    {
      "cell_type": "markdown",
      "source": [
        "\n",
        "| Method | One-line description |\n",
        "| ----- | ----- |\n",
        "| [`torch.reshape(input, shape)`](https://pytorch.org/docs/stable/generated/torch.reshape.html#torch.reshape) | Reshapes `input` to `shape` (if compatible), can also use `torch.Tensor.reshape()`. |\n",
        "| [`torch.Tensor.view(shape)`](https://pytorch.org/docs/stable/generated/torch.Tensor.view.html) | Returns a view of the original tensor in a different `shape` but shares the same data as the original tensor. |\n",
        "| [`torch.stack(tensors, dim=0)`](https://pytorch.org/docs/1.9.1/generated/torch.stack.html) | Concatenates a sequence of `tensors` along a new dimension (`dim`), all `tensors` must be same size. |\n",
        "| [`torch.squeeze(input)`](https://pytorch.org/docs/stable/generated/torch.squeeze.html) | Squeezes `input` to remove all the dimenions with value `1`. |\n",
        "| [`torch.unsqueeze(input, dim)`](https://pytorch.org/docs/1.9.1/generated/torch.unsqueeze.html) | Returns `input` with a dimension value of `1` added at `dim`. | \n",
        "| [`torch.permute(input, dims)`](https://pytorch.org/docs/stable/generated/torch.permute.html) | Returns a *view* of the original `input` with its dimensions permuted (rearranged) to `dims`. | \n"
      ],
      "metadata": {
        "id": "AdScMRNKs4To"
      }
    },
    {
      "cell_type": "code",
      "source": [
        "t=torch.rand(2,2,4)\n",
        "details(t)"
      ],
      "metadata": {
        "id": "NRWK56B3sLLW",
        "colab": {
          "base_uri": "https://localhost:8080/"
        },
        "outputId": "6c908167-4c42-41d4-860e-605e309a475d"
      },
      "execution_count": 22,
      "outputs": [
        {
          "output_type": "stream",
          "name": "stdout",
          "text": [
            "\n",
            "Shape:  torch.Size([2, 2, 4])\n",
            "Dimentions:  3\n",
            "###########\n",
            "tensor([[[0.8655, 0.9365, 0.7936, 0.5628],\n",
            "         [0.3409, 0.3457, 0.7268, 0.5925]],\n",
            "\n",
            "        [[0.0592, 0.3161, 0.6600, 0.6613],\n",
            "         [0.3375, 0.0897, 0.2603, 0.8633]]])\n",
            "###########\n",
            "Tensor Data type:  torch.float32\n",
            "Device:  cpu\n",
            "\n"
          ]
        }
      ]
    },
    {
      "cell_type": "code",
      "source": [
        "t_reshaped=t.reshape(4,2,2)\n",
        "details(t_reshaped)"
      ],
      "metadata": {
        "colab": {
          "base_uri": "https://localhost:8080/"
        },
        "id": "Qp6Q2V6tkRto",
        "outputId": "5be6ddf2-e512-419f-c3ae-4d8f50f0654c"
      },
      "execution_count": 32,
      "outputs": [
        {
          "output_type": "stream",
          "name": "stdout",
          "text": [
            "\n",
            "Shape:  torch.Size([4, 2, 2])\n",
            "Dimentions:  3\n",
            "###########\n",
            "tensor([[[0.8655, 0.9365],\n",
            "         [0.7936, 0.5628]],\n",
            "\n",
            "        [[0.3409, 0.3457],\n",
            "         [0.7268, 0.5925]],\n",
            "\n",
            "        [[0.0592, 0.3161],\n",
            "         [0.6600, 0.6613]],\n",
            "\n",
            "        [[0.3375, 0.0897],\n",
            "         [0.2603, 0.8633]]])\n",
            "###########\n",
            "Tensor Data type:  torch.float32\n",
            "Device:  cpu\n",
            "\n"
          ]
        }
      ]
    },
    {
      "cell_type": "code",
      "source": [
        "t_reshaped=t.reshape(2,8)\n",
        "details(t_reshaped)"
      ],
      "metadata": {
        "colab": {
          "base_uri": "https://localhost:8080/"
        },
        "id": "qmMib64qhhIu",
        "outputId": "6a847322-59d2-4151-a2ea-c285f7dec518"
      },
      "execution_count": 31,
      "outputs": [
        {
          "output_type": "stream",
          "name": "stdout",
          "text": [
            "\n",
            "Shape:  torch.Size([2, 8])\n",
            "Dimentions:  2\n",
            "###########\n",
            "tensor([[0.8655, 0.9365, 0.7936, 0.5628, 0.3409, 0.3457, 0.7268, 0.5925],\n",
            "        [0.0592, 0.3161, 0.6600, 0.6613, 0.3375, 0.0897, 0.2603, 0.8633]])\n",
            "###########\n",
            "Tensor Data type:  torch.float32\n",
            "Device:  cpu\n",
            "\n"
          ]
        }
      ]
    },
    {
      "cell_type": "code",
      "source": [
        "t_view=t.view(8,2)\n",
        "details(t_view)"
      ],
      "metadata": {
        "colab": {
          "base_uri": "https://localhost:8080/"
        },
        "id": "17Wn5gOphuLL",
        "outputId": "0f44cadc-9a70-4d79-9265-827879fcc93d"
      },
      "execution_count": 35,
      "outputs": [
        {
          "output_type": "stream",
          "name": "stdout",
          "text": [
            "\n",
            "Shape:  torch.Size([8, 2])\n",
            "Dimentions:  2\n",
            "###########\n",
            "tensor([[0.8655, 0.9365],\n",
            "        [0.7936, 0.5628],\n",
            "        [0.3409, 0.3457],\n",
            "        [0.7268, 0.5925],\n",
            "        [0.0592, 0.3161],\n",
            "        [0.6600, 0.6613],\n",
            "        [0.3375, 0.0897],\n",
            "        [0.2603, 0.8633]])\n",
            "###########\n",
            "Tensor Data type:  torch.float32\n",
            "Device:  cpu\n",
            "\n"
          ]
        }
      ]
    },
    {
      "cell_type": "code",
      "source": [
        "#stack\n",
        "details(t)\n",
        "details(torch.stack([t,t,t]))\n",
        "details(torch.stack([t,t,t],dim=-3))"
      ],
      "metadata": {
        "colab": {
          "base_uri": "https://localhost:8080/"
        },
        "id": "vFmkYQ7Gly_t",
        "outputId": "bf36e4f5-e0bb-48a6-b311-2e19f847930b"
      },
      "execution_count": 56,
      "outputs": [
        {
          "output_type": "stream",
          "name": "stdout",
          "text": [
            "\n",
            "Shape:  torch.Size([2, 2, 4])\n",
            "Dimentions:  3\n",
            "###########\n",
            "tensor([[[8.0000, 0.9365, 0.7936, 0.5628],\n",
            "         [0.3409, 0.3457, 0.7268, 0.5925]],\n",
            "\n",
            "        [[0.0592, 0.3161, 0.6600, 0.6613],\n",
            "         [0.3375, 0.0897, 0.2603, 0.8633]]])\n",
            "###########\n",
            "Tensor Data type:  torch.float32\n",
            "Device:  cpu\n",
            "\n",
            "\n",
            "Shape:  torch.Size([3, 2, 2, 4])\n",
            "Dimentions:  4\n",
            "###########\n",
            "tensor([[[[8.0000, 0.9365, 0.7936, 0.5628],\n",
            "          [0.3409, 0.3457, 0.7268, 0.5925]],\n",
            "\n",
            "         [[0.0592, 0.3161, 0.6600, 0.6613],\n",
            "          [0.3375, 0.0897, 0.2603, 0.8633]]],\n",
            "\n",
            "\n",
            "        [[[8.0000, 0.9365, 0.7936, 0.5628],\n",
            "          [0.3409, 0.3457, 0.7268, 0.5925]],\n",
            "\n",
            "         [[0.0592, 0.3161, 0.6600, 0.6613],\n",
            "          [0.3375, 0.0897, 0.2603, 0.8633]]],\n",
            "\n",
            "\n",
            "        [[[8.0000, 0.9365, 0.7936, 0.5628],\n",
            "          [0.3409, 0.3457, 0.7268, 0.5925]],\n",
            "\n",
            "         [[0.0592, 0.3161, 0.6600, 0.6613],\n",
            "          [0.3375, 0.0897, 0.2603, 0.8633]]]])\n",
            "###########\n",
            "Tensor Data type:  torch.float32\n",
            "Device:  cpu\n",
            "\n",
            "\n",
            "Shape:  torch.Size([2, 3, 2, 4])\n",
            "Dimentions:  4\n",
            "###########\n",
            "tensor([[[[8.0000, 0.9365, 0.7936, 0.5628],\n",
            "          [0.3409, 0.3457, 0.7268, 0.5925]],\n",
            "\n",
            "         [[8.0000, 0.9365, 0.7936, 0.5628],\n",
            "          [0.3409, 0.3457, 0.7268, 0.5925]],\n",
            "\n",
            "         [[8.0000, 0.9365, 0.7936, 0.5628],\n",
            "          [0.3409, 0.3457, 0.7268, 0.5925]]],\n",
            "\n",
            "\n",
            "        [[[0.0592, 0.3161, 0.6600, 0.6613],\n",
            "          [0.3375, 0.0897, 0.2603, 0.8633]],\n",
            "\n",
            "         [[0.0592, 0.3161, 0.6600, 0.6613],\n",
            "          [0.3375, 0.0897, 0.2603, 0.8633]],\n",
            "\n",
            "         [[0.0592, 0.3161, 0.6600, 0.6613],\n",
            "          [0.3375, 0.0897, 0.2603, 0.8633]]]])\n",
            "###########\n",
            "Tensor Data type:  torch.float32\n",
            "Device:  cpu\n",
            "\n"
          ]
        }
      ]
    },
    {
      "cell_type": "code",
      "source": [
        "t_reshped=t.reshape(2,1,2,1,2,2)\n",
        "t_squeezed=t_reshped.squeeze()\n",
        "details(t_reshped)\n",
        "details(t_squeezed)"
      ],
      "metadata": {
        "colab": {
          "base_uri": "https://localhost:8080/"
        },
        "id": "tzj5erDum_K4",
        "outputId": "f3338b9e-a4fe-4178-e1ef-77663e893143"
      },
      "execution_count": 63,
      "outputs": [
        {
          "output_type": "stream",
          "name": "stdout",
          "text": [
            "\n",
            "Shape:  torch.Size([2, 1, 2, 1, 2, 2])\n",
            "Dimentions:  6\n",
            "###########\n",
            "tensor([[[[[[8.0000, 0.9365],\n",
            "            [0.7936, 0.5628]]],\n",
            "\n",
            "\n",
            "          [[[0.3409, 0.3457],\n",
            "            [0.7268, 0.5925]]]]],\n",
            "\n",
            "\n",
            "\n",
            "\n",
            "        [[[[[0.0592, 0.3161],\n",
            "            [0.6600, 0.6613]]],\n",
            "\n",
            "\n",
            "          [[[0.3375, 0.0897],\n",
            "            [0.2603, 0.8633]]]]]])\n",
            "###########\n",
            "Tensor Data type:  torch.float32\n",
            "Device:  cpu\n",
            "\n",
            "\n",
            "Shape:  torch.Size([2, 2, 2, 2])\n",
            "Dimentions:  4\n",
            "###########\n",
            "tensor([[[[8.0000, 0.9365],\n",
            "          [0.7936, 0.5628]],\n",
            "\n",
            "         [[0.3409, 0.3457],\n",
            "          [0.7268, 0.5925]]],\n",
            "\n",
            "\n",
            "        [[[0.0592, 0.3161],\n",
            "          [0.6600, 0.6613]],\n",
            "\n",
            "         [[0.3375, 0.0897],\n",
            "          [0.2603, 0.8633]]]])\n",
            "###########\n",
            "Tensor Data type:  torch.float32\n",
            "Device:  cpu\n",
            "\n"
          ]
        }
      ]
    },
    {
      "cell_type": "code",
      "source": [
        "details(t_squeezed.unsqueeze(dim=-4))"
      ],
      "metadata": {
        "colab": {
          "base_uri": "https://localhost:8080/"
        },
        "id": "XJ1g0OHcvV2O",
        "outputId": "80676b42-560a-4d27-b3f3-739abd10aae1"
      },
      "execution_count": 77,
      "outputs": [
        {
          "output_type": "stream",
          "name": "stdout",
          "text": [
            "\n",
            "Shape:  torch.Size([2, 1, 2, 2, 2])\n",
            "Dimentions:  5\n",
            "###########\n",
            "tensor([[[[[8.0000, 0.9365],\n",
            "           [0.7936, 0.5628]],\n",
            "\n",
            "          [[0.3409, 0.3457],\n",
            "           [0.7268, 0.5925]]]],\n",
            "\n",
            "\n",
            "\n",
            "        [[[[0.0592, 0.3161],\n",
            "           [0.6600, 0.6613]],\n",
            "\n",
            "          [[0.3375, 0.0897],\n",
            "           [0.2603, 0.8633]]]]])\n",
            "###########\n",
            "Tensor Data type:  torch.float32\n",
            "Device:  cpu\n",
            "\n"
          ]
        }
      ]
    },
    {
      "cell_type": "code",
      "source": [
        "#permute\n",
        "img=torch.rand(224,224,3)\n",
        "details(img.permute(2,1,0))\n",
        "details(t.permute(1,2,0))"
      ],
      "metadata": {
        "colab": {
          "base_uri": "https://localhost:8080/"
        },
        "id": "ed-mh6LKw0Bd",
        "outputId": "2957d27a-ad52-4bd8-e4ee-38698159c3a8"
      },
      "execution_count": 90,
      "outputs": [
        {
          "output_type": "stream",
          "name": "stdout",
          "text": [
            "\n",
            "Shape:  torch.Size([3, 224, 224])\n",
            "Dimentions:  3\n",
            "###########\n",
            "tensor([[[0.4395, 0.3973, 0.0568,  ..., 0.3007, 0.6045, 0.8145],\n",
            "         [0.0855, 0.9508, 0.9973,  ..., 0.0132, 0.0260, 0.6812],\n",
            "         [0.2670, 0.5845, 0.0223,  ..., 0.7772, 0.9917, 0.4384],\n",
            "         ...,\n",
            "         [0.7255, 0.3573, 0.2220,  ..., 0.4101, 0.5419, 0.3851],\n",
            "         [0.4368, 0.3569, 0.0333,  ..., 0.0692, 0.7097, 0.2819],\n",
            "         [0.4145, 0.8259, 0.6089,  ..., 0.5559, 0.6213, 0.5009]],\n",
            "\n",
            "        [[0.9838, 0.6075, 0.7293,  ..., 0.5434, 0.0391, 0.6505],\n",
            "         [0.0945, 0.5657, 0.0382,  ..., 0.5770, 0.6264, 0.2540],\n",
            "         [0.8784, 0.6940, 0.4747,  ..., 0.4323, 0.8740, 0.0854],\n",
            "         ...,\n",
            "         [0.7973, 0.9116, 0.9559,  ..., 0.3950, 0.0063, 0.4336],\n",
            "         [0.0233, 0.4115, 0.0715,  ..., 0.8164, 0.3637, 0.6017],\n",
            "         [0.3733, 0.3351, 0.8613,  ..., 0.2718, 0.8843, 0.3207]],\n",
            "\n",
            "        [[0.1054, 0.7345, 0.3495,  ..., 0.8391, 0.2559, 0.0146],\n",
            "         [0.9504, 0.0187, 0.3794,  ..., 0.7556, 0.8353, 0.0417],\n",
            "         [0.6696, 0.9178, 0.9180,  ..., 0.1015, 0.0868, 0.9495],\n",
            "         ...,\n",
            "         [0.0456, 0.5141, 0.8062,  ..., 0.6821, 0.7997, 0.7456],\n",
            "         [0.2838, 0.8375, 0.9562,  ..., 0.4364, 0.0330, 0.4194],\n",
            "         [0.9132, 0.2953, 0.2476,  ..., 0.4460, 0.7177, 0.0151]]])\n",
            "###########\n",
            "Tensor Data type:  torch.float32\n",
            "Device:  cpu\n",
            "\n",
            "\n",
            "Shape:  torch.Size([2, 4, 2])\n",
            "Dimentions:  3\n",
            "###########\n",
            "tensor([[[8.0000, 0.0592],\n",
            "         [0.9365, 0.3161],\n",
            "         [0.7936, 0.6600],\n",
            "         [0.5628, 0.6613]],\n",
            "\n",
            "        [[0.3409, 0.3375],\n",
            "         [0.3457, 0.0897],\n",
            "         [0.7268, 0.2603],\n",
            "         [0.5925, 0.8633]]])\n",
            "###########\n",
            "Tensor Data type:  torch.float32\n",
            "Device:  cpu\n",
            "\n"
          ]
        }
      ]
    },
    {
      "cell_type": "markdown",
      "source": [
        "##INDEXING"
      ],
      "metadata": {
        "id": "STxfw7XCzVlZ"
      }
    },
    {
      "cell_type": "code",
      "source": [
        "t_ind=torch.rand(3,4,3)\n",
        "details(t_ind)"
      ],
      "metadata": {
        "id": "Zj5Rc1GexxhE"
      },
      "execution_count": null,
      "outputs": []
    },
    {
      "cell_type": "code",
      "source": [
        "details(t_ind)"
      ],
      "metadata": {
        "colab": {
          "base_uri": "https://localhost:8080/"
        },
        "id": "XlaxvfwGzf7r",
        "outputId": "d0f37e3f-e0ff-43ef-cc95-41af56bfc031"
      },
      "execution_count": 93,
      "outputs": [
        {
          "output_type": "stream",
          "name": "stdout",
          "text": [
            "\n",
            "Shape:  torch.Size([3, 4, 3])\n",
            "Dimentions:  3\n",
            "###########\n",
            "tensor([[[0.2129, 0.3892, 0.6646],\n",
            "         [0.2391, 0.6666, 0.1325],\n",
            "         [0.9155, 0.0415, 0.2001],\n",
            "         [0.8411, 0.3987, 0.9757]],\n",
            "\n",
            "        [[0.2928, 0.1222, 0.8182],\n",
            "         [0.3344, 0.1611, 0.0394],\n",
            "         [0.7867, 0.7796, 0.8921],\n",
            "         [0.0188, 0.5531, 0.4419]],\n",
            "\n",
            "        [[0.3489, 0.5901, 0.0372],\n",
            "         [0.2203, 0.9013, 0.4158],\n",
            "         [0.1617, 0.0162, 0.3352],\n",
            "         [0.1550, 0.4308, 0.9764]]])\n",
            "###########\n",
            "Tensor Data type:  torch.float32\n",
            "Device:  cpu\n",
            "\n"
          ]
        }
      ]
    },
    {
      "cell_type": "code",
      "source": [
        "details(t_ind)\n",
        "details(t_ind[:,1:3,1:2])\n",
        "details(t_ind[:,1:3,1:2].permute(0,2,1))\n",
        "details(t_ind[:,1:3,1:2].permute(0,2,1).squeeze())\n",
        "details(t_ind[:,1:3,1:2].permute(0,2,1).squeeze().reshape(1,6))\n",
        "details(t_ind[:,1:3,1:2].permute(0,2,1).squeeze().reshape(6,1))\n",
        "details(t_ind[:,1:3,1:2].reshape(1,6))"
      ],
      "metadata": {
        "id": "PjGAJa2Tzm0e"
      },
      "execution_count": null,
      "outputs": []
    },
    {
      "cell_type": "markdown",
      "source": [
        "##PyTorch VS NUMPY"
      ],
      "metadata": {
        "id": "qJVFqUBQ3aAO"
      }
    },
    {
      "cell_type": "markdown",
      "source": [
        "np-> tensor"
      ],
      "metadata": {
        "id": "g7qam_iX4FDE"
      }
    },
    {
      "cell_type": "code",
      "source": [
        "array=np.random.rand(3,4,3)\n",
        "print(array)\n",
        "t=torch.from_numpy(array).type(torch.float32)\n",
        "details(t)"
      ],
      "metadata": {
        "colab": {
          "base_uri": "https://localhost:8080/"
        },
        "id": "D6kPOoq13fmv",
        "outputId": "73f0c246-9ad0-4366-ff80-dabade14a2f7"
      },
      "execution_count": 134,
      "outputs": [
        {
          "output_type": "stream",
          "name": "stdout",
          "text": [
            "[[[0.44392417 0.7339921  0.21919048]\n",
            "  [0.2626536  0.00202837 0.99550895]\n",
            "  [0.96077567 0.84135652 0.20931668]\n",
            "  [0.58293401 0.10080511 0.24246185]]\n",
            "\n",
            " [[0.07135503 0.65073989 0.18134559]\n",
            "  [0.86642857 0.6573871  0.78562076]\n",
            "  [0.08221964 0.99973807 0.75865347]\n",
            "  [0.46839925 0.15092914 0.0262429 ]]\n",
            "\n",
            " [[0.62722405 0.35611227 0.48787509]\n",
            "  [0.26008876 0.17423045 0.35106623]\n",
            "  [0.34523731 0.72160035 0.62353597]\n",
            "  [0.21995284 0.84599258 0.70187262]]]\n",
            "\n",
            "Shape:  torch.Size([3, 4, 3])\n",
            "Dimentions:  3\n",
            "###########\n",
            "tensor([[[0.4439, 0.7340, 0.2192],\n",
            "         [0.2627, 0.0020, 0.9955],\n",
            "         [0.9608, 0.8414, 0.2093],\n",
            "         [0.5829, 0.1008, 0.2425]],\n",
            "\n",
            "        [[0.0714, 0.6507, 0.1813],\n",
            "         [0.8664, 0.6574, 0.7856],\n",
            "         [0.0822, 0.9997, 0.7587],\n",
            "         [0.4684, 0.1509, 0.0262]],\n",
            "\n",
            "        [[0.6272, 0.3561, 0.4879],\n",
            "         [0.2601, 0.1742, 0.3511],\n",
            "         [0.3452, 0.7216, 0.6235],\n",
            "         [0.2200, 0.8460, 0.7019]]])\n",
            "###########\n",
            "Tensor Data type:  torch.float32\n",
            "Device:  cpu\n",
            "\n"
          ]
        }
      ]
    },
    {
      "cell_type": "markdown",
      "source": [
        "Tensor -> numpy"
      ],
      "metadata": {
        "id": "j5XOyw-G6HBa"
      }
    },
    {
      "cell_type": "code",
      "source": [
        "t=torch.rand(2,4,3)\n",
        "details(t)\n",
        "np_array=t.numpy()\n",
        "np_array"
      ],
      "metadata": {
        "colab": {
          "base_uri": "https://localhost:8080/"
        },
        "id": "ARgnJ9Bn31Eo",
        "outputId": "899f6401-8c85-48ed-f094-9a2a7f36d189"
      },
      "execution_count": 138,
      "outputs": [
        {
          "output_type": "stream",
          "name": "stdout",
          "text": [
            "\n",
            "Shape:  torch.Size([2, 4, 3])\n",
            "Dimentions:  3\n",
            "###########\n",
            "tensor([[[8.9218e-01, 6.8080e-04, 9.0857e-01],\n",
            "         [2.1075e-01, 7.6300e-01, 5.1533e-01],\n",
            "         [3.5308e-01, 5.9524e-01, 8.3252e-01],\n",
            "         [4.5159e-01, 6.6190e-01, 8.4987e-01]],\n",
            "\n",
            "        [[3.0849e-01, 6.4975e-01, 2.4885e-01],\n",
            "         [4.3424e-01, 3.6387e-01, 1.0189e-01],\n",
            "         [5.7828e-01, 5.2201e-02, 9.2800e-01],\n",
            "         [5.4441e-01, 9.9055e-01, 9.7384e-01]]])\n",
            "###########\n",
            "Tensor Data type:  torch.float32\n",
            "Device:  cpu\n",
            "\n"
          ]
        },
        {
          "output_type": "execute_result",
          "data": {
            "text/plain": [
              "array([[[8.9218116e-01, 6.8080425e-04, 9.0857238e-01],\n",
              "        [2.1075165e-01, 7.6300049e-01, 5.1533061e-01],\n",
              "        [3.5308105e-01, 5.9524107e-01, 8.3252066e-01],\n",
              "        [4.5159066e-01, 6.6189843e-01, 8.4987092e-01]],\n",
              "\n",
              "       [[3.0849046e-01, 6.4975381e-01, 2.4885190e-01],\n",
              "        [4.3424118e-01, 3.6386883e-01, 1.0188919e-01],\n",
              "        [5.7827878e-01, 5.2201450e-02, 9.2800468e-01],\n",
              "        [5.4440892e-01, 9.9055427e-01, 9.7384119e-01]]], dtype=float32)"
            ]
          },
          "metadata": {},
          "execution_count": 138
        }
      ]
    },
    {
      "cell_type": "markdown",
      "source": [
        "## REPRODUCBILITY"
      ],
      "metadata": {
        "id": "3d19LOMA7Uvs"
      }
    },
    {
      "cell_type": "code",
      "source": [
        "##reduce the randomness in prtorch\n",
        "#**random seed**"
      ],
      "metadata": {
        "id": "0xhQb1s57R7y"
      },
      "execution_count": 141,
      "outputs": []
    },
    {
      "cell_type": "code",
      "source": [
        "random_t_a=torch.rand(3,4)\n",
        "random_t_b=torch.rand(3,4)\n",
        "\n",
        "details(random_t_a)\n",
        "details(random_t_b)\n",
        "\n",
        "print(random_t_a==random_t_b)"
      ],
      "metadata": {
        "colab": {
          "base_uri": "https://localhost:8080/"
        },
        "id": "BCcrQGlH7yy8",
        "outputId": "422849f1-de80-47df-ffbf-dd9a32964838"
      },
      "execution_count": 144,
      "outputs": [
        {
          "output_type": "stream",
          "name": "stdout",
          "text": [
            "\n",
            "Shape:  torch.Size([3, 4])\n",
            "Dimentions:  2\n",
            "###########\n",
            "tensor([[0.1727, 0.5740, 0.9273, 0.8834],\n",
            "        [0.4938, 0.6235, 0.8979, 0.5598],\n",
            "        [0.0762, 0.0620, 0.3599, 0.4307]])\n",
            "###########\n",
            "Tensor Data type:  torch.float32\n",
            "Device:  cpu\n",
            "\n",
            "\n",
            "Shape:  torch.Size([3, 4])\n",
            "Dimentions:  2\n",
            "###########\n",
            "tensor([[0.2149, 0.4344, 0.8640, 0.3132],\n",
            "        [0.3627, 0.2292, 0.8177, 0.1448],\n",
            "        [0.8224, 0.5635, 0.5652, 0.0036]])\n",
            "###########\n",
            "Tensor Data type:  torch.float32\n",
            "Device:  cpu\n",
            "\n",
            "tensor([[False, False, False, False],\n",
            "        [False, False, False, False],\n",
            "        [False, False, False, False]])\n"
          ]
        }
      ]
    },
    {
      "cell_type": "code",
      "source": [
        "torch.manual_seed(43)\n",
        "RANDOM_t_a=torch.rand(3,4)\n",
        "\n",
        "torch.manual_seed(43)\n",
        "RANDOM_t_b=torch.rand(3,4)\n",
        "\n",
        "details(RANDOM_t_a)\n",
        "details(RANDOM_t_b)\n",
        "\n",
        "print(RANDOM_t_a==RANDOM_t_b)"
      ],
      "metadata": {
        "colab": {
          "base_uri": "https://localhost:8080/"
        },
        "id": "T8Z3SkXH8XcL",
        "outputId": "7d309079-1035-48ed-97be-3962e55e06c6"
      },
      "execution_count": 147,
      "outputs": [
        {
          "output_type": "stream",
          "name": "stdout",
          "text": [
            "\n",
            "Shape:  torch.Size([3, 4])\n",
            "Dimentions:  2\n",
            "###########\n",
            "tensor([[0.4540, 0.1965, 0.9210, 0.3462],\n",
            "        [0.1481, 0.0858, 0.5909, 0.0659],\n",
            "        [0.7476, 0.6253, 0.9392, 0.1338]])\n",
            "###########\n",
            "Tensor Data type:  torch.float32\n",
            "Device:  cpu\n",
            "\n",
            "\n",
            "Shape:  torch.Size([3, 4])\n",
            "Dimentions:  2\n",
            "###########\n",
            "tensor([[0.4540, 0.1965, 0.9210, 0.3462],\n",
            "        [0.1481, 0.0858, 0.5909, 0.0659],\n",
            "        [0.7476, 0.6253, 0.9392, 0.1338]])\n",
            "###########\n",
            "Tensor Data type:  torch.float32\n",
            "Device:  cpu\n",
            "\n",
            "tensor([[True, True, True, True],\n",
            "        [True, True, True, True],\n",
            "        [True, True, True, True]])\n"
          ]
        }
      ]
    },
    {
      "cell_type": "code",
      "source": [],
      "metadata": {
        "id": "W8fcmqD-9g2T"
      },
      "execution_count": null,
      "outputs": []
    }
  ]
}