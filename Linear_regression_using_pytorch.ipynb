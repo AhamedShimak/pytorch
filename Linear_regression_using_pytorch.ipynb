{
  "nbformat": 4,
  "nbformat_minor": 0,
  "metadata": {
    "colab": {
      "provenance": [],
      "authorship_tag": "ABX9TyPW4QsuvBaby9o7pn3SeAWZ",
      "include_colab_link": true
    },
    "kernelspec": {
      "name": "python3",
      "display_name": "Python 3"
    },
    "language_info": {
      "name": "python"
    },
    "accelerator": "GPU",
    "gpuClass": "standard"
  },
  "cells": [
    {
      "cell_type": "markdown",
      "metadata": {
        "id": "view-in-github",
        "colab_type": "text"
      },
      "source": [
        "<a href=\"https://colab.research.google.com/github/AhamedShimak/pytorch/blob/main/Linear_regression_using_pytorch.ipynb\" target=\"_parent\"><img src=\"https://colab.research.google.com/assets/colab-badge.svg\" alt=\"Open In Colab\"/></a>"
      ]
    },
    {
      "cell_type": "markdown",
      "source": [
        "## IMPORT AND MY DEFINED FUNCTIONS"
      ],
      "metadata": {
        "id": "n7Gn_JhaG7dY"
      }
    },
    {
      "cell_type": "markdown",
      "source": [
        "### Imports"
      ],
      "metadata": {
        "id": "Glqkeh5CHfl-"
      }
    },
    {
      "cell_type": "code",
      "source": [
        "import torch\n",
        "from torch import nn\n",
        "import pandas as pd\n",
        "import numpy as np\n",
        "import matplotlib.pyplot as plt\n"
      ],
      "metadata": {
        "id": "fQb72sHRBxT6"
      },
      "execution_count": 118,
      "outputs": []
    },
    {
      "cell_type": "markdown",
      "source": [
        "###My functions"
      ],
      "metadata": {
        "id": "8zKnh3Aga-W_"
      }
    },
    {
      "cell_type": "code",
      "source": [
        "import torch\n",
        "def details(tensor):\n",
        "  print(\"\")\n",
        "  print(\"Shape: \",tensor.shape)\n",
        "  print(\"Dimentions: \",tensor.ndim)\n",
        "  print(\"###########\")\n",
        "  print(tensor)\n",
        "  print(\"###########\")\n",
        "  print(\"Tensor Data type: \",tensor.dtype)\n",
        "  print(\"Device: \",tensor.device)\n",
        "  print(\"\")\n",
        "\n",
        "def details_plot(train_data, \n",
        "                     train_labels, \n",
        "                     test_data, \n",
        "                     test_labels,\n",
        "                     predictions=None):\n",
        "  \"\"\"\n",
        "  Plots training data, test data and compares predictions.\n",
        "  \"\"\"\n",
        "  plt.figure(figsize=(10, 7))\n",
        "\n",
        "  # Plot training data in blue\n",
        "  plt.scatter(train_data, train_labels, c=\"b\", s=4, label=\"Training data\")\n",
        "  \n",
        "  # Plot test data in green\n",
        "  plt.scatter(test_data, test_labels, c=\"g\", s=4, label=\"Testing data\")\n",
        "\n",
        "  if predictions is not None:\n",
        "    # Plot the predictions in red (predictions were made on the test data)\n",
        "    plt.scatter(test_data, predictions, c=\"r\", s=4, label=\"Predictions\")\n",
        "\n",
        "  # Show the legend\n",
        "  plt.legend(prop={\"size\": 14});\n",
        "\n",
        "def details_loss_curve(epochs,train_loss_track,test_loss_track):\n",
        "  #loss curve\n",
        "  plt.figure(figsize=(8,8))\n",
        "  plt.title(\"Loss curve\")\n",
        "  plt.xlabel(\"Epochs\")\n",
        "  plt.ylabel(\"Loss\")\n",
        "  plt.plot(epochs,train_loss_track,label=\"Train loss\")\n",
        "  plt.plot(epochs,test_loss_track,label=\"Test loss\")\n",
        "  plt.legend(prop={\"size\": 14})"
      ],
      "metadata": {
        "id": "aYgYxCDHbBTO"
      },
      "execution_count": 119,
      "outputs": []
    },
    {
      "cell_type": "markdown",
      "source": [
        "###GPU"
      ],
      "metadata": {
        "id": "sMRYymjLIGWp"
      }
    },
    {
      "cell_type": "code",
      "source": [
        "!nvidia-smi\n",
        "print(torch.cuda.is_available())\n",
        "#setup device agnostic code\n",
        "device=\"cuda\" if torch.cuda.is_available() else \"cpu\"\n",
        "print(device)"
      ],
      "metadata": {
        "colab": {
          "base_uri": "https://localhost:8080/"
        },
        "id": "7nw_wfJXIIs0",
        "outputId": "58aa4ab9-21f8-4091-de9b-7a298b9ff6db"
      },
      "execution_count": 120,
      "outputs": [
        {
          "output_type": "stream",
          "name": "stdout",
          "text": [
            "Mon Apr 24 13:45:33 2023       \n",
            "+-----------------------------------------------------------------------------+\n",
            "| NVIDIA-SMI 525.85.12    Driver Version: 525.85.12    CUDA Version: 12.0     |\n",
            "|-------------------------------+----------------------+----------------------+\n",
            "| GPU  Name        Persistence-M| Bus-Id        Disp.A | Volatile Uncorr. ECC |\n",
            "| Fan  Temp  Perf  Pwr:Usage/Cap|         Memory-Usage | GPU-Util  Compute M. |\n",
            "|                               |                      |               MIG M. |\n",
            "|===============================+======================+======================|\n",
            "|   0  Tesla T4            Off  | 00000000:00:04.0 Off |                    0 |\n",
            "| N/A   74C    P0    31W /  70W |    821MiB / 15360MiB |      0%      Default |\n",
            "|                               |                      |                  N/A |\n",
            "+-------------------------------+----------------------+----------------------+\n",
            "                                                                               \n",
            "+-----------------------------------------------------------------------------+\n",
            "| Processes:                                                                  |\n",
            "|  GPU   GI   CI        PID   Type   Process name                  GPU Memory |\n",
            "|        ID   ID                                                   Usage      |\n",
            "|=============================================================================|\n",
            "+-----------------------------------------------------------------------------+\n",
            "True\n",
            "cuda\n"
          ]
        }
      ]
    },
    {
      "cell_type": "markdown",
      "source": [
        "##DATA PROCESS \n"
      ],
      "metadata": {
        "id": "ptqUbYftO67F"
      }
    },
    {
      "cell_type": "markdown",
      "source": [
        "ex- tensor data-> x_train,y_train,x_test,y_test\n"
      ],
      "metadata": {
        "id": "oMw_nOmGLh5O"
      }
    },
    {
      "cell_type": "code",
      "source": [
        "# create data\n",
        "\n",
        "#weight and bias\n",
        "weight=-0.5\n",
        "bias=0.4\n",
        "\n",
        "x=torch.arange(0,10,0.1).to(device).unsqueeze(dim=1)\n",
        "y=weight*x+bias+torch.randn(len(x)).unsqueeze(dim=1).to(device)*0.05  #######to prevent mat multiplication error\n",
        "\n",
        "details(x),details(y)"
      ],
      "metadata": {
        "id": "Khi062A2O-_5",
        "outputId": "f15a47c9-390e-4592-a2da-4fe5fde5fd51",
        "colab": {
          "base_uri": "https://localhost:8080/"
        }
      },
      "execution_count": 90,
      "outputs": [
        {
          "output_type": "stream",
          "name": "stdout",
          "text": [
            "\n",
            "Shape:  torch.Size([100, 1])\n",
            "Dimentions:  2\n",
            "###########\n",
            "tensor([[0.0000],\n",
            "        [0.1000],\n",
            "        [0.2000],\n",
            "        [0.3000],\n",
            "        [0.4000],\n",
            "        [0.5000],\n",
            "        [0.6000],\n",
            "        [0.7000],\n",
            "        [0.8000],\n",
            "        [0.9000],\n",
            "        [1.0000],\n",
            "        [1.1000],\n",
            "        [1.2000],\n",
            "        [1.3000],\n",
            "        [1.4000],\n",
            "        [1.5000],\n",
            "        [1.6000],\n",
            "        [1.7000],\n",
            "        [1.8000],\n",
            "        [1.9000],\n",
            "        [2.0000],\n",
            "        [2.1000],\n",
            "        [2.2000],\n",
            "        [2.3000],\n",
            "        [2.4000],\n",
            "        [2.5000],\n",
            "        [2.6000],\n",
            "        [2.7000],\n",
            "        [2.8000],\n",
            "        [2.9000],\n",
            "        [3.0000],\n",
            "        [3.1000],\n",
            "        [3.2000],\n",
            "        [3.3000],\n",
            "        [3.4000],\n",
            "        [3.5000],\n",
            "        [3.6000],\n",
            "        [3.7000],\n",
            "        [3.8000],\n",
            "        [3.9000],\n",
            "        [4.0000],\n",
            "        [4.1000],\n",
            "        [4.2000],\n",
            "        [4.3000],\n",
            "        [4.4000],\n",
            "        [4.5000],\n",
            "        [4.6000],\n",
            "        [4.7000],\n",
            "        [4.8000],\n",
            "        [4.9000],\n",
            "        [5.0000],\n",
            "        [5.1000],\n",
            "        [5.2000],\n",
            "        [5.3000],\n",
            "        [5.4000],\n",
            "        [5.5000],\n",
            "        [5.6000],\n",
            "        [5.7000],\n",
            "        [5.8000],\n",
            "        [5.9000],\n",
            "        [6.0000],\n",
            "        [6.1000],\n",
            "        [6.2000],\n",
            "        [6.3000],\n",
            "        [6.4000],\n",
            "        [6.5000],\n",
            "        [6.6000],\n",
            "        [6.7000],\n",
            "        [6.8000],\n",
            "        [6.9000],\n",
            "        [7.0000],\n",
            "        [7.1000],\n",
            "        [7.2000],\n",
            "        [7.3000],\n",
            "        [7.4000],\n",
            "        [7.5000],\n",
            "        [7.6000],\n",
            "        [7.7000],\n",
            "        [7.8000],\n",
            "        [7.9000],\n",
            "        [8.0000],\n",
            "        [8.1000],\n",
            "        [8.2000],\n",
            "        [8.3000],\n",
            "        [8.4000],\n",
            "        [8.5000],\n",
            "        [8.6000],\n",
            "        [8.7000],\n",
            "        [8.8000],\n",
            "        [8.9000],\n",
            "        [9.0000],\n",
            "        [9.1000],\n",
            "        [9.2000],\n",
            "        [9.3000],\n",
            "        [9.4000],\n",
            "        [9.5000],\n",
            "        [9.6000],\n",
            "        [9.7000],\n",
            "        [9.8000],\n",
            "        [9.9000]], device='cuda:0')\n",
            "###########\n",
            "Tensor Data type:  torch.float32\n",
            "Device:  cuda:0\n",
            "\n",
            "\n",
            "Shape:  torch.Size([100, 1])\n",
            "Dimentions:  2\n",
            "###########\n",
            "tensor([[ 0.3749],\n",
            "        [ 0.2830],\n",
            "        [ 0.3326],\n",
            "        [ 0.2330],\n",
            "        [ 0.1886],\n",
            "        [ 0.1684],\n",
            "        [ 0.1085],\n",
            "        [ 0.0732],\n",
            "        [-0.0870],\n",
            "        [-0.0542],\n",
            "        [-0.0631],\n",
            "        [-0.1154],\n",
            "        [-0.2317],\n",
            "        [-0.1574],\n",
            "        [-0.2807],\n",
            "        [-0.3446],\n",
            "        [-0.4310],\n",
            "        [-0.4439],\n",
            "        [-0.5232],\n",
            "        [-0.4894],\n",
            "        [-0.6331],\n",
            "        [-0.6666],\n",
            "        [-0.7456],\n",
            "        [-0.7172],\n",
            "        [-0.7352],\n",
            "        [-0.9054],\n",
            "        [-0.8702],\n",
            "        [-0.8518],\n",
            "        [-1.0157],\n",
            "        [-1.1552],\n",
            "        [-1.1797],\n",
            "        [-1.2314],\n",
            "        [-1.2067],\n",
            "        [-1.2335],\n",
            "        [-1.3375],\n",
            "        [-1.3643],\n",
            "        [-1.3295],\n",
            "        [-1.4348],\n",
            "        [-1.5392],\n",
            "        [-1.5602],\n",
            "        [-1.6187],\n",
            "        [-1.6186],\n",
            "        [-1.7601],\n",
            "        [-1.8282],\n",
            "        [-1.7641],\n",
            "        [-1.8860],\n",
            "        [-1.9087],\n",
            "        [-1.8690],\n",
            "        [-1.8929],\n",
            "        [-2.0573],\n",
            "        [-2.1413],\n",
            "        [-2.2066],\n",
            "        [-2.2041],\n",
            "        [-2.2327],\n",
            "        [-2.3011],\n",
            "        [-2.3302],\n",
            "        [-2.4233],\n",
            "        [-2.4225],\n",
            "        [-2.5596],\n",
            "        [-2.5461],\n",
            "        [-2.5418],\n",
            "        [-2.6089],\n",
            "        [-2.7511],\n",
            "        [-2.7198],\n",
            "        [-2.8089],\n",
            "        [-2.9194],\n",
            "        [-2.9031],\n",
            "        [-3.0409],\n",
            "        [-3.0049],\n",
            "        [-3.0655],\n",
            "        [-3.1722],\n",
            "        [-3.1554],\n",
            "        [-3.0860],\n",
            "        [-3.2048],\n",
            "        [-3.3011],\n",
            "        [-3.3480],\n",
            "        [-3.4963],\n",
            "        [-3.4976],\n",
            "        [-3.4976],\n",
            "        [-3.5677],\n",
            "        [-3.6430],\n",
            "        [-3.5985],\n",
            "        [-3.6048],\n",
            "        [-3.7370],\n",
            "        [-3.8022],\n",
            "        [-3.8973],\n",
            "        [-3.9946],\n",
            "        [-3.9227],\n",
            "        [-3.9450],\n",
            "        [-4.0330],\n",
            "        [-4.0289],\n",
            "        [-4.1846],\n",
            "        [-4.2011],\n",
            "        [-4.2263],\n",
            "        [-4.2998],\n",
            "        [-4.3178],\n",
            "        [-4.3911],\n",
            "        [-4.4645],\n",
            "        [-4.4553],\n",
            "        [-4.6545]], device='cuda:0')\n",
            "###########\n",
            "Tensor Data type:  torch.float32\n",
            "Device:  cuda:0\n",
            "\n"
          ]
        },
        {
          "output_type": "execute_result",
          "data": {
            "text/plain": [
              "(None, None)"
            ]
          },
          "metadata": {},
          "execution_count": 90
        }
      ]
    },
    {
      "cell_type": "code",
      "source": [
        "# create train/test split\n",
        "split_ratio =0.8\n",
        "\n",
        "x_train,y_train,x_test,y_test= x[:int(len(x)*0.8)],y[:int(len(x)*0.8)],x[int(len(x)*0.8):],y[int(len(x)*0.8):]"
      ],
      "metadata": {
        "id": "SGZ3v5LHPG_A"
      },
      "execution_count": 91,
      "outputs": []
    },
    {
      "cell_type": "code",
      "source": [
        "# plot and visualize it\n",
        "\n",
        "details_plot(x_train.to(\"cpu\"),y_train.to(\"cpu\"),x_test.to(\"cpu\"),y_test.to(\"cpu\"))"
      ],
      "metadata": {
        "id": "Ju3JoT5WP-V7",
        "outputId": "02615a3e-9603-49a6-8922-5e327cbe5cf5",
        "colab": {
          "base_uri": "https://localhost:8080/",
          "height": 599
        }
      },
      "execution_count": 92,
      "outputs": [
        {
          "output_type": "display_data",
          "data": {
            "text/plain": [
              "<Figure size 1000x700 with 1 Axes>"
            ],
            "image/png": "[encoded data removed]"
          },
          "metadata": {}
        }
      ]
    },
    {
      "cell_type": "markdown",
      "source": [
        "##BUILDING THE MODEL\n"
      ],
      "metadata": {
        "id": "Tto_QOOaQS7A"
      }
    },
    {
      "cell_type": "markdown",
      "source": [
        "tips\n",
        "1. torch.nn.find_suitable_loss\n",
        "2. torch.nn.Paramenter\n",
        "3. torch.nn.Module this is base class\n",
        "4. torch.optim - optimizer"
      ],
      "metadata": {
        "id": "Zxa0ngYiLY52"
      }
    },
    {
      "cell_type": "code",
      "source": [
        "#model\n",
        "class Linear_reg_model(nn.Module):\n",
        "  def __init__(self):\n",
        "    super().__init__()\n",
        "    #model_structer\n",
        "    self.linear_layer=nn.Linear(in_features=1,out_features=1)\n",
        "  def forward(self,x: torch.Tensor) -> torch.Tensor:\n",
        "    return self.linear_layer(x)\n",
        "\n",
        "\n",
        "\n",
        "#discription of model\n",
        "torch.manual_seed(88)\n",
        "my_model=Linear_reg_model().to(device)\n",
        "\n",
        "my_model.state_dict()"
      ],
      "metadata": {
        "id": "fchfssqDQLCG",
        "outputId": "38f8ee8f-8ef6-457e-cefc-70de2cc22b96",
        "colab": {
          "base_uri": "https://localhost:8080/"
        }
      },
      "execution_count": 93,
      "outputs": [
        {
          "output_type": "execute_result",
          "data": {
            "text/plain": [
              "OrderedDict([('linear_layer.weight', tensor([[0.5461]], device='cuda:0')),\n",
              "             ('linear_layer.bias', tensor([0.3875], device='cuda:0'))])"
            ]
          },
          "metadata": {},
          "execution_count": 93
        }
      ]
    },
    {
      "cell_type": "code",
      "source": [
        "#make inference/prediction and visualize the model\n",
        "with torch.inference_mode() :\n",
        "  y_pred=my_model(x_test.to(device))\n",
        "\n",
        "details_plot(x_train.to(\"cpu\"),y_train.to(\"cpu\"),x_test.to(\"cpu\"),y_test.to(\"cpu\"),y_pred.to(\"cpu\"))\n"
      ],
      "metadata": {
        "id": "O_aqHJKRZAcj",
        "outputId": "d3938d4f-deeb-49b4-a04f-30d833df2a07",
        "colab": {
          "base_uri": "https://localhost:8080/",
          "height": 599
        }
      },
      "execution_count": 94,
      "outputs": [
        {
          "output_type": "display_data",
          "data": {
            "text/plain": [
              "<Figure size 1000x700 with 1 Axes>"
            ],
            "image/png": "[encoded data removed]"
          },
          "metadata": {}
        }
      ]
    },
    {
      "cell_type": "code",
      "source": [
        "list(my_model.parameters())"
      ],
      "metadata": {
        "id": "oRrfqDPoZvFs",
        "outputId": "d286c022-5891-4edf-9e0a-1d0f2152aacb",
        "colab": {
          "base_uri": "https://localhost:8080/"
        }
      },
      "execution_count": 97,
      "outputs": [
        {
          "output_type": "execute_result",
          "data": {
            "text/plain": [
              "[Parameter containing:\n",
              " tensor([[0.5461]], device='cuda:0', requires_grad=True),\n",
              " Parameter containing:\n",
              " tensor([0.3875], device='cuda:0', requires_grad=True)]"
            ]
          },
          "metadata": {},
          "execution_count": 97
        }
      ]
    },
    {
      "cell_type": "markdown",
      "source": [
        "##CREATE OPTIMIZER / LOSS_FUNC"
      ],
      "metadata": {
        "id": "VxS7K9TsgiSY"
      }
    },
    {
      "cell_type": "code",
      "source": [
        "#create loss func\n",
        "loss_func=nn.MSELoss()\n",
        "\n",
        "#optimizer\n",
        "optimizer=torch.optim.SGD(my_model.parameters(),lr=0.01)\n"
      ],
      "metadata": {
        "id": "EaAq8b2yehWZ"
      },
      "execution_count": 98,
      "outputs": []
    },
    {
      "cell_type": "markdown",
      "source": [
        "##TRAINING / TESTING LOOP"
      ],
      "metadata": {
        "id": "6vBh6ZxMPsYt"
      }
    },
    {
      "cell_type": "markdown",
      "source": [
        "tips\n",
        "0. Loop throug the data\n",
        "1. set to training mode\n",
        "2. Forward pass\n",
        "3. Calculate the loss(pred to ground truth)\n",
        "4. optimizer zer grad\n",
        "5. loss backward .. back propogation\n",
        "6. optimizer step - use opt and adjust parameter ... grad desent\n"
      ],
      "metadata": {
        "id": "ntg6do8cclFi"
      }
    },
    {
      "cell_type": "code",
      "source": [
        "#initiate trackers and hyper parameters\n",
        "epoch=100\n",
        "epochs=range(epoch)\n",
        "train_loss_track=[]\n",
        "test_loss_track=[]\n",
        "\n",
        "\n",
        "#training loop\n",
        "for epoch in range(epoch):\n",
        "  #set training mode\n",
        "  my_model.train()\n",
        "  \n",
        "  #forward pass\n",
        "  y_pred=my_model(x_train)\n",
        "  #cal loss\n",
        "  loss=loss_func(y_pred,y_train)\n",
        "  \n",
        "  #zer grad\n",
        "  optimizer.zero_grad()\n",
        "\n",
        "  #back prop\n",
        "  loss.backward()\n",
        "\n",
        "  #adjust para\n",
        "  optimizer.step()\n",
        "####testing part\n",
        "  with torch.inference_mode():\n",
        "    my_model.eval()\n",
        "    y_test_pred=my_model(x_test)\n",
        "    loss_test=loss_func(y_test_pred,y_test)\n",
        "\n",
        "  train_loss_track.append(loss.to(\"cpu\").detach())\n",
        "  test_loss_track.append(loss_test.to(\"cpu\").detach())\n",
        "\n",
        "\n",
        "details_loss_curve(epochs,train_loss_track,test_loss_track)"
      ],
      "metadata": {
        "id": "UuHsExVJbq5E",
        "outputId": "625aed81-6064-41fb-afa6-f94e9a520338",
        "colab": {
          "base_uri": "https://localhost:8080/",
          "height": 718
        }
      },
      "execution_count": 117,
      "outputs": [
        {
          "output_type": "display_data",
          "data": {
            "text/plain": [
              "<Figure size 800x800 with 1 Axes>"
            ],
            "image/png": "[encoded data removed]"
          },
          "metadata": {}
        }
      ]
    },
    {
      "cell_type": "markdown",
      "source": [
        "##EVALUATION OF THE MODEL"
      ],
      "metadata": {
        "id": "BNgX5AsNKXxH"
      }
    },
    {
      "cell_type": "code",
      "source": [
        "#plot / matrices\n",
        "with torch.inference_mode() :\n",
        "  y_pred=my_model(x_test.to(device))\n",
        "\n",
        "details_plot(x_train.to(\"cpu\"),y_train.to(\"cpu\"),x_test.to(\"cpu\"),y_test.to(\"cpu\"),y_pred.to(\"cpu\"))\n"
      ],
      "metadata": {
        "id": "tCba4hBEeOa-",
        "outputId": "abc4d6dc-c46b-4b71-fb24-7d16d6f2553d",
        "colab": {
          "base_uri": "https://localhost:8080/",
          "height": 599
        }
      },
      "execution_count": 114,
      "outputs": [
        {
          "output_type": "display_data",
          "data": {
            "text/plain": [
              "<Figure size 1000x700 with 1 Axes>"
            ],
            "image/png": "[encoded data removed]"
          },
          "metadata": {}
        }
      ]
    },
    {
      "cell_type": "markdown",
      "source": [
        "##SAVING/LOADING"
      ],
      "metadata": {
        "id": "KwxZmgXUPJgI"
      }
    },
    {
      "cell_type": "markdown",
      "source": [
        "tips\n",
        "1.  torch.save() \n",
        "2.  torch.load()\n",
        "3.  toch.nn.Module.load_state_dict()"
      ],
      "metadata": {
        "id": "zW_QlscXPZsx"
      }
    },
    {
      "cell_type": "code",
      "source": [
        "torch.save(my_model,\"My_regression_model_in_pytorch.pt\")"
      ],
      "metadata": {
        "id": "se4kqYtmQwPX"
      },
      "execution_count": 115,
      "outputs": []
    },
    {
      "cell_type": "code",
      "source": [],
      "metadata": {
        "id": "na5mRKb3fvDb"
      },
      "execution_count": null,
      "outputs": []
    }
  ]
}